{
  "nbformat": 4,
  "nbformat_minor": 0,
  "metadata": {
    "colab": {
      "name": "ejecutando_modelos_deComvulocionales.ipynb",
      "provenance": [],
      "collapsed_sections": [],
      "authorship_tag": "ABX9TyM0zUWoMnwH8c5tKo3YXm1V",
      "include_colab_link": true
    },
    "kernelspec": {
      "name": "python3",
      "display_name": "Python 3"
    }
  },
  "cells": [
    {
      "cell_type": "markdown",
      "metadata": {
        "id": "view-in-github",
        "colab_type": "text"
      },
      "source": [
        "<a href=\"https://colab.research.google.com/github/LuisFerRosas/IA_2/blob/master/modelos/redConvulocionalesClasificacionAnimales/ejecutando_modelos_deComvulocionales.ipynb\" target=\"_parent\"><img src=\"https://colab.research.google.com/assets/colab-badge.svg\" alt=\"Open In Colab\"/></a>"
      ]
    },
    {
      "cell_type": "code",
      "metadata": {
        "id": "YJ9ikUZKc569",
        "colab_type": "code",
        "outputId": "1a4d9e01-de83-4c91-c372-b69b7d5622b4",
        "colab": {
          "base_uri": "https://localhost:8080/",
          "height": 51
        }
      },
      "source": [
        "from google.colab import drive\n",
        "drive.mount('/gdrive')\n",
        "%cd /gdrive"
      ],
      "execution_count": 1,
      "outputs": [
        {
          "output_type": "stream",
          "text": [
            "Drive already mounted at /gdrive; to attempt to forcibly remount, call drive.mount(\"/gdrive\", force_remount=True).\n",
            "/gdrive\n"
          ],
          "name": "stdout"
        }
      ]
    },
    {
      "cell_type": "code",
      "metadata": {
        "id": "7K82gbKtdm4Z",
        "colab_type": "code",
        "colab": {
          "base_uri": "https://localhost:8080/",
          "height": 34
        },
        "outputId": "85d085cd-46e8-490d-b9cb-b57b41d299e1"
      },
      "source": [
        "import numpy as np\n",
        "from keras.preprocessing.image import load_img, img_to_array\n",
        "#from keras.models import load_model\n",
        "import tensorflow as tf\n",
        "\n",
        "import keras\n",
        "\n",
        "longitud, altura = 64, 64\n",
        "modelo = 'My Drive/Colab Notebooks/dataset_IA2/models/modelo.h5' #aqui se pone el path del modelo entrenado para hacer la prediccion \n",
        "pesos_modelo = 'My Drive/Colab Notebooks/dataset_IA2/models/pesos.h5'\n",
        "cnn = tf.keras.models.load_model(modelo)\n",
        "cnn.load_weights(pesos_modelo)\n",
        "\n",
        "def predict(file):\n",
        "  x = load_img(file, target_size=(longitud, altura))\n",
        "  x = img_to_array(x)\n",
        "  x = np.expand_dims(x, axis=0)\n",
        "  array = cnn.predict(x)\n",
        "  result = array[0]\n",
        "  #answer = np.argmax(result)\n",
        "  if int(result[0]) == 1:\n",
        "    print(\"pred: gato\")\n",
        "  elif int(result[1]) == 1:\n",
        "    print(\"pred: perro\")\n",
        "  elif int(result[2]) == 1:\n",
        "    print(\"pred: caballo\")\n",
        "  elif int(result[3]) == 1:\n",
        "    print(\"pred: ardilla\")\n",
        "  print(int(result[0]),int(result[1]),int(result[2]),int(result[3])) #muestra el array de prediccion"
      ],
      "execution_count": 2,
      "outputs": [
        {
          "output_type": "stream",
          "text": [
            "Using TensorFlow backend.\n"
          ],
          "name": "stderr"
        }
      ]
    },
    {
      "cell_type": "code",
      "metadata": {
        "id": "-QTIUsJOePqN",
        "colab_type": "code",
        "outputId": "49e6d621-e2bb-4c91-9501-0e1135b2c8cd",
        "colab": {
          "base_uri": "https://localhost:8080/",
          "height": 51
        }
      },
      "source": [
        "predict('My Drive/Colab Notebooks/dataset_IA2/gato2.jpg')#aqui se pone la direccion de la foto que quieras predecir "
      ],
      "execution_count": 3,
      "outputs": [
        {
          "output_type": "stream",
          "text": [
            "pred: gato\n",
            "1 0 0 0\n"
          ],
          "name": "stdout"
        }
      ]
    },
    {
      "cell_type": "code",
      "metadata": {
        "id": "QiVnankM-TQo",
        "colab_type": "code",
        "outputId": "cd76144f-d55b-4ca2-963e-27269dbbee49",
        "colab": {
          "base_uri": "https://localhost:8080/",
          "height": 51
        }
      },
      "source": [
        "predict('My Drive/Colab Notebooks/dataset_IA2/gato1.jpg')"
      ],
      "execution_count": 4,
      "outputs": [
        {
          "output_type": "stream",
          "text": [
            "pred: perro\n",
            "0 1 0 0\n"
          ],
          "name": "stdout"
        }
      ]
    },
    {
      "cell_type": "code",
      "metadata": {
        "id": "bqNyi57a-hvm",
        "colab_type": "code",
        "outputId": "62646219-c77e-456b-e42f-9d9cdfaaa2b7",
        "colab": {
          "base_uri": "https://localhost:8080/",
          "height": 51
        }
      },
      "source": [
        "predict('My Drive/Colab Notebooks/dataset_IA2/perr.jpg')"
      ],
      "execution_count": 5,
      "outputs": [
        {
          "output_type": "stream",
          "text": [
            "pred: perro\n",
            "0 1 0 0\n"
          ],
          "name": "stdout"
        }
      ]
    },
    {
      "cell_type": "code",
      "metadata": {
        "id": "Ft7aX1PVBTCz",
        "colab_type": "code",
        "outputId": "1261f14e-8b6e-42f9-a1af-8622b8e85cb6",
        "colab": {
          "base_uri": "https://localhost:8080/",
          "height": 51
        }
      },
      "source": [
        "predict('My Drive/Colab Notebooks/dataset_IA2/br.jpg')"
      ],
      "execution_count": 6,
      "outputs": [
        {
          "output_type": "stream",
          "text": [
            "pred: perro\n",
            "0 1 0 0\n"
          ],
          "name": "stdout"
        }
      ]
    },
    {
      "cell_type": "code",
      "metadata": {
        "id": "oi_WIXX5CLeP",
        "colab_type": "code",
        "outputId": "a9982202-0243-4dbf-d3b2-b9f159d389f0",
        "colab": {
          "base_uri": "https://localhost:8080/",
          "height": 51
        }
      },
      "source": [
        "predict('My Drive/Colab Notebooks/dataset_IA2/foto.jpg')"
      ],
      "execution_count": 7,
      "outputs": [
        {
          "output_type": "stream",
          "text": [
            "pred: perro\n",
            "0 1 0 0\n"
          ],
          "name": "stdout"
        }
      ]
    },
    {
      "cell_type": "code",
      "metadata": {
        "id": "3wpEkH8qFafO",
        "colab_type": "code",
        "outputId": "f7b35cfa-7692-477d-88a0-a29c11d97c0f",
        "colab": {
          "base_uri": "https://localhost:8080/",
          "height": 51
        }
      },
      "source": [
        "predict('My Drive/Colab Notebooks/dataset_IA2/train/horse/OIP-ZWbuHMfc2I4AytNKGPH2KAHaDf.jpeg')"
      ],
      "execution_count": 8,
      "outputs": [
        {
          "output_type": "stream",
          "text": [
            "pred: caballo\n",
            "0 0 1 0\n"
          ],
          "name": "stdout"
        }
      ]
    },
    {
      "cell_type": "code",
      "metadata": {
        "id": "iRAz0eC2F943",
        "colab_type": "code",
        "outputId": "2103e7a2-2e7a-497b-eb35-7ef1a8a86bcb",
        "colab": {
          "base_uri": "https://localhost:8080/",
          "height": 51
        }
      },
      "source": [
        "predict('My Drive/Colab Notebooks/dataset_IA2/train/horse/OIP-ZVYoCUzFMAg9W0Mp0wGcZQAAAA.jpeg')"
      ],
      "execution_count": 9,
      "outputs": [
        {
          "output_type": "stream",
          "text": [
            "pred: caballo\n",
            "0 0 1 0\n"
          ],
          "name": "stdout"
        }
      ]
    },
    {
      "cell_type": "code",
      "metadata": {
        "id": "cK1QYyJmIeGN",
        "colab_type": "code",
        "outputId": "cf43b69a-db2e-4b8d-c060-22c23a81d269",
        "colab": {
          "base_uri": "https://localhost:8080/",
          "height": 51
        }
      },
      "source": [
        "predict('My Drive/Colab Notebooks/dataset_IA2/train/squirrel/OIP-zzy5kEbHuGBWXZ3c-D85aAHaE8.jpeg')"
      ],
      "execution_count": 10,
      "outputs": [
        {
          "output_type": "stream",
          "text": [
            "pred: perro\n",
            "0 1 0 0\n"
          ],
          "name": "stdout"
        }
      ]
    },
    {
      "cell_type": "code",
      "metadata": {
        "id": "3Kx-V8sJI9RJ",
        "colab_type": "code",
        "outputId": "a3142bad-14be-49b7-ebce-a7afe03bce3f",
        "colab": {
          "base_uri": "https://localhost:8080/",
          "height": 51
        }
      },
      "source": [
        "predict('My Drive/Colab Notebooks/dataset_IA2/train/squirrel/OIP-ZzV2cnnarfBv1b0Xj7cvMwHaEX.jpeg')"
      ],
      "execution_count": 11,
      "outputs": [
        {
          "output_type": "stream",
          "text": [
            "pred: ardilla\n",
            "0 0 0 1\n"
          ],
          "name": "stdout"
        }
      ]
    }
  ]
}