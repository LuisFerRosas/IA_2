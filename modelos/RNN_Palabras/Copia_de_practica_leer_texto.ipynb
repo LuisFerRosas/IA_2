{
  "nbformat": 4,
  "nbformat_minor": 0,
  "metadata": {
    "colab": {
      "name": "Copia de practica leer texto.ipynb",
      "provenance": [],
      "collapsed_sections": [],
      "mount_file_id": "1kR8C8Ys71k7ovPq6LTENg9YGORda8qyK",
      "authorship_tag": "ABX9TyMPJZnScTyUVbh1s9p7qkqc",
      "include_colab_link": true
    },
    "kernelspec": {
      "name": "python3",
      "display_name": "Python 3"
    }
  },
  "cells": [
    {
      "cell_type": "markdown",
      "metadata": {
        "id": "view-in-github",
        "colab_type": "text"
      },
      "source": [
        "<a href=\"https://colab.research.google.com/github/LuisFerRosas/IA_2/blob/master/modelos/RNN_Palabras/Copia_de_practica_leer_texto.ipynb\" target=\"_parent\"><img src=\"https://colab.research.google.com/assets/colab-badge.svg\" alt=\"Open In Colab\"/></a>"
      ]
    },
    {
      "cell_type": "code",
      "metadata": {
        "id": "RAqI2apA4lCd",
        "colab_type": "code",
        "outputId": "d3be3d33-7728-48ba-9afd-babd07782596",
        "colab": {
          "base_uri": "https://localhost:8080/",
          "height": 71
        }
      },
      "source": [
        "from google.colab import drive\n",
        "drive.mount('/gdrive')\n",
        "%cd /gdrive/My Drive/Colab Notebooks/dataset_IA2/textos"
      ],
      "execution_count": 1,
      "outputs": [
        {
          "output_type": "stream",
          "text": [
            "Drive already mounted at /gdrive; to attempt to forcibly remount, call drive.mount(\"/gdrive\", force_remount=True).\n",
            "/gdrive/My Drive/Colab Notebooks/dataset_IA2/textos\n"
          ],
          "name": "stdout"
        }
      ]
    },
    {
      "cell_type": "code",
      "metadata": {
        "id": "YYVGEBQy4xAi",
        "colab_type": "code",
        "outputId": "4574a331-9af2-4779-e0f6-a8126d9ce226",
        "colab": {
          "base_uri": "https://localhost:8080/",
          "height": 51
        }
      },
      "source": [
        "!ls"
      ],
      "execution_count": 2,
      "outputs": [
        {
          "output_type": "stream",
          "text": [
            "Constitucion_Bolivia.pdf  cronicas_marianela.txt\n",
            "Constitucion_Bolivia.txt  training_checkpoints\n"
          ],
          "name": "stdout"
        }
      ]
    },
    {
      "cell_type": "code",
      "metadata": {
        "id": "R9D7BacL2L9M",
        "colab_type": "code",
        "colab": {}
      },
      "source": [
        "import tensorflow as tf\n",
        "import tensorflow_datasets as tfds\n",
        "import os\n",
        "import numpy as np"
      ],
      "execution_count": 0,
      "outputs": []
    },
    {
      "cell_type": "code",
      "metadata": {
        "id": "UcsNwUzCA3tH",
        "colab_type": "code",
        "colab": {}
      },
      "source": [
        "BUFFER_SIZE = 10000\n",
        "BATCH_SIZE = 64\n",
        "TAKE_SIZE = 5000\n"
      ],
      "execution_count": 0,
      "outputs": []
    },
    {
      "cell_type": "code",
      "metadata": {
        "id": "6ixvVoeE0CtL",
        "colab_type": "code",
        "colab": {}
      },
      "source": [
        ""
      ],
      "execution_count": 0,
      "outputs": []
    },
    {
      "cell_type": "code",
      "metadata": {
        "id": "oow1L-iO4nm8",
        "colab_type": "code",
        "colab": {}
      },
      "source": [
        "text1 = open('cronicas_marianela.txt',mode='r',encoding='utf-8-sig').read()\n",
        "\n"
      ],
      "execution_count": 0,
      "outputs": []
    },
    {
      "cell_type": "code",
      "metadata": {
        "id": "DD4dvCmvLbcD",
        "colab_type": "code",
        "outputId": "c13df04d-7ec1-43b1-d9d7-aedb4d801376",
        "colab": {
          "base_uri": "https://localhost:8080/",
          "height": 1000
        }
      },
      "source": [
        "historia=text1.rsplit()\n",
        "historia"
      ],
      "execution_count": 6,
      "outputs": [
        {
          "output_type": "execute_result",
          "data": {
            "text/plain": [
              "['CRÓNICAS',\n",
              " 'DE',\n",
              " 'MARIANELA',\n",
              " '1917.',\n",
              " 'INDICE',\n",
              " 'Pag.',\n",
              " 'Presentación',\n",
              " 'en',\n",
              " 'Sociedad',\n",
              " '5',\n",
              " 'El',\n",
              " 'matrimonio',\n",
              " '7',\n",
              " 'El',\n",
              " 'amor',\n",
              " 'y',\n",
              " 'su',\n",
              " 'apariencia',\n",
              " '15',\n",
              " 'El',\n",
              " 'nó',\n",
              " 'de',\n",
              " 'las',\n",
              " 'niñas',\n",
              " '18',\n",
              " 'El',\n",
              " 'Gancho',\n",
              " '23',\n",
              " 'Las',\n",
              " '«Planchadoras»',\n",
              " '29',\n",
              " 'La',\n",
              " 'moda',\n",
              " 'y',\n",
              " 'el',\n",
              " 'diablo',\n",
              " '33',\n",
              " 'Los',\n",
              " '«Tramitadores»',\n",
              " '39',\n",
              " 'Los',\n",
              " 'afeites',\n",
              " '45',\n",
              " 'Las',\n",
              " 'paces',\n",
              " '51',\n",
              " 'Crotalogia',\n",
              " '57',\n",
              " 'Rosalía',\n",
              " 'en',\n",
              " '«Los',\n",
              " 'Carpinchos»',\n",
              " '63',\n",
              " 'El',\n",
              " 'arte',\n",
              " 'de',\n",
              " 'estar',\n",
              " 'enferma',\n",
              " '70',\n",
              " 'Las',\n",
              " 'inquietudes',\n",
              " 'de',\n",
              " 'Petrona',\n",
              " '75',\n",
              " 'Pequeña',\n",
              " 'defensa',\n",
              " 'de',\n",
              " 'la',\n",
              " 'murmuración',\n",
              " '81',\n",
              " 'Los',\n",
              " 'secretos',\n",
              " '84',\n",
              " 'La',\n",
              " 'desventura',\n",
              " 'de',\n",
              " 'Luisa',\n",
              " '89',\n",
              " 'Desavenencia',\n",
              " 'trascendental',\n",
              " '93',\n",
              " 'Las',\n",
              " 'reinas',\n",
              " 'en',\n",
              " 'la',\n",
              " 'guerra',\n",
              " '98',\n",
              " 'Frivolidad',\n",
              " 'y',\n",
              " 'tilinguismo',\n",
              " '100',\n",
              " 'Inés',\n",
              " 'y',\n",
              " 'los',\n",
              " 'cipreses',\n",
              " '110',\n",
              " 'La',\n",
              " 'fiesta',\n",
              " 'hípica',\n",
              " '115',\n",
              " 'Las',\n",
              " 'angustias',\n",
              " 'de',\n",
              " 'mi',\n",
              " 'protegida',\n",
              " '120',\n",
              " 'La',\n",
              " 'inutilidad',\n",
              " 'de',\n",
              " 'San',\n",
              " 'Juan',\n",
              " 'Bautista',\n",
              " '126',\n",
              " 'Sin',\n",
              " 'presidenta',\n",
              " '132',\n",
              " 'La',\n",
              " 'abuela',\n",
              " 'del',\n",
              " 'rey',\n",
              " 'de',\n",
              " 'los',\n",
              " 'cipreses,',\n",
              " 'o',\n",
              " 'el',\n",
              " 'orgullo',\n",
              " 'ancestral',\n",
              " '140',\n",
              " '¡¡Desahuciado!!',\n",
              " '148',\n",
              " 'La',\n",
              " 'viuda',\n",
              " 'de',\n",
              " 'Esquilón',\n",
              " 'va',\n",
              " 'a',\n",
              " 'Mar',\n",
              " 'del',\n",
              " 'Plata',\n",
              " '154',\n",
              " 'ADVERTENCIA.',\n",
              " 'El',\n",
              " 'interés',\n",
              " 'que',\n",
              " 'han',\n",
              " 'despertado',\n",
              " 'las',\n",
              " 'amenas',\n",
              " 'crónicas',\n",
              " 'de',\n",
              " '\"Marianela\"',\n",
              " 'publicadas',\n",
              " 'en',\n",
              " 'la',\n",
              " 'página',\n",
              " 'femenina',\n",
              " 'de',\n",
              " '\"LA',\n",
              " 'PRENSA\"',\n",
              " 'me',\n",
              " 'ha',\n",
              " 'inducido',\n",
              " 'a',\n",
              " 'solicitar',\n",
              " 'del',\n",
              " 'Director',\n",
              " 'del',\n",
              " 'gran',\n",
              " 'diario,',\n",
              " 'Don',\n",
              " 'Ezequiel',\n",
              " 'P.',\n",
              " 'Paz,',\n",
              " 'el',\n",
              " 'permiso',\n",
              " 'para',\n",
              " 'editarlas.',\n",
              " 'La',\n",
              " 'benevolencia',\n",
              " 'gentil',\n",
              " 'del',\n",
              " 'señor',\n",
              " 'Paz',\n",
              " 'ha',\n",
              " 'otorgado',\n",
              " 'el',\n",
              " 'consentimiento,',\n",
              " 'y',\n",
              " 'hoy',\n",
              " 'aparecen',\n",
              " 'los',\n",
              " 'chispeantes',\n",
              " 'artículos',\n",
              " 'de',\n",
              " 'la',\n",
              " 'distinguida',\n",
              " 'escritora',\n",
              " 'compilados',\n",
              " 'en',\n",
              " 'este',\n",
              " 'elegante',\n",
              " 'volumen.',\n",
              " 'Notorio',\n",
              " 'es',\n",
              " 'el',\n",
              " 'éxito',\n",
              " 'creciente',\n",
              " 'que',\n",
              " 'han',\n",
              " 'logrado',\n",
              " 'estas',\n",
              " 'crónicas;',\n",
              " 'aparte',\n",
              " 'su',\n",
              " 'mérito',\n",
              " 'literario,',\n",
              " 'puesto',\n",
              " 'de',\n",
              " 'relieve',\n",
              " 'en',\n",
              " 'un',\n",
              " 'estilo',\n",
              " 'fácil,',\n",
              " 'terso',\n",
              " 'y',\n",
              " 'armonioso,',\n",
              " 'contienen',\n",
              " 'otra',\n",
              " 'cualidad',\n",
              " 'más',\n",
              " 'esencial',\n",
              " 'aun,',\n",
              " 'consistente',\n",
              " 'en',\n",
              " 'su',\n",
              " 'sana',\n",
              " 'orientación',\n",
              " 'ética,',\n",
              " 'en',\n",
              " 'una',\n",
              " 'crítica,',\n",
              " 'suavemente',\n",
              " 'irónica,',\n",
              " 'de',\n",
              " 'nuestros',\n",
              " 'hábitos',\n",
              " 'y',\n",
              " 'costumbres.',\n",
              " 'Trátase,',\n",
              " 'en',\n",
              " 'fin,',\n",
              " 'de',\n",
              " 'un',\n",
              " 'libro',\n",
              " 'interesante,',\n",
              " 'ameno',\n",
              " 'instructivo,',\n",
              " 'en',\n",
              " 'el',\n",
              " 'cual,',\n",
              " 'a',\n",
              " 'la',\n",
              " 'belleza',\n",
              " 'artística,',\n",
              " 'se',\n",
              " 'unen,',\n",
              " 'en',\n",
              " 'consorcio',\n",
              " 'admirable,',\n",
              " 'útiles',\n",
              " 'normas',\n",
              " 'de',\n",
              " 'conducta,',\n",
              " 'expuestas',\n",
              " 'con',\n",
              " 'delicado',\n",
              " 'humorismo',\n",
              " 'y',\n",
              " 'singular',\n",
              " 'gracejo',\n",
              " 'narrativo.',\n",
              " 'Pedro',\n",
              " 'L.',\n",
              " 'Balza',\n",
              " '(Editor)',\n",
              " 'PRESENTACIÓN',\n",
              " 'EN',\n",
              " 'SOCIEDAD',\n",
              " 'Su',\n",
              " 'presentación',\n",
              " 'en',\n",
              " 'sociedad',\n",
              " 'es',\n",
              " 'el',\n",
              " 'primer',\n",
              " 'episodio',\n",
              " 'interesante',\n",
              " 'en',\n",
              " 'la',\n",
              " 'vida',\n",
              " 'de',\n",
              " 'la',\n",
              " 'mujer.',\n",
              " 'Ha',\n",
              " 'terminado',\n",
              " 'la',\n",
              " 'infancia,',\n",
              " 'que',\n",
              " 'acaso',\n",
              " 'sea',\n",
              " 'lo',\n",
              " 'mejor',\n",
              " 'de',\n",
              " 'la',\n",
              " 'existencia.',\n",
              " 'La',\n",
              " 'trasformación',\n",
              " 'de',\n",
              " 'la',\n",
              " 'niñez',\n",
              " 'en',\n",
              " 'pubertad',\n",
              " 'trae',\n",
              " 'también',\n",
              " 'un',\n",
              " 'cambio',\n",
              " 'completo',\n",
              " 'en',\n",
              " 'la',\n",
              " 'vida',\n",
              " 'del',\n",
              " 'espíritu.',\n",
              " 'La',\n",
              " 'niña',\n",
              " 'se',\n",
              " 'ha',\n",
              " 'convertido',\n",
              " 'en',\n",
              " 'señorita.',\n",
              " 'Ya',\n",
              " 'la',\n",
              " 'muñeca',\n",
              " 'ha',\n",
              " 'quedado',\n",
              " 'abandonada.',\n",
              " 'La',\n",
              " 'mamá',\n",
              " 'de',\n",
              " 'la',\n",
              " 'señorita,',\n",
              " 'con',\n",
              " 'dulce',\n",
              " 'melancolía,',\n",
              " 'la',\n",
              " 'recoge',\n",
              " 'y',\n",
              " 'la',\n",
              " 'guarda',\n",
              " 'en',\n",
              " 'un',\n",
              " 'mueble',\n",
              " 'tradicional.',\n",
              " 'La',\n",
              " 'señorita',\n",
              " 'no',\n",
              " 'hace',\n",
              " 'caso',\n",
              " 'de',\n",
              " 'su',\n",
              " 'muñeca:',\n",
              " 'le',\n",
              " 'parece',\n",
              " 'un',\n",
              " 'objeto',\n",
              " 'antediluviano,',\n",
              " 'pues',\n",
              " 'aunque',\n",
              " 'el',\n",
              " 'tiempo',\n",
              " 'pasado',\n",
              " 'es',\n",
              " 'poco,',\n",
              " 'la',\n",
              " 'trasformación',\n",
              " 'es',\n",
              " 'tanta',\n",
              " 'que',\n",
              " 'todo',\n",
              " 'lo',\n",
              " 'de',\n",
              " 'ayer',\n",
              " 'ha',\n",
              " 'adquirido',\n",
              " 'carácter',\n",
              " 'remoto.',\n",
              " 'Ya',\n",
              " 'vendrá',\n",
              " 'un',\n",
              " 'día',\n",
              " 'en',\n",
              " 'que',\n",
              " 'vuelva',\n",
              " 'sus',\n",
              " 'ojos,',\n",
              " 'acaso',\n",
              " 'tristes,',\n",
              " 'acaso',\n",
              " 'llorosos,',\n",
              " 'a',\n",
              " 'la',\n",
              " 'muñeca',\n",
              " 'que',\n",
              " 'alborozó',\n",
              " 'sus',\n",
              " 'horas',\n",
              " 'infantiles.',\n",
              " 'Pero',\n",
              " 'ahora,',\n",
              " 'no;',\n",
              " 'ahora',\n",
              " 'ha',\n",
              " 'quedado',\n",
              " 'relegada',\n",
              " 'a',\n",
              " 'completo',\n",
              " 'olvido.',\n",
              " 'Porque',\n",
              " 'la',\n",
              " 'señorita',\n",
              " 'se',\n",
              " 'halla',\n",
              " 'trémula',\n",
              " 'de',\n",
              " 'emoción.',\n",
              " 'Se',\n",
              " 'va',\n",
              " 'a',\n",
              " 'presentar',\n",
              " 'en',\n",
              " 'sociedad;',\n",
              " 'está',\n",
              " 'por',\n",
              " 'asomarse',\n",
              " 'al',\n",
              " 'mundo.',\n",
              " 'Y',\n",
              " 'un',\n",
              " 'tumulto',\n",
              " 'de',\n",
              " 'ideas,',\n",
              " 'mejor',\n",
              " 'dicho,',\n",
              " 'de',\n",
              " 'imaginaciones--porque,',\n",
              " 'propiamente',\n",
              " 'ideas',\n",
              " 'sobre',\n",
              " 'el',\n",
              " 'mundo,',\n",
              " 'no',\n",
              " 'tiene',\n",
              " 'aun',\n",
              " 'la',\n",
              " 'señorita--asaltan',\n",
              " 'su',\n",
              " 'mente',\n",
              " 'en',\n",
              " 'ligero',\n",
              " 'torbellino,',\n",
              " 'se',\n",
              " 'agitan,',\n",
              " 'bullen,',\n",
              " 'vuelan',\n",
              " 'y',\n",
              " 'revuelan',\n",
              " 'como',\n",
              " 'mariposas',\n",
              " 'en',\n",
              " 'torno',\n",
              " 'del',\n",
              " 'foco',\n",
              " 'luminoso.',\n",
              " '¿Cómo',\n",
              " 'será',\n",
              " 'el',\n",
              " 'mundo?',\n",
              " 'He',\n",
              " 'ahí',\n",
              " 'la',\n",
              " 'preocupación',\n",
              " 'de',\n",
              " 'la',\n",
              " 'señorita.',\n",
              " 'Pero',\n",
              " 'esta',\n",
              " 'preocupación',\n",
              " 'está',\n",
              " 'exenta',\n",
              " 'de',\n",
              " 'tristeza,',\n",
              " 'de',\n",
              " 'gravedad,',\n",
              " 'de',\n",
              " 'pesimismo.',\n",
              " 'Porque,',\n",
              " 'en',\n",
              " 'realidad,',\n",
              " 'no',\n",
              " 'se',\n",
              " 'pregunta:',\n",
              " '«¿cómo',\n",
              " 'será',\n",
              " 'el',\n",
              " 'mundo?»,',\n",
              " 'interrogación',\n",
              " 'harto',\n",
              " 'filosófica',\n",
              " 'para',\n",
              " 'sus',\n",
              " 'años',\n",
              " 'y',\n",
              " 'su',\n",
              " 'inexperiencia.',\n",
              " 'Lo',\n",
              " 'que',\n",
              " 'ella',\n",
              " 'se',\n",
              " 'pregunta',\n",
              " 'es:',\n",
              " '«¿cómo',\n",
              " 'le',\n",
              " 'pareceré',\n",
              " 'yo',\n",
              " 'al',\n",
              " 'mundo?».',\n",
              " 'Y',\n",
              " 'a',\n",
              " 'medida',\n",
              " 'que',\n",
              " 'se',\n",
              " 'atavía',\n",
              " 'y',\n",
              " 'se',\n",
              " 'adorna',\n",
              " 'y',\n",
              " 'se',\n",
              " 'embellece',\n",
              " 'con',\n",
              " 'los',\n",
              " 'mil',\n",
              " 'recursos',\n",
              " 'que',\n",
              " 'la',\n",
              " 'moda',\n",
              " 'inventa,',\n",
              " 'piensa',\n",
              " 'la',\n",
              " 'señorita,',\n",
              " 'frente',\n",
              " 'al',\n",
              " 'espejo',\n",
              " 'que',\n",
              " 'refleja',\n",
              " 'su',\n",
              " 'figura',\n",
              " 'de',\n",
              " 'mujer',\n",
              " 'en',\n",
              " 'esbozo:',\n",
              " '«yo',\n",
              " 'creo',\n",
              " 'que',\n",
              " 'le',\n",
              " 'voy',\n",
              " 'a',\n",
              " 'parecer',\n",
              " 'bonita',\n",
              " 'al',\n",
              " 'mundo».',\n",
              " 'Y',\n",
              " 'esta',\n",
              " 'idea',\n",
              " 'optimista,',\n",
              " 'justificada',\n",
              " 'desde',\n",
              " 'luego,',\n",
              " 'porque',\n",
              " 'la',\n",
              " 'señorita',\n",
              " 'es',\n",
              " 'linda,',\n",
              " 'le',\n",
              " 'produce',\n",
              " 'una',\n",
              " 'alegría',\n",
              " 'exultante,',\n",
              " 'alborozada,',\n",
              " 'llena',\n",
              " 'de',\n",
              " 'íntimo',\n",
              " 'regocijo.',\n",
              " 'En',\n",
              " 'ese',\n",
              " 'momento',\n",
              " 'del',\n",
              " 'atavío,',\n",
              " 'los',\n",
              " 'detalles',\n",
              " 'adquieren',\n",
              " 'una',\n",
              " 'importancia',\n",
              " 'fundamental;',\n",
              " 'el',\n",
              " 'gracioso',\n",
              " 'lunar,',\n",
              " 'el',\n",
              " 'rizo',\n",
              " 'juguetón,',\n",
              " 'todo',\n",
              " 'aquello',\n",
              " 'que',\n",
              " 'constituye',\n",
              " 'su',\n",
              " 'personalidad,',\n",
              " 'su',\n",
              " 'diferenciación',\n",
              " 'de',\n",
              " 'las',\n",
              " 'demás',\n",
              " 'señoritas',\n",
              " 'que',\n",
              " 'también',\n",
              " 'se',\n",
              " 'presentan',\n",
              " 'en',\n",
              " 'sociedad,',\n",
              " 'adquieren',\n",
              " 'un',\n",
              " 'relieve',\n",
              " 'preponderante',\n",
              " 'y',\n",
              " 'definitivo.',\n",
              " 'El',\n",
              " 'lunarcillo',\n",
              " 'y',\n",
              " 'el',\n",
              " 'ricito',\n",
              " 'son',\n",
              " 'invencibles;',\n",
              " 'nada,',\n",
              " 'nada,',\n",
              " '¡invencibles!...',\n",
              " 'Una',\n",
              " 'ligera',\n",
              " 'inquietud',\n",
              " 'invade',\n",
              " 'el',\n",
              " 'espíritu',\n",
              " 'de',\n",
              " 'mamá.',\n",
              " 'Es',\n",
              " 'necesario',\n",
              " 'que',\n",
              " 'la',\n",
              " 'presentación',\n",
              " 'cause',\n",
              " 'buen',\n",
              " 'efecto.',\n",
              " 'Está',\n",
              " 'en',\n",
              " 'ello',\n",
              " 'comprometido',\n",
              " 'el',\n",
              " 'buen',\n",
              " 'gusto',\n",
              " 'y',\n",
              " 'el',\n",
              " 'tino',\n",
              " 'educador',\n",
              " 'de',\n",
              " 'mamá.',\n",
              " 'La',\n",
              " 'señora',\n",
              " 'ha',\n",
              " 'leído',\n",
              " 'a',\n",
              " 'Carmen',\n",
              " 'Sylva,',\n",
              " 'la',\n",
              " 'buena',\n",
              " 'y',\n",
              " 'discreta',\n",
              " 'reina',\n",
              " 'rumana,',\n",
              " 'y',\n",
              " 'repite',\n",
              " 'a',\n",
              " 'su',\n",
              " 'hija',\n",
              " 'estas',\n",
              " 'palabras',\n",
              " 'que',\n",
              " 'pueden',\n",
              " 'servir',\n",
              " 'de',\n",
              " 'norma',\n",
              " 'en',\n",
              " 'una',\n",
              " 'presentación',\n",
              " 'en',\n",
              " 'sociedad:',\n",
              " '«La',\n",
              " 'tontería',\n",
              " 'se',\n",
              " 'coloca',\n",
              " 'siempre',\n",
              " 'en',\n",
              " 'primera',\n",
              " 'fila',\n",
              " 'para',\n",
              " 'ser',\n",
              " 'vista;',\n",
              " 'la',\n",
              " 'inteligencia',\n",
              " 'se',\n",
              " 'coloca',\n",
              " 'detrás',\n",
              " 'para',\n",
              " 'ver».',\n",
              " 'Y',\n",
              " 'luego',\n",
              " 'agrega',\n",
              " 'por',\n",
              " 'cuenta',\n",
              " 'propia:',\n",
              " '«discreción,',\n",
              " 'hija',\n",
              " 'mía,',\n",
              " 'compostura,',\n",
              " 'sosiego;',\n",
              " 'mide',\n",
              " 'lo',\n",
              " 'que',\n",
              " 'dices;',\n",
              " 'más',\n",
              " 'vale',\n",
              " 'que',\n",
              " 'peques',\n",
              " 'por',\n",
              " 'cortedad».',\n",
              " 'Papá',\n",
              " 'también',\n",
              " 'está',\n",
              " 'un',\n",
              " 'poco',\n",
              " 'impresionado.',\n",
              " 'Cree,',\n",
              " 'como',\n",
              " 'Terencio,',\n",
              " 'que',\n",
              " 'las',\n",
              " 'mujeres,',\n",
              " 'igual',\n",
              " 'que',\n",
              " 'los',\n",
              " 'niños,',\n",
              " 'se',\n",
              " 'corrigen',\n",
              " 'con',\n",
              " 'leves',\n",
              " 'sentencias.',\n",
              " 'Y',\n",
              " 'apunta',\n",
              " 'algunas',\n",
              " 'apropiadas',\n",
              " 'al',\n",
              " 'caso.',\n",
              " '«La',\n",
              " 'señorita',\n",
              " 'silenciosa',\n",
              " 'parece',\n",
              " 'mejor',\n",
              " 'que',\n",
              " 'la',\n",
              " 'locuaz».',\n",
              " 'El',\n",
              " 'discreto',\n",
              " 'señor',\n",
              " 'hace',\n",
              " 'algunas',\n",
              " 'observaciones',\n",
              " 'filosóficas',\n",
              " 'sobre',\n",
              " 'la',\n",
              " 'coquetería.',\n",
              " 'A',\n",
              " 'su',\n",
              " 'juicio',\n",
              " 'la',\n",
              " 'coquetería',\n",
              " 'no',\n",
              " 'tiene',\n",
              " 'más',\n",
              " 'fin',\n",
              " 'que',\n",
              " 'hacer',\n",
              " 'subir',\n",
              " 'las',\n",
              " 'acciones',\n",
              " 'de',\n",
              " 'la',\n",
              " 'belleza.',\n",
              " 'Pero',\n",
              " 'el',\n",
              " 'prudente',\n",
              " 'papá',\n",
              " 'advierte',\n",
              " 'que',\n",
              " 'es',\n",
              " 'necesario',\n",
              " 'tener',\n",
              " 'sentido',\n",
              " 'de',\n",
              " 'la',\n",
              " 'medida;',\n",
              " 'no',\n",
              " 'hacerlas',\n",
              " 'subir',\n",
              " 'demasiado,',\n",
              " 'porque',\n",
              " 'pueden',\n",
              " 'caer',\n",
              " 'de',\n",
              " 'golpe',\n",
              " 'una',\n",
              " 'vez',\n",
              " 'descubierto',\n",
              " 'que',\n",
              " 'se',\n",
              " 'abusa',\n",
              " 'del',\n",
              " 'recurso',\n",
              " 'para',\n",
              " 'hacerlas',\n",
              " 'subir.',\n",
              " 'Papá',\n",
              " 'agrega',\n",
              " 'otros',\n",
              " 'razonamientos',\n",
              " 'graves,',\n",
              " 'discretos,',\n",
              " 'oportunos.',\n",
              " '«No',\n",
              " 'hay',\n",
              " 'que',\n",
              " 'ser',\n",
              " 'criticona»,',\n",
              " 'dice.',\n",
              " 'Y',\n",
              " 'volviéndose',\n",
              " 'a',\n",
              " 'la',\n",
              " 'esposa,',\n",
              " 'agrega:',\n",
              " '«Según',\n",
              " 'Schiller,',\n",
              " 'la',\n",
              " 'mujer',\n",
              " 'tiene',\n",
              " 'ojos',\n",
              " 'de',\n",
              " 'lince',\n",
              " 'para',\n",
              " 'ver',\n",
              " 'los',\n",
              " 'defectos',\n",
              " 'de',\n",
              " 'las',\n",
              " 'demás',\n",
              " 'mujeres».',\n",
              " 'Y',\n",
              " 'luego',\n",
              " 'agrega',\n",
              " 'por',\n",
              " 'cuenta',\n",
              " 'propia:',\n",
              " '«Los',\n",
              " 'hombres',\n",
              " 'nos',\n",
              " 'enteramos',\n",
              " 'de',\n",
              " 'los',\n",
              " 'defectos',\n",
              " 'de',\n",
              " 'una',\n",
              " 'dama',\n",
              " 'por',\n",
              " 'otra',\n",
              " 'dama;',\n",
              " 'pero',\n",
              " 'adquirimos',\n",
              " 'mala',\n",
              " 'idea',\n",
              " 'de',\n",
              " 'quien',\n",
              " 'nos',\n",
              " 'suministra',\n",
              " 'la',\n",
              " 'información».',\n",
              " 'Ya',\n",
              " 'la',\n",
              " 'señorita',\n",
              " 'está',\n",
              " 'ataviada:',\n",
              " 'un',\n",
              " 'traje',\n",
              " 'primoroso',\n",
              " 'realza',\n",
              " 'su',\n",
              " 'figura:',\n",
              " 'primor',\n",
              " 'sobre',\n",
              " 'primor.',\n",
              " '«Está',\n",
              " 'elegantísima»,',\n",
              " 'observa',\n",
              " 'la',\n",
              " 'señora',\n",
              " 'al',\n",
              " 'esposo.',\n",
              " '«Sí,',\n",
              " 'sí,',\n",
              " 'dice',\n",
              " 'éste,',\n",
              " 'muy',\n",
              " 'elegante,',\n",
              " 'muy',\n",
              " 'linda».',\n",
              " 'Y',\n",
              " 'recordando',\n",
              " 'las',\n",
              " 'palabras',\n",
              " 'de',\n",
              " 'un',\n",
              " 'pedagogo',\n",
              " 'argentino',\n",
              " 'agrega:',\n",
              " '«Pero',\n",
              " 'hay',\n",
              " 'que',\n",
              " 'ser',\n",
              " 'también',\n",
              " '«paqueta»',\n",
              " 'por',\n",
              " 'dentro:',\n",
              " 'que',\n",
              " 'a',\n",
              " 'la',\n",
              " 'figura',\n",
              " 'elegante',\n",
              " 'no',\n",
              " 'corresponda',\n",
              " 'un',\n",
              " 'espíritu',\n",
              " 'deforme».',\n",
              " 'La',\n",
              " 'señora',\n",
              " 'confía',\n",
              " 'en',\n",
              " 'que',\n",
              " 'la',\n",
              " 'niña',\n",
              " 'será',\n",
              " 'siempre',\n",
              " 'muy',\n",
              " 'buena.',\n",
              " '«Es',\n",
              " 'nuestra',\n",
              " 'hija»,',\n",
              " 'termina.',\n",
              " '«Es',\n",
              " 'verdad,--asiente',\n",
              " 'el',\n",
              " 'padre',\n",
              " 'conmovido--;',\n",
              " 'será',\n",
              " 'buena,',\n",
              " 'porque',\n",
              " 'es',\n",
              " 'nuestra',\n",
              " 'hija».',\n",
              " 'Entre',\n",
              " 'observaciones,',\n",
              " 'besos',\n",
              " 'y',\n",
              " 'mimos,',\n",
              " 'la',\n",
              " 'señorita,',\n",
              " 'llena',\n",
              " 'de',\n",
              " ...]"
            ]
          },
          "metadata": {
            "tags": []
          },
          "execution_count": 6
        }
      ]
    },
    {
      "cell_type": "code",
      "metadata": {
        "id": "dlQxtHChFDpz",
        "colab_type": "code",
        "outputId": "bf2f518b-c20d-426f-8b4b-c6effb4e960b",
        "colab": {
          "base_uri": "https://localhost:8080/",
          "height": 34
        }
      },
      "source": [
        "vocab=np.unique(historia)\n",
        "print(len(vocab))\n",
        "vocab_size=len(vocab)"
      ],
      "execution_count": 7,
      "outputs": [
        {
          "output_type": "stream",
          "text": [
            "13488\n"
          ],
          "name": "stdout"
        }
      ]
    },
    {
      "cell_type": "code",
      "metadata": {
        "id": "qLWO4kPNE6cR",
        "colab_type": "code",
        "colab": {}
      },
      "source": [
        "indxPalabra = {u:i for i, u in enumerate(vocab)}\n",
        "palabras = np.array(vocab)\n",
        "\n",
        "text_as_int = np.array([indxPalabra[c] for c in historia])"
      ],
      "execution_count": 0,
      "outputs": []
    },
    {
      "cell_type": "code",
      "metadata": {
        "id": "A4DvljmhLaqC",
        "colab_type": "code",
        "colab": {
          "base_uri": "https://localhost:8080/",
          "height": 34
        },
        "outputId": "ed2a9808-5d7a-457f-a131-22843562d356"
      },
      "source": [
        "text_as_int"
      ],
      "execution_count": 9,
      "outputs": [
        {
          "output_type": "execute_result",
          "data": {
            "text/plain": [
              "array([ 402,  504,  889, ..., 7611, 1604, 1605])"
            ]
          },
          "metadata": {
            "tags": []
          },
          "execution_count": 9
        }
      ]
    },
    {
      "cell_type": "code",
      "metadata": {
        "id": "Dh9c9VThT6Go",
        "colab_type": "code",
        "outputId": "9724701b-572e-43ee-ea25-1ab7c6d8b99b",
        "colab": {
          "base_uri": "https://localhost:8080/",
          "height": 71
        }
      },
      "source": [
        "print(indxPalabra)\n",
        "print(palabras)"
      ],
      "execution_count": 10,
      "outputs": [
        {
          "output_type": "stream",
          "text": [
            "{'\"LA': 0, '\"Marianela\"': 1, '(Andalucía)': 2, '(Editor)': 3, '(La': 4, '(Perdonadme': 5, '(Solón,': 6, '(Y': 7, '(aparte': 8, '(asunto': 9, '(así': 10, '(catorce': 11, '(creo': 12, '(el': 13, '(la': 14, '(las': 15, '(los': 16, '(me': 17, '(no': 18, '(oración': 19, '(pasa': 20, '(pase': 21, '(punto': 22, '(recalqué': 23, '(se': 24, '(sin': 25, '(su': 26, '(valga': 27, '(verdadera': 28, '(y': 29, '(ya': 30, '(¡qué': 31, '*': 32, '--A': 33, '--Además,': 34, '--Ahí': 35, '--Así': 36, '--Así,': 37, '--Bien,': 38, '--Bueno,': 39, '--Bueno.': 40, '--Bueno...': 41, '--Bueno:': 42, '--Bueno;': 43, '--Carece,': 44, '--Casi.': 45, '--Catorce': 46, '--Cierto,': 47, '--Cierto--dice': 48, '--Cierto;': 49, '--Claro;': 50, '--Clotilde': 51, '--Como': 52, '--Con': 53, '--Creo': 54, '--Cuando': 55, '--Cuarenta': 56, '--Debía': 57, '--Después': 58, '--Dice': 59, '--Dignísimo,': 60, '--Dijo': 61, '--Disgustos,': 62, '--Disputándoselo': 63, '--El': 64, '--En': 65, '--Entonces': 66, '--Entonces,': 67, '--Era': 68, '--Es': 69, '--Ese': 70, '--Eso': 71, '--Estuve': 72, '--Está': 73, '--Estás': 74, '--Evaristo': 75, '--Excepto': 76, '--Falta': 77, '--Gracias,': 78, '--Hace': 79, '--Hijita,': 80, '--Ignoro': 81, '--Iré.': 82, '--La': 83, '--Las': 84, '--Lo': 85, '--Los': 86, '--Luego': 87, '--Mal': 88, '--Me': 89, '--Mi': 90, '--Muchas': 91, '--Mucho,': 92, '--Mucho.': 93, '--Muy': 94, '--Nacemos,': 95, '--Nada.': 96, '--Ni': 97, '--No': 98, '--No,': 99, '--No;': 100, '--Nunca': 101, '--O': 102, '--Ocurre': 103, '--Otro': 104, '--Oye,': 105, '--Para': 106, '--Pero': 107, '--Pero,': 108, '--Pero...': 109, '--Por': 110, '--Porque': 111, '--Preparándome': 112, '--Puede': 113, '--Pues': 114, '--Pues,': 115, '--Que': 116, '--Se': 117, '--Si': 118, '--Siempre': 119, '--Siempre--sostiene': 120, '--Sí,': 121, '--Sí.': 122, '--Sí...': 123, '--Sí;': 124, '--También': 125, '--Tampoco': 126, '--Tampoco.': 127, '--Tengo': 128, '--Tenía': 129, '--Tiemblo,': 130, '--Tienes': 131, '--Todo': 132, '--Todo,': 133, '--Todos': 134, '--Vamos,': 135, '--Vamos...': 136, '--Viste': 137, '--Viuda': 138, '--Volvamos,': 139, '--Y': 140, '--Ya': 141, '--Yo': 142, '--Yo,': 143, '--¡Ah!...': 144, '--¡Ah,': 145, '--¡Al': 146, '--¡Aquí': 147, '--¡Ay,': 148, '--¡Cierto,': 149, '--¡Claro!': 150, '--¡Claro!--asiente': 151, '--¡Con': 152, '--¡Cómo!': 153, '--¡Es': 154, '--¡Estás': 155, '--¡Graciosísimo,': 156, '--¡Hay': 157, '--¡Hijita!...': 158, '--¡Lindísimo,': 159, '--¡Magnífico': 160, '--¡Marianela!!!...': 161, '--¡Marianela!...': 162, '--¡Misia': 163, '--¡Muchacha!': 164, '--¡Mucho,': 165, '--¡Naturalmente!': 166, '--¡No': 167, '--¡Oh,': 168, '--¡Pobre': 169, '--¡Pobre!...;': 170, '--¡Precioso!...': 171, '--¡Pues': 172, '--¡Quién': 173, '--¡Qué': 174, '--¡Sí,': 175, '--¡Tan': 176, '--¡Vete,': 177, '--¡Y': 178, '--«Forfey»--me': 179, '--«Forfey»--repuso': 180, '--¿Así,': 181, '--¿Ay': 182, '--¿Crées': 183, '--¿Cómo': 184, '--¿Cómo?': 185, '--¿De': 186, '--¿Disgustos,': 187, '--¿Eh?...': 188, '--¿El': 189, '--¿Estuvieron': 190, '--¿Está': 191, '--¿Flirteo?...': 192, '--¿Irás': 193, '--¿La': 194, '--¿Le': 195, '--¿Mi': 196, '--¿No': 197, '--¿Pero': 198, '--¿Por': 199, '--¿Por...?': 200, '--¿Quieres': 201, '--¿Qué': 202, '--¿Sabes': 203, '--¿Tanto,': 204, '--¿Te': 205, '--¿Tú': 206, '--¿Vendrás,': 207, '--¿Y': 208, '100': 209, '110': 210, '115': 211, '120': 212, '126': 213, '132': 214, '140': 215, '148': 216, '15': 217, '154': 218, '16': 219, '1774,': 220, '18': 221, '19,': 222, '1916.': 223, '1917.': 224, '20': 225, '20...:': 226, '20:': 227, '23': 228, '24': 229, '25': 230, '29': 231, '33': 232, '35),': 233, '39': 234, '45': 235, '5': 236, '51': 237, '57': 238, '63': 239, '7': 240, '70': 241, '70,': 242, '75': 243, '81': 244, '84': 245, '89': 246, '93': 247, '98': 248, '=Inés=': 249, '=Marianela.=': 250, 'A': 251, 'ABUELA': 252, 'ADVERTENCIA.': 253, 'AFEITES': 254, 'AMOR': 255, 'ANCESTRAL': 256, 'ANGUSTIAS': 257, 'APARIENCIA': 258, 'ARTE': 259, 'Abro': 260, 'Acabada': 261, 'Academia': 262, 'Accedió': 263, 'Aceleré': 264, 'Acepta': 265, 'Aclaremos': 266, 'Aconsejan,': 267, 'Acriollando': 268, 'Acudieron': 269, 'Acumula': 270, 'Adela': 271, 'Además': 272, 'Además,': 273, 'Además.': 274, 'Además...': 275, 'Agrega': 276, 'Agregaremos,': 277, 'Agricultura': 278, 'Agricultura,': 279, 'Agricultura.': 280, 'Agustín': 281, 'Ahora': 282, 'Ahora,': 283, 'Aires': 284, 'Aires!': 285, 'Aires,': 286, 'Aires.': 287, 'Al': 288, 'Alberdi,': 289, 'Alfonso': 290, 'Alguna': 291, 'Algunas': 292, 'Allanémoslos,': 293, 'Allá,': 294, 'Alonso': 295, 'Alpes,': 296, 'Alude': 297, 'Aludiendo': 298, 'Alvear,': 299, 'Alvear;': 300, 'Amable,': 301, 'Ambos': 302, 'América,': 303, 'Anacarsis,': 304, 'Anatole': 305, 'Anchorena,': 306, 'Anda,': 307, 'Andes.': 308, 'Angel,': 309, 'Anita': 310, 'Anita,': 311, 'Anita.': 312, 'Anotados': 313, 'Ante': 314, 'Antes': 315, 'Antes,': 316, 'Anticipémonos': 317, 'Antiguamente': 318, 'Antipas': 319, 'Antipas,': 320, 'Apenas': 321, 'Aquí': 322, 'Aquí,': 323, 'Aragón': 324, 'Argos': 325, 'Aristóteles': 326, 'Arnedillo': 327, 'Arquitecto': 328, 'Arreglará': 329, 'Arregui': 330, 'Arregui,': 331, 'Arturito,': 332, 'Arturo': 333, 'Arturo.': 334, 'Aseguró,': 335, 'Asimismo,': 336, 'Asunción,': 337, 'Así': 338, 'Así,': 339, 'Aunque': 340, 'Austria': 341, 'Austria,': 342, 'Austria.': 343, 'Avellaneda,': 344, 'Avenida': 345, 'Avon': 346, 'Ay,': 347, 'Ayacucho.': 348, 'Ayer': 349, 'Azul»': 350, 'BAUTISTA': 351, 'Babel,': 352, 'Bailábamos': 353, 'Bailé': 354, 'Bajo': 355, 'Balvo,': 356, 'Balza': 357, 'Bancos,': 358, 'Bancos.': 359, 'Barca': 360, 'Barey,': 361, 'Barrientos,': 362, 'Basta': 363, 'Bastará': 364, 'Baste': 365, 'Bautista': 366, 'Bautista,': 367, 'Bebe»,': 368, 'Belgrano,': 369, 'Bella': 370, 'Bellísima': 371, 'Benito,': 372, 'Bergeret)': 373, 'Berlín,': 374, 'Bermejo,': 375, 'Bernadito,': 376, 'Bernardo--;': 377, 'Biblia,': 378, 'Biblia.': 379, 'Bien': 380, 'Bourget,': 381, 'Brasa': 382, 'Brasil.': 383, 'Bromazo': 384, 'Brístol': 385, 'Brístol.': 386, 'Buen': 387, 'Buena': 388, 'Bueno': 389, 'Bueno,': 390, 'Bueno...': 391, 'Bueno:': 392, 'Bueno;': 393, 'Buenos': 394, 'Byron': 395, 'Bélgica': 396, 'Bías,': 397, 'CARPINCHOS»': 398, 'CIPRESES': 399, 'CIPRESES,': 400, 'CROTALOGIA': 401, 'CRÓNICAS': 402, 'Caballero': 403, 'Cada': 404, 'Calculad': 405, 'Calderón': 406, 'Callao': 407, 'Campanilla': 408, 'Campo': 409, 'Caribe': 410, 'Carlitos': 411, 'Carlitos,': 412, 'Carlitos.': 413, 'Carlos': 414, 'Carlos,': 415, 'Carmen': 416, 'Carmencita,': 417, 'Carpinchos?»--«Yo': 418, 'Carpinchos»': 419, 'Carpinchos»,': 420, 'Carpinchos».': 421, 'Catalina»': 422, 'Católicos.': 423, 'Centenario': 424, 'Centenario,': 425, 'Centenario.': 426, 'Central.': 427, 'Chacho': 428, 'Chaco': 429, 'Chaco,': 430, 'Chajales»': 431, 'Chajales»,': 432, 'Chajales».': 433, 'Chamfort': 434, 'Chamfort,': 435, 'Charcas': 436, 'Charcas,': 437, 'Charlemos': 438, 'China,': 439, 'Chuquisaca,': 440, 'Chuquisaca.': 441, 'Cierta': 442, 'Cierto': 443, 'Claro': 444, 'Claro:': 445, 'Claro;': 446, 'Clotilde': 447, 'Clotilde,': 448, 'Clotilde,--una': 449, 'Club.': 450, 'Club?': 451, 'Club».': 452, 'Cobra': 453, 'Colocado': 454, 'Colón,': 455, 'Colón.': 456, 'Combina': 457, 'Comencemos': 458, 'Comentaban': 459, 'Comenzó': 460, 'Comienza': 461, 'Como': 462, 'Comprendo': 463, 'Comprometido': 464, 'Con': 465, 'Confieso': 466, 'Consistía': 467, 'Constitución--no': 468, 'Constitución.': 469, 'Constituyen': 470, 'Continente,': 471, 'Conténtate.': 472, 'Conviene': 473, 'Corre': 474, 'Correos.': 475, 'Corresponde': 476, 'Creador.': 477, 'Cree': 478, 'Cree,': 479, 'Creo': 480, 'Creo,': 481, 'Creso»--añadía': 482, 'Creí': 483, 'Crisóstomo': 484, 'Crisóstomo,': 485, 'Crisóstomo--perdóneme': 486, 'Crotalogia': 487, 'Crotto': 488, 'Crotto.': 489, 'Cruzó': 490, 'Cuando': 491, 'Cuanto': 492, 'Cubierto': 493, 'Cuenta,': 494, 'Cuidado,': 495, 'Cuido': 496, 'Cultiva': 497, 'Cupido': 498, 'Cupido.': 499, 'Cuéntase': 500, 'Cámpora': 501, 'Cámpora,': 502, 'Cámpora.': 503, 'DE': 504, 'DEFENSA': 505, 'DEL': 506, 'DESAVENENCIA': 507, 'DESVENTURA': 508, 'DIABLO': 509, 'Da': 510, 'Daniel': 511, 'Daniel,': 512, 'Daniel;': 513, 'Danubio.': 514, 'Dar': 515, 'De': 516, 'Debajo': 517, 'Debe': 518, 'Debió': 519, 'Debióse': 520, 'Debo': 521, 'Decía': 522, 'Decíamos': 523, 'Deduzco': 524, 'Defecto': 525, 'Del': 526, 'Delepinasse': 527, 'Delille': 528, 'Delille,': 529, 'Dentro': 530, 'Desavenencia': 531, 'Desciendo': 532, 'Descripta': 533, 'Desde': 534, 'Desearía': 535, 'Deseo': 536, 'Deseo,': 537, 'Despréndese': 538, 'Después': 539, 'Después,': 540, 'Detalles': 541, 'Detesto': 542, 'Dice': 543, 'Dicho': 544, 'Diego,': 545, 'Dientes,': 546, 'Dieron': 547, 'Difícil': 548, 'Dimana': 549, 'Dios': 550, 'Dios!--hoy': 551, 'Dios!--le': 552, 'Dios,': 553, 'Dios.': 554, 'Dios»?': 555, 'Director': 556, 'Discurre': 557, 'Divide': 558, 'Divino': 559, 'Divídese': 560, 'Dolorosa': 561, 'Don': 562, 'Donizzeti.': 563, 'Dos': 564, 'Doy': 565, 'Dulzura,': 566, 'Durante': 567, 'Dícenme': 568, 'EL': 569, 'EN': 570, 'ENFERMA': 571, 'ESQUILÓN': 572, 'ESTAR': 573, 'Ebro': 574, 'Ebro,': 575, 'Ebro--fueron': 576, 'Ebros': 577, 'Ebros--descendientes,': 578, 'Eclesiastés': 579, 'Edad': 580, 'Edgard': 581, 'Efectivamente,': 582, 'Ejemplos:': 583, 'El': 584, 'Elena,': 585, 'Eleuterio': 586, 'Eleuterio,': 587, 'Eleuterio.': 588, 'Eleuterio:': 589, 'Ella': 590, 'Ella,': 591, 'Ellas': 592, 'Ello': 593, 'Ellos,': 594, 'El».': 595, 'Emilion»': 596, 'Empieza': 597, 'En': 598, 'Enrique,': 599, 'Enriquito,': 600, 'Entonces': 601, 'Entrarían': 602, 'Entre': 603, 'Entretanto,': 604, 'Entré': 605, 'Epaminondas': 606, 'Epaminondas,': 607, 'Epsom,': 608, 'Era': 609, 'Eran': 610, 'Eres': 611, 'Ernesto': 612, 'Ernesto,': 613, 'Es': 614, 'Escribo': 615, 'Esos': 616, 'España': 617, 'España,': 618, 'España.': 619, 'Espero': 620, 'Esquilón': 621, 'Esquilón,': 622, 'Esquilón--;': 623, 'Esquilón--la': 624, 'Esquilón.': 625, 'Esquilón.--Dió': 626, 'Esquilón;': 627, 'Esquilón;--pero': 628, 'Esquilón;--que': 629, 'Esta': 630, 'Estaba': 631, 'Estado': 632, 'Estado,': 633, 'Estado.': 634, 'Estado?': 635, 'Estados': 636, 'Estando': 637, 'Este': 638, 'Estefanía,': 639, 'Esto': 640, 'Esto,': 641, 'Estocolmo.': 642, 'Estos': 643, 'Estoy': 644, 'Estuve': 645, 'Está': 646, 'Estábamos': 647, 'Están': 648, 'Europa': 649, 'Europa,': 650, 'Europa.': 651, 'Evangelio:': 652, 'Evaristo': 653, 'Evaristo,': 654, 'Evaristo.': 655, 'Evaristo;': 656, 'Evoqué': 657, 'Existe': 658, 'Expliquemos': 659, 'Ezequiel': 660, 'FIESTA': 661, 'FRIVOLIDAD': 662, 'Facilísimo': 663, 'Facultad;': 664, 'Facultades': 665, 'Facundo': 666, 'Falta': 667, 'Felizmente': 668, 'Felizmente,': 669, 'Fidias,': 670, 'Figúrate': 671, 'Figúrate;': 672, 'Fijaros': 673, 'Filipo.': 674, 'Florencio': 675, 'Florencio,': 676, 'Florencio.': 677, 'Flores': 678, 'Florida,': 679, 'Fortuna,': 680, 'Forzados': 681, 'France': 682, 'Francesa,': 683, 'Francia,': 684, 'Francia.': 685, 'Francisco': 686, 'Franklin': 687, 'Franklin,': 688, 'Frecuentemente': 689, 'Frecuentemente,': 690, 'Frivolidad': 691, 'Fue': 692, 'Fulana': 693, 'Fulana».': 694, 'Fulano': 695, 'Fulano,': 696, 'Fulano».': 697, 'Fuí': 698, 'GANCHO': 699, 'GUERRA': 700, 'Gaboto.': 701, 'Galdós,': 702, 'Gallo,': 703, 'Gancho': 704, 'Garaizábal.': 705, 'García': 706, 'Gastamos': 707, 'Gastan': 708, 'Generalmente': 709, 'Generalmente,': 710, 'González.': 711, 'Gracias': 712, 'Gran': 713, 'Grandes': 714, 'Grecia': 715, 'Grecia,': 716, 'Gutiérrez.': 717, 'Gámpora,': 718, 'Gómez': 719, 'Gómez,': 720, 'Gústanme': 721, 'Güemes': 722, 'Güemes;': 723, 'Ha': 724, 'Habla': 725, 'Hablaré': 726, 'Hablé': 727, 'Habría': 728, 'Había': 729, 'Hace': 730, 'Hacienda': 731, 'Hacía': 732, 'Hago': 733, 'Han': 734, 'Hartas': 735, 'Hasta': 736, 'Hay': 737, 'Hay,': 738, 'Hazla': 739, 'He': 740, 'Hemos': 741, 'Herodes': 742, 'Herodías': 743, 'Herodías,': 744, 'Hijita,': 745, 'Hindenburg,': 746, 'Historia,': 747, 'Hizo': 748, 'Hoy': 749, 'Hubiera': 750, 'Hubo': 751, 'Hugo,': 752, 'Huid': 753, 'Hungría': 754, 'HÍPICA': 755, 'Hícela': 756, 'I...': 757, 'III,': 758, 'INDICE': 759, 'INES': 760, 'INQUIETUDES': 761, 'INUTILIDAD': 762, 'Iglesia': 763, 'Iglesia,': 764, 'Ignora': 765, 'Ignoro': 766, 'Ilusiones...': 767, 'Imaginar': 768, 'Imagínese': 769, 'Indalecio»--añadió,': 770, 'Independencia,': 771, 'Indias.': 772, 'Indudablemente,': 773, 'Inesilla': 774, 'Inesilla,': 775, 'Inesilla--ya': 776, 'Inesita': 777, 'Inesita,': 778, 'Inesita.': 779, 'Inesita:': 780, 'Inglaterra': 781, 'Inglaterra,': 782, 'Instrucción': 783, 'Intendente.': 784, 'Intrigas,': 785, 'Invitada': 786, 'Invitas': 787, 'Invité': 788, 'Inés': 789, 'Inés!': 790, 'Inés,': 791, 'Inútil': 792, 'Inútiles': 793, 'Iré': 794, 'Isabel': 795, 'Isabel.': 796, 'Itálica': 797, 'JUAN': 798, 'Jaime,': 799, 'Jamás': 800, 'Jamás,': 801, 'Joaquín,': 802, 'Jockey': 803, 'Jockey!': 804, 'Jockey!...': 805, 'Jockey,': 806, 'Jockey.': 807, 'Jockey:': 808, 'Jockey;': 809, 'Jockey?': 810, 'Jordan': 811, 'Jordán': 812, 'Jordán,': 813, 'Jorge': 814, 'Jorge,': 815, 'Jorge--es': 816, 'Jorge--quién': 817, 'Jorge--ya': 818, 'Jorgito': 819, 'Jorgito,': 820, 'Jorgito.': 821, 'Josefina': 822, 'Joven,': 823, 'Juan': 824, 'Juan,': 825, 'Juan:': 826, 'Julia': 827, 'Julieta,': 828, 'Julieta.': 829, 'Junto': 830, 'Justiniano,': 831, 'Juzgará': 832, 'Kant)': 833, 'Keble,': 834, 'L.': 835, 'LA': 836, 'LAS': 837, 'LOS': 838, 'LUISA': 839, 'La': 840, 'Lanzáronse': 841, 'Las': 842, 'Le': 843, 'Leo': 844, 'Leo:': 845, 'Leroy-Boulieau.': 846, 'Les': 847, 'Levantamos': 848, 'Levantarse': 849, 'Levantó': 850, 'Leyó:': 851, 'Lima': 852, 'Lima,': 853, 'Limbo,': 854, 'Limbo.': 855, 'Lisandro': 856, 'Lisandro,': 857, 'Llega': 858, 'Llegaban': 859, 'Llegaron': 860, 'Llevan': 861, 'Lloré...': 862, 'Llovieron': 863, 'Llámales': 864, 'Lo': 865, 'Lohengrin.': 866, 'Londres': 867, 'Londres,': 868, 'Londres.': 869, 'Longchamps': 870, 'Lope': 871, 'Los': 872, 'Lucía': 873, 'Lucía,': 874, 'Lucía?': 875, 'Luego': 876, 'Luego,': 877, 'Luis': 878, 'Luisa': 879, 'Luisa,': 880, 'Luisa.': 881, 'Luisita': 882, 'Luisita,': 883, 'Luisita.': 884, 'Luisita:': 885, 'Luisita;': 886, 'Lástima': 887, 'MAR': 888, 'MARIANELA': 889, 'MATRIMONIO': 890, 'MI': 891, 'MODA': 892, 'MURMURACION': 893, 'Madame': 894, 'Maldigo': 895, 'Mamá': 896, 'Mamá--ya': 897, 'Mar': 898, 'Margarita': 899, 'Margarita,': 900, 'Margarita.': 901, 'Margarita.--Además,': 902, 'Marianela': 903, 'Marianela!': 904, 'Marianela!--;': 905, 'Marianela,': 906, 'Marianela.': 907, 'Marianela:': 908, 'Marianela;': 909, 'Marianela?': 910, 'Maris.': 911, 'Martín': 912, 'Martínez': 913, 'Martínez,': 914, 'María': 915, 'Mas,': 916, 'Matilde,': 917, 'Me': 918, 'Media': 919, 'Mediterráneo': 920, 'Melchora': 921, 'Melchora!': 922, 'Melchora,': 923, 'Melchora.': 924, 'Melchora...': 925, 'Melchora:': 926, 'Melchora?...': 927, 'Mendoza,': 928, 'Mendoza.': 929, 'Merece': 930, 'Metastasio': 931, 'Metternich': 932, 'Mi': 933, 'Mientras': 934, 'Miguel': 935, 'Ministro': 936, 'Mira': 937, 'Miranda,': 938, 'Mirándola.': 939, 'Mis': 940, 'Misia': 941, 'Misiones,': 942, 'Misterio.': 943, 'Moral': 944, 'Moral,': 945, 'Moral.': 946, 'Moratín,': 947, 'Muchas': 948, 'Muchos': 949, 'Mugaburu': 950, 'Muy': 951, 'Márcos': 952, 'Más': 953, 'Méjico': 954, 'Méjico,': 955, 'NIÑAS': 956, 'NO': 957, 'Nada': 958, 'Nada,': 959, 'Nadan': 960, 'Nadie': 961, 'Napoleón,': 962, 'Napoleón.': 963, 'Narciso».': 964, 'Naturaleza': 965, 'Naturaleza,': 966, 'Naturaleza.': 967, 'Naturaleza»,': 968, 'Naturaleza»:': 969, 'Necesitamos': 970, 'Negra,': 971, 'Negra»,': 972, 'Negro,': 973, 'Neker,': 974, 'Ni': 975, 'Ninguna': 976, 'Ninguno,': 977, 'Ningún': 978, 'Ninón,': 979, 'No': 980, 'No,': 981, 'Norte': 982, 'Norte,': 983, 'Nos': 984, 'Nosotras,': 985, 'Nosotros': 986, 'Notorio': 987, 'Notábase': 988, 'Nuestra': 989, 'Nuestras': 990, 'Nuestro': 991, 'Nuestros': 992, 'Nuez': 993, 'Nuezvana': 994, 'Nuezvana!': 995, 'Nuezvana,': 996, 'Nuezvana.': 997, 'Nuezvana?': 998, 'Nuezvanas': 999, 'Nuezvanas,': 1000, 'Nuezvanas.': 1001, 'Nunca': 1002, 'Nutrido': 1003, 'Nájera,': 1004, 'O': 1005, 'ORGULLO': 1006, 'Observara': 1007, 'Ocurre,': 1008, 'Oidor': 1009, 'Olvidemos': 1010, 'Opera.': 1011, 'Opina': 1012, 'Optimo,': 1013, 'Ordenar': 1014, 'Ordeno': 1015, 'Otras': 1016, 'Otro': 1017, 'Oye,': 1018, 'P.': 1019, 'PACES': 1020, 'PEQUEÑA': 1021, 'PETRONA': 1022, 'PLATA': 1023, 'PRENSA\"': 1024, 'PRESENTACIÓN': 1025, 'PRESIDENTA': 1026, 'PROTEGIDA': 1027, 'Pag.': 1028, 'Pagas': 1029, 'Palabras': 1030, 'Palermo': 1031, 'Palermo,': 1032, 'Palermo.': 1033, 'Palma': 1034, 'Pampa': 1035, 'Pampa,': 1036, 'Papá': 1037, 'Para': 1038, 'Paraguay': 1039, 'Parece': 1040, 'Parque,': 1041, 'Parque.': 1042, 'París': 1043, 'Pasa': 1044, 'Pascal': 1045, 'Pascal:': 1046, 'Paseando': 1047, 'Pasó': 1048, 'Payo': 1049, 'Payo.': 1050, 'Paz': 1051, 'Paz,': 1052, 'Pedrito': 1053, 'Pedrito,': 1054, 'Pedrito.': 1055, 'Pedrito:': 1056, 'Pedro': 1057, 'Pedro,': 1058, 'Pedí': 1059, 'Pellegrini.': 1060, 'Pensando,': 1061, 'Pepa!».': 1062, 'Pepa,': 1063, 'Pepa.': 1064, 'Pequeña': 1065, 'Perdió': 1066, 'Perdona': 1067, 'Periandro,': 1068, 'Pero': 1069, 'Pero,': 1070, 'Pero...': 1071, 'Pertenece': 1072, 'Perú,': 1073, 'Petrona': 1074, 'Petrona!--exclama': 1075, 'Petrona,': 1076, 'Petrona,--cuando': 1077, 'Petrona--cuando,': 1078, 'Petrona--siempre': 1079, 'Petrona--todo': 1080, 'Petrona.': 1081, 'Petrona.--Luego,': 1082, 'Petrona.--Pero': 1083, 'Petrona.--elemento': 1084, 'Petrona...': 1085, 'Petrona:': 1086, 'Petrona;': 1087, 'Petrona;--así': 1088, 'Petrona».': 1089, 'Petronila': 1090, 'Petronila,': 1091, 'Peña': 1092, 'Peña!': 1093, 'Pilar': 1094, 'Pilar,': 1095, 'Pirineos,': 1096, 'Pitaco,': 1097, 'Plata': 1098, 'Plata!': 1099, 'Plata.': 1100, 'Plata?': 1101, 'Plinio': 1102, 'Plinio,': 1103, 'Pocas': 1104, 'Poco': 1105, 'Podríamos': 1106, 'Poe': 1107, 'Polichinela.': 1108, 'Pompadour.': 1109, 'Pon': 1110, 'Ponce': 1111, 'Ponces': 1112, 'Ponson': 1113, 'Por': 1114, 'Porque': 1115, 'Porque,': 1116, 'Posado': 1117, 'Precisamente': 1118, 'Prensa»,': 1119, 'Preparado': 1120, 'Presentación': 1121, 'Presidente': 1122, 'Presidente,': 1123, 'Presidente».': 1124, 'Probablemente': 1125, 'Proceden': 1126, 'Providencia': 1127, 'Providencia.': 1128, 'Puede': 1129, 'Pues': 1130, 'Pues,': 1131, 'Pueyrredón,': 1132, 'Pulido': 1133, 'Pulido,': 1134, 'Pulido.': 1135, 'Puntualicemos': 1136, 'Pérez': 1137, 'Pérez,': 1138, 'Pública.': 1139, 'Que': 1140, 'Queda': 1141, 'Quedamos,': 1142, 'Quedarse': 1143, 'Quede': 1144, 'Quedéme': 1145, 'Quedóse': 1146, 'Queridísima': 1147, 'Quería': 1148, 'Quien': 1149, 'Quiero': 1150, 'Quiero,': 1151, 'Quijote': 1152, 'Quilón,': 1153, 'Quintana,': 1154, 'Quiroga.': 1155, 'Quizá': 1156, 'REINAS': 1157, 'REY': 1158, 'ROSALIA': 1159, 'Rawson,': 1160, 'Raúl': 1161, 'Raúl,': 1162, 'Raúl.': 1163, 'Raúl...': 1164, 'Reclamo': 1165, 'Reconozco': 1166, 'Recordarán': 1167, 'Reflexiona': 1168, 'Reflexionad': 1169, 'República': 1170, 'República,': 1171, 'Respecto': 1172, 'Respiramos...': 1173, 'Resultará': 1174, 'Resumen': 1175, 'Revolución': 1176, 'Revolución,': 1177, 'Reyes': 1178, 'Ricardo': 1179, 'Ricardo,': 1180, 'Ricardo--me': 1181, 'Ricardo--nos': 1182, 'Ricardo.': 1183, 'Ricardo:': 1184, 'Ricardo?': 1185, 'Ricardín': 1186, 'Rivadavia,': 1187, 'Roberto,': 1188, 'Roca': 1189, 'Rodríguez': 1190, 'Rodríguez,': 1191, 'Rolando,': 1192, 'Roma': 1193, 'Roma,': 1194, 'Roma.': 1195, 'Romeo': 1196, 'Roncesvalles': 1197, 'Roque...!--exclama': 1198, 'Roqué?': 1199, 'Rosa': 1200, 'Rosalía': 1201, 'Rosalía,': 1202, 'Rosalía...»': 1203, 'Rosalía:': 1204, 'Rosalía;': 1205, 'Rosario...': 1206, 'Rostand;': 1207, 'Roto': 1208, 'Rubens,': 1209, 'Rumores': 1210, 'Rusia,': 1211, 'Río': 1212, 'Río,': 1213, 'SAN': 1214, 'SECRETOS': 1215, 'SIN': 1216, 'SOCIEDAD': 1217, 'SU': 1218, 'Sabe': 1219, 'Saber': 1220, 'Sabido': 1221, 'Sales:': 1222, 'Saliendo': 1223, 'Salomé': 1224, 'Salomé,': 1225, 'Salomé.': 1226, 'Salomón,': 1227, 'San': 1228, 'Santa': 1229, 'Sarmiento,': 1230, 'Sarmiento.': 1231, 'Schiller,': 1232, 'Schopenhauer': 1233, 'Se': 1234, 'Seamos': 1235, 'Sean': 1236, 'Seducidos': 1237, 'Seductora': 1238, 'Seguramente': 1239, 'Según': 1240, 'Selva': 1241, 'Sería': 1242, 'Señor': 1243, 'Señora': 1244, 'Shakespeare': 1245, 'Shakespeare.': 1246, 'Si': 1247, 'Siberia,': 1248, 'Siempre': 1249, 'Siempre,': 1250, 'Siento': 1251, 'Sigue,': 1252, 'Sigue...': 1253, 'Sin': 1254, 'Sirve': 1255, 'Siéntate': 1256, 'Sobre': 1257, 'Sociedad': 1258, 'Socorro,': 1259, 'Sofanor': 1260, 'Sofía?': 1261, 'Sol.': 1262, 'Sometido': 1263, 'Son': 1264, 'Son,': 1265, 'Sosiégate,': 1266, 'Stella': 1267, 'Strauss,': 1268, 'Su': 1269, 'Suele': 1270, 'Suele,': 1271, 'Suelen': 1272, 'Sufro': 1273, 'Sufrí': 1274, 'Sugerir': 1275, 'Supremo,': 1276, 'Suprimid': 1277, 'Sur': 1278, 'Sur.': 1279, 'Sus': 1280, 'Sylva,': 1281, 'Sáenz': 1282, 'Sársfield,': 1283, 'Séneca.': 1284, 'Sér': 1285, 'Sí,': 1286, 'Sócrates': 1287, 'Sócrates,': 1288, 'Sólo': 1289, 'TILINGUISMO': 1290, 'TRASCENDENTAL': 1291, 'Tales': 1292, 'Tales,': 1293, 'Talleyrand,': 1294, 'Tamagno.': 1295, 'También': 1296, 'Tampoco': 1297, 'Tampoco,': 1298, 'Tan': 1299, 'Tanto,': 1300, 'Te': 1301, 'Tendremos': 1302, 'Tendría': 1303, 'Tenemos': 1304, 'Tengo': 1305, 'Terencio,': 1306, 'Teresa,': 1307, 'Termino.': 1308, 'Terrail».': 1309, 'Tiembla': 1310, 'Tiendo': 1311, 'Tiene': 1312, 'Tito»,': 1313, 'Toda': 1314, 'Todas': 1315, 'Todo': 1316, 'Todo,': 1317, 'Todos': 1318, 'Tomamos': 1319, 'Tomé': 1320, 'Torbellino,': 1321, 'Tornemos': 1322, 'Torrebaja,': 1323, 'Total:': 1324, 'Trajano': 1325, 'Trajano,': 1326, 'Trajano»': 1327, 'Trato': 1328, 'Troya': 1329, 'Trátase,': 1330, 'Tu': 1331, 'Tuerto»,': 1332, 'Téngase': 1333, 'Tú': 1334, 'Un': 1335, 'Una': 1336, 'Uno': 1337, 'Unos': 1338, 'Urgían': 1339, 'Uruguay,': 1340, 'Usan': 1341, 'Usarse': 1342, 'Usáronse': 1343, 'Usémosla': 1344, 'V': 1345, 'V.': 1346, 'VA': 1347, 'VIUDA': 1348, 'Va': 1349, 'Vacilé;': 1350, 'Vale': 1351, 'Vamos': 1352, 'Van': 1353, 'Varias': 1354, 'Vega,': 1355, 'Venus': 1356, 'Vera': 1357, 'Verdad': 1358, 'Versalles': 1359, 'Versalles,': 1360, 'Verás...': 1361, 'Vi': 1362, 'Victorino': 1363, 'Victorino,': 1364, 'Victorino.': 1365, 'Vienes': 1366, 'Vinieron': 1367, 'Vino': 1368, 'Virgen': 1369, 'Virgilio.': 1370, 'Visto': 1371, 'Viven': 1372, 'Vivir': 1373, 'Voltaire,': 1374, 'Volvamos': 1375, 'Vuelan': 1376, 'Vuelve': 1377, 'Vélez': 1378, 'Víctor': 1379, 'Washington,': 1380, 'Werther,': 1381, 'Wáshington': 1382, 'XIV.': 1383, 'XVIII': 1384, 'Y': 1385, 'Y,': 1386, 'Ya': 1387, 'Yo': 1388, 'Yo,': 1389, 'Zaragoza.': 1390, 'Zubiaurre': 1391, 'Zubizarrendo,': 1392, 'Zutano,': 1393, 'a': 1394, 'abajo': 1395, 'abajo,': 1396, 'abandona,': 1397, 'abandona.': 1398, 'abandona...': 1399, 'abandonada': 1400, 'abandonada.': 1401, 'abandonar': 1402, 'abandona».': 1403, 'abandonemos': 1404, 'abandono': 1405, 'abandonó': 1406, 'abarca': 1407, 'abarcando': 1408, 'abastecedor': 1409, 'abate': 1410, 'abatido,': 1411, 'abatiendo': 1412, 'abeja': 1413, 'aberración': 1414, 'abierta.': 1415, 'abierto,': 1416, 'abiertos,': 1417, 'abismos': 1418, 'abismático,': 1419, 'ablandar': 1420, 'ablución': 1421, 'abogado,': 1422, 'abolengo': 1423, 'abolengo,': 1424, 'abolición,': 1425, 'abraza': 1426, 'abrazada': 1427, 'abrazo': 1428, 'abrazo,': 1429, 'abrazo--el': 1430, 'abrazo.': 1431, 'abrazo.--=Marianela=.': 1432, 'abrazo.--=Rosalía=.»': 1433, 'abrazo:': 1434, 'abrazos': 1435, 'abrazó': 1436, 'abre': 1437, 'abrigara': 1438, 'abrigo': 1439, 'abrigo.': 1440, 'abrillantarlo,': 1441, 'abrir': 1442, 'abrirlos': 1443, 'abrirse': 1444, 'abrió': 1445, 'abrumador': 1446, 'abrumadora.': 1447, 'abrí': 1448, 'absoluta': 1449, 'absoluta,': 1450, 'absoluta.': 1451, 'absolutamente': 1452, 'absoluto': 1453, 'absoluto.': 1454, 'absolverlos': 1455, 'absorbente,': 1456, 'abstención.': 1457, 'abstenido?': 1458, 'abstracto.': 1459, 'absurda': 1460, 'absurdo': 1461, 'absurdo,': 1462, 'absurdo.': 1463, 'abuela': 1464, 'abuela,': 1465, 'abuela;': 1466, 'abuelas': 1467, 'abuelas.': 1468, 'abuelo,': 1469, 'abuelos': 1470, 'abultarlo': 1471, 'abundancia,': 1472, 'abundante': 1473, 'abundante,': 1474, 'abundantes': 1475, 'aburres,': 1476, 'aburrida': 1477, 'aburrida,': 1478, 'aburridoras.': 1479, 'aburridísima': 1480, 'aburriste': 1481, 'aburro--le': 1482, 'aburría': 1483, 'abusa': 1484, 'abusado': 1485, 'abusar;': 1486, 'abuso': 1487, 'abúlicos,': 1488, 'acaba': 1489, 'acaba.': 1490, 'acabada': 1491, 'acaban': 1492, 'acabando': 1493, 'acabar,': 1494, 'acabar.': 1495, 'acabaron': 1496, 'acabará': 1497, 'acabarán': 1498, 'acabarás': 1499, 'acabaríamos': 1500, 'acabe': 1501, 'acaben': 1502, 'acabo': 1503, 'acabó': 1504, 'acabó!': 1505, 'académicos': 1506, 'acallar': 1507, 'acaricio': 1508, 'acarrean': 1509, 'acaso': 1510, 'accedí': 1511, 'accesorio.': 1512, 'accidente,': 1513, 'accidentes': 1514, 'accidentes,': 1515, 'acciones': 1516, 'acciones,': 1517, 'acción': 1518, 'acción.': 1519, 'acentuar': 1520, 'acepta': 1521, 'aceptable,': 1522, 'aceptación,': 1523, 'aceptado,': 1524, 'aceptando': 1525, 'aceptar': 1526, 'aceptará': 1527, 'aceptaría': 1528, 'acepte': 1529, 'aceptó,': 1530, 'acera': 1531, 'acerca': 1532, 'acercarlos': 1533, 'acercarse': 1534, 'acercándonos': 1535, 'acero.': 1536, 'acerqué,': 1537, 'acertada,': 1538, 'acertado': 1539, 'achaques,': 1540, 'acierta': 1541, 'aciertan': 1542, 'acierto': 1543, 'acierto,': 1544, 'acierto.': 1545, 'aclara': 1546, 'aclarado': 1547, 'aclarará,': 1548, 'acometida': 1549, 'acompasadamente,': 1550, 'acompaña': 1551, 'acompañaras': 1552, 'acompañará': 1553, 'acompañe': 1554, 'acompañó': 1555, 'acongojada': 1556, 'aconseja': 1557, 'aconsejé': 1558, 'acordé': 1559, 'acostar.': 1560, 'acostumbra': 1561, 'acostumbrada': 1562, 'acotaciones': 1563, 'acrecentado': 1564, 'acrecer': 1565, 'actitud': 1566, 'actitud,': 1567, 'activa': 1568, 'actividad': 1569, 'actividad,': 1570, 'actividad.': 1571, 'actividades': 1572, 'acto': 1573, 'actores': 1574, 'actos': 1575, 'actriz,': 1576, 'actual': 1577, 'actuar': 1578, 'acuerda': 1579, 'acuerdo': 1580, 'acuerdo,': 1581, 'acumule': 1582, 'acusaciones': 1583, 'acusar': 1584, 'acuse': 1585, 'adagio': 1586, 'adagio,': 1587, 'adefesios': 1588, 'adelantados,': 1589, 'adelante.': 1590, 'ademanes': 1591, 'además': 1592, 'además,': 1593, 'adentro': 1594, 'adereza': 1595, 'aderezador': 1596, 'aderezador?': 1597, 'adhesión': 1598, 'adhesión,': 1599, 'adhesión;': 1600, 'aditamento': 1601, 'adivinaba': 1602, 'adivinado': 1603, 'adiós,': 1604, 'adiós...!': 1605, 'adjetivos': 1606, 'adjunto': 1607, 'administrador': 1608, 'admirable': 1609, 'admirable,': 1610, 'admirablemente,': 1611, 'admirablemente.': 1612, 'admirablemente;': 1613, 'admirables.': 1614, 'admiración': 1615, 'admirando': 1616, 'admite': 1617, 'admiten': 1618, 'admitido--nos': 1619, 'admitir': 1620, 'admitirse': 1621, 'adolorido,': 1622, 'adonde': 1623, 'adopción': 1624, 'adopta': 1625, 'adoptado': 1626, 'adoptar': 1627, 'adorable': 1628, 'adorable.': 1629, 'adoración,': 1630, 'adorado': 1631, 'adorar': 1632, 'adorna': 1633, 'adornar': 1634, 'adornarse': 1635, 'adorno': 1636, 'adornos': 1637, 'adquiere': 1638, 'adquieren': 1639, 'adquirida': 1640, 'adquirido': 1641, 'adquiriendo': 1642, 'adquirimos': 1643, 'adquirir': 1644, 'adquirirla.': 1645, 'adquirirla....': 1646, 'adquirían': 1647, 'adquisición': 1648, 'adquisición,': 1649, 'adueñó': 1650, 'adulación': 1651, 'adululación': 1652, 'adversario': 1653, 'adversarios': 1654, 'adverso': 1655, 'adverso,': 1656, 'advertencia,': 1657, 'advertencias': 1658, 'advertimos': 1659, 'advertir': 1660, 'advertí': 1661, 'advertía': 1662, 'advertíase': 1663, 'advierte': 1664, 'advirtiéndose': 1665, 'advirtió': 1666, 'adónde': 1667, 'afanaban': 1668, 'afectada.': 1669, 'afectiva': 1670, 'afecto': 1671, 'afecto,': 1672, 'afecto.': 1673, 'afectos.': 1674, 'afectuoso.': 1675, 'afeite': 1676, 'afeites': 1677, 'afeites!': 1678, 'afeminadas': 1679, 'aferra': 1680, 'aferran': 1681, 'aficionadas': 1682, 'aficionado': 1683, 'aficionado,': 1684, 'aficiones': 1685, 'afición': 1686, 'afina.': 1687, 'afinidad': 1688, 'afinidad,': 1689, 'afirmación': 1690, 'afirmación,': 1691, 'afirmarse': 1692, 'afirmativo': 1693, 'afirmo,': 1694, 'afirmándole': 1695, 'aflicción': 1696, 'aflicción.': 1697, 'aflicción:': 1698, 'aflictivo': 1699, 'aflige': 1700, 'afligida': 1701, 'afligida.': 1702, 'aflijas,': 1703, 'aflijas.': 1704, 'afluencia': 1705, 'aforismo': 1706, 'afrontarlas.': 1707, 'aftosa.': 1708, 'agarran': 1709, 'agente': 1710, 'agigantó': 1711, 'agitan,': 1712, 'agitan.': 1713, 'agobia': 1714, 'agobiado': 1715, 'agobiadoras': 1716, 'agolpaba': 1717, 'agonía.': 1718, 'agotado': 1719, 'agotar': 1720, 'agraciada,': 1721, 'agraciada.': 1722, 'agraciadas': 1723, 'agraciadas,': 1724, 'agrada,': 1725, 'agradable': 1726, 'agradable,': 1727, 'agradable.': 1728, 'agradar': 1729, 'agradecida.': 1730, 'agradecimiento': 1731, 'agradezco': 1732, 'agradándose': 1733, 'agramonteses': 1734, 'agrandarse': 1735, 'agrarias': 1736, 'agrario': 1737, 'agrega': 1738, 'agrega:': 1739, 'agregados': 1740, 'agregados,': 1741, 'agregando,': 1742, 'agregar': 1743, 'agregarnos': 1744, 'agregaré': 1745, 'agrego': 1746, 'agregue': 1747, 'agregué': 1748, 'agregué,': 1749, 'agregó': 1750, 'agregó:': 1751, 'agria,': 1752, 'agricultura': 1753, 'agrio,': 1754, 'agrícola': 1755, 'agrícolas': 1756, 'agrícolas,': 1757, 'agua': 1758, 'agua,': 1759, 'agua;': 1760, 'aguada': 1761, 'aguantaba': 1762, 'aguantar': 1763, 'aguda': 1764, 'agudo': 1765, 'agudo,': 1766, 'aguerrido,': 1767, 'aguijón.': 1768, 'aguja,': 1769, 'agujeritos': 1770, 'aguza': 1771, 'agüero.': 1772, 'ahijada.': 1773, 'ahoga': 1774, 'ahogado': 1775, 'ahora': 1776, 'ahora,': 1777, 'ahora.': 1778, 'ahora...': 1779, 'ahora;': 1780, 'ahorra': 1781, 'ahorradores': 1782, 'ahorradores--apunta': 1783, 'ahorrar': 1784, 'ahorrativo': 1785, 'ahorrativo,': 1786, 'ahuyenta.': 1787, 'ahuyentar': 1788, 'ahí': 1789, 'ahí,': 1790, 'airada.': 1791, 'airadamente': 1792, 'aire': 1793, 'aire,': 1794, 'aire.': 1795, 'airecito': 1796, 'aires': 1797, 'aires;': 1798, 'aislan': 1799, 'ajedrecista.': 1800, 'ajedrez': 1801, 'ajedrez,': 1802, 'ajedrez--que': 1803, 'ajedrez.': 1804, 'ajedrez;': 1805, 'ajena': 1806, 'ajena.': 1807, 'ajenas': 1808, 'ajeno': 1809, 'ajetreo': 1810, 'ajetreo,': 1811, 'ajusta': 1812, 'ajustaba': 1813, 'ajustada': 1814, 'ajustando': 1815, 'ajustaran': 1816, 'al': 1817, 'alaban': 1818, 'alambicada': 1819, 'alambrador': 1820, 'alambrados': 1821, 'alambrados.': 1822, 'alambre': 1823, 'alarma': 1824, 'alarmadísima': 1825, 'alarmante.': 1826, 'alarmaron.': 1827, 'alarmas!': 1828, 'alas': 1829, 'alas.': 1830, 'alba.': 1831, 'alba;': 1832, 'alborota': 1833, 'alborozada,': 1834, 'alborozadas': 1835, 'alborozo': 1836, 'alborozó': 1837, 'alcance': 1838, 'alcanza': 1839, 'alcanzaba': 1840, 'alcanzan': 1841, 'alcanzando': 1842, 'alcanzar': 1843, 'alcázar.': 1844, 'alegrarse,': 1845, 'alegre': 1846, 'alegre,': 1847, 'alegre.': 1848, 'alegremente': 1849, 'alegres,': 1850, 'alegro,': 1851, 'alegría': 1852, 'alegría!': 1853, 'alegría,': 1854, 'alegría.': 1855, 'alegrías': 1856, 'alegrías!': 1857, 'alegrías,': 1858, 'alemana)': 1859, 'alemana,': 1860, 'alemán': 1861, 'alemán»,': 1862, 'alentar': 1863, 'alero': 1864, 'aleros,': 1865, 'aleteo': 1866, 'alfalfa': 1867, 'alfalfadas': 1868, 'alfalfado,': 1869, 'alfalfares': 1870, 'alfiles,': 1871, 'algo': 1872, 'algo,': 1873, 'algo--no': 1874, 'algo.': 1875, 'algo...': 1876, 'alguien': 1877, 'alguien.': 1878, 'alguna': 1879, 'alguna,': 1880, 'alguna;': 1881, 'algunas': 1882, 'alguno': 1883, 'alguno,': 1884, 'algunos': 1885, 'algún': 1886, 'alhajas,': 1887, 'aliado': 1888, 'alicorta': 1889, 'alicorto': 1890, 'alienta': 1891, 'aliento': 1892, 'aligerasen,': 1893, 'alimentar': 1894, 'aliviar': 1895, 'aliña': 1896, 'allanar': 1897, 'allanarte': 1898, 'allegan': 1899, 'allá': 1900, 'allá,': 1901, 'allí': 1902, 'allí,': 1903, 'allí.': 1904, 'alma': 1905, 'alma!--no': 1906, 'alma!...': 1907, 'alma,': 1908, 'alma.': 1909, 'alma:': 1910, 'alma;': 1911, 'almanaque.': 1912, 'almas': 1913, 'almas,': 1914, 'almas--.': 1915, 'almas;': 1916, 'alma».': 1917, 'almendra».': 1918, 'almidonado.': 1919, 'almidón': 1920, 'almidón.': 1921, 'almohadillas': 1922, 'almohadón': 1923, 'almuerza': 1924, 'alquitrán.': 1925, 'alrededor': 1926, 'alta': 1927, 'alta,': 1928, 'altar': 1929, 'altares': 1930, 'altas': 1931, 'altas,': 1932, 'alteración': 1933, 'alterado': 1934, 'alterando': 1935, 'alterar': 1936, 'altercados': 1937, 'alternado': 1938, 'alternar': 1939, 'alternativamente': 1940, 'altivez': 1941, 'altivez,': 1942, 'altivo': 1943, 'altivo.': 1944, 'alto': 1945, 'alto,': 1946, 'alto.': 1947, 'altos': 1948, 'altos,': 1949, 'altruísmo': 1950, 'altura': 1951, 'altura,': 1952, 'altura.': 1953, 'alturas.': 1954, 'altísima': 1955, 'altísimo,': 1956, 'alucinaciones,': 1957, 'alude': 1958, 'aluden': 1959, 'aludiremos': 1960, 'aluvión': 1961, 'alígeros,': 1962, 'ama': 1963, 'ama!);': 1964, 'ama.': 1965, 'amable': 1966, 'amable,': 1967, 'amablemente,': 1968, 'amables': 1969, 'amada.': 1970, 'amado': 1971, 'amados': 1972, 'amagando': 1973, 'amamos': 1974, 'aman': 1975, 'amante': 1976, 'amantísima,': 1977, 'amaparadora': 1978, 'amar': 1979, 'amargo': 1980, 'amarguras...': 1981, 'amarguísimas': 1982, 'amarlas': 1983, 'amarle;': 1984, 'amatorias,': 1985, 'ambas': 1986, 'ambiciones,': 1987, 'ambiciosa': 1988, 'ambiciosa,': 1989, 'ambición': 1990, 'ambiente': 1991, 'ambiente,': 1992, 'ambigú': 1993, 'ambos': 1994, 'amena,': 1995, 'amenas': 1996, 'amenazara': 1997, 'ameno': 1998, 'americanos,': 1999, 'amiga': 2000, 'amiga,': 2001, 'amiga.': 2002, 'amiga:': 2003, 'amiga;': 2004, 'amigas': 2005, 'amigas.': 2006, 'amigo': 2007, 'amigo,': 2008, 'amigo.': 2009, 'amigo?»': 2010, 'amigos': 2011, 'amigos,': 2012, 'amigos.': 2013, 'amigos...': 2014, 'amigos».': 2015, 'amistad': 2016, 'amistad,': 2017, 'amistades': 2018, 'amo!»,': 2019, 'amo!».': 2020, 'amonedado': 2021, 'amor': 2022, 'amor,': 2023, 'amor.': 2024, 'amor;': 2025, 'amor?': 2026, 'amores': 2027, 'amores,': 2028, 'amorosa': 2029, 'amorosa.': 2030, 'amorosa:': 2031, 'amorosas': 2032, 'amoroso': 2033, 'amoroso,': 2034, 'amoroso.': 2035, 'amostazada;': 2036, 'amplia': 2037, 'amplios': 2038, 'amplitud': 2039, 'ampuloso': 2040, 'anales': 2041, 'analizada,': 2042, 'analizado,': 2043, 'analizan': 2044, 'analítica.': 2045, 'analíticas': 2046, 'anaquel,': 2047, 'anarquizada': 2048, 'ancestral': 2049, 'ancla': 2050, 'anda': 2051, 'andaba': 2052, 'andaban': 2053, 'andamos': 2054, 'andan': 2055, 'andando': 2056, 'andando,': 2057, 'andando.': 2058, 'andar': 2059, 'andar,': 2060, 'andariega': 2061, 'andaría': 2062, 'andarían': 2063, 'anexo,': 2064, 'angelito,': 2065, 'angelones': 2066, 'angustia': 2067, 'angustia!': 2068, 'angustias': 2069, 'angustias,': 2070, 'angustiosa.': 2071, 'anhela,': 2072, 'anhelada': 2073, 'anhelaron': 2074, 'anhelo': 2075, 'anhelos': 2076, 'anhelos,': 2077, 'anima': 2078, 'animada,': 2079, 'animales': 2080, 'animales,': 2081, 'animalitos,': 2082, 'animarla:': 2083, 'animaré': 2084, 'animo': 2085, 'animosa': 2086, 'anoche.': 2087, 'anonada': 2088, 'anota': 2089, 'anotaciones.': 2090, 'anotación': 2091, 'ansiedad,': 2092, 'ansiedades,': 2093, 'ante': 2094, 'antediluviano,': 2095, 'antemano;': 2096, 'antepasado.': 2097, 'antepasados.': 2098, 'anterior': 2099, 'anterior,': 2100, 'anterior.': 2101, 'anteriores': 2102, 'anteriores,': 2103, 'anteriores--alcanzaron': 2104, 'antes': 2105, 'antes.': 2106, 'anticipar': 2107, 'anticipará': 2108, 'anticipo': 2109, 'anticipó': 2110, 'antigua': 2111, 'antigua,': 2112, 'antiguas': 2113, 'antiguo': 2114, 'antiguo.': 2115, 'antiguos': 2116, 'antojo': 2117, 'antípodas,': 2118, 'anualmente': 2119, 'anuncio': 2120, 'anzuelo': 2121, 'análisis': 2122, 'análisis.': 2123, 'anárquica': 2124, 'anécdotas': 2125, 'apabullarle': 2126, 'apaciblemente,': 2127, 'apaciguar': 2128, 'apadrina': 2129, 'apaga': 2130, 'apagado': 2131, 'apagados': 2132, 'apagar': 2133, 'aparato.': 2134, 'aparatosa,': 2135, 'aparece': 2136, 'aparecen': 2137, 'apareció': 2138, 'aparentar': 2139, 'aparezcan': 2140, 'aparición': 2141, 'apariencia': 2142, 'apariencia,': 2143, 'apariencia.': 2144, 'apartados,': 2145, 'aparte': 2146, 'aparte.': 2147, 'aparte:': 2148, 'apasiona': 2149, 'apasionado,': 2150, 'apasionado.': 2151, 'apasionadísimo...': 2152, 'apañó,': 2153, 'apegadas': 2154, 'apelación': 2155, 'apellido': 2156, 'apellido,': 2157, 'apellido.': 2158, 'apellido;': 2159, 'apellidos': 2160, 'apellidos,': 2161, 'apellidos.': 2162, 'apelmaza': 2163, 'apelmazada,': 2164, 'apelmazado,': 2165, 'apenado': 2166, 'apenas': 2167, 'apetecible': 2168, 'aplanaba': 2169, 'aplanado;': 2170, 'aplauso': 2171, 'aplausos,': 2172, 'aplica': 2173, 'aplicaba': 2174, 'aplicadas,': 2175, 'aplicado': 2176, 'aplicar': 2177, 'aplicarle': 2178, 'apliqué': 2179, 'apocado.': 2180, 'apodera': 2181, 'apoderarse': 2182, 'apoderarte': 2183, 'apodos': 2184, 'apología': 2185, 'apologías': 2186, 'apoyado': 2187, 'apoyo': 2188, 'apoyándonos': 2189, 'apreciar': 2190, 'aprende': 2191, 'aprender': 2192, 'aprendía': 2193, 'apretada,': 2194, 'apretadamente': 2195, 'apretado': 2196, 'apreturas': 2197, 'aprieto': 2198, 'aprisionar': 2199, 'aprobatoria': 2200, 'apropiada': 2201, 'apropiadas': 2202, 'apropiados': 2203, 'aprovechamiento': 2204, 'aprovechó': 2205, 'aproximen': 2206, 'apruebas': 2207, 'aptitud': 2208, 'aptitudes': 2209, 'apunta': 2210, 'apuntalamientos,': 2211, 'apuntes': 2212, 'apures,': 2213, 'apuros': 2214, 'apuros!': 2215, 'aquel': 2216, 'aquella': 2217, 'aquellas': 2218, 'aquello': 2219, 'aquello.': 2220, 'aquellos': 2221, 'aquiescencia,': 2222, 'aquiescencia.': 2223, 'aquél': 2224, 'aquéllas...': 2225, 'aquéllos': 2226, 'aquí': 2227, 'aquí,': 2228, 'aquí--volviendo': 2229, 'aquí.': 2230, 'arados': 2231, 'arbitrarios.': 2232, 'arbitrios': 2233, 'arboladura': 2234, 'arcano': 2235, 'archiduques': 2236, 'archiduquesas,': 2237, 'archimillonaria.': 2238, 'arco': 2239, 'arcos': 2240, 'arde': 2241, 'arden': 2242, 'ardiente': 2243, 'ardiente,': 2244, 'ardientes,': 2245, 'ardite': 2246, 'ardor': 2247, 'ardua': 2248, 'arduo': 2249, 'arduos': 2250, 'argentina': 2251, 'argentina,': 2252, 'argentino': 2253, 'argentino.': 2254, 'argentinos,': 2255, 'argumento--uno': 2256, 'argumentos:': 2257, 'aria': 2258, 'aridez': 2259, 'aristocracia': 2260, 'aristocracia,': 2261, 'aristocracia.': 2262, 'aristocratismo': 2263, 'aristocrático,': 2264, 'aristocrático?': 2265, 'aristocráticos': 2266, 'aristócrata': 2267, 'aristócrata.': 2268, 'aristócratas': 2269, 'armada': 2270, 'armado,': 2271, 'armarios': 2272, 'armas': 2273, 'armazón': 2274, 'armisticio,': 2275, 'armisticio.': 2276, 'armisticios': 2277, 'armonicen,': 2278, 'armonioso,': 2279, 'armonioso:': 2280, 'armoniza': 2281, 'armonía': 2282, 'armonía,': 2283, 'armonía;': 2284, 'armónicamente': 2285, 'armónicas': 2286, 'arpa': 2287, 'arquetipo': 2288, 'arquitectura': 2289, 'arraigada': 2290, 'arraigan': 2291, 'arraigará': 2292, 'arraigo': 2293, 'arranca': 2294, 'arrancará': 2295, 'arrancó': 2296, 'arranque': 2297, 'arranque,': 2298, 'arrebatados': 2299, 'arrebatan': 2300, 'arrebatos': 2301, 'arrecida,': 2302, 'arregla': 2303, 'arregla,': 2304, 'arreglaba.': 2305, 'arregladas;': 2306, 'arreglado': 2307, 'arreglado,': 2308, 'arreglado».': 2309, 'arreglar': 2310, 'arreglar.': 2311, 'arreglarse,': 2312, 'arreglará--repito,': 2313, 'arreglaría': 2314, 'arreglemos': 2315, 'arreglo': 2316, 'arreglos,': 2317, 'arreglándose': 2318, 'arregló': 2319, 'arribar': 2320, 'arrimados': 2321, 'arrobamiento': 2322, 'arrobamientos,': 2323, 'arrojarse': 2324, 'arroyuelos,': 2325, 'arrugas': 2326, 'arte': 2327, 'arte,': 2328, 'arte.': 2329, 'artes,': 2330, 'arte».': 2331, 'articulado.': 2332, 'articulados': 2333, 'artificial,': 2334, 'artificiales': 2335, 'artificios': 2336, 'artificios.': 2337, 'artista': 2338, 'artistas': 2339, 'artistas,': 2340, 'artículos': 2341, 'artículos,': 2342, 'artística,': 2343, 'artísticas.': 2344, 'asaz': 2345, 'ascender': 2346, 'ascendiente': 2347, 'ascendientes': 2348, 'ascensos': 2349, 'asciende': 2350, 'asco': 2351, 'ascua': 2352, 'asediaba': 2353, 'asegura': 2354, 'aseguran': 2355, 'asegurar': 2356, 'asegure': 2357, 'aseguro': 2358, 'aseguro,': 2359, 'asemejasen': 2360, 'asentimiento,': 2361, 'asentimiento.': 2362, 'asentimientos,': 2363, 'asequible.': 2364, 'aserto': 2365, 'asesino': 2366, 'asfixiada': 2367, 'asidas': 2368, 'asiento.': 2369, 'asignó': 2370, 'asimilativo': 2371, 'asimismo': 2372, 'asimismo,': 2373, 'asimos': 2374, 'asir': 2375, 'asirnos': 2376, 'asista': 2377, 'asisten': 2378, 'asistencia': 2379, 'asistido': 2380, 'asistieron': 2381, 'asistir': 2382, 'asistían': 2383, 'asno': 2384, 'asociación': 2385, 'asocian': 2386, 'asociando': 2387, 'asomarse': 2388, 'asombradas': 2389, 'asombrado': 2390, 'asombrosa': 2391, 'aspavientos': 2392, 'aspecto': 2393, 'aspecto,': 2394, 'aspectos': 2395, 'aspira': 2396, 'aspiraciones': 2397, 'aspirar': 2398, 'astro': 2399, 'asume': 2400, 'asunto': 2401, 'asunto.': 2402, 'asuntos': 2403, 'asustado': 2404, 'asustado.': 2405, 'así': 2406, 'así,': 2407, 'así.': 2408, 'así...': 2409, 'así;': 2410, 'así?': 2411, 'atadura': 2412, 'atajar': 2413, 'atalaya': 2414, 'ataviada:': 2415, 'ataviadas': 2416, 'atavía': 2417, 'atavío': 2418, 'atavío,': 2419, 'atavío.': 2420, 'atavíos': 2421, 'atavíos,': 2422, 'atavíos.': 2423, 'atañe': 2424, 'atención': 2425, 'atendida': 2426, 'atendidas': 2427, 'atendían': 2428, 'atendían,': 2429, 'atenerme;': 2430, 'atenerse': 2431, 'atenerse.': 2432, 'atenta': 2433, 'atentamente': 2434, 'atentas': 2435, 'atento,': 2436, 'aterrada.': 2437, 'atestada': 2438, 'atezado,': 2439, 'atiesado,': 2440, 'atildados,': 2441, 'atinadas': 2442, 'atinados': 2443, 'atmósfera': 2444, 'atorbellinado': 2445, 'atosigan:': 2446, 'atosigándome': 2447, 'atracción': 2448, 'atracción,': 2449, 'atractivos': 2450, 'atraer': 2451, 'atraerse': 2452, 'atrasada,': 2453, 'atrasados': 2454, 'atravesando': 2455, 'atrayentes': 2456, 'atrevería': 2457, 'atreves': 2458, 'atrevimiento': 2459, 'atrevo': 2460, 'atrevo,': 2461, 'atrevía': 2462, 'atribuir': 2463, 'atribuirse': 2464, 'atributos': 2465, 'atribuye': 2466, 'atribuyendo': 2467, 'atropellada,': 2468, 'atropelladamente,': 2469, 'atropellarlo': 2470, 'atrás': 2471, 'atrás,': 2472, 'aturdida,': 2473, 'aturdidos,': 2474, 'aturdimiento,': 2475, 'atónito': 2476, 'audaces,': 2477, 'auditorio.': 2478, 'aumenta': 2479, 'aumenta,': 2480, 'aumentar': 2481, 'aumentarlos;': 2482, 'aumento': 2483, 'aumento.': 2484, 'aun': 2485, 'aun,': 2486, 'aunar': 2487, 'aunque': 2488, 'aunque,': 2489, 'aurora': 2490, 'aurora,': 2491, 'aurora.': 2492, 'auroras.': 2493, 'ausencia': 2494, 'ausente.': 2495, 'austeras': 2496, 'austero': 2497, 'austríacas': 2498, 'automóvil': 2499, 'automóvil,': 2500, 'automóviles,': 2501, 'autor': 2502, 'autores': 2503, 'autoridad': 2504, 'autoritarias': 2505, 'autorización': 2506, 'autosugestión': 2507, 'autónomo,': 2508, 'auxiliar,': 2509, 'auxilio': 2510, 'avasalla': 2511, 'avasalladora,': 2512, 'avenencia': 2513, 'avenida': 2514, 'avenimiento': 2515, 'avenirse': 2516, 'aventajado': 2517, 'aventura': 2518, 'averiguar': 2519, 'aves': 2520, 'aviene': 2521, 'aviesos,': 2522, 'axiomático': 2523, 'ayer': 2524, 'ayer.': 2525, 'ayudando': 2526, 'ayudar': 2527, 'ayudarle': 2528, 'ayudarle;': 2529, 'ayudarme,': 2530, 'ayudarme.': 2531, 'ayude': 2532, 'ayude?': 2533, 'ayudo': 2534, 'ayudándolos,': 2535, 'ayudó': 2536, 'ayunos': 2537, 'azafatas,': 2538, 'azafate': 2539, 'azar': 2540, 'azar,': 2541, 'azorada,': 2542, 'azul': 2543, 'azul,': 2544, 'azul-añil,': 2545, 'azul.': 2546, 'azules': 2547, 'azules,': 2548, 'azules.': 2549, 'añade': 2550, 'añadiendo': 2551, 'añadimos': 2552, 'añadir': 2553, 'añado:': 2554, 'año': 2555, 'año.': 2556, 'años': 2557, 'años,': 2558, 'años--me': 2559, 'años--¡76,': 2560, 'años.': 2561, 'años...': 2562, 'años...;': 2563, 'años;': 2564, 'años».': 2565, 'aún': 2566, \"aún'\": 2567, 'aún,': 2568, 'aún.': 2569, 'bailaba': 2570, 'bailado': 2571, 'bailamos': 2572, 'bailando': 2573, 'bailando;': 2574, 'bailar': 2575, 'bailar,': 2576, 'bailar.': 2577, 'bailar;': 2578, 'bailar?': 2579, 'bailara': 2580, 'bailarina': 2581, 'bailarina,': 2582, 'bailarinas': 2583, 'baile': 2584, 'baile,': 2585, 'baile.': 2586, 'baile;': 2587, 'bailemos': 2588, 'bailen': 2589, 'bailes': 2590, 'bailes,': 2591, 'baile»': 2592, 'bailo': 2593, 'baja': 2594, 'baja,': 2595, 'bajas': 2596, 'bajel': 2597, 'bajo': 2598, 'bajos,': 2599, 'bajos.': 2600, 'balbuceo.': 2601, 'balbuciente': 2602, 'balde': 2603, 'balkánicas,': 2604, 'ballestas': 2605, 'balnearios,': 2606, 'balnearios.': 2607, 'balumba': 2608, 'bancarias': 2609, 'bandeja': 2610, 'bandeja,': 2611, 'banquete': 2612, 'baptisterio,': 2613, 'barba.': 2614, 'barbaridad.': 2615, 'barco': 2616, 'baritonal.': 2617, 'barquichuelo': 2618, 'barrabasada.': 2619, 'barranca': 2620, 'barro,': 2621, 'barullo': 2622, 'basada': 2623, 'base': 2624, 'bases': 2625, 'basta': 2626, 'bastaba,': 2627, 'bastan': 2628, 'bastante': 2629, 'bastante,': 2630, 'bastante.': 2631, 'bastantes': 2632, 'bastar': 2633, 'bata,': 2634, 'batalla': 2635, 'batallas': 2636, 'batallas,--el': 2637, 'baturrillo': 2638, 'bautismal': 2639, 'bautismal.': 2640, 'bautismales,': 2641, 'bautismo': 2642, 'bautismo,': 2643, 'bautismo.': 2644, 'bautizadas,': 2645, 'bautizado': 2646, 'bautizar': 2647, 'bautizarse': 2648, 'baña,': 2649, 'bañar': 2650, 'baño': 2651, 'baúl.': 2652, 'baúles': 2653, 'baúles;': 2654, 'beamonteses,': 2655, 'beldades,': 2656, 'beligerantes': 2657, 'bella': 2658, 'bellas': 2659, 'belleza': 2660, 'belleza,': 2661, 'belleza.': 2662, 'belleza»': 2663, 'bello': 2664, 'bello,': 2665, 'bellotas,': 2666, 'bendición': 2667, 'benditas,': 2668, 'beneficencia.': 2669, 'benevolencia': 2670, 'beodo': 2671, 'berenjenal,': 2672, 'bergantín,': 2673, 'besa': 2674, 'besan': 2675, 'besarle': 2676, 'beso': 2677, 'beso,': 2678, 'besos': 2679, 'besos.': 2680, 'bibliográfico.': 2681, 'biblioteca': 2682, 'bibliotecas': 2683, 'bien': 2684, 'bien,': 2685, 'bien--exige': 2686, 'bien.': 2687, 'bien:': 2688, 'bien;': 2689, 'bien?': 2690, 'bienes': 2691, 'bienes,': 2692, 'bien»,': 2693, 'bien».': 2694, 'bigote': 2695, 'bisabuelo': 2696, 'bizarro': 2697, 'bizarría': 2698, 'bizco.': 2699, 'blancas': 2700, 'blancas,': 2701, 'blanco': 2702, 'blancos': 2703, 'blancos,': 2704, 'blanda,': 2705, 'blandas,': 2706, 'blando': 2707, 'blandos': 2708, 'blandura': 2709, 'bloqueo.': 2710, 'boato': 2711, 'boca': 2712, 'boca.': 2713, 'bocas': 2714, 'bocas,': 2715, 'bochinche': 2716, 'bocina': 2717, 'boda': 2718, 'boda.': 2719, 'bodas': 2720, 'bodas--consagro': 2721, 'bodas.': 2722, 'boj,': 2723, 'boletitos': 2724, 'boletitos.': 2725, 'boletos': 2726, 'bonaerense': 2727, 'bonaerense.': 2728, 'bondad': 2729, 'bondad,': 2730, 'bondad.': 2731, 'bondadosa': 2732, 'bondadosa,': 2733, 'bondadosas': 2734, 'bondadosas,': 2735, 'bondadoso': 2736, 'bonita': 2737, 'bonita.': 2738, 'bonitas': 2739, 'bonitas.': 2740, 'bonitas;': 2741, 'bonito,': 2742, 'bonísimo,': 2743, 'borbotones,': 2744, 'borbónico,': 2745, 'bordado': 2746, 'bordadora': 2747, 'borde': 2748, 'bordes': 2749, 'borra,': 2750, 'boyantes;': 2751, 'brasileño,': 2752, 'bravo,': 2753, 'brazo': 2754, 'brazo,': 2755, 'brazos': 2756, 'brazos,': 2757, 'brazos.': 2758, 'brazos:': 2759, 'breve': 2760, 'breve,': 2761, 'brillante': 2762, 'brillar': 2763, 'brillar,': 2764, 'brille': 2765, 'brillo': 2766, 'brillo,': 2767, 'brilló': 2768, 'brincos': 2769, 'broma': 2770, 'broma.': 2771, 'broma...': 2772, 'bronce': 2773, 'brota': 2774, 'brusco,': 2775, 'brusquedad': 2776, 'brío': 2777, 'brío!': 2778, 'brújula': 2779, 'brújula,': 2780, 'buen': 2781, 'buena': 2782, 'buena,': 2783, 'buena.': 2784, 'buenas': 2785, 'buenas.': 2786, 'bueno': 2787, 'bueno,': 2788, 'bueno--agrega--porque': 2789, 'bueno.': 2790, 'bueno:': 2791, 'bueno;': 2792, 'buenos': 2793, 'bueno».': 2794, 'bullen': 2795, 'bullen,': 2796, 'buques': 2797, 'burguesía': 2798, 'burguesía,': 2799, 'burla': 2800, 'burlarse': 2801, 'burlas': 2802, 'burlón,': 2803, 'burócrata': 2804, 'buscado': 2805, 'buscan': 2806, 'buscan,': 2807, 'buscar': 2808, 'buscar,': 2809, 'buscarla': 2810, 'buscarlos': 2811, 'buscarme.': 2812, 'buscaré': 2813, 'busquéis': 2814, 'busto;': 2815, 'caballeresca': 2816, 'caballeresca,': 2817, 'caballerescas.': 2818, 'caballero': 2819, 'caballero,': 2820, 'caballeros': 2821, 'caballeros.': 2822, 'caballo': 2823, 'caballos': 2824, 'caballos,': 2825, 'caballos.': 2826, 'caballos;': 2827, 'cabe': 2828, 'cabe.': 2829, 'cabecera': 2830, 'cabecita': 2831, 'cabecita,': 2832, 'cabecitas': 2833, 'cabello': 2834, 'cabello,': 2835, 'caben': 2836, 'caber': 2837, 'cabeza': 2838, 'cabeza,': 2839, 'cabeza.': 2840, 'cabezas': 2841, 'cabezas,': 2842, 'cabizbajas': 2843, 'cabo': 2844, 'cache!».': 2845, 'cache»--dijo': 2846, 'cada': 2847, 'cadena': 2848, 'cadena,': 2849, 'cadete,': 2850, 'cae': 2851, 'cae,': 2852, 'caer': 2853, 'caer,': 2854, 'caernos': 2855, 'caerse': 2856, 'caer»': 2857, 'caerán': 2858, 'caigo.': 2859, 'cajas,': 2860, 'cajas.': 2861, 'calabaceado.': 2862, 'calabazas': 2863, 'calar': 2864, 'calavera,': 2865, 'calavera--un': 2866, 'calaveras--claro,': 2867, 'calcetines': 2868, 'calefacción': 2869, 'calendario': 2870, 'calidad': 2871, 'calidad,': 2872, 'calidoscópicas': 2873, 'calificar': 2874, 'calificarse': 2875, 'calificativo': 2876, 'callado,': 2877, 'callados,': 2878, 'calle': 2879, 'calle.': 2880, 'calle...': 2881, 'calles': 2882, 'callo».--«Bien': 2883, 'calma': 2884, 'calma.': 2885, 'calor': 2886, 'calor.': 2887, 'calvarios': 2888, 'calza': 2889, 'calza.': 2890, 'calzar': 2891, 'cama.': 2892, 'cambia': 2893, 'cambian': 2894, 'cambiando': 2895, 'cambiar': 2896, 'cambio': 2897, 'cambio,': 2898, 'cambios': 2899, 'camello': 2900, 'caminar.': 2901, 'caminito': 2902, 'camino': 2903, 'camino,': 2904, 'caminos': 2905, 'caminos,': 2906, 'campanazo': 2907, 'campanazo;': 2908, 'campanilla': 2909, 'campaña': 2910, 'campaña...;': 2911, 'campo': 2912, 'campo.': 2913, 'campo;': 2914, 'campos': 2915, 'campos,': 2916, 'canario': 2917, 'canas': 2918, 'canastillo': 2919, 'canciller': 2920, 'canciller,': 2921, 'cancilleres': 2922, 'cancilleres,': 2923, 'candidatura': 2924, 'candidaturas': 2925, 'canonización,': 2926, 'cansada,': 2927, 'cansancio,': 2928, 'canso': 2929, 'cantado': 2930, 'cantando': 2931, 'cantan».': 2932, 'cantar': 2933, 'cantar.': 2934, 'cantara;': 2935, 'canto': 2936, 'cantor.': 2937, 'cantón': 2938, 'cantón,': 2939, 'canónico,': 2940, 'capa': 2941, 'capaces': 2942, 'capacidad': 2943, 'capaz': 2944, 'capilla': 2945, 'capital': 2946, 'capital,': 2947, 'capital?': 2948, 'capitalísima': 2949, 'capitana.': 2950, 'capitán': 2951, 'capote': 2952, 'capricho': 2953, 'capricho,': 2954, 'caprichoso,': 2955, 'caprichosos.': 2956, 'capuletos': 2957, 'capítulo': 2958, 'capítulos': 2959, 'cara': 2960, 'cara,': 2961, 'cara.': 2962, 'caracteres': 2963, 'caracteriza': 2964, 'caracterizan': 2965, 'característico': 2966, 'carancho': 2967, 'cara».': 2968, 'carbón': 2969, 'carece': 2970, 'carecen': 2971, 'carecer': 2972, 'carecía': 2973, 'carezcan': 2974, 'carga,': 2975, 'carga.': 2976, 'cargada': 2977, 'cargar': 2978, 'caridad': 2979, 'caridad,': 2980, 'caritativa».': 2981, 'cariño': 2982, 'cariño,': 2983, 'cariño.': 2984, 'cariñosa.': 2985, 'cariñosas': 2986, 'cariñoso': 2987, 'cariñoso,': 2988, 'cariñoso--y': 2989, 'carnaval': 2990, 'carne': 2991, 'carne,': 2992, 'carpa,': 2993, 'carrera': 2994, 'carrera.': 2995, 'carreras': 2996, 'carreras!...': 2997, 'carreras,': 2998, 'carreras.': 2999, 'carreras;': 3000, 'carta': 3001, 'carta,': 3002, 'carta.': 3003, 'carta;': 3004, 'cartas': 3005, 'cartas,': 3006, 'cartas.': 3007, 'cartera': 3008, 'cartera.': 3009, 'cartujas.': 3010, 'carácter': 3011, 'carácter,': 3012, 'carácter.': 3013, 'carácter;': 3014, 'casa': 3015, 'casa!': 3016, 'casa,': 3017, 'casa--muy': 3018, 'casa.': 3019, 'casa;': 3020, 'casa?': 3021, 'casacas;': 3022, 'casada': 3023, 'casada,': 3024, 'casada.': 3025, 'casadas': 3026, 'casadas,': 3027, 'casadas:': 3028, 'casado': 3029, 'casado--dice': 3030, 'casados': 3031, 'casamentera': 3032, 'casamentera,': 3033, 'casamentera.': 3034, 'casamenteras': 3035, 'casamenteras,': 3036, 'casamenteras.': 3037, 'casamentero.': 3038, 'casamenteros': 3039, 'casamos,': 3040, 'casan': 3041, 'casar': 3042, 'casara': 3043, 'casarla': 3044, 'casaron': 3045, 'casarse': 3046, 'casarse,': 3047, 'casará': 3048, 'casarás': 3049, 'casaría': 3050, 'casas': 3051, 'casco': 3052, 'case': 3053, 'casero,': 3054, 'casi': 3055, 'casillero': 3056, 'casita': 3057, 'casita--;': 3058, 'caso': 3059, 'caso!...': 3060, 'caso,': 3061, 'caso--afirma': 3062, 'caso.': 3063, 'caso;': 3064, 'casos': 3065, 'casos,': 3066, 'casos?': 3067, 'castañeteando.': 3068, 'castañuela': 3069, 'castañuelas': 3070, 'castañuelas,': 3071, 'castañuelas.': 3072, 'castañuelero.': 3073, 'castellana,': 3074, 'castellano': 3075, 'castiza': 3076, 'castizo,': 3077, 'casual,': 3078, 'casualidad': 3079, 'casé': 3080, 'casó': 3081, 'cataclismos': 3082, 'catalina': 3083, 'catorce': 3084, 'católica,': 3085, 'caudillos': 3086, 'causa': 3087, 'causa;': 3088, 'causarle': 3089, 'causarles': 3090, 'causas': 3091, 'causas.': 3092, 'cause': 3093, 'cautela': 3094, 'cautelas': 3095, 'cautelosa,': 3096, 'cautivaba': 3097, 'cautivador.': 3098, 'cautos,': 3099, 'cavilosa.': 3100, 'caza': 3101, 'caía.': 3102, 'caído.': 3103, 'caña': 3104, 'cañamazo': 3105, 'cañamazo,': 3106, 'cañón': 3107, 'caótico,': 3108, 'caóticos': 3109, 'cebo.': 3110, 'ceder': 3111, 'ceder,': 3112, 'ceder.': 3113, 'cediendo': 3114, 'cedió': 3115, 'cefalalgias.': 3116, 'cegatos': 3117, 'ceguera': 3118, 'ceguera.': 3119, 'celebrado': 3120, 'celebran': 3121, 'celebran?': 3122, 'celebrando': 3123, 'celebrar': 3124, 'celebren': 3125, 'celeste': 3126, 'celos': 3127, 'celos,': 3128, 'celos...': 3129, 'cementerio.': 3130, 'cementerios;': 3131, 'cemento': 3132, 'cenamos': 3133, 'cenar.': 3134, 'cenizas': 3135, 'cenizas.': 3136, 'cenobio,': 3137, 'censor,': 3138, 'censura,': 3139, 'censurable.': 3140, 'censurando': 3141, 'censuras,': 3142, 'censuró': 3143, 'centenares': 3144, 'centro': 3145, 'centro,': 3146, 'centuria,': 3147, 'cenáculos': 3148, 'cera': 3149, 'cera,': 3150, 'cerca': 3151, 'cerca,': 3152, 'cercano': 3153, 'cerebral,': 3154, 'cerebro': 3155, 'cerebro,': 3156, 'cerebros.': 3157, 'ceremonioso.': 3158, 'ceros': 3159, 'cerraba': 3160, 'cetro.': 3161, 'chacoteando': 3162, 'champaña.': 3163, 'chancho': 3164, 'chancho.': 3165, 'chanchos': 3166, 'chapitel': 3167, 'chapitelería': 3168, 'chapiteles': 3169, 'charla': 3170, 'charla,': 3171, 'charlado': 3172, 'charlamos': 3173, 'charlatana,': 3174, 'charloteo,': 3175, 'charló': 3176, 'charrúas': 3177, 'chic': 3178, 'chic!...': 3179, 'chicas': 3180, 'chicas,': 3181, 'chichoneo»,': 3182, 'chico': 3183, 'chico.': 3184, 'chilla.': 3185, 'chillido': 3186, 'chimango,': 3187, 'chimango?': 3188, 'chinita': 3189, 'chinita.': 3190, 'chino»,': 3191, 'chiripá;': 3192, 'chismear': 3193, 'chismorreo': 3194, 'chismosa': 3195, 'chismoso': 3196, 'chismoso,': 3197, 'chismosos': 3198, 'chispeantes': 3199, 'chochera': 3200, 'chochez': 3201, 'chochez,': 3202, 'cicatriza': 3203, 'ciclones': 3204, 'ciego': 3205, 'cielo': 3206, 'cielo!...»': 3207, 'cielo,': 3208, 'cielo.': 3209, 'cielos.': 3210, 'cien': 3211, 'ciencia': 3212, 'ciencia.': 3213, 'ciencias': 3214, 'científica,': 3215, 'científica;': 3216, 'científicas': 3217, 'cierta': 3218, 'ciertas': 3219, 'cierto': 3220, 'cierto!': 3221, 'cierto,': 3222, 'cierto--agrega--es': 3223, 'cierto;': 3224, 'ciertos': 3225, 'cifra': 3226, 'cifra,': 3227, 'cilicio,': 3228, 'cimientos': 3229, 'cimientos,': 3230, 'cinceles': 3231, 'cinco': 3232, 'cincuenta,': 3233, 'cintas': 3234, 'cintita': 3235, 'cipreses': 3236, 'cipreses!': 3237, 'cipreses!--¡y': 3238, 'cipreses,': 3239, 'cipreses.': 3240, 'cipreses:': 3241, 'cipreses?': 3242, 'ciprés': 3243, 'ciprés.': 3244, 'circula': 3245, 'circulación': 3246, 'circulo': 3247, 'circunda': 3248, 'circunferencia,': 3249, 'circunloquios': 3250, 'circunstancia': 3251, 'circunstancial': 3252, 'circunstancias': 3253, 'circunstancias,': 3254, 'circunstancias--armónicas': 3255, 'ciscos': 3256, 'cisne': 3257, 'cisnes': 3258, 'cisnes!': 3259, 'cisnes,': 3260, 'cita': 3261, 'citación': 3262, 'ciudad': 3263, 'ciudades': 3264, 'ciudades.': 3265, 'ciudades;': 3266, 'civil': 3267, 'civil,': 3268, 'civil.': 3269, 'civil:': 3270, 'civil;': 3271, 'civiles': 3272, 'civilización': 3273, 'civilización.': 3274, 'civilización:': 3275, 'civilizado.': 3276, 'civilizador': 3277, 'clara': 3278, 'clara,': 3279, 'claramente': 3280, 'claridad': 3281, 'claridad.': 3282, 'claro': 3283, 'claro!;': 3284, 'claro,': 3285, 'claro...': 3286, 'claro:': 3287, 'claros': 3288, 'clarísima,': 3289, 'clase': 3290, 'clases': 3291, 'clases,': 3292, 'clavada': 3293, 'clavado': 3294, 'clavar': 3295, 'club.': 3296, 'clubs,': 3297, 'clubs.': 3298, 'clásica.': 3299, 'clásicas': 3300, 'clásico': 3301, 'clásicos': 3302, 'clínico,': 3303, 'coacciones': 3304, 'cobardía': 3305, 'cobardía.': 3306, 'cobrarían': 3307, 'cobró': 3308, 'coche': 3309, 'cocinera': 3310, 'cocinera;': 3311, 'coco': 3312, 'codiciosa!».': 3313, 'codo': 3314, 'codos': 3315, 'cofias': 3316, 'cogollito': 3317, 'coherente,': 3318, 'cohibida': 3319, 'cohibidas,': 3320, 'coincidentes': 3321, 'coincidentes.': 3322, 'coincidentes:': 3323, 'colaboración': 3324, 'colaborador': 3325, 'colado,': 3326, 'colección': 3327, 'colectiva': 3328, 'colectiva,': 3329, 'colectiva.': 3330, 'colegio': 3331, 'colgadas': 3332, 'colgado': 3333, 'colgaron': 3334, 'collar': 3335, 'collar!--exclamo.--La': 3336, 'collares': 3337, 'collares,': 3338, 'colmando': 3339, 'colme': 3340, 'colmillos.»': 3341, 'colmo,': 3342, 'coloca': 3343, 'colocado': 3344, 'colocándose': 3345, 'colonial': 3346, 'colonial,': 3347, 'coloniales,': 3348, 'colonizadores.': 3349, 'coloquios': 3350, 'color': 3351, 'color;': 3352, 'colorada,': 3353, 'colorado.': 3354, 'colores': 3355, 'colores,': 3356, 'colores.': 3357, 'colores;': 3358, 'colosal': 3359, 'colosal.': 3360, 'columnas,': 3361, 'colérica': 3362, 'combatiendo': 3363, 'combatientes': 3364, 'combatir': 3365, 'combinaciones': 3366, 'combinaciones.': 3367, 'combinación': 3368, 'combinar': 3369, 'come,': 3370, 'come;': 3371, 'comedia': 3372, 'comedia,': 3373, 'comedias,': 3374, 'comedor,': 3375, 'comenta': 3376, 'comentaba': 3377, 'comentarios,': 3378, 'comentarios.': 3379, 'comenzar': 3380, 'comenzaron': 3381, 'comer': 3382, 'comercial': 3383, 'comercial,': 3384, 'cometido': 3385, 'cometidos,': 3386, 'comida.': 3387, 'comienza': 3388, 'comienzan': 3389, 'comienzo': 3390, 'comiquería.': 3391, 'comisaría,': 3392, 'comisión': 3393, 'comiéndoselo.': 3394, 'como': 3395, 'como...': 3396, 'comodidad,': 3397, 'comodidades,': 3398, 'compacta': 3399, 'compacta,': 3400, 'compacto': 3401, 'compacto,': 3402, 'compadezco;': 3403, 'compadézcame,': 3404, 'comparación': 3405, 'comparte': 3406, 'comparto': 3407, 'compañera': 3408, 'compañía': 3409, 'compañía,': 3410, 'compele': 3411, 'compendio': 3412, 'competencia': 3413, 'competencias': 3414, 'competida': 3415, 'compilados': 3416, 'complacencia': 3417, 'complacer': 3418, 'complacerla,': 3419, 'complacida': 3420, 'complacida,': 3421, 'complacido': 3422, 'complaciente...;': 3423, 'complejidad': 3424, 'complejidades': 3425, 'complejo': 3426, 'complejo,': 3427, 'complejo.': 3428, 'complejísima.': 3429, 'complementario,': 3430, 'completa': 3431, 'completa--decían': 3432, 'completa.': 3433, 'completado': 3434, 'completamente': 3435, 'completo': 3436, 'completo,': 3437, 'completo.': 3438, 'complica': 3439, 'complicaciones.': 3440, 'complicada,': 3441, 'complicado,': 3442, 'complicidad': 3443, 'compone': 3444, 'compone,': 3445, 'componen': 3446, 'componentes': 3447, 'componer': 3448, 'compongan': 3449, 'composición': 3450, 'compositores.': 3451, 'compostura': 3452, 'compostura,': 3453, 'compraba': 3454, 'comprado': 3455, 'compradores': 3456, 'compramos': 3457, 'comprar': 3458, 'comprar,': 3459, 'comprende': 3460, 'comprenderla': 3461, 'comprenderá': 3462, 'comprendo': 3463, 'comprendo,': 3464, 'comprensivo.': 3465, 'comprensión,': 3466, 'compromete': 3467, 'comprometerse': 3468, 'comprometerse,': 3469, 'comprometido': 3470, 'comprometido,': 3471, 'comprometidos': 3472, 'comprometió': 3473, 'comprometo.': 3474, 'comprometí': 3475, 'compromiso': 3476, 'compromiso.': 3477, 'compuesta': 3478, 'compás': 3479, 'compás,': 3480, 'comunes': 3481, 'comunica': 3482, 'comunicación,': 3483, 'comunicado': 3484, 'comunicamos': 3485, 'comunicante': 3486, 'comunicante.': 3487, 'comunicantes': 3488, 'comunicantes.': 3489, 'comunicar': 3490, 'comunicarla.': 3491, 'comunicaron': 3492, 'comunicativo,': 3493, 'común': 3494, 'común,': 3495, 'común.': 3496, 'con': 3497, 'con...': 3498, 'concede--respondo': 3499, 'concedernos': 3500, 'concedido»,': 3501, 'concedió': 3502, 'concedió,': 3503, 'concentra': 3504, 'concentración': 3505, 'concentrar': 3506, 'concepción': 3507, 'concepto': 3508, 'concepto.': 3509, 'conceptos': 3510, 'conceptos,': 3511, 'conceptos.': 3512, 'conceptos;': 3513, 'concertado.': 3514, 'concertando': 3515, 'concertar': 3516, 'concertarse': 3517, 'concesiones': 3518, 'concesiones,': 3519, 'concesiones.': 3520, 'concesión': 3521, 'conciencia': 3522, 'conciencia,': 3523, 'conciencia.': 3524, 'concierta': 3525, 'concierte': 3526, 'concierto': 3527, 'concilia': 3528, 'conciso': 3529, 'concluida,': 3530, 'concluir,': 3531, 'concluye': 3532, 'concluyéndome,': 3533, 'concluyó': 3534, 'concluído': 3535, 'concordes': 3536, 'concordia': 3537, 'concordia,': 3538, 'concuerdan': 3539, 'concurren': 3540, 'concurrencia': 3541, 'concurrentes': 3542, 'concurso': 3543, 'concurso,': 3544, 'condecoración.': 3545, 'condena': 3546, 'condenable,': 3547, 'condenable.': 3548, 'condenación': 3549, 'condenado': 3550, 'condiciones': 3551, 'condición': 3552, 'condición,': 3553, 'condición.': 3554, 'conducido': 3555, 'conducirme.': 3556, 'conducirnos': 3557, 'conduciéndonos': 3558, 'conducta': 3559, 'conducta,': 3560, 'conducta.': 3561, 'condujimos': 3562, 'conejo': 3563, 'confección': 3564, 'confiados': 3565, 'confianza': 3566, 'confianza,': 3567, 'confidente': 3568, 'conflagración': 3569, 'conflagración».': 3570, 'conflagrados.': 3571, 'conflicto': 3572, 'conflicto,': 3573, 'conflictos': 3574, 'conflictos,': 3575, 'conflictos.': 3576, 'conforme': 3577, 'conforme.': 3578, 'conformidad': 3579, 'conformidad,': 3580, 'confunda': 3581, 'confunda».': 3582, 'confunde,': 3583, 'confunden,': 3584, 'confundida': 3585, 'confundida,': 3586, 'confundido': 3587, 'confundir': 3588, 'confundirla': 3589, 'confundirle': 3590, 'confusa': 3591, 'confusa,': 3592, 'confusamente;': 3593, 'confusas': 3594, 'confusiones.': 3595, 'confusión': 3596, 'confusión.': 3597, 'confusos': 3598, 'confía': 3599, 'confían': 3600, 'confío': 3601, 'congelarnos,': 3602, 'congoja': 3603, 'congojas': 3604, 'congraciarme': 3605, 'congratulaciones!': 3606, 'conjuga': 3607, 'conjuntas': 3608, 'conjunto': 3609, 'conmigo': 3610, 'conmigo)': 3611, 'conmigo,': 3612, 'conmigo.': 3613, 'conmovedor': 3614, 'conmovedor.': 3615, 'conmovedora,': 3616, 'conmovido--;': 3617, 'conmovidos.': 3618, 'conmovieron': 3619, 'conmovió': 3620, 'conmoví': 3621, 'conmueve': 3622, 'conoce': 3623, 'conoce,': 3624, 'conoce.': 3625, 'conocemos': 3626, 'conocer': 3627, 'conocer,': 3628, 'conoces': 3629, 'conoces.': 3630, 'conocida,': 3631, 'conocida.': 3632, 'conocida...': 3633, 'conocida...»': 3634, 'conocidas': 3635, 'conocidas.': 3636, 'conocido': 3637, 'conocido;': 3638, 'conocidos': 3639, 'conocidos,': 3640, 'conocidos...': 3641, 'conocido»,': 3642, 'conociendo': 3643, 'conocimiento': 3644, 'conocimiento,': 3645, 'conocimiento.': 3646, 'conocimientos': 3647, 'conocimientos.': 3648, 'conoció': 3649, 'conozca': 3650, 'conozco': 3651, 'conozco!': 3652, 'conquista': 3653, 'conquista.': 3654, 'conquistado': 3655, 'conquistadores,': 3656, 'conquistar': 3657, 'conquistas,': 3658, 'consagrado': 3659, 'consagrar': 3660, 'consecuencia,': 3661, 'consecuencias,': 3662, 'conseguir': 3663, 'conseguir--siempre': 3664, 'conseguirlo': 3665, 'conseguirá': 3666, 'conseguí': 3667, 'consejo': 3668, 'consejo,': 3669, 'consejo.': 3670, 'consejo:': 3671, 'consejos,': 3672, 'consentimiento,': 3673, 'consentimos': 3674, 'conserva,': 3675, 'conservador': 3676, 'conservando': 3677, 'considera': 3678, 'considerado;': 3679, 'considerar': 3680, 'considerarla': 3681, 'considere': 3682, 'consideré': 3683, 'consigo': 3684, 'consiguiera': 3685, 'consiste': 3686, 'consiste,': 3687, 'consistencia': 3688, 'consistente': 3689, 'consistía': 3690, 'consocio.': 3691, 'consolarla': 3692, 'consolarlos': 3693, 'consolarme.': 3694, 'consorcio': 3695, 'consorte': 3696, 'consorte,': 3697, 'constancia': 3698, 'constancia,': 3699, 'constancia.': 3700, 'constante': 3701, 'constante,': 3702, 'constante.': 3703, 'constantemente': 3704, 'conste': 3705, 'constituir': 3706, 'constituye': 3707, 'constituyen': 3708, 'constituyen,': 3709, 'constituída.': 3710, 'construcción': 3711, 'constructores': 3712, 'construyó': 3713, 'consuelo.': 3714, 'consultado': 3715, 'consultarte,': 3716, 'consulte': 3717, 'consumidor.': 3718, 'contacto': 3719, 'contado': 3720, 'contagio,': 3721, 'contaminados': 3722, 'contando': 3723, 'contar': 3724, 'contar.': 3725, 'contar...': 3726, 'contarla': 3727, 'contarme': 3728, 'contarte.': 3729, 'contarán': 3730, 'contaré': 3731, 'contaré,': 3732, 'contaré.': 3733, 'contemplación,': 3734, 'contemplado': 3735, 'contemplan.': 3736, 'contemplar': 3737, 'contemplarse': 3738, 'contemporáneo,': 3739, 'contendientes': 3740, 'contendientes,': 3741, 'contener': 3742, 'contenerse.': 3743, 'contenido': 3744, 'contenido.': 3745, 'contenta.': 3746, 'contentamiento': 3747, 'contentamientos': 3748, 'contento': 3749, 'contentísima': 3750, 'contestado': 3751, 'contestarle.': 3752, 'contestó.': 3753, 'contestó?': 3754, 'contextura': 3755, 'contienda,': 3756, 'contienen': 3757, 'contigo': 3758, 'contigo,': 3759, 'contigo.': 3760, 'contigo;': 3761, 'continental,': 3762, 'continental.': 3763, 'continente': 3764, 'contingencias,': 3765, 'contingentes': 3766, 'continua.': 3767, 'continuo': 3768, 'continúan': 3769, 'contra': 3770, 'contradecirle?': 3771, 'contradicción': 3772, 'contradictor,': 3773, 'contradictorias': 3774, 'contradictorios)': 3775, 'contradigo,': 3776, 'contraernos': 3777, 'contrafigura.': 3778, 'contrahecho.': 3779, 'contrariaban': 3780, 'contrariado': 3781, 'contrario': 3782, 'contrario,': 3783, 'contrario.': 3784, 'contrario;': 3785, 'contrarios,': 3786, 'contraste': 3787, 'contratamos,': 3788, 'contratan.': 3789, 'contratar,': 3790, 'contrayentes': 3791, 'contrayentes,': 3792, 'contribución': 3793, 'contribuyen': 3794, 'contribuyendo': 3795, 'contribuyó': 3796, 'controversia': 3797, 'conturba': 3798, 'contuve.': 3799, 'contándome': 3800, 'contártelo.': 3801, 'contínuo': 3802, 'convalecencia': 3803, 'convencerá': 3804, 'convencida': 3805, 'convenciones': 3806, 'convenido': 3807, 'conveniencia': 3808, 'conveniencia,': 3809, 'conveniencias': 3810, 'conveniente': 3811, 'conveniente?': 3812, 'convenzan.': 3813, 'conversa': 3814, 'conversaciones,': 3815, 'conversación': 3816, 'conversación,': 3817, 'conversación.': 3818, 'conversación?': 3819, 'conversado': 3820, 'conversamos': 3821, 'conversar': 3822, 'conversas,': 3823, 'convertido': 3824, 'convertir': 3825, 'convertirla': 3826, 'convertirle': 3827, 'convertirlo': 3828, 'convertirse': 3829, 'conviene': 3830, 'conviene,': 3831, 'conviene--desde': 3832, 'convierte': 3833, 'convierte,': 3834, 'convierten': 3835, 'convirtiendo': 3836, 'convirtieron': 3837, 'convirtiéndolo': 3838, 'convivencia': 3839, 'convivencia,': 3840, 'convivencia.': 3841, 'convivido.': 3842, 'convivir,': 3843, 'convivir.': 3844, 'convivir...': 3845, 'conygales?': 3846, 'conyugal': 3847, 'conyugal.': 3848, 'conyugales': 3849, 'conyugales,': 3850, 'conyugales.': 3851, 'coordinar': 3852, 'coordinándose': 3853, 'copa': 3854, 'copa!': 3855, 'copetuda.': 3856, 'copiosa': 3857, 'copiosas': 3858, 'coqueteo': 3859, 'coquetería': 3860, 'coquetería,': 3861, 'coquetería.': 3862, 'coqueterías': 3863, 'coquetón,': 3864, 'coraje': 3865, 'corazones': 3866, 'corazones.': 3867, 'corazón': 3868, 'corazón,': 3869, 'corazón.': 3870, 'corceles': 3871, 'corcheas': 3872, 'corderillos,': 3873, 'cordial': 3874, 'cordial,': 3875, 'cordiales': 3876, 'cordones': 3877, 'coreográfico,': 3878, 'coro': 3879, 'corona!...': 3880, 'corona.': 3881, 'corona»,': 3882, 'coronel': 3883, 'coronel,': 3884, 'corre': 3885, 'correa': 3886, 'correctísimas,': 3887, 'corregidores,': 3888, 'corregir': 3889, 'corregirnos': 3890, 'corregirnos.': 3891, 'corremos': 3892, 'correr': 3893, 'correrse.': 3894, 'corresponda': 3895, 'corresponde': 3896, 'corresponden': 3897, 'corresponden,': 3898, 'correspondencia': 3899, 'corresponder': 3900, 'corresponder.': 3901, 'correspondiente': 3902, 'correspondiente;': 3903, 'correspondientes': 3904, 'correspondientes.': 3905, 'corre».': 3906, 'corridas,': 3907, 'corrido!...': 3908, 'corriendo': 3909, 'corriente': 3910, 'corriente,': 3911, 'corrige,': 3912, 'corrigen': 3913, 'corro': 3914, 'corrosiva': 3915, 'corsé--dice--para': 3916, 'corsé.': 3917, 'corta': 3918, 'cortado': 3919, 'cortan': 3920, 'cortante': 3921, 'corte': 3922, 'corte,': 3923, 'cortedad,': 3924, 'cortedad».': 3925, 'cortes': 3926, 'cortesanos': 3927, 'cortesanos,': 3928, 'corteses;': 3929, 'cortesía': 3930, 'cortesía.': 3931, 'corte»': 3932, 'corto,': 3933, 'cortos,': 3934, 'cortés': 3935, 'cortés,': 3936, 'cosa': 3937, 'cosa!': 3938, 'cosa!...': 3939, 'cosa,': 3940, 'cosa.': 3941, 'cosa...': 3942, 'cosa:': 3943, 'cosas': 3944, 'cosas!': 3945, 'cosas),': 3946, 'cosas,': 3947, 'cosas.': 3948, 'cosas;': 3949, 'cosecha.': 3950, 'cosecha;': 3951, 'cosmopolita.': 3952, 'cosmético,': 3953, 'cosmético.': 3954, 'costa': 3955, 'costaba': 3956, 'costado': 3957, 'costado.': 3958, 'costarle': 3959, 'costosos.': 3960, 'costumbre': 3961, 'costumbre,': 3962, 'costumbres': 3963, 'costumbres!»': 3964, 'costumbres,': 3965, 'costumbres.': 3966, 'costó': 3967, 'cotillón.': 3968, 'cotizaciones,': 3969, 'cotización': 3970, 'cotización.': 3971, 'coyundar.': 3972, 'coyuntura': 3973, 'crea': 3974, 'creación': 3975, 'creación,': 3976, 'creada.': 3977, 'creado': 3978, 'creador': 3979, 'creador,': 3980, 'creador.': 3981, 'creamos': 3982, 'crean': 3983, 'creando': 3984, 'crear': 3985, 'crearla.': 3986, 'creas': 3987, 'creciente': 3988, 'crecimiento': 3989, 'credulidad': 3990, 'cree': 3991, 'creemos': 3992, 'creen': 3993, 'creer': 3994, 'creerse': 3995, 'crees,': 3996, 'crema': 3997, 'crematística': 3998, 'creo': 3999, 'creo,': 4000, 'creo--respondí.': 4001, 'creo;': 4002, 'creyendo': 4003, 'creyéndose': 4004, 'creí': 4005, 'creía': 4006, 'creía...': 4007, 'criatura': 4008, 'criatura!': 4009, 'criatura,': 4010, 'criatura.': 4011, 'criaturas': 4012, 'criminal': 4013, 'criminales': 4014, 'criollo': 4015, 'crisis': 4016, 'crisis.': 4017, 'crisol': 4018, 'cristal': 4019, 'cristianamente...': 4020, 'cristianarnos.': 4021, 'cristiano': 4022, 'cristiano,': 4023, 'cristianos,': 4024, 'crisálida.': 4025, 'criticona»,': 4026, 'criticó': 4027, 'cronicones': 4028, 'croniquilla': 4029, 'croniquilla.': 4030, 'croniquillas': 4031, 'cronistas': 4032, 'crotalogía': 4033, 'crotalogía,': 4034, 'cruces': 4035, 'cruces,': 4036, 'crucifica': 4037, 'crucificar': 4038, 'crudas': 4039, 'cruel': 4040, 'cruzamos': 4041, 'cruzan': 4042, 'cruzar': 4043, 'crées?...': 4044, 'crítica': 4045, 'crítica,': 4046, 'críticas': 4047, 'críticas,': 4048, 'crítico': 4049, 'crónica': 4050, 'crónicas': 4051, 'crónicas,': 4052, 'crónicas;': 4053, 'crótalos': 4054, 'crótalos,': 4055, 'cuadro': 4056, 'cuadros': 4057, 'cual': 4058, 'cual,': 4059, 'cuales': 4060, 'cuales,': 4061, 'cualidad': 4062, 'cualidades': 4063, 'cualidades,': 4064, 'cualidades.': 4065, 'cualquier': 4066, 'cualquiera': 4067, 'cualquiera,': 4068, 'cualquiera....)': 4069, 'cuando': 4070, 'cuando,': 4071, 'cuantas': 4072, 'cuanto': 4073, 'cuanto;': 4074, 'cuantos': 4075, 'cuarenta': 4076, 'cuartito,': 4077, 'cuarto,': 4078, 'cuatro': 4079, 'cuatro!': 4080, 'cubiertas;': 4081, 'cubierto': 4082, 'cubiertos': 4083, 'cubren': 4084, 'cubrimos': 4085, 'cubriéndose': 4086, 'cuello.': 4087, 'cuenta': 4088, 'cuenta,': 4089, 'cuenta.': 4090, 'cuenta...': 4091, 'cuentan': 4092, 'cuentas': 4093, 'cuente': 4094, 'cuentero': 4095, 'cuentero,': 4096, 'cuento': 4097, 'cuento.': 4098, 'cuerda.': 4099, 'cuernos': 4100, 'cuerpo': 4101, 'cuerpo,': 4102, 'cuerpo.': 4103, 'cuerpos,': 4104, 'cuesta': 4105, 'cuestión': 4106, 'cuestión.': 4107, 'cuevas': 4108, 'cuidado': 4109, 'cuidado,': 4110, 'cuidado.': 4111, 'cuidador': 4112, 'cuidando': 4113, 'cuitas': 4114, 'cuitas,': 4115, 'culpa': 4116, 'culpa.': 4117, 'culpa».': 4118, 'cultiva': 4119, 'cultivar': 4120, 'cultivo': 4121, 'cultivos': 4122, 'cultivos,': 4123, 'culto': 4124, 'culto,': 4125, 'cultor': 4126, 'cultura': 4127, 'cultura,': 4128, 'cumple': 4129, 'cuna': 4130, 'cuna.': 4131, 'cupieran': 4132, 'cura': 4133, 'curado': 4134, 'curar': 4135, 'curarse;': 4136, 'curará': 4137, 'curiosidad': 4138, 'curiosidad,': 4139, 'curiosidad.': 4140, 'curioso': 4141, 'cursililla': 4142, 'curso': 4143, 'curtido;': 4144, 'cutis': 4145, 'cutis.': 4146, 'cuya': 4147, 'cuyo': 4148, 'cuyos': 4149, 'cuál': 4150, 'cuál--que': 4151, 'cuál;': 4152, 'cuándo': 4153, 'cuántas': 4154, 'cuánto': 4155, 'cuántos': 4156, 'cuántos...': 4157, 'cuñada': 4158, 'cuñadas': 4159, 'cuñadas,': 4160, 'cuñado': 4161, 'cuñado,': 4162, 'cuñado?': 4163, 'cuñado?...': 4164, 'cuñados': 4165, 'cuñados,': 4166, 'cálculo,': 4167, 'cálmate,': 4168, 'cámaras': 4169, 'cánones': 4170, 'cánones:': 4171, 'cárcel': 4172, 'cárcel.': 4173, 'cármenes': 4174, 'cátedra': 4175, 'cátedras': 4176, 'célebre': 4177, 'célebres.': 4178, 'césped': 4179, 'césped,': 4180, 'cíngulo': 4181, 'círculo': 4182, 'círculo,': 4183, 'círculos': 4184, 'cívicos': 4185, 'cívicos?': 4186, 'códigos': 4187, 'códigos,': 4188, 'cólera': 4189, 'cólera,': 4190, 'cómo': 4191, 'cómo,': 4192, 'cómo.': 4193, 'cómo?': 4194, 'cónyuge.': 4195, 'cónyuges': 4196, 'cónyuges,': 4197, 'cónyuges--empiezan': 4198, 'cúmulo': 4199, 'cúspide': 4200, 'da': 4201, 'da,': 4202, 'da.': 4203, 'daba': 4204, 'daban': 4205, 'dada': 4206, 'dadas': 4207, 'dado': 4208, 'dado.': 4209, 'dama': 4210, 'dama,': 4211, 'dama;': 4212, 'damas': 4213, 'damas,': 4214, 'damas.': 4215, 'damos': 4216, 'dan': 4217, 'dando': 4218, 'danzando': 4219, 'danzando,': 4220, 'danzante': 4221, 'dar': 4222, 'dar,': 4223, 'darle': 4224, 'darlos': 4225, 'darme': 4226, 'darse': 4227, 'darse.': 4228, 'dará': 4229, 'dará?': 4230, 'data': 4231, 'daño,': 4232, 'de': 4233, 'deba': 4234, 'debajo': 4235, 'debe': 4236, 'debe,': 4237, 'debe--y': 4238, 'debemos': 4239, 'debemos,': 4240, 'deben': 4241, 'deber': 4242, 'deber,': 4243, 'deber.': 4244, 'deber;': 4245, 'debes': 4246, 'debido': 4247, 'debido,': 4248, 'debido.': 4249, 'debiera': 4250, 'debieron': 4251, 'debilidad,': 4252, 'debilidad.': 4253, 'debió': 4254, 'debo': 4255, 'debo,': 4256, 'debí': 4257, 'debí,': 4258, 'debía': 4259, 'debía.': 4260, 'debían': 4261, 'decadencia;': 4262, 'decadente': 4263, 'dechado': 4264, 'decidida.': 4265, 'decididas': 4266, 'decidí': 4267, 'decimos': 4268, 'decir': 4269, 'decir,': 4270, 'decir.': 4271, 'decir...': 4272, 'decir...!': 4273, 'decir:': 4274, 'decirlas,': 4275, 'decirle': 4276, 'decirle,': 4277, 'decirle:': 4278, 'decirlo.': 4279, 'decirme:': 4280, 'deciros': 4281, 'decirse': 4282, 'decisiva': 4283, 'decisivo': 4284, 'declara': 4285, 'declaración': 4286, 'declaración,': 4287, 'declarado.': 4288, 'declarado...': 4289, 'declarado?': 4290, 'declaran': 4291, 'declarar': 4292, 'declare': 4293, 'declaró?': 4294, 'decía': 4295, 'decía,': 4296, 'decía:': 4297, 'decían': 4298, 'decírselo': 4299, 'dedicada': 4300, 'dedicados': 4301, 'dedican': 4302, 'dedicó': 4303, 'dedito': 4304, 'dedos,': 4305, 'dedos.': 4306, 'deducciones': 4307, 'deduce': 4308, 'deduciendo': 4309, 'deducir--y': 4310, 'deduciéndose': 4311, 'defecto': 4312, 'defectos': 4313, 'defectos,': 4314, 'defectos.': 4315, 'defender': 4316, 'defender,': 4317, 'defendido': 4318, 'defensa': 4319, 'deficiencia': 4320, 'defiende': 4321, 'defienden': 4322, 'definición': 4323, 'definida:': 4324, 'definido': 4325, 'definido,': 4326, 'definitiva': 4327, 'definitiva)': 4328, 'definitiva,': 4329, 'definitiva.': 4330, 'definitivas.': 4331, 'definitivo': 4332, 'definitivo.': 4333, 'deforma': 4334, 'deforme».': 4335, 'degollador': 4336, 'deja': 4337, 'dejaba;': 4338, 'dejado': 4339, 'dejado,': 4340, 'dejan': 4341, 'dejando': 4342, 'dejar': 4343, 'dejara.': 4344, 'dejarlos': 4345, 'dejarnos': 4346, 'dejaron': 4347, 'dejarse': 4348, 'dejas': 4349, 'deje': 4350, 'dejemos': 4351, 'dejen': 4352, 'dejábamos': 4353, 'dejé': 4354, 'dejó': 4355, 'del': 4356, 'delante!': 4357, 'delante...': 4358, 'delata': 4359, 'delectaciones': 4360, 'deleites': 4361, 'deleznable': 4362, 'deleznables': 4363, 'delicada.': 4364, 'delicadeza': 4365, 'delicadezas': 4366, 'delicado': 4367, 'delicado,': 4368, 'delicados,': 4369, 'delicias': 4370, 'delinque': 4371, 'deliquio:': 4372, 'deliquios': 4373, 'deliquios,': 4374, 'delirante;': 4375, 'delirar': 4376, 'delirio.': 4377, 'delirios': 4378, 'delirios.': 4379, 'deliré': 4380, 'delito': 4381, 'delito.': 4382, 'demasiado': 4383, 'demasiado,': 4384, 'demasiado.': 4385, 'demencias.': 4386, 'democracia': 4387, 'democracia.': 4388, 'democracìa': 4389, 'democrática': 4390, 'democrática,': 4391, 'democrático,': 4392, 'demonio': 4393, 'demonio,': 4394, 'demorado,': 4395, 'demostrado': 4396, 'demostrado,': 4397, 'demostrar': 4398, 'demostrarlo.': 4399, 'demostrarlo;': 4400, 'demostrará': 4401, 'demostraría': 4402, 'demuestra': 4403, 'demuestran': 4404, 'demás': 4405, 'demás,': 4406, 'demás.': 4407, 'demás;': 4408, 'demás?': 4409, 'demócrata,': 4410, 'demócrata.': 4411, 'dengue': 4412, 'denominación': 4413, 'denotaba,': 4414, 'densa,': 4415, 'dentro': 4416, 'dentro:': 4417, 'denuncia': 4418, 'departamento': 4419, 'dependa': 4420, 'depende': 4421, 'deplorable': 4422, 'deplorable.': 4423, 'deplorables': 4424, 'deploro': 4425, 'deporte': 4426, 'deporte.': 4427, 'deportista,': 4428, 'depresivo': 4429, 'depresivo,': 4430, 'deprimirle': 4431, 'depurado,': 4432, 'derecha': 4433, 'derechito.': 4434, 'derecho': 4435, 'derecho,': 4436, 'derecho;': 4437, 'deriva': 4438, 'derivan': 4439, 'derrocharlo': 4440, 'derrotado!': 4441, 'derrumbaban;': 4442, 'desabrigado,': 4443, 'desacertadísimo,': 4444, 'desacuerdo,': 4445, 'desafinada,': 4446, 'desaforadas': 4447, 'desagradable': 4448, 'desahogar': 4449, 'desairada': 4450, 'desairada.': 4451, 'desairado': 4452, 'desaire': 4453, 'desaires,': 4454, 'desaliento': 4455, 'desamor': 4456, 'desapacible.': 4457, 'desaparecen': 4458, 'desaparecido': 4459, 'desaparecido.': 4460, 'desapareciese': 4461, 'desapareció,': 4462, 'desaparición': 4463, 'desapruebas.': 4464, 'desarrolla.': 4465, 'desarrollo,': 4466, 'desarrollo.': 4467, 'desasosiego': 4468, 'desastre': 4469, 'desastrosa': 4470, 'desatados': 4471, 'desavenencias': 4472, 'desavenencias,': 4473, 'desazón': 4474, 'desazón.': 4475, 'desbordados,': 4476, 'descansa,': 4477, 'descaro': 4478, 'descendido': 4479, 'descendiendo': 4480, 'descendientes;': 4481, 'descensos': 4482, 'descentrar': 4483, 'desciendan': 4484, 'desciende': 4485, 'desconfianza.': 4486, 'desconfían': 4487, 'desconoce': 4488, 'desconocen': 4489, 'desconocer': 4490, 'desconocida': 4491, 'desconocido,': 4492, 'desconozcan,': 4493, 'desconsolada.': 4494, 'desconsolado,': 4495, 'desconsuelo': 4496, 'descontado': 4497, 'descortés,': 4498, 'descote;': 4499, 'descriptiva».': 4500, 'descriptivos': 4501, 'descubierto': 4502, 'descubrimiento': 4503, 'descubrir': 4504, 'descubrir.': 4505, 'desde': 4506, 'desdeñables': 4507, 'desdeñado': 4508, 'desdeñado,': 4509, 'desdeñarse': 4510, 'desdeñoso,': 4511, 'desdicha': 4512, 'desdichado': 4513, 'desdichados.': 4514, 'desea': 4515, 'desea,': 4516, 'deseaba': 4517, 'desean': 4518, 'desean,': 4519, 'deseando': 4520, 'desear': 4521, 'desear.': 4522, 'desearás': 4523, 'desearía': 4524, 'deseas': 4525, 'desembarazarnos': 4526, 'desengañada.': 4527, 'desengaño': 4528, 'desengaño,': 4529, 'desenmascaramiento': 4530, 'desenterrarla.': 4531, 'desenvuelto': 4532, 'deseo': 4533, 'deseo,': 4534, 'deseo.': 4535, 'deseos': 4536, 'deseos,': 4537, 'deseos.': 4538, 'desespera.': 4539, 'desesperación': 4540, 'desesperado': 4541, 'desesperado,': 4542, 'desesperanza': 4543, 'desesperaría': 4544, 'desfalleciente': 4545, 'desfigurado': 4546, 'desfigurar': 4547, 'desfilar': 4548, 'desgracia': 4549, 'desgracia,': 4550, 'desgracia.': 4551, 'desgracia?--dijo': 4552, 'desgraciada': 4553, 'desgraciada.': 4554, 'desgraciadas;': 4555, 'desgraciados:': 4556, 'desgreñado.': 4557, 'deshago': 4558, 'desierto.': 4559, 'desierto?': 4560, 'desiertos': 4561, 'desiertos.': 4562, 'designios': 4563, 'desigual,': 4564, 'desiguales,': 4565, 'desinteresadamente.': 4566, 'desinteresadas?': 4567, 'desinterés': 4568, 'desinterés,': 4569, 'deslealtad': 4570, 'deslealtad,': 4571, 'deslizado?': 4572, 'deslucida.': 4573, 'deslumbrante,': 4574, 'desmayada,': 4575, 'desmayadas,': 4576, 'desmañadamente,': 4577, 'desmañado': 4578, 'desmerece': 4579, 'desmesurada': 4580, 'desnuda': 4581, 'desnuda;': 4582, 'desolado,': 4583, 'desolará': 4584, 'desorden': 4585, 'despacio': 4586, 'despacito': 4587, 'despecho': 4588, 'despechos,': 4589, 'despedida,': 4590, 'despegaron': 4591, 'despejando': 4592, 'despejo.': 4593, 'despertado': 4594, 'despide': 4595, 'despierta,': 4596, 'desplomado': 4597, 'despreciable,': 4598, 'desprendan': 4599, 'desprende': 4600, 'desprenden': 4601, 'desprovista': 4602, 'después': 4603, 'después,': 4604, 'después.': 4605, 'destellos': 4606, 'destemplanzas': 4607, 'desterrada': 4608, 'desterrada,': 4609, 'destilación': 4610, 'destinados': 4611, 'destino,': 4612, 'destituirán': 4613, 'destituya': 4614, 'destronado.': 4615, 'destronamiento': 4616, 'destruir': 4617, 'destruye': 4618, 'destruye.': 4619, 'destruyen': 4620, 'desuso': 4621, 'desvanecen': 4622, 'desvanecer': 4623, 'desvelan;': 4624, 'desventura': 4625, 'desventura.': 4626, 'desventuras': 4627, 'desvergonzadamente': 4628, 'desviven': 4629, 'desvivo': 4630, 'desvíos': 4631, 'detalle': 4632, 'detalles': 4633, 'detalles,': 4634, 'detalles.': 4635, 'detendré;': 4636, 'detenga': 4637, 'determinación': 4638, 'determinada': 4639, 'determinadas': 4640, 'determinado': 4641, 'determinado,': 4642, 'determinados': 4643, 'determinan': 4644, 'determinar': 4645, 'detestables': 4646, 'detractor': 4647, 'detrás': 4648, 'deudas,': 4649, 'devaneos': 4650, 'devaneos.': 4651, 'devocionarios,': 4652, 'devoció;': 4653, 'devoción,': 4654, 'devolverla': 4655, 'devota': 4656, 'devuelto': 4657, 'di': 4658, 'diablo': 4659, 'diablo,': 4660, 'diablo.': 4661, 'diablo;': 4662, 'diablo».': 4663, 'diagnsótico': 4664, 'diamante.': 4665, 'diametralmente': 4666, 'diaria': 4667, 'diaria,': 4668, 'diarias,': 4669, 'diario,': 4670, 'diarios': 4671, 'diarios,': 4672, 'diarios.': 4673, 'diatribas': 4674, 'diccionario': 4675, 'dice': 4676, 'dice,': 4677, 'dice--del': 4678, 'dice--es': 4679, 'dice--pues': 4680, 'dice.': 4681, 'dicen': 4682, 'dicen,': 4683, 'dicen:': 4684, 'dices': 4685, 'dices!': 4686, 'dices,': 4687, 'dices;': 4688, 'dices?': 4689, 'dice»,': 4690, 'dicha': 4691, 'dicha.': 4692, 'dichas': 4693, 'dicho': 4694, 'dicho,': 4695, 'dicho.': 4696, 'dicho:': 4697, 'dicho;': 4698, 'dicho?': 4699, 'dichos,': 4700, 'dichosas': 4701, 'diciendo': 4702, 'diciendo,': 4703, 'diciendo:': 4704, 'diciéndome': 4705, 'dictada': 4706, 'dictadas': 4707, 'dictar': 4708, 'diera': 4709, 'dieran': 4710, 'dieron': 4711, 'diez': 4712, 'diferencia': 4713, 'diferencia!...': 4714, 'diferenciación': 4715, 'diferenciamos.': 4716, 'diferencian': 4717, 'diferencias': 4718, 'diferir': 4719, 'dificulta': 4720, 'dificultad': 4721, 'dificultad.': 4722, 'dificultades:': 4723, 'difundida': 4724, 'difundiendo': 4725, 'difuntas,': 4726, 'difunto': 4727, 'difuntos': 4728, 'difusión': 4729, 'difícil': 4730, 'difícil,': 4731, 'difícil.': 4732, 'difícil...': 4733, 'difíciles': 4734, 'diga': 4735, 'diga,': 4736, 'digamos': 4737, 'digan': 4738, 'digas': 4739, 'digas!': 4740, 'digestivo': 4741, 'digital,': 4742, 'digna': 4743, 'digna,': 4744, 'dignamente,': 4745, 'dignamente».': 4746, 'dignara': 4747, 'dignas': 4748, 'dignidad.': 4749, 'digno': 4750, 'digno,': 4751, 'dignos': 4752, 'dignísima;': 4753, 'digo': 4754, 'digo,': 4755, 'digo,--porque': 4756, 'digo:': 4757, 'digo;--no': 4758, 'dije': 4759, 'dije,--no': 4760, 'dije--.': 4761, 'dije:': 4762, 'dijera': 4763, 'dijeron?': 4764, 'dijiste': 4765, 'dijiste?': 4766, 'dijo': 4767, 'dijo.': 4768, 'dijo:': 4769, 'dijo;': 4770, 'dijo?': 4771, 'dijéramos': 4772, 'dilatación': 4773, 'dilatados': 4774, 'dilatan': 4775, 'dile': 4776, 'dimana': 4777, 'dimanaba': 4778, 'dimanada': 4779, 'dimanado': 4780, 'dimanados': 4781, 'dimanan': 4782, 'diminuta': 4783, 'dineral;': 4784, 'dinero': 4785, 'dinero,': 4786, 'dinero.': 4787, 'dio': 4788, 'dioses': 4789, 'dioses.': 4790, 'diplomacia.': 4791, 'diplomática,': 4792, 'diplomático': 4793, 'diplomático.': 4794, 'diplomático;': 4795, 'diplomáticos': 4796, 'diplomáticos,': 4797, 'diplomáticos.': 4798, 'dirección': 4799, 'dirección;': 4800, 'directa': 4801, 'directamente.': 4802, 'directas,': 4803, 'directiva': 4804, 'directo:': 4805, 'directores': 4806, 'directorio': 4807, 'diremos': 4808, 'dirige': 4809, 'dirigida': 4810, 'dirigidas': 4811, 'dirigido': 4812, 'dirigir': 4813, 'dirigirse': 4814, 'dirigiéndola': 4815, 'dirigiéndose': 4816, 'dirigió': 4817, 'dirigían': 4818, 'dirijo': 4819, 'diré': 4820, 'dirías': 4821, 'discernimiento': 4822, 'disciplina': 4823, 'disciplinada': 4824, 'disciplinas': 4825, 'discordia.': 4826, 'discreción': 4827, 'discreción,': 4828, 'discreción.': 4829, 'discreta': 4830, 'discreta,': 4831, 'discreta.': 4832, 'discretamente': 4833, 'discretas': 4834, 'discretas,': 4835, 'discreto': 4836, 'discreto,': 4837, 'discretos': 4838, 'discretos,': 4839, 'discretos;': 4840, 'disculpa': 4841, 'disculpa,': 4842, 'disculpable': 4843, 'disculpas': 4844, 'discurramos': 4845, 'discurre': 4846, 'discurrir': 4847, 'discurso.': 4848, 'discusión': 4849, 'discute': 4850, 'discuten': 4851, 'discutible.': 4852, 'discutir,': 4853, 'discípulo': 4854, 'disertaciones': 4855, 'disertar': 4856, 'disfraz': 4857, 'disfrutar': 4858, 'disgustada.': 4859, 'disgustado': 4860, 'disgustillos': 4861, 'disgustillos,': 4862, 'disgusto': 4863, 'disgusto.': 4864, 'disgustos': 4865, 'disgustos,': 4866, 'disgustos.': 4867, 'disgustos...': 4868, 'disidencias': 4869, 'disiparla.': 4870, 'disminuye': 4871, 'disminuyen': 4872, 'disolución': 4873, 'disparadas': 4874, 'disparates': 4875, 'disparates.': 4876, 'dispares.': 4877, 'dispendiosa': 4878, 'dispersos': 4879, 'dispone': 4880, 'dispongo.': 4881, 'disponible': 4882, 'disponible,': 4883, 'disponiendo': 4884, 'disposiciones': 4885, 'disposición': 4886, 'dispuesto': 4887, 'dispuestos': 4888, 'dispuesto»': 4889, 'disputa': 4890, 'disputada': 4891, 'disputado': 4892, 'disputárselo': 4893, 'disquisiciones': 4894, 'distanciamiento': 4895, 'distinción': 4896, 'distingan': 4897, 'distingos': 4898, 'distingue': 4899, 'distinguida': 4900, 'distinguidas': 4901, 'distinguidas,': 4902, 'distinguido': 4903, 'distinguidísima': 4904, 'distinguidísimo,': 4905, 'distinguiéndose': 4906, 'distinta': 4907, 'distintas': 4908, 'distinto': 4909, 'distinto.': 4910, 'distintos': 4911, 'distintos.': 4912, 'distintos...': 4913, 'distraerme...': 4914, 'distraídos': 4915, 'distribuya': 4916, 'distribuye': 4917, 'ditirambo': 4918, 'divagaciones': 4919, 'divagar': 4920, 'diversas': 4921, 'diversas.': 4922, 'diversión': 4923, 'diverso': 4924, 'diversos': 4925, 'diversos.': 4926, 'divertida': 4927, 'divertida.': 4928, 'divertido': 4929, 'divertido.': 4930, 'divertidos': 4931, 'divertidos,': 4932, 'divertir': 4933, 'divertirnos,': 4934, 'divertirse,': 4935, 'divertí.': 4936, 'dividen': 4937, 'dividendos': 4938, 'divierte': 4939, 'diviertes,': 4940, 'divierto': 4941, 'divina': 4942, 'divina.': 4943, 'divino': 4944, 'divino,': 4945, 'divino.': 4946, 'divinos': 4947, 'divinos,': 4948, 'divorcio': 4949, 'divorcio;': 4950, 'divulga': 4951, 'divulgación.': 4952, 'divulgado': 4953, 'dió': 4954, 'dió,': 4955, 'do': 4956, 'doble': 4957, 'doble,': 4958, 'docilidad': 4959, 'docilidad.': 4960, 'docta,': 4961, 'doctor': 4962, 'doctores,': 4963, 'doctrina,': 4964, 'dogma': 4965, 'dogmáticos': 4966, 'doime': 4967, 'dolencia.': 4968, 'dolernos': 4969, 'dolor': 4970, 'dolor,': 4971, 'dolor.': 4972, 'dolores': 4973, 'dominadoras': 4974, 'dominados': 4975, 'dominar': 4976, 'domingo': 4977, 'dominio': 4978, 'doméstica,': 4979, 'domésticas': 4980, 'domésticas,': 4981, 'domésticas.': 4982, 'domésticos': 4983, 'don': 4984, 'donaire': 4985, 'donaire;': 4986, 'donaires': 4987, 'doncel': 4988, 'doncel,': 4989, 'doncel.': 4990, 'donceles': 4991, 'doncella': 4992, 'donde': 4993, 'dones': 4994, 'donjuanesco,': 4995, 'dorada.': 4996, 'doradas,': 4997, 'dorado': 4998, 'dorado--pase': 4999, 'dorados': 5000, 'dorar': 5001, 'dorarnos,': 5002, 'dormido': 5003, 'dormido.': 5004, 'dormidos;': 5005, 'dormía;': 5006, 'dos': 5007, 'dos,': 5008, 'dos.': 5009, 'doscientos': 5010, 'dotada': 5011, 'dotado': 5012, 'dotan': 5013, 'dote,': 5014, 'doy': 5015, 'doña': 5016, 'dramas,': 5017, 'dramaturgo': 5018, 'du': 5019, 'dualidad:': 5020, 'dubitativo.': 5021, 'duda': 5022, 'duda!': 5023, 'duda,': 5024, 'duda.': 5025, 'duda:': 5026, 'dudar': 5027, 'dudas.': 5028, 'dudo...': 5029, 'dudosa': 5030, 'duerme,': 5031, 'duermen': 5032, 'dueña': 5033, 'dueñas': 5034, 'dueño': 5035, 'dulce': 5036, 'dulce:': 5037, 'dulcemente': 5038, 'dulcemente.': 5039, 'dulce».': 5040, 'dulcísimo': 5041, 'dulzura': 5042, 'dulzura,': 5043, 'dulzura.': 5044, 'duque': 5045, 'duquesas': 5046, 'dura': 5047, 'durable,': 5048, 'duración,': 5049, 'duración.': 5050, 'duradera.': 5051, 'duraderas': 5052, 'duran': 5053, 'durante': 5054, 'duraría': 5055, 'duras': 5056, 'dure': 5057, 'duro': 5058, 'dándole': 5059, 'dándome': 5060, 'dándose': 5061, 'dáse': 5062, 'dé': 5063, 'débiles': 5064, 'débiles,': 5065, 'décadas,': 5066, 'dése': 5067, 'dí': 5068, 'día': 5069, 'día,': 5070, 'día.': 5071, 'días': 5072, 'días,': 5073, 'días.': 5074, 'días...': 5075, 'días:': 5076, 'días?': 5077, 'días?»--«No': 5078, 'díjome': 5079, 'díscola': 5080, 'díscola,': 5081, 'dócil': 5082, 'dóciles.': 5083, 'dócilmente': 5084, 'dónde': 5085, 'dónde,': 5086, 'e': 5087, 'echa': 5088, 'echamos': 5089, 'echan': 5090, 'echarán': 5091, 'eche': 5092, 'echo!...': 5093, 'echo,': 5094, 'echó': 5095, 'eclesiásticas': 5096, 'eclipsada.': 5097, 'eclipsan': 5098, 'eclipsará': 5099, 'eco': 5100, 'economista': 5101, 'economista,': 5102, 'economistas': 5103, 'economistas,': 5104, 'economía': 5105, 'economía,': 5106, 'económica': 5107, 'económica,': 5108, 'económica.': 5109, 'económico': 5110, 'económico,': 5111, 'económico.': 5112, 'económicos.': 5113, 'ecuación.': 5114, 'edad': 5115, 'edad,': 5116, 'edad.': 5117, 'edades': 5118, 'edades.': 5119, 'edición': 5120, 'edición;': 5121, 'editarlas.': 5122, 'educación': 5123, 'educación,': 5124, 'educación.': 5125, 'educación».--«Cero».': 5126, 'educada,': 5127, 'educado': 5128, 'educado--pues,': 5129, 'educador': 5130, 'educador.': 5131, 'efectivo': 5132, 'efectivo,': 5133, 'efecto': 5134, 'efecto,': 5135, 'efecto.': 5136, 'efectos': 5137, 'eficaces,': 5138, 'eficacia': 5139, 'eficaz': 5140, 'eficaz.': 5141, 'efusiva': 5142, 'efusión': 5143, 'egoísmo': 5144, 'egoísmos': 5145, 'egoísmos,': 5146, 'egoísta,': 5147, 'eh?...': 5148, 'ejecutan': 5149, 'ejecutar': 5150, 'ejemplar': 5151, 'ejemplares': 5152, 'ejemplares,': 5153, 'ejemplo': 5154, 'ejemplo,': 5155, 'ejemplo;': 5156, 'ejemplos.': 5157, 'ejerce': 5158, 'ejercer': 5159, 'ejercicio': 5160, 'ejercida': 5161, 'ejércitos': 5162, 'el': 5163, 'elaboradas.': 5164, 'elecciones': 5165, 'elección': 5166, 'elección,': 5167, 'electivo': 5168, 'electoral,': 5169, 'electoral.': 5170, 'electores': 5171, 'electrizado': 5172, 'elegancia': 5173, 'elegancia)': 5174, 'elegancia,': 5175, 'elegancia.': 5176, 'elegancia;': 5177, 'elegante': 5178, 'elegante,': 5179, 'elegante.': 5180, 'elegantes': 5181, 'elegantes,': 5182, 'elegantes.': 5183, 'elegantísima»,': 5184, 'elegida': 5185, 'elegidos--representamos': 5186, 'elegir': 5187, 'elegir.': 5188, 'elegíaco': 5189, 'elemental': 5190, 'elemento': 5191, 'elementos': 5192, 'elementos,': 5193, 'elementos:': 5194, 'elevada': 5195, 'elevan': 5196, 'elevarlo.': 5197, 'eleven': 5198, 'elige': 5199, 'eligió': 5200, 'elijo': 5201, 'eliminar': 5202, 'ella': 5203, 'ella!...': 5204, 'ella,': 5205, 'ella--vino': 5206, 'ella.': 5207, 'ella?': 5208, 'ella?--preguntó.': 5209, 'ellas': 5210, 'ellas,': 5211, 'ellas.': 5212, 'ellas;': 5213, 'ello': 5214, 'ello,': 5215, 'ello.': 5216, 'ello?': 5217, 'ellos': 5218, 'ellos!»': 5219, 'ellos,': 5220, 'ellos.': 5221, 'elocuencia': 5222, 'elocuente.': 5223, 'elogian': 5224, 'elogiar': 5225, 'elogio.': 5226, 'elogios': 5227, 'elogios,': 5228, 'eludir': 5229, 'eludí': 5230, 'elísea': 5231, 'embajada': 5232, 'embajadas': 5233, 'embajadores': 5234, 'embarga;': 5235, 'embargo,': 5236, 'embarullada,': 5237, 'embellece': 5238, 'emblema': 5239, 'embriagador': 5240, 'embriaguez': 5241, 'embrollón': 5242, 'embromarme': 5243, 'embromarme,': 5244, 'embusteros.': 5245, 'eminente': 5246, 'eminentísimo': 5247, 'emisión': 5248, 'emite.': 5249, 'emitidos': 5250, 'emitir': 5251, 'emocional': 5252, 'emocional,': 5253, 'emociones': 5254, 'emociones,': 5255, 'emociones.': 5256, 'emoción': 5257, 'emoción,': 5258, 'emoción.': 5259, 'emoción;': 5260, 'empaque': 5261, 'emparedado': 5262, 'emparentar': 5263, 'empastado,': 5264, 'empecinada': 5265, 'empecinados,': 5266, 'empecinamiento.': 5267, 'empequeñecidos,': 5268, 'emperador': 5269, 'emperador,': 5270, 'empezar': 5271, 'empezar,': 5272, 'empezar.': 5273, 'empezar;': 5274, 'empezó': 5275, 'empezó,': 5276, 'empeñado': 5277, 'empeño': 5278, 'empeños': 5279, 'empeñoso': 5280, 'empiece': 5281, 'empieza': 5282, 'empieza;': 5283, 'empiezo': 5284, 'empiezo...': 5285, 'empingorotado': 5286, 'empingorotado.': 5287, 'emplazamiento': 5288, 'emplea': 5289, 'emplea.': 5290, 'empleado': 5291, 'empleado;': 5292, 'empleando': 5293, 'emplear': 5294, 'emplearse': 5295, 'empleen': 5296, 'empleo,': 5297, 'empleos': 5298, 'emprendedor': 5299, 'empresas': 5300, 'empresas.': 5301, 'empírico': 5302, 'en': 5303, 'enamorada': 5304, 'enamorada.': 5305, 'enamorado': 5306, 'enamorado,': 5307, 'enamorado.': 5308, 'enamorados': 5309, 'enamorar.': 5310, 'enamorarse': 5311, 'enamorarse,': 5312, 'enamoré': 5313, 'enardecido': 5314, 'enardecían': 5315, 'encantada': 5316, 'encantada.': 5317, 'encantadora': 5318, 'encantadora!...': 5319, 'encantadora.': 5320, 'encantadoras.': 5321, 'encantamiento': 5322, 'encanto': 5323, 'encantos': 5324, 'encarecimiento': 5325, 'encarga': 5326, 'encargará': 5327, 'encargó': 5328, 'encarnizada.': 5329, 'encasillamiento': 5330, 'encauzándolos': 5331, 'encendida': 5332, 'encendida.': 5333, 'encendido': 5334, 'encendía': 5335, 'encerrada': 5336, 'encerrado': 5337, 'encerrar,': 5338, 'encerrarte': 5339, 'encienda': 5340, 'enciende': 5341, 'encierra': 5342, 'encierra.': 5343, 'encierran': 5344, 'encierro.': 5345, 'encima': 5346, 'enclaustramiento;': 5347, 'encomiásticos': 5348, 'enconos': 5349, 'encontraremos': 5350, 'encontrará': 5351, 'encontrándose': 5352, 'encontré': 5353, 'encontróse': 5354, 'encrespado': 5355, 'encrespamiento,': 5356, 'encuentra': 5357, 'encuentre': 5358, 'encuentro': 5359, 'encuentros': 5360, 'endeble': 5361, 'endosar': 5362, 'endosársela.': 5363, 'enemigo': 5364, 'enemigos': 5365, 'energía': 5366, 'energía,': 5367, 'enfadada.': 5368, 'enferma': 5369, 'enferma,': 5370, 'enfermedad': 5371, 'enfermedades': 5372, 'enfermedades,': 5373, 'enfermo': 5374, 'enfrente,': 5375, 'engañada.': 5376, 'engañado': 5377, 'engañar': 5378, 'engañar,': 5379, 'engañarnos,': 5380, 'engaño': 5381, 'engaño,': 5382, 'engañándose': 5383, 'engomados,': 5384, 'enhiesto': 5385, 'enhorabuenas,': 5386, 'enlace': 5387, 'enlaces': 5388, 'enlaces,': 5389, 'enlazada': 5390, 'enloquece': 5391, 'enloquecen».': 5392, 'enmascaramiento': 5393, 'enmascaramiento.': 5394, 'enmudeció': 5395, 'ennoblecen': 5396, 'enojado': 5397, 'enojadísima': 5398, 'enojarme?': 5399, 'enojarán': 5400, 'enojas': 5401, 'enojo': 5402, 'enojo.': 5403, 'enojos,': 5404, 'enojó': 5405, 'enorme': 5406, 'enramada': 5407, 'enreda': 5408, 'enredo,': 5409, 'ensancha': 5410, 'ensanche': 5411, 'ensayando': 5412, 'ensayo': 5413, 'ensañarnos': 5414, 'enseres': 5415, 'enseña': 5416, 'enseñanza': 5417, 'enseñar': 5418, 'enseñe': 5419, 'ensoberbecida': 5420, 'ensueño': 5421, 'ensueño;': 5422, 'ensueños': 5423, 'ensueños.': 5424, 'entallado,': 5425, 'entallamiento': 5426, 'entender': 5427, 'entendernos,': 5428, 'entenderse': 5429, 'entendida': 5430, 'entendido': 5431, 'entendiera,': 5432, 'entendimiento': 5433, 'entendimiento.': 5434, 'entendimiento;': 5435, 'entendió': 5436, 'enteraba': 5437, 'enterada.': 5438, 'enterados': 5439, 'enteramos': 5440, 'enterarnos': 5441, 'enteras': 5442, 'enternecido,': 5443, 'entero': 5444, 'entero.': 5445, 'enterrarte': 5446, 'entienda': 5447, 'entiende': 5448, 'entiendo': 5449, 'entiendo;': 5450, 'entierro': 5451, 'entonación': 5452, 'entonces': 5453, 'entonces,': 5454, 'entra': 5455, 'entrada': 5456, 'entrada,': 5457, 'entrar': 5458, 'entrar.': 5459, 'entrara': 5460, 'entraron': 5461, 'entrañable,': 5462, 'entre': 5463, 'entrecortarlas': 5464, 'entregar': 5465, 'entregarnos,': 5466, 'entregó': 5467, 'entremos': 5468, 'entretejiendo': 5469, 'entretenerme.': 5470, 'entretengo': 5471, 'entretenida': 5472, 'entretenido': 5473, 'entrevista': 5474, 'entrevista.': 5475, 'entristecido,': 5476, 'entrometimiento': 5477, 'entronque': 5478, 'entronques': 5479, 'entronques,': 5480, 'entró': 5481, 'entusiasma': 5482, 'entusiasmado': 5483, 'entusiasmo,': 5484, 'envanecimiento': 5485, 'envanecimiento,': 5486, 'envanécese': 5487, 'envenenado,': 5488, 'enviándole': 5489, 'envolver': 5490, 'envolverlo': 5491, 'envuelta': 5492, 'envueltos': 5493, 'envuelve': 5494, 'envía': 5495, 'envían': 5496, 'enzarzados': 5497, 'enérgicos,': 5498, 'episodio': 5499, 'episodios': 5500, 'epopeya': 5501, 'epígrafe': 5502, 'epístolas': 5503, 'equilibrio': 5504, 'equilibrio,': 5505, 'equipaje!': 5506, 'equitativamente': 5507, 'equivale': 5508, 'equivalencia': 5509, 'equivalga': 5510, 'equivoca': 5511, 'equivocada.': 5512, 'era': 5513, 'era,': 5514, 'era.': 5515, 'eran': 5516, 'eres': 5517, 'eres,': 5518, 'eres;': 5519, 'ergotista,': 5520, 'erguido,': 5521, 'erigirse': 5522, 'error': 5523, 'error,': 5524, 'error.': 5525, 'errores': 5526, 'erróneo': 5527, 'erudición': 5528, 'erudición,': 5529, 'erudito': 5530, 'erudito,': 5531, 'es': 5532, 'es,': 5533, 'es:': 5534, 'es?': 5535, 'es?»--pregunté': 5536, 'esa': 5537, 'esas': 5538, 'esbozo': 5539, 'esbozo:': 5540, 'escabrosas.': 5541, 'escabroso,': 5542, 'escandalicen': 5543, 'escapar': 5544, 'escaparates.': 5545, 'escape': 5546, 'escarnio': 5547, 'escasez': 5548, 'escena': 5549, 'escena!': 5550, 'escena?': 5551, 'escenas': 5552, 'esclarecer': 5553, 'esclava': 5554, 'esclavitud': 5555, 'esclavizadora.': 5556, 'esclavizamos': 5557, 'esclavizándose': 5558, 'esclavo': 5559, 'esclavos': 5560, 'escogían': 5561, 'escotados,': 5562, 'escote,': 5563, 'escribe': 5564, 'escribe.': 5565, 'escribe;': 5566, 'escriben.': 5567, 'escribir': 5568, 'escribir,': 5569, 'escribir:': 5570, 'escribió': 5571, 'escribo': 5572, 'escribí,': 5573, 'escribía:': 5574, 'escrita': 5575, 'escritas': 5576, 'escrito': 5577, 'escritor': 5578, 'escritora': 5579, 'escritores': 5580, 'escritores.': 5581, 'escritos': 5582, 'escrúpulos.': 5583, 'escuadra': 5584, 'escuchar': 5585, 'escucho': 5586, 'escuché': 5587, 'escudo': 5588, 'escudriñara': 5589, 'escultor': 5590, 'escultores': 5591, 'ese': 5592, 'esencial': 5593, 'esencial,': 5594, 'esencial.': 5595, 'esencias': 5596, 'esfuerzo': 5597, 'esfuerzo,': 5598, 'esfuerzo.': 5599, 'esfuerzos': 5600, 'eslabonada': 5601, 'eslabones': 5602, 'eslabón': 5603, 'esmerada': 5604, 'eso': 5605, 'eso,': 5606, 'eso.': 5607, 'esos': 5608, 'espacio': 5609, 'espacio.': 5610, 'espacios': 5611, 'espalda': 5612, 'espantadizos.': 5613, 'español': 5614, 'español,': 5615, 'español.': 5616, 'española:': 5617, 'españoles.': 5618, 'especial': 5619, 'especial,': 5620, 'especialidad': 5621, 'especialista,': 5622, 'especialmente': 5623, 'especialmente,': 5624, 'especialmente--aquí': 5625, 'especie': 5626, 'especie,': 5627, 'espectáculo': 5628, 'espectáculo.': 5629, 'especulaciones': 5630, 'especulaciones,': 5631, 'especulación,': 5632, 'espejo': 5633, 'espejo,': 5634, 'espejo.': 5635, 'espejos': 5636, 'espeluznante': 5637, 'espera': 5638, 'esperan': 5639, 'esperando': 5640, 'esperanza!': 5641, 'esperanza!--me': 5642, 'esperanza!...': 5643, 'esperanzas': 5644, 'esperanzas.': 5645, 'esperar': 5646, 'esperarme': 5647, 'esperarse': 5648, 'espero': 5649, 'espesa': 5650, 'espina': 5651, 'espinas': 5652, 'espiritual': 5653, 'espiritual,': 5654, 'espiritual.': 5655, 'espiritual.--«¡Aceptado!': 5656, 'espiritual?': 5657, 'espirituales': 5658, 'espirituales,': 5659, 'espirituales.': 5660, 'espiritualidad': 5661, 'espiritualidad,': 5662, 'espiritualidad.': 5663, 'espiritualidad;': 5664, 'espiritualismo': 5665, 'espiritualiza': 5666, 'esplendidez': 5667, 'esplendor': 5668, 'espléndido.': 5669, 'espontáneo,': 5670, 'espontáneos': 5671, 'esposa': 5672, 'esposa,': 5673, 'esposas.': 5674, 'esposo': 5675, 'esposo--es': 5676, 'esposo--porque': 5677, 'esposo.': 5678, 'esposos': 5679, 'espuma,': 5680, 'espuma.': 5681, 'espumillas': 5682, 'espíritu': 5683, 'espíritu,': 5684, 'espíritu.': 5685, 'espíritu;': 5686, 'espíritus': 5687, 'espíritus,': 5688, 'esqueleto': 5689, 'esquelita': 5690, 'esquife': 5691, 'esta': 5692, 'estaba': 5693, 'estaban': 5694, 'establece': 5695, 'establecer': 5696, 'establecida': 5697, 'estadista': 5698, 'estado': 5699, 'estados': 5700, 'estadística': 5701, 'estallar,': 5702, 'estamos': 5703, 'estampadas': 5704, 'estampan': 5705, 'estamparse': 5706, 'estampó': 5707, 'estancia': 5708, 'estancia,': 5709, 'estancia.': 5710, 'estancias': 5711, 'estancias,': 5712, 'estanciero': 5713, 'estanciero,': 5714, 'estanciero.': 5715, 'estando': 5716, 'estante;': 5717, 'estar': 5718, 'estará': 5719, 'estarían': 5720, 'estas': 5721, 'estatua': 5722, 'este': 5723, 'esterlinas.': 5724, 'estilo': 5725, 'estilo,': 5726, 'estilo.': 5727, 'estimulante': 5728, 'estimulantes': 5729, 'estimular': 5730, 'estimulara': 5731, 'estirpe.': 5732, 'esto': 5733, 'esto!': 5734, 'esto,': 5735, 'esto.': 5736, 'esto?': 5737, 'esto?»': 5738, 'estorbo.': 5739, 'estos': 5740, 'estotro': 5741, 'estoy': 5742, 'estragos': 5743, 'estrambótico.': 5744, 'estrategia': 5745, 'estratégica,': 5746, 'estratégicos,': 5747, 'estrecharse': 5748, 'estrecheces': 5749, 'estrecheces,': 5750, 'estrecho': 5751, 'estrechos': 5752, 'estrella': 5753, 'estrella,': 5754, 'estrellas': 5755, 'estrellas,': 5756, 'estrellas.': 5757, 'estremecimientos': 5758, 'estrenado': 5759, 'estriba': 5760, 'estriban': 5761, 'estricto,': 5762, 'estridente.': 5763, 'estropeado': 5764, 'estropear': 5765, 'estructura': 5766, 'estrujado': 5767, 'estudia': 5768, 'estudia,': 5769, 'estudiaba': 5770, 'estudiaban,': 5771, 'estudiado': 5772, 'estudian': 5773, 'estudian,': 5774, 'estudiante': 5775, 'estudiar': 5776, 'estudiar?': 5777, 'estudio': 5778, 'estudio,': 5779, 'estupendo': 5780, 'estuve': 5781, 'estuviera': 5782, 'estuvieran': 5783, 'estuvieras': 5784, 'estuviesen': 5785, 'estuvo': 5786, 'está': 5787, 'está,': 5788, 'estábamos': 5789, 'están': 5790, 'estás': 5791, 'estát': 5792, 'esté': 5793, 'estén': 5794, 'estériles,': 5795, 'estética': 5796, 'estéticas.': 5797, 'estético': 5798, 'estético,': 5799, 'estético.': 5800, 'estímulo': 5801, 'etc.': 5802, 'etc.,': 5803, 'etc.»': 5804, 'etc.»,': 5805, 'eterna': 5806, 'eterna!': 5807, 'eterna.': 5808, 'eternidad,': 5809, 'eterno': 5810, 'etiqueta': 5811, 'europea.': 5812, 'europeas': 5813, 'europeas,': 5814, 'europeos': 5815, 'europeos,': 5816, 'evasivas': 5817, 'evidencia': 5818, 'evidente': 5819, 'evidente.': 5820, 'evita': 5821, 'evitan': 5822, 'evitar': 5823, 'evoca': 5824, 'evocación': 5825, 'evocando': 5826, 'evoluciones.': 5827, 'evolución': 5828, 'ex': 5829, 'exacta': 5830, 'exacta.': 5831, 'exactas,': 5832, 'exactitud.': 5833, 'exacto': 5834, 'exacto.': 5835, 'exageraciones': 5836, 'exageración': 5837, 'exageración,': 5838, 'exagerada': 5839, 'exagerado': 5840, 'exagerados.': 5841, 'exagerar,': 5842, 'exageras,': 5843, 'exagerándose,': 5844, 'exaltación': 5845, 'exaltada': 5846, 'exaltada,': 5847, 'exaltadas': 5848, 'exaltado': 5849, 'exaltados,': 5850, 'exaltará': 5851, 'exaltaría,': 5852, 'examinaban': 5853, 'examinando': 5854, 'exasperación': 5855, 'excedido': 5856, 'excelencia.': 5857, 'excelente': 5858, 'excelente,': 5859, 'excelentísimo': 5860, 'excelso': 5861, 'excelso,': 5862, 'excepcionales,': 5863, 'excepto': 5864, 'excesiva': 5865, 'excesiva,': 5866, 'excesivamente': 5867, 'excesivo': 5868, 'excesivos.': 5869, 'excesos': 5870, 'excesos.': 5871, 'exclamar:': 5872, 'exclamó': 5873, 'exclamó,': 5874, 'exclusivamente': 5875, 'exclusivamente,': 5876, 'excluye': 5877, 'excluyen,': 5878, 'excusas.': 5879, 'exenta': 5880, 'exentas': 5881, 'exento': 5882, 'exhalación': 5883, 'exigen': 5884, 'exigirlo': 5885, 'exigiría,': 5886, 'exigía.': 5887, 'exista': 5888, 'exista?': 5889, 'existe': 5890, 'existe,': 5891, 'existen': 5892, 'existen,': 5893, 'existen.': 5894, 'existencia': 5895, 'existencia,': 5896, 'existencia--narrarán': 5897, 'existencia.': 5898, 'existente': 5899, 'existente,': 5900, 'existido': 5901, 'existiendo': 5902, 'existir': 5903, 'existir.': 5904, 'exitazo': 5905, 'exitista.': 5906, 'expansivo,': 5907, 'expedición': 5908, 'expeditivos': 5909, 'experiencia': 5910, 'experiencia.': 5911, 'experimentada,': 5912, 'experimentar': 5913, 'experimenté': 5914, 'explanada': 5915, 'explica': 5916, 'explica;': 5917, 'explicaciones,': 5918, 'explicación': 5919, 'explicación.': 5920, 'explicado,': 5921, 'explicamos': 5922, 'explican': 5923, 'explicar': 5924, 'explicarlo...': 5925, 'explicaré.': 5926, 'explico': 5927, 'explico,': 5928, 'explico.': 5929, 'explicó': 5930, 'explique.': 5931, 'exploraciones': 5932, 'explorar,': 5933, 'expondrá': 5934, 'exponerlo': 5935, 'expongo': 5936, 'exportaciones': 5937, 'exportar': 5938, 'expresa': 5939, 'expresaban': 5940, 'expresan': 5941, 'expresar': 5942, 'expresarlos': 5943, 'expresarse': 5944, 'expresarse.': 5945, 'expresivo': 5946, 'expresión': 5947, 'expresión,': 5948, 'expresión.': 5949, 'expresó': 5950, 'expuestas': 5951, 'expusiera': 5952, 'exquisita': 5953, 'exquisita,': 5954, 'exquisitez': 5955, 'extender': 5956, 'extendido': 5957, 'extensamente': 5958, 'extensión': 5959, 'extenso,': 5960, 'exterior': 5961, 'externa': 5962, 'externa,': 5963, 'externa.': 5964, 'externas': 5965, 'externo': 5966, 'externo,': 5967, 'externo.': 5968, 'extracto': 5969, 'extranjeras».': 5970, 'extranjeros': 5971, 'extraordinaria': 5972, 'extraordinaria,': 5973, 'extraordinaria.': 5974, 'extraordinario.': 5975, 'extraordinarios,': 5976, 'extravagante,': 5977, 'extravagante.': 5978, 'extravasadas,': 5979, 'extrañeza': 5980, 'extrañeza?': 5981, 'extraño': 5982, 'extremada': 5983, 'extremo': 5984, 'extremo,': 5985, 'exultante': 5986, 'exultante,': 5987, 'exultantes': 5988, 'exégetas': 5989, 'eólica': 5990, 'fabricación': 5991, 'facha,': 5992, 'facilísimo;': 5993, 'facineroso.': 5994, 'facultad': 5995, 'facultades': 5996, 'falda': 5997, 'falda,': 5998, 'faldas': 5999, 'faldilla': 6000, 'faldones': 6001, 'falla,': 6002, 'fallas': 6003, 'fallecido': 6004, 'falsa,': 6005, 'falsaria,': 6006, 'falsas': 6007, 'falso': 6008, 'falsos': 6009, 'falta': 6010, 'falta,': 6011, 'falta.': 6012, 'falta...': 6013, 'falta?»': 6014, 'faltaba.': 6015, 'faltado': 6016, 'faltan': 6017, 'faltan,': 6018, 'faltan.': 6019, 'faltara.': 6020, 'faltarán': 6021, 'fama': 6022, 'familia': 6023, 'familia,': 6024, 'familia.': 6025, 'familia:': 6026, 'familia?': 6027, 'familiar': 6028, 'familiar,': 6029, 'familiar.': 6030, 'familiares': 6031, 'familiares,': 6032, 'familiaridad': 6033, 'familias': 6034, 'familias,': 6035, 'familias.': 6036, 'familia».': 6037, 'famoso': 6038, 'famosos,': 6039, 'fanaticemos.': 6040, 'fanatismo': 6041, 'fanatismo,': 6042, 'fanatismo.': 6043, 'fanatismos': 6044, 'fanatizarse': 6045, 'fantasmagoría;': 6046, 'fantasía': 6047, 'fantasía,': 6048, 'fantasía.': 6049, 'fantástico': 6050, 'fantástico,': 6051, 'fantásticos': 6052, 'fanática.': 6053, 'farmacia': 6054, 'farol.': 6055, 'farrear': 6056, 'farsa': 6057, 'farsa,': 6058, 'farándula.': 6059, 'fascinación': 6060, 'fascinadora': 6061, 'fastidien': 6062, 'fastuosidad,': 6063, 'fastuosos': 6064, 'fastuosos,': 6065, 'fastuosos.': 6066, 'fatal': 6067, 'fatiga': 6068, 'fatiga,': 6069, 'fatiga.': 6070, 'fatigada': 6071, 'fatuo': 6072, 'fauna': 6073, 'fauna,': 6074, 'favor': 6075, 'favor?': 6076, 'favorable': 6077, 'favorable,': 6078, 'favorablemente': 6079, 'favorecen': 6080, 'favorecida': 6081, 'favores,': 6082, 'favorito': 6083, 'favoritos': 6084, 'favoritos,': 6085, 'favoritos.': 6086, 'fe': 6087, 'fea': 6088, 'fea,': 6089, 'fea;': 6090, 'fealdad.': 6091, 'feas': 6092, 'fecundas': 6093, 'federales': 6094, 'felices': 6095, 'felices,': 6096, 'felices.': 6097, 'felices?': 6098, 'felices».': 6099, 'felicidad': 6100, 'felicidad,': 6101, 'felicidad.': 6102, 'felicito': 6103, 'felicitándola': 6104, 'feliz': 6105, 'feliz,': 6106, 'feliz.': 6107, 'felizmente': 6108, 'felizmente.': 6109, 'femenil': 6110, 'femeniles': 6111, 'femenil».': 6112, 'femenina': 6113, 'femenina,': 6114, 'femenina.': 6115, 'femeninas': 6116, 'femeninas,': 6117, 'femenino': 6118, 'femenino,': 6119, 'femenino.': 6120, 'femenino;': 6121, 'feminista--el': 6122, 'feminista.': 6123, 'femme».': 6124, 'fenómeno': 6125, 'fenómeno:': 6126, 'ferrocarriles': 6127, 'ferroviarias,': 6128, 'fervor': 6129, 'festivales,': 6130, 'festivos.': 6131, 'feudales': 6132, 'fiasco': 6133, 'ficción': 6134, 'fidelidad!...': 6135, 'fiesta': 6136, 'fiesta,': 6137, 'fiesta.': 6138, 'fiestas': 6139, 'fiestas,': 6140, 'fiestas.': 6141, 'figura': 6142, 'figura.': 6143, 'figura:': 6144, 'figuraciones': 6145, 'figuración': 6146, 'figurado': 6147, 'figurado,': 6148, 'figuran': 6149, 'figurando': 6150, 'figurar': 6151, 'figuras': 6152, 'figuras,': 6153, 'fija': 6154, 'fija,': 6155, 'fijada': 6156, 'fijado': 6157, 'fijar': 6158, 'fijarse,': 6159, 'fijas': 6160, 'fija».': 6161, 'fijeza': 6162, 'fijeza,': 6163, 'fijo': 6164, 'fijo,': 6165, 'fila': 6166, 'fila,': 6167, 'filiación': 6168, 'filigrana': 6169, 'fililis': 6170, 'filológico.': 6171, 'filosofando,': 6172, 'filosofía': 6173, 'filosofía)': 6174, 'filosofía,': 6175, 'filosofías.': 6176, 'filosófica': 6177, 'filosóficas': 6178, 'filosófico,': 6179, 'filosófico;': 6180, 'filósofo': 6181, 'filósofo,': 6182, 'filósofo--claro': 6183, 'filósofos': 6184, 'filósofos,': 6185, 'fin': 6186, 'fin,': 6187, 'fin--tocar': 6188, 'fin--¡ay,': 6189, 'fin.': 6190, 'fin...': 6191, 'fina': 6192, 'fina,': 6193, 'final': 6194, 'final,': 6195, 'finalmente,': 6196, 'fines': 6197, 'fingida': 6198, 'fingimientos': 6199, 'fino': 6200, 'fino,': 6201, 'fino.': 6202, 'finos': 6203, 'finura': 6204, 'finuras': 6205, 'finísimos.': 6206, 'firme': 6207, 'firme,': 6208, 'firmeza': 6209, 'firmeza,': 6210, 'firmeza.': 6211, 'fiscal': 6212, 'fiscal,': 6213, 'fisonomías': 6214, 'flaco.': 6215, 'flaco»,': 6216, 'flamante': 6217, 'flamenco,': 6218, 'flechas': 6219, 'flejes,': 6220, 'flexible,': 6221, 'flexible.': 6222, 'flor': 6223, 'flora;': 6224, 'florecido': 6225, 'florecimiento,': 6226, 'flores,': 6227, 'florescencia.': 6228, 'florete': 6229, 'fluvial,': 6230, 'fluvial.': 6231, 'foco': 6232, 'focos': 6233, 'fogata': 6234, 'fogata.': 6235, 'follaje': 6236, 'fomentan': 6237, 'fomentarla.': 6238, 'fondo': 6239, 'fondo,': 6240, 'forma': 6241, 'forma;': 6242, 'formaban': 6243, 'formación': 6244, 'formada': 6245, 'formada;': 6246, 'formado': 6247, 'formado?': 6248, 'formados': 6249, 'forman': 6250, 'formando,': 6251, 'formar': 6252, 'formarse.': 6253, 'formas': 6254, 'formas,': 6255, 'formas:': 6256, 'forme': 6257, 'formes': 6258, 'formidables.': 6259, 'formulada': 6260, 'formulé': 6261, 'fortalecidos': 6262, 'fortaleza': 6263, 'fortuito,': 6264, 'fortuna': 6265, 'fortuna,': 6266, 'fortuna.': 6267, 'fortuna;': 6268, 'fortunas,': 6269, 'fortín.': 6270, 'forzosa': 6271, 'frac': 6272, 'frac,': 6273, 'frac;': 6274, 'fracasado': 6275, 'fracaso': 6276, 'fragmentos': 6277, 'fraguada,': 6278, 'fraguado': 6279, 'fraguan': 6280, 'frailes,': 6281, 'franca,': 6282, 'francamente,': 6283, 'francesa': 6284, 'francesas;': 6285, 'franceses,': 6286, 'francés': 6287, 'francés,': 6288, 'francés:': 6289, 'frase': 6290, 'frase)': 6291, 'frase);': 6292, 'frase,': 6293, 'frase:': 6294, 'frase;': 6295, 'frases': 6296, 'fratricida.': 6297, 'frecuencia': 6298, 'frecuencia,': 6299, 'frecuencia--que': 6300, 'frecuentan.': 6301, 'frecuentar': 6302, 'frecuente': 6303, 'frecuentemente': 6304, 'fregotea': 6305, 'frenesíes,': 6306, 'freno': 6307, 'frente': 6308, 'frente;--ahora': 6309, 'fresca.': 6310, 'frescura': 6311, 'frescura,': 6312, 'frigoríficos,': 6313, 'frivolidad': 6314, 'frivolidad,': 6315, 'fruncidos.': 6316, 'fruslería': 6317, 'frustrada,': 6318, 'frustrados': 6319, 'fruto': 6320, 'frágil': 6321, 'frágiles': 6322, 'frías': 6323, 'frío': 6324, 'frío,': 6325, 'frívola': 6326, 'frívola,': 6327, 'frívola.': 6328, 'frívolo': 6329, 'frívolos': 6330, 'fue': 6331, 'fuera': 6332, 'fuera,': 6333, 'fuera.': 6334, 'fueran': 6335, 'fueras,': 6336, 'fuere': 6337, 'fuero': 6338, 'fueron': 6339, 'fueron,': 6340, 'fueros': 6341, 'fuerte': 6342, 'fuerte,': 6343, 'fuerza': 6344, 'fuerza,': 6345, 'fuerza.': 6346, 'fuerzas,': 6347, 'fuese': 6348, 'fuese,': 6349, 'fugaces': 6350, 'fugaz,': 6351, 'fugaz;': 6352, 'fuimos': 6353, 'fuimos!...»': 6354, 'fulgor': 6355, 'fulgura': 6356, 'fulminante,': 6357, 'fulmínea': 6358, 'funciones.': 6359, 'función': 6360, 'funda,': 6361, 'fundado': 6362, 'fundamental': 6363, 'fundamental,': 6364, 'fundamental.': 6365, 'fundamental;': 6366, 'fundamentales': 6367, 'fundamento,': 6368, 'fundamentos': 6369, 'fundarse': 6370, 'fundido': 6371, 'fundidos': 6372, 'fundidos.': 6373, 'fundimos': 6374, 'fundó': 6375, 'funerales,': 6376, 'funerario.': 6377, 'furia': 6378, 'furibundo': 6379, 'furiosa;': 6380, 'furioso.': 6381, 'fusas': 6382, 'fusión': 6383, 'futesa,': 6384, 'futura': 6385, 'futura!...': 6386, 'futura.': 6387, 'futuras': 6388, 'futuras,': 6389, 'futuro': 6390, 'futuros': 6391, 'futuros.': 6392, 'fué': 6393, 'fué.': 6394, 'fué?': 6395, 'fué?»': 6396, 'fuí': 6397, 'fácil': 6398, 'fácil,': 6399, 'fáciles': 6400, 'fácilmente': 6401, 'fácilmente.': 6402, 'fío': 6403, 'física': 6404, 'física,': 6405, 'física.': 6406, 'físico,': 6407, 'físicos': 6408, 'físicos,': 6409, 'físicos.': 6410, 'fórmula': 6411, 'fútiles': 6412, 'galante': 6413, 'galante!...': 6414, 'galante,': 6415, 'galante--pero,': 6416, 'galantería': 6417, 'galanterías': 6418, 'galanterías,': 6419, 'galenos': 6420, 'galera': 6421, 'galera!...': 6422, 'galera,': 6423, 'galería,': 6424, 'galicismo):': 6425, 'galicismo--de': 6426, 'gallardía': 6427, 'gallina': 6428, 'gallinas': 6429, 'gallinas,': 6430, 'gallinas.': 6431, 'gallo': 6432, 'gallo»,': 6433, 'galonado;': 6434, 'gana': 6435, 'gana,': 6436, 'ganaderos': 6437, 'ganadería,': 6438, 'ganadería.': 6439, 'ganador': 6440, 'ganador,': 6441, 'ganancia': 6442, 'ganando': 6443, 'ganar': 6444, 'ganar!»': 6445, 'ganar,': 6446, 'ganará»--repite': 6447, 'gancho': 6448, 'gancho»': 6449, 'gane': 6450, 'ganó': 6451, 'garantías': 6452, 'garbo': 6453, 'garganta': 6454, 'garganta.': 6455, 'gasta,': 6456, 'gastar': 6457, 'gastarían': 6458, 'gasto': 6459, 'gastos': 6460, 'gastos,': 6461, 'gata»,': 6462, 'gato': 6463, 'gatos': 6464, 'gato».': 6465, 'gauchas,': 6466, 'gaucho': 6467, 'gauchos': 6468, 'gauchote,': 6469, 'gazmoña,': 6470, 'generaciones': 6471, 'generación': 6472, 'general': 6473, 'general,': 6474, 'general.': 6475, 'generales': 6476, 'generales.': 6477, 'generalizaba': 6478, 'generalizada': 6479, 'generalizar.': 6480, 'generalmente': 6481, 'generosidad.': 6482, 'generoso': 6483, 'generoso,': 6484, 'generoso--ya': 6485, 'generosos': 6486, 'genial': 6487, 'genialidad': 6488, 'genio': 6489, 'genio,': 6490, 'genios,': 6491, 'gente': 6492, 'gente,': 6493, 'gente.': 6494, 'gentes': 6495, 'gentes.': 6496, 'gentil': 6497, 'gentil!...': 6498, 'gentil,': 6499, 'gentilhombres,': 6500, 'geografía': 6501, 'gerentes,': 6502, 'gestiones': 6503, 'gestiones,': 6504, 'gestión': 6505, 'gestión;': 6506, 'gesto': 6507, 'gestos': 6508, 'gestos.': 6509, 'geórgicas': 6510, 'gimoteando': 6511, 'gira': 6512, 'girar': 6513, 'giro': 6514, 'giros': 6515, 'giróvago': 6516, 'gloria': 6517, 'gloria!': 6518, 'gloria,': 6519, 'gloriarse': 6520, 'glorias,': 6521, 'gloriosa': 6522, 'gloriosas': 6523, 'glorioso': 6524, 'gloriosos': 6525, 'gobernante,': 6526, 'gobernantes,': 6527, 'gobernantes.': 6528, 'gobierna,': 6529, 'gobierno': 6530, 'gobierno,': 6531, 'gobierno.': 6532, 'gobiernos': 6533, 'goces': 6534, 'goces,': 6535, 'golf.': 6536, 'golpe': 6537, 'golpe.': 6538, 'gordo»,': 6539, 'gorgorito': 6540, 'gorriones,': 6541, 'gorrito': 6542, 'gota': 6543, 'goza': 6544, 'gozamos': 6545, 'gozan': 6546, 'gozando': 6547, 'gozo': 6548, 'gozos': 6549, 'gozoso': 6550, 'gracejo': 6551, 'gracia': 6552, 'gracia,': 6553, 'gracia.': 6554, 'gracias': 6555, 'gracias,': 6556, 'gracias.': 6557, 'graciosas': 6558, 'graciosas,': 6559, 'graciosas.': 6560, 'gracioso': 6561, 'gracioso!»--exclamó': 6562, 'graciosos,': 6563, 'graciosísima': 6564, 'graciosísimo': 6565, 'graciosísimo!--exclamé,': 6566, 'grado': 6567, 'grados': 6568, 'gradual,': 6569, 'gramatical': 6570, 'gramática': 6571, 'gramática.': 6572, 'gran': 6573, 'granadillo,': 6574, 'grande': 6575, 'grande),': 6576, 'grande,': 6577, 'grande.': 6578, 'grande?': 6579, 'grandes': 6580, 'grandes,': 6581, 'grandes.': 6582, 'grandeza': 6583, 'grande»': 6584, 'grata': 6585, 'grata,': 6586, 'gratitud': 6587, 'gratitud.': 6588, 'grato': 6589, 'gratos': 6590, 'grave': 6591, 'grave,': 6592, 'grave.': 6593, 'gravedad': 6594, 'gravedad!': 6595, 'gravedad,': 6596, 'gravedad.': 6597, 'gravedad;': 6598, 'gravemente': 6599, 'graves': 6600, 'graves,': 6601, 'griego': 6602, 'griegos': 6603, 'griegos,': 6604, 'grifo': 6605, 'grillo': 6606, 'grillos,': 6607, 'gringa»,': 6608, 'gringos': 6609, 'gringo»,': 6610, 'gringo».': 6611, 'gris': 6612, 'gris,': 6613, 'grises,': 6614, 'gritar': 6615, 'gritería': 6616, 'grito': 6617, 'grito:': 6618, 'gritona,': 6619, 'gritos': 6620, 'grotesco': 6621, 'grotesco,': 6622, 'grupo': 6623, 'grupo,': 6624, 'grupos': 6625, 'grís': 6626, 'guante': 6627, 'guante.': 6628, 'guapo.': 6629, 'guarda': 6630, 'guardado': 6631, 'guardado.': 6632, 'guardamos': 6633, 'guardan': 6634, 'guardar': 6635, 'guardará': 6636, 'guardo': 6637, 'guerra': 6638, 'guerra,': 6639, 'guerra.': 6640, 'guerras': 6641, 'guerras,': 6642, 'guerrero': 6643, 'guerreros': 6644, 'guerreros--los': 6645, 'guiamos': 6646, 'guiar': 6647, 'guisa': 6648, 'guitarrero': 6649, 'guió': 6650, 'gules.': 6651, 'gusta': 6652, 'gusta--debemos': 6653, 'gusta?': 6654, 'gusta?;': 6655, 'gustado': 6656, 'gustado.': 6657, 'gustan': 6658, 'gustando': 6659, 'gustaría': 6660, 'gusto': 6661, 'gusto,': 6662, 'gusto.': 6663, 'gusto...;': 6664, 'gustos': 6665, 'gustos,': 6666, 'gustos.': 6667, 'guía': 6668, 'guía,': 6669, 'guía.': 6670, 'guíe': 6671, 'género': 6672, 'góticos»': 6673, 'gústame': 6674, 'ha': 6675, 'haber': 6676, 'haber.': 6677, 'haberla': 6678, 'habernos': 6679, 'haberte': 6680, 'habiendo': 6681, 'habilidad': 6682, 'habilidad,': 6683, 'habitaciones,': 6684, 'habitación': 6685, 'habitual': 6686, 'habituales': 6687, 'habituales.': 6688, 'habitualmente': 6689, 'habla': 6690, 'habla.': 6691, 'hablaba': 6692, 'hablada.': 6693, 'hablado': 6694, 'hablado--dijo': 6695, 'hablamos': 6696, 'hablan': 6697, 'hablan.': 6698, 'hablando': 6699, 'hablar': 6700, 'hablar,': 6701, 'hablar.': 6702, 'hablaremos': 6703, 'hablarle': 6704, 'hablarme': 6705, 'hablarte': 6706, 'hable': 6707, 'hable!': 6708, 'hablemos': 6709, 'hablo': 6710, 'hablábamos': 6711, 'hablábamos--me': 6712, 'hablé': 6713, 'hablé,': 6714, 'habló': 6715, 'habrá': 6716, 'habrán': 6717, 'habrás': 6718, 'habré': 6719, 'habréis': 6720, 'habría': 6721, 'habéis': 6722, 'había': 6723, 'había--me': 6724, 'habían': 6725, 'habías': 6726, 'hace': 6727, 'hace,': 6728, 'hace.': 6729, 'hacemos': 6730, 'hacen': 6731, 'hacen,': 6732, 'hacendista': 6733, 'hacer': 6734, 'hacer,': 6735, 'hacer.': 6736, 'hacer;': 6737, 'hacer?»--me': 6738, 'hacerlas': 6739, 'hacerlas.': 6740, 'hacerle': 6741, 'hacerle.': 6742, 'hacerle;': 6743, 'hacerle?': 6744, 'hacerles': 6745, 'hacerlos': 6746, 'hacerme': 6747, 'hacernos': 6748, 'haces': 6749, 'haces!': 6750, 'hacia': 6751, 'haciendo': 6752, 'haciendo,': 6753, 'haciéndola': 6754, 'haciéndole': 6755, 'hacérselo': 6756, 'hacía': 6757, 'hacíamos': 6758, 'hacían': 6759, 'hadas': 6760, 'hado': 6761, 'hado,': 6762, 'haga': 6763, 'hagamos': 6764, 'hagan': 6765, 'hago': 6766, 'halaga': 6767, 'halagador': 6768, 'halagarla': 6769, 'halla': 6770, 'halla,': 6771, 'halla--arma': 6772, 'hallaba': 6773, 'hallamos': 6774, 'hallan': 6775, 'hallar': 6776, 'hallará': 6777, 'halle': 6778, 'hallen': 6779, 'hallo': 6780, 'hallándome': 6781, 'hamacas.': 6782, 'han': 6783, 'harto': 6784, 'hará': 6785, 'harán': 6786, 'haré': 6787, 'haré.': 6788, 'haría': 6789, 'haría,': 6790, 'has': 6791, 'hasta': 6792, 'hay': 6793, 'hay,': 6794, 'hay,--al': 6795, 'haya': 6796, 'haya--no': 6797, 'hayan': 6798, 'hazañas': 6799, 'he': 6800, 'hecha': 6801, 'hechas': 6802, 'hechas,': 6803, 'hechicero.': 6804, 'hechizo': 6805, 'hechizo,': 6806, 'hecho': 6807, 'hecho,': 6808, 'hecho--la': 6809, 'hecho.': 6810, 'hechos,': 6811, 'hechura': 6812, 'helada': 6813, 'heleno,': 6814, 'hemos': 6815, 'henchidas': 6816, 'hender': 6817, 'hendiendo': 6818, 'heredada': 6819, 'heredado': 6820, 'heredado.': 6821, 'heredan': 6822, 'heredera': 6823, 'heredero': 6824, 'heredó': 6825, 'herencia': 6826, 'herencias': 6827, 'herida': 6828, 'heridas': 6829, 'herido': 6830, 'herido,': 6831, 'herir': 6832, 'hermana': 6833, 'hermana,': 6834, 'hermana.': 6835, 'hermanas': 6836, 'hermanas,': 6837, 'hermanita:--antes': 6838, 'hermano': 6839, 'hermosa': 6840, 'hermoso': 6841, 'hermosura': 6842, 'hermosura.': 6843, 'hermosísimos,': 6844, 'hermético': 6845, 'heroicas': 6846, 'heroico': 6847, 'heroico!».': 6848, 'heroísmos': 6849, 'heterogénea,': 6850, 'heterogéneas': 6851, 'heterogéneos': 6852, 'hice': 6853, 'hice--bien': 6854, 'hiciera': 6855, 'hicieron': 6856, 'hicieron,': 6857, 'hicimos': 6858, 'hidalgo': 6859, 'hidalguía': 6860, 'hidrófobo;': 6861, 'hielo': 6862, 'hielo.': 6863, 'hiere': 6864, 'hiere.': 6865, 'hierro': 6866, 'hierro,': 6867, 'hierro;': 6868, 'hija': 6869, 'hija,': 6870, 'hija.': 6871, 'hijas': 6872, 'hijas,': 6873, 'hijas;': 6874, 'hija»,': 6875, 'hija».': 6876, 'hijita!': 6877, 'hijita!--exclamo,': 6878, 'hijita,': 6879, 'hijita--la': 6880, 'hijita.': 6881, 'hijita;': 6882, 'hijo': 6883, 'hijo,': 6884, 'hijo:': 6885, 'hijos': 6886, 'hijos!': 6887, 'hijos.': 6888, 'hijos?': 6889, 'hilo.': 6890, 'hilos': 6891, 'hincapié,': 6892, 'hiperbólicos': 6893, 'hipotecas,': 6894, 'hipotecas...': 6895, 'hipócrita': 6896, 'hipócrita,': 6897, 'hipódromo,': 6898, 'hipódromo.': 6899, 'hipódromo;': 6900, 'hipódromos': 6901, 'hiriente': 6902, 'hispánicos;': 6903, 'historia': 6904, 'historia,': 6905, 'historia.': 6906, 'historiador': 6907, 'historiador,': 6908, 'historiadores': 6909, 'historial': 6910, 'historias,': 6911, 'historias».': 6912, 'histriónica,': 6913, 'histriónica.': 6914, 'histórica': 6915, 'histórica.': 6916, 'históricas.': 6917, 'histórico': 6918, 'histórico,': 6919, 'histórico.': 6920, 'histórico;': 6921, 'históricos': 6922, 'históricos,': 6923, 'históricos.': 6924, 'hito': 6925, 'hizo': 6926, 'hizo;': 6927, 'hogar': 6928, 'hogar,': 6929, 'hogar.': 6930, 'hombre': 6931, 'hombre!': 6932, 'hombre,': 6933, 'hombre.': 6934, 'hombre...': 6935, 'hombres': 6936, 'hombres!...': 6937, 'hombres,': 6938, 'hombres--que': 6939, 'hombres.': 6940, 'hombres;': 6941, 'hombro': 6942, 'hombros,': 6943, 'homenaje': 6944, 'homilías': 6945, 'hondas': 6946, 'hondo': 6947, 'hondura': 6948, 'honduras': 6949, 'honesto,': 6950, 'honor': 6951, 'honores': 6952, 'honorífica,': 6953, 'honra': 6954, 'honrado': 6955, 'honrado.': 6956, 'honran': 6957, 'honrar': 6958, 'honrarme': 6959, 'honrosa': 6960, 'honrosas': 6961, 'honrándome': 6962, 'hora': 6963, 'hora,': 6964, 'hora--eso': 6965, 'horas': 6966, 'horas,': 6967, 'horas.': 6968, 'horca': 6969, 'horcajos.': 6970, 'horizontes': 6971, 'hormigueo': 6972, 'hornada.': 6973, 'horrible': 6974, 'horrible!': 6975, 'horrible!...': 6976, 'horrible,': 6977, 'horrible.': 6978, 'horror!': 6979, 'hostilidades?': 6980, 'hoy': 6981, 'hubiera': 6982, 'hubieran': 6983, 'hubiesen': 6984, 'hubiéramos': 6985, 'hubo': 6986, 'hueca': 6987, 'hueco': 6988, 'hueco,': 6989, 'huecos': 6990, 'huella': 6991, 'huellas': 6992, 'hueso,': 6993, 'huesos': 6994, 'huesos.': 6995, 'huevos': 6996, 'huid': 6997, 'huid!...»': 6998, 'huir': 6999, 'humana': 7000, 'humana,': 7001, 'humana.': 7002, 'humanas,': 7003, 'humanas.': 7004, 'humanidad': 7005, 'humanidad.': 7006, 'humano': 7007, 'humano,': 7008, 'humano.': 7009, 'humano...': 7010, 'humanos,': 7011, 'humilde': 7012, 'humildes': 7013, 'humo,': 7014, 'humor': 7015, 'humorada': 7016, 'humorismo': 7017, 'humos': 7018, 'hunda!': 7019, 'huracanada.': 7020, 'huyen': 7021, 'huyeron.': 7022, 'huían': 7023, 'hábil': 7024, 'hábito': 7025, 'hábitos': 7026, 'hágase': 7027, 'hálito.': 7028, 'héme': 7029, 'héroe.': 7030, 'hípica': 7031, 'hípica.': 7032, 'hípicas': 7033, 'hípico.': 7034, 'hípicos': 7035, 'húmedos.': 7036, 'iba': 7037, 'iban': 7038, 'idea': 7039, 'idea,': 7040, 'idea.': 7041, 'ideal': 7042, 'ideal,': 7043, 'ideal.': 7044, 'idear': 7045, 'ideas': 7046, 'ideas,': 7047, 'ideas.': 7048, 'ideas:': 7049, 'identidad': 7050, 'ideológica': 7051, 'idilio': 7052, 'idioma.': 7053, 'idiomática': 7054, 'idiosincrasia': 7055, 'ido': 7056, 'ido.': 7057, 'ido...;': 7058, 'idolatría,': 7059, 'idéntico.': 7060, 'iglesia': 7061, 'ignora': 7062, 'ignoraba': 7063, 'ignorancia,': 7064, 'ignorancia.': 7065, 'ignorante': 7066, 'ignorante,': 7067, 'ignorar': 7068, 'igual': 7069, 'igual.': 7070, 'igual;': 7071, 'igualar,': 7072, 'igualdad': 7073, 'iguales': 7074, 'iguales,': 7075, 'iguales.': 7076, 'igualitario': 7077, 'igualmente': 7078, 'igualmente,': 7079, 'igualmente;': 7080, 'ilación': 7081, 'iluminar': 7082, 'ilusiones': 7083, 'ilusiones,': 7084, 'ilusión': 7085, 'ilusión.': 7086, 'ilusorio': 7087, 'ilustraciones': 7088, 'ilustración': 7089, 'ilustración,': 7090, 'ilustrado': 7091, 'ilustrado,': 7092, 'ilustre': 7093, 'ilustres': 7094, 'imagen': 7095, 'imagina': 7096, 'imagina,': 7097, 'imaginaciones': 7098, 'imaginaciones--porque,': 7099, 'imaginación': 7100, 'imaginación.': 7101, 'imaginado': 7102, 'imaginar': 7103, 'imaginar...': 7104, 'imaginarte': 7105, 'imagino': 7106, 'imantados': 7107, 'imita': 7108, 'imitaba': 7109, 'imitable.': 7110, 'imitación': 7111, 'imitación,': 7112, 'imitación.': 7113, 'imitado': 7114, 'imitar': 7115, 'impaciente.': 7116, 'impacientes,': 7117, 'impedido': 7118, 'impedido.': 7119, 'impedirá': 7120, 'impera': 7121, 'imperativamente,': 7122, 'imperdonables.': 7123, 'imperen.': 7124, 'imperfecciones': 7125, 'imperfecta,': 7126, 'imperfecto.': 7127, 'imperio': 7128, 'impertinente,': 7129, 'impertérrita:': 7130, 'impide': 7131, 'implantarlas': 7132, 'implica': 7133, 'imponderable': 7134, 'impondrá': 7135, 'impone': 7136, 'imponen': 7137, 'imponente': 7138, 'imponente.': 7139, 'imponente:--después': 7140, 'imponerle': 7141, 'importa': 7142, 'importa.': 7143, 'importa?': 7144, 'importaba': 7145, 'importaciones,': 7146, 'importancia': 7147, 'importancia),': 7148, 'importancia.': 7149, 'importancia».': 7150, 'importante': 7151, 'importante,': 7152, 'importante.': 7153, 'importantes': 7154, 'importantísimo': 7155, 'importantísimo,': 7156, 'importantísimo--debe': 7157, 'importarme!': 7158, 'imposible': 7159, 'imposible,': 7160, 'imposible;': 7161, 'imposibles': 7162, 'imposible»,': 7163, 'imposiciones': 7164, 'impotente': 7165, 'imprescindible': 7166, 'imprescindible,': 7167, 'impresiona': 7168, 'impresionado.': 7169, 'impresiones': 7170, 'impresión': 7171, 'imprime': 7172, 'impropio': 7173, 'improvisaciones.': 7174, 'improvisadas,': 7175, 'improvisador.': 7176, 'impuestas': 7177, 'impuestos,': 7178, 'impulsa': 7179, 'impulsan': 7180, 'impulsos': 7181, 'imágenes': 7182, 'inacabables.': 7183, 'inadmisible': 7184, 'inadvertida.': 7185, 'inadvertidas.': 7186, 'inaguantable.': 7187, 'inalterable': 7188, 'inalterable,': 7189, 'inanes': 7190, 'inarmónica': 7191, 'inarmónico,': 7192, 'inaugurar': 7193, 'incapaces': 7194, 'incapaces,': 7195, 'incapaz': 7196, 'incapaz,': 7197, 'incapaz.': 7198, 'incauto': 7199, 'incautos': 7200, 'incendio.': 7201, 'incesantemente': 7202, 'incesantemente,': 7203, 'incierto': 7204, 'inciertos,': 7205, 'incipiente,': 7206, 'inclina,': 7207, 'inclinaciones,': 7208, 'inclinación,': 7209, 'inclinadas': 7210, 'inclinado': 7211, 'inclinan,': 7212, 'inclinarse.': 7213, 'inclusive': 7214, 'incluso': 7215, 'incluída': 7216, 'incluídos': 7217, 'incolocable.': 7218, 'incomparable.': 7219, 'incompatibilidad': 7220, 'incompatibilidades': 7221, 'incomunicación': 7222, 'incomunicación,': 7223, 'inconcreción': 7224, 'inconsciencia,': 7225, 'inconsciente,': 7226, 'inconsciente.': 7227, 'inconscientes': 7228, 'inconveniente,': 7229, 'inconveniente.': 7230, 'inconvenientes': 7231, 'incoordinable': 7232, 'incredulidad.': 7233, 'incribirlos': 7234, 'incurre': 7235, 'incómodo,': 7236, 'indecible': 7237, 'indefinible': 7238, 'indefinible,': 7239, 'indefinida': 7240, 'independencia': 7241, 'independiente': 7242, 'independizada': 7243, 'indescifrable.': 7244, 'indestructible,': 7245, 'indeterminada,': 7246, 'indianos': 7247, 'indias': 7248, 'indica': 7249, 'indicar': 7250, 'indicio': 7251, 'indicios': 7252, 'indigna': 7253, 'indirector,': 7254, 'indisciplinada,': 7255, 'indiscreción.': 7256, 'indiscreto': 7257, 'indispensable': 7258, 'individual': 7259, 'individual,': 7260, 'individual.': 7261, 'individuales': 7262, 'individualidad': 7263, 'individuo': 7264, 'individuo.': 7265, 'induce': 7266, 'inducen': 7267, 'inducido': 7268, 'inducir': 7269, 'inducirle': 7270, 'induciéndole': 7271, 'induciéndonos': 7272, 'indudablemente,': 7273, 'indumentaria': 7274, 'industria': 7275, 'inefable,': 7276, 'inefable.': 7277, 'inelegante!...»': 7278, 'inerte,': 7279, 'inevitable': 7280, 'inevitable.': 7281, 'inexacta': 7282, 'inexistente': 7283, 'inexperiencia': 7284, 'inexperiencia.': 7285, 'inexplicable,': 7286, 'inexploradas': 7287, 'inexpresable': 7288, 'inexpresable,': 7289, 'infalibles': 7290, 'infalibles,': 7291, 'infancia,': 7292, 'infancia.': 7293, 'infanta': 7294, 'infanta:': 7295, 'infantas,': 7296, 'infantes': 7297, 'infantil': 7298, 'infantiles.': 7299, 'infantilidad': 7300, 'infatuados': 7301, 'infelice,': 7302, 'infeliz': 7303, 'inferior': 7304, 'inferiores': 7305, 'infierno': 7306, 'infierno,': 7307, 'infierno.': 7308, 'infinita': 7309, 'infinita.': 7310, 'infinitamente': 7311, 'infinitas': 7312, 'infinito': 7313, 'infinito.': 7314, 'infinitos,': 7315, 'infinitos;': 7316, 'infinitud': 7317, 'influencia': 7318, 'influencia,': 7319, 'influencia.': 7320, 'influencias': 7321, 'influencias,': 7322, 'influencias.': 7323, 'influenza': 7324, 'influenza,': 7325, 'influido': 7326, 'influir': 7327, 'influir,': 7328, 'influjo': 7329, 'influya': 7330, 'influye': 7331, 'influyendo': 7332, 'influyentes': 7333, 'influído,': 7334, 'información».': 7335, 'informadora': 7336, 'informativo,': 7337, 'informes,': 7338, 'infortunios': 7339, 'infunde': 7340, 'infundir.': 7341, 'infusión': 7342, 'infusión,': 7343, 'ingeniero': 7344, 'ingeniero,': 7345, 'ingenio': 7346, 'ingenio,': 7347, 'ingenio.': 7348, 'ingeniosa?»--«No--me': 7349, 'ingeniosas.': 7350, 'ingenioso,': 7351, 'ingenioso.': 7352, 'ingenua': 7353, 'ingenuas': 7354, 'inglesa': 7355, 'ingleses': 7356, 'inglés': 7357, 'inglés,': 7358, 'inglés.': 7359, 'inglés»,': 7360, 'ingrata,': 7361, 'ingredientes': 7362, 'ingénita': 7363, 'inhábil,': 7364, 'inicia': 7365, 'iniciada.': 7366, 'iniciado': 7367, 'iniciar': 7368, 'iniciarse': 7369, 'iniciativa': 7370, 'inicie': 7371, 'inició': 7372, 'injusta,': 7373, 'injustamente,': 7374, 'injusticia,': 7375, 'injusticia;': 7376, 'injustificado': 7377, 'injustificado;': 7378, 'inmediata': 7379, 'inmediato': 7380, 'inmediato,': 7381, 'inmejorable;': 7382, 'inmerecida': 7383, 'inmigración,': 7384, 'inmortal': 7385, 'inmortal.': 7386, 'inmortal:': 7387, 'inmortales': 7388, 'inmortales,': 7389, 'inmortalidad,': 7390, 'inmortalizado': 7391, 'inmortalizaron': 7392, 'inmóvil': 7393, 'inmóviles.': 7394, 'innoble;': 7395, 'innúmeras,': 7396, 'innúmeras»,': 7397, 'inocente': 7398, 'inocentes),': 7399, 'inquietud': 7400, 'inquietudes': 7401, 'inquietudes,': 7402, 'inscribe': 7403, 'inscriben': 7404, 'inscribirse': 7405, 'inscriptos': 7406, 'inseguros.': 7407, 'insensatas.': 7408, 'insensateces.': 7409, 'insensatez': 7410, 'insensatez.': 7411, 'insigne': 7412, 'insignes': 7413, 'insignificancia': 7414, 'insignificante': 7415, 'insignificantes': 7416, 'insignificantes.': 7417, 'insinuaciones': 7418, 'insinuaciones,': 7419, 'insinuaciones.': 7420, 'insinuado,': 7421, 'insinuante,': 7422, 'insinuar': 7423, 'insinuar--cuando': 7424, 'insinúa': 7425, 'insistente': 7426, 'insistiré,': 7427, 'insoluble,': 7428, 'insolubles': 7429, 'insomnios': 7430, 'insoportable': 7431, 'insospechables,': 7432, 'inspira': 7433, 'inspiraciones': 7434, 'inspiración': 7435, 'inspiración,': 7436, 'inspirados': 7437, 'inspirar': 7438, 'instable,': 7439, 'instante': 7440, 'instante,': 7441, 'instante.': 7442, 'instantánea': 7443, 'instintiva': 7444, 'instintivas': 7445, 'instintos': 7446, 'instituciones': 7447, 'institución': 7448, 'instituido': 7449, 'instructivo,': 7450, 'instrumento': 7451, 'instrumento:': 7452, 'insuficiencia': 7453, 'insuficiente': 7454, 'insulso': 7455, 'insustancia,': 7456, 'insustancial': 7457, 'insustanciales.': 7458, 'insustituíble': 7459, 'integra': 7460, 'integración': 7461, 'integral,': 7462, 'integrar': 7463, 'intelectual': 7464, 'intelectual,': 7465, 'intelectuales': 7466, 'intelectuales,': 7467, 'intelectualmente': 7468, 'inteligencia': 7469, 'inteligencia.': 7470, 'inteligente': 7471, 'inteligente,': 7472, 'inteligente.': 7473, 'inteligentes': 7474, 'inteligentes.': 7475, 'inteligente».': 7476, 'intemperancia': 7477, 'intemperancia,': 7478, 'intemperie;': 7479, 'intempestivo;': 7480, 'intempestivos,': 7481, 'intencionalmente,': 7482, 'intención': 7483, 'intención,': 7484, 'intendente,': 7485, 'intensa.': 7486, 'intensidad': 7487, 'intenso': 7488, 'intercambio': 7489, 'interesa': 7490, 'interesadas,': 7491, 'interesado.': 7492, 'interesado;': 7493, 'interesados.': 7494, 'interesan': 7495, 'interesante': 7496, 'interesante!': 7497, 'interesante,': 7498, 'interesante.': 7499, 'interesantes': 7500, 'interesantes,': 7501, 'interesantísima': 7502, 'interesantísimas...': 7503, 'interesarle!': 7504, 'intereses,': 7505, 'intereso!': 7506, 'interior,': 7507, 'interior.': 7508, 'intermediaria': 7509, 'intermediarios?': 7510, 'intermedio': 7511, 'interna': 7512, 'interna,': 7513, 'interna.': 7514, 'internacional': 7515, 'internacional,': 7516, 'internacional.': 7517, 'internacionales': 7518, 'internas,': 7519, 'internó': 7520, 'interpreta': 7521, 'interpretaciones': 7522, 'interpretación': 7523, 'interpretara': 7524, 'interpretándose': 7525, 'interrogación': 7526, 'interrogada': 7527, 'interrumpido': 7528, 'intervenciones': 7529, 'intervención': 7530, 'intervención.': 7531, 'intervengo': 7532, 'intervenido': 7533, 'intervenimos': 7534, 'intervenir': 7535, 'interviene': 7536, 'interés': 7537, 'interés,': 7538, 'interés;': 7539, 'intimidad.': 7540, 'intolerable': 7541, 'intolerancias,': 7542, 'intranquila.': 7543, 'intranquilidad': 7544, 'intransigencia,': 7545, 'intransigente': 7546, 'intrincada': 7547, 'introducir': 7548, 'intromisión': 7549, 'intrusa,': 7550, 'intuición': 7551, 'intuitivo': 7552, 'intuitivo),': 7553, 'intérpretes': 7554, 'inundados': 7555, 'inutilidad': 7556, 'invade': 7557, 'invadido': 7558, 'invencible': 7559, 'invencibles.': 7560, 'invencibles;': 7561, 'invención': 7562, 'inventa': 7563, 'inventa,': 7564, 'inventa.': 7565, 'inventar': 7566, 'invernal.': 7567, 'inversa,': 7568, 'investigadores': 7569, 'invierno': 7570, 'invierno,': 7571, 'invierno.': 7572, 'invitación': 7573, 'invitada': 7574, 'invitado.': 7575, 'invitados:': 7576, 'invitó': 7577, 'inútil': 7578, 'ir': 7579, 'ira,': 7580, 'ira.': 7581, 'irascible.': 7582, 'iremos': 7583, 'iris,': 7584, 'iris.': 7585, 'irme,': 7586, 'irme.': 7587, 'irnos': 7588, 'ironista': 7589, 'ironista,': 7590, 'ironía,': 7591, 'ironías': 7592, 'irracionales,': 7593, 'irradiando': 7594, 'irrealizable,': 7595, 'irreconciliable.': 7596, 'irreductibles': 7597, 'irregular': 7598, 'irremediable': 7599, 'irresistible,': 7600, 'irresistible.': 7601, 'irreverables': 7602, 'irreverente': 7603, 'irritabilidad,': 7604, 'irritado': 7605, 'irritarla;': 7606, 'irse,': 7607, 'irá!': 7608, 'irán': 7609, 'iré': 7610, 'iré,': 7611, 'iríamos': 7612, 'irónica': 7613, 'irónica,': 7614, 'irónicas': 7615, 'irónico': 7616, 'izquierda': 7617, 'izquierda.': 7618, 'jadeante,': 7619, 'jaleo': 7620, 'jaleíto,': 7621, 'jamás': 7622, 'jaque': 7623, 'jaque-mate': 7624, 'jaque-mate,': 7625, 'jaquet': 7626, 'jardines»': 7627, 'jareta': 7628, 'jarras': 7629, 'jasifo': 7630, 'jefe': 7631, 'jerarquía': 7632, 'jerarquías.': 7633, 'jilguero': 7634, 'joven': 7635, 'joven,': 7636, 'joven--la': 7637, 'joven.': 7638, 'joven?»--preguntarán': 7639, 'judíos': 7640, 'juego': 7641, 'juegos,': 7642, 'jueves': 7643, 'jugaba': 7644, 'jugado': 7645, 'jugamos': 7646, 'jugar': 7647, 'juguete.': 7648, 'juguetes,': 7649, 'juguetón,': 7650, 'juicio': 7651, 'juicio,': 7652, 'juicios.': 7653, 'julio': 7654, 'juntaban': 7655, 'juntamos': 7656, 'juntas': 7657, 'juntas.': 7658, 'junto': 7659, 'juntos': 7660, 'juntos!': 7661, 'jurada': 7662, 'jurada,': 7663, 'jurisconsulto': 7664, 'juro': 7665, 'justa': 7666, 'justa,': 7667, 'justa.': 7668, 'justamente': 7669, 'justamente--su': 7670, 'justas': 7671, 'justicado': 7672, 'justicia': 7673, 'justicia--que': 7674, 'justifica': 7675, 'justificaciones,': 7676, 'justificada': 7677, 'justificado': 7678, 'justo': 7679, 'justo,': 7680, 'juvenil': 7681, 'juventud': 7682, 'juventud,': 7683, 'juzgarse': 7684, 'juzgo': 7685, 'jóvenes': 7686, 'jóvenes!': 7687, 'jóvenes,': 7688, 'jóvenes:': 7689, 'kilos.': 7690, 'kronprinz': 7691, 'la': 7692, 'laberíntico.': 7693, 'labios': 7694, 'labios,': 7695, 'labios.': 7696, 'labor': 7697, 'labora': 7698, 'laborioso': 7699, 'laborioso,': 7700, 'laborioso;': 7701, 'lacayos,': 7702, 'lado': 7703, 'lado,': 7704, 'lado.': 7705, 'lagunita': 7706, 'lamentable': 7707, 'lamento': 7708, 'lanza': 7709, 'lanzado': 7710, 'lanzamos': 7711, 'lanzan': 7712, 'lanzando.': 7713, 'lanzar': 7714, 'larga': 7715, 'larga.': 7716, 'largo': 7717, 'largo;': 7718, 'largos': 7719, 'laringe,': 7720, 'laringes': 7721, 'las': 7722, 'lastima': 7723, 'laten': 7724, 'laten,': 7725, 'latente': 7726, 'latido': 7727, 'latidos': 7728, 'latir': 7729, 'latitudes': 7730, 'latía': 7731, 'laudatorias,': 7732, 'lavatorio': 7733, 'lazo': 7734, 'lazos': 7735, 'le': 7736, 'lea': 7737, 'leal,': 7738, 'leales': 7739, 'lealtad': 7740, 'lealtad,': 7741, 'lechuza': 7742, 'lechuza;': 7743, 'lector.': 7744, 'lectoras': 7745, 'lectoras,': 7746, 'lectoras.': 7747, 'lectores': 7748, 'lectura': 7749, 'lectura.': 7750, 'lecturas': 7751, 'lecturas,': 7752, 'lee': 7753, 'lee,': 7754, 'leer': 7755, 'leerás': 7756, 'legación.': 7757, 'legación;': 7758, 'legal.': 7759, 'legamos': 7760, 'legislación': 7761, 'legua': 7762, 'leguas': 7763, 'leguas,': 7764, 'leguas.': 7765, 'legítimo': 7766, 'lejana,': 7767, 'lejana.': 7768, 'lejano,': 7769, 'lejos': 7770, 'lejos!...': 7771, 'lejos,': 7772, 'lengua,': 7773, 'lenguaje': 7774, 'lenguaje,': 7775, 'lenguaje.': 7776, 'lenguas,': 7777, 'lenta': 7778, 'lentas': 7779, 'lente': 7780, 'lento': 7781, 'lentos': 7782, 'leo': 7783, 'leo,': 7784, 'leones;': 7785, 'les': 7786, 'letra': 7787, 'letras.': 7788, 'letárgico': 7789, 'levanta': 7790, 'levantan': 7791, 'levantara': 7792, 'levantarse': 7793, 'leve': 7794, 'leves': 7795, 'ley': 7796, 'ley!': 7797, 'ley.': 7798, 'leyendo': 7799, 'leyes': 7800, 'leyes.': 7801, 'leyéndote.': 7802, 'leía': 7803, 'leído': 7804, 'leño': 7805, 'león,': 7806, 'liada': 7807, 'liberta': 7808, 'libertad': 7809, 'libra': 7810, 'librado': 7811, 'librados': 7812, 'libramos': 7813, 'libran': 7814, 'librando': 7815, 'librar': 7816, 'libras': 7817, 'libre': 7818, 'libre,': 7819, 'libres': 7820, 'librito': 7821, 'libritos': 7822, 'libro': 7823, 'libros': 7824, 'libros.': 7825, 'licenciado': 7826, 'licenciado,': 7827, 'ligera': 7828, 'ligera,': 7829, 'ligeramente': 7830, 'ligeras,': 7831, 'ligeras.': 7832, 'ligereza': 7833, 'ligereza,': 7834, 'ligero': 7835, 'ligeros': 7836, 'ligeros,': 7837, 'ligerísima': 7838, 'limarnos': 7839, 'limbo,': 7840, 'limita': 7841, 'limitaba': 7842, 'limitación.': 7843, 'limitada': 7844, 'limitamos': 7845, 'limito': 7846, 'limité': 7847, 'limpiarnos': 7848, 'limpias.': 7849, 'limpio': 7850, 'linaje': 7851, 'linaje.': 7852, 'lince': 7853, 'lince,': 7854, 'linda': 7855, 'linda,': 7856, 'linda;': 7857, 'lindas': 7858, 'lindas,': 7859, 'lindas.': 7860, 'linda».': 7861, 'lindeza,': 7862, 'lindo!': 7863, 'lindos': 7864, 'lindísima,': 7865, 'lindísimos': 7866, 'lino': 7867, 'lino;': 7868, 'liquidadas': 7869, 'liquidar;': 7870, 'lirio,': 7871, 'liso': 7872, 'liso,': 7873, 'lista,': 7874, 'literaria)': 7875, 'literarias,': 7876, 'literario,': 7877, 'literato': 7878, 'literato,': 7879, 'literatura': 7880, 'liturgia': 7881, 'llama': 7882, 'llama,': 7883, 'llama;': 7884, 'llamaban': 7885, 'llamada': 7886, 'llamado': 7887, 'llamado,': 7888, 'llaman': 7889, 'llamar': 7890, 'llamarada': 7891, 'llamaremos': 7892, 'llamarla': 7893, 'llamarle': 7894, 'llamarlos': 7895, 'llamarse': 7896, 'llames': 7897, 'llamo': 7898, 'llamo,': 7899, 'llamé': 7900, 'llanto,': 7901, 'llanto.': 7902, 'llaves;': 7903, 'llega': 7904, 'llega;': 7905, 'llegaba': 7906, 'llegaban': 7907, 'llegada.': 7908, 'llegado': 7909, 'llegados': 7910, 'llegados.': 7911, 'llegamos': 7912, 'llegan': 7913, 'llegar': 7914, 'llegaron': 7915, 'llegarán': 7916, 'llego': 7917, 'llegue': 7918, 'lleguen': 7919, 'llegó': 7920, 'llena': 7921, 'llenado': 7922, 'llenan': 7923, 'llenar': 7924, 'llenar.': 7925, 'llenará': 7926, 'llenas': 7927, 'lleno': 7928, 'lleva': 7929, 'llevaban': 7930, 'llevados': 7931, 'llevamos': 7932, 'llevan': 7933, 'llevando': 7934, 'llevar': 7935, 'llevarlas.': 7936, 'llevarlo': 7937, 'llevarán': 7938, 'llevas': 7939, 'lleven': 7940, 'llevo': 7941, 'llevé': 7942, 'llevó': 7943, 'llora': 7944, 'llorado': 7945, 'llorado...': 7946, 'llorando': 7947, 'llorar': 7948, 'llorar,': 7949, 'llorar.': 7950, 'llorar:': 7951, 'llores,': 7952, 'llorosos,': 7953, 'lloré,': 7954, 'lloró': 7955, 'llueve,': 7956, 'lluvias': 7957, 'lluvias,': 7958, 'llámame': 7959, 'lo': 7960, 'lobo,': 7961, 'loca.': 7962, 'loca;': 7963, 'loco': 7964, 'loco,': 7965, 'locuaz».': 7966, 'locura': 7967, 'locura,': 7968, 'locura.': 7969, 'locuras': 7970, 'logra': 7971, 'lograba': 7972, 'logrado': 7973, 'logramos': 7974, 'logran': 7975, 'logrando': 7976, 'lograr': 7977, 'lograremos': 7978, 'lograron': 7979, 'logrará': 7980, 'logremos': 7981, 'logro': 7982, 'logré': 7983, 'loro': 7984, 'los': 7985, 'losa': 7986, 'losas': 7987, 'lotería.': 7988, 'lozanía': 7989, 'lucero': 7990, 'luces': 7991, 'luces,': 7992, 'luces.': 7993, 'lucha': 7994, 'lucha,': 7995, 'lucha--a': 7996, 'lucha.': 7997, 'luchador': 7998, 'luchando': 7999, 'luchar': 8000, 'luchas': 8001, 'luche': 8002, 'lucido.': 8003, 'luciferino': 8004, 'lucimiento': 8005, 'lucir': 8006, 'lucirlas': 8007, 'lució': 8008, 'luego': 8009, 'luego,': 8010, 'lugar': 8011, 'lugar,': 8012, 'lujo': 8013, 'lujo,': 8014, 'lujo.': 8015, 'lujos': 8016, 'lumbre': 8017, 'lumbrera': 8018, 'lumbreras': 8019, 'luminosa,': 8020, 'luminoso': 8021, 'luminoso.': 8022, 'luminosos': 8023, 'luna,': 8024, 'luna.': 8025, 'lunar,': 8026, 'lunarcillo': 8027, 'luna»': 8028, 'lustre': 8029, 'luto': 8030, 'luto--las': 8031, 'luz': 8032, 'luzca': 8033, 'lágrima': 8034, 'lágrimas': 8035, 'lágrimas,': 8036, 'lágrimas.': 8037, 'lágrimas;': 8038, 'lánguidas': 8039, 'lánguido,': 8040, 'lástima': 8041, 'léxico': 8042, 'límites': 8043, 'límites.': 8044, 'límites:': 8045, 'límpido,': 8046, 'línea': 8047, 'líneas': 8048, 'líneas,': 8049, 'líneas:': 8050, 'líneas?': 8051, 'líricas': 8052, 'lírico': 8053, 'lírico.': 8054, 'líricos,': 8055, 'lógica': 8056, 'lógicas': 8057, 'lógico': 8058, 'lógicos': 8059, 'lúcida': 8060, 'lúgubre': 8061, 'maciza,': 8062, 'madame': 8063, 'madera.': 8064, 'maderas': 8065, 'madre': 8066, 'madre,': 8067, 'madre».': 8068, 'maduras:': 8069, 'madurez,': 8070, 'maestra;': 8071, 'maestro': 8072, 'maestro.': 8073, 'magnate': 8074, 'magnates.': 8075, 'magnificencia.': 8076, 'magnitud': 8077, 'magnos': 8078, 'magnífico': 8079, 'magnífico,': 8080, 'magníficos': 8081, 'majadería.': 8082, 'majestad': 8083, 'mal': 8084, 'mal--arguye': 8085, 'mal.': 8086, 'mal:': 8087, 'mal;': 8088, 'mala': 8089, 'malas': 8090, 'malas,': 8091, 'malas;': 8092, 'maldiciones': 8093, 'maledicencia,': 8094, 'males': 8095, 'malhadada': 8096, 'malicia': 8097, 'malicia,': 8098, 'maliciosamente,': 8099, 'malita.': 8100, 'malo,': 8101, 'malogradas': 8102, 'malogrado': 8103, 'malogremos': 8104, 'malos': 8105, 'maléfico.': 8106, 'mamá': 8107, 'mamá,': 8108, 'mamá.': 8109, 'manda:': 8110, 'mandaba': 8111, 'mandamientos.': 8112, 'mandan': 8113, 'mandar': 8114, 'mandar,': 8115, 'mandato': 8116, 'mando': 8117, 'mando,': 8118, 'mandíbula.': 8119, 'manea.': 8120, 'manera': 8121, 'manera,': 8122, 'manera.': 8123, 'manera;': 8124, 'maneras': 8125, 'maneras.': 8126, 'manes': 8127, 'manifestaciones': 8128, 'manifestación': 8129, 'manifiesta': 8130, 'maniquí': 8131, 'manjar': 8132, 'mano': 8133, 'mano.': 8134, 'manos': 8135, 'manos,': 8136, 'mansión': 8137, 'manteletas.': 8138, 'mantener': 8139, 'mantenerlas.': 8140, 'mantenerse': 8141, 'mantenido': 8142, 'manteniendo': 8143, 'manzana,': 8144, 'manzana.': 8145, 'manía.': 8146, 'maquinalmente': 8147, 'mar': 8148, 'mar!,': 8149, 'mar.': 8150, 'maravilla': 8151, 'maravilla.': 8152, 'maravillarse': 8153, 'maravillas': 8154, 'maravillosamente.': 8155, 'marca': 8156, 'marcador': 8157, 'marcador--respondió': 8158, 'marcha': 8159, 'marcha,': 8160, 'marcha.': 8161, 'mareado,': 8162, 'mareos.': 8163, 'mares»': 8164, 'mares».': 8165, 'marfil': 8166, 'margaritas,': 8167, 'marido': 8168, 'marido).': 8169, 'marido,': 8170, 'marido--lo': 8171, 'marido.': 8172, 'marido:': 8173, 'marido;': 8174, 'maridos': 8175, 'maridos,': 8176, 'marineros': 8177, 'mariposa': 8178, 'mariposas': 8179, 'marisabidilla,': 8180, 'marital,': 8181, 'marquesas!': 8182, 'marrones,': 8183, 'martes.': 8184, 'martirio': 8185, 'martirio,': 8186, 'martirizarte.': 8187, 'marzo,': 8188, 'mas': 8189, 'masa': 8190, 'masculina': 8191, 'masculinas.': 8192, 'mata': 8193, 'matarse': 8194, 'mate': 8195, 'mate,': 8196, 'matemáticas': 8197, 'matemáticas,': 8198, 'matemático': 8199, 'maten': 8200, 'materia': 8201, 'materia,': 8202, 'materia.': 8203, 'materia;': 8204, 'materna.': 8205, 'maternidad,': 8206, 'matices': 8207, 'matiz': 8208, 'matrimonial.': 8209, 'matrimonio': 8210, 'matrimonio,': 8211, 'matrimonio--con': 8212, 'matrimonio.': 8213, 'matrimonio;': 8214, 'matrimonios': 8215, 'matrimonios,': 8216, 'matrona.': 8217, 'matronas': 8218, 'mayor': 8219, 'mayor.': 8220, 'mayores': 8221, 'maíz': 8222, 'maíz,': 8223, 'maíz.': 8224, 'maña': 8225, 'mañana': 8226, 'mañana.': 8227, 'mañana;': 8228, 'mañana»--decía': 8229, 'mañas': 8230, 'mañas;': 8231, 'me': 8232, 'mecanismo': 8233, 'mecánica.': 8234, 'media': 8235, 'medias': 8236, 'medias,': 8237, 'medicina': 8238, 'medicina,': 8239, 'medida': 8240, 'medida,': 8241, 'medida--son': 8242, 'medida;': 8243, 'medio': 8244, 'medio,': 8245, 'mediocridad': 8246, 'medioevales,': 8247, 'medios': 8248, 'medir': 8249, 'meditación': 8250, 'medrando': 8251, 'medroso.': 8252, 'mejillas': 8253, 'mejor': 8254, 'mejor,': 8255, 'mejorar': 8256, 'mejorcito': 8257, 'mejore': 8258, 'mejores': 8259, 'mejores,': 8260, 'melancolía': 8261, 'melancolía,': 8262, 'melancolía.': 8263, 'melancolías': 8264, 'melancolías.': 8265, 'melancólico': 8266, 'melancólico.': 8267, 'melancólico;': 8268, 'melindrosa.': 8269, 'mellizas,': 8270, 'melodiosas,': 8271, 'melografía': 8272, 'memorable),': 8273, 'memorables': 8274, 'memorables.': 8275, 'memoria': 8276, 'memoria,': 8277, 'memoria--resumen': 8278, 'memoria.': 8279, 'memorias': 8280, 'memorias,': 8281, 'mencionada': 8282, 'menester': 8283, 'menor': 8284, 'menor.': 8285, 'menores.': 8286, 'menos': 8287, 'menos!': 8288, 'menos,': 8289, 'menos.': 8290, 'mensuras': 8291, 'mental': 8292, 'mentales': 8293, 'mentales.': 8294, 'mente': 8295, 'mente,': 8296, 'mente.': 8297, 'mentecatez,': 8298, 'mentecatez.': 8299, 'mentecatos': 8300, 'mentira': 8301, 'mentira,': 8302, 'mentira.': 8303, 'mentiras,': 8304, 'mentirosa,': 8305, 'menudas': 8306, 'menudas,': 8307, 'menudo,': 8308, 'merced': 8309, 'merece': 8310, 'merece,': 8311, 'merecedor,': 8312, 'merecen': 8313, 'merecen.': 8314, 'merecer': 8315, 'merecida': 8316, 'merecidas,': 8317, 'merecido': 8318, 'merecieron': 8319, 'merecimientos,': 8320, 'merecía,': 8321, 'merezca': 8322, 'merezca.': 8323, 'meritorios--constituyen': 8324, 'meritorios.': 8325, 'mesa': 8326, 'mesa,': 8327, 'meses': 8328, 'meta': 8329, 'mete': 8330, 'meter': 8331, 'meterle': 8332, 'meterme': 8333, 'meterme.': 8334, 'metida': 8335, 'metidas': 8336, 'metido': 8337, 'metiendo': 8338, 'metiéndonos': 8339, 'metió': 8340, 'metros.': 8341, 'metáforas,': 8342, 'metálicos': 8343, 'mezcla': 8344, 'mezclada': 8345, 'mezclan': 8346, 'mezclando': 8347, 'mezclarse': 8348, 'mezcle': 8349, 'mi': 8350, 'microscopio,': 8351, 'mide': 8352, 'miedo,': 8353, 'miedo.': 8354, 'miel': 8355, 'miembro': 8356, 'miembros': 8357, 'mientras': 8358, 'mil': 8359, 'mil.': 8360, 'milagro': 8361, 'milagro;': 8362, 'milagros.': 8363, 'milagrosa': 8364, 'militar': 8365, 'militares': 8366, 'militares,': 8367, 'militarmente,': 8368, 'millones': 8369, 'millón': 8370, 'mimbres,': 8371, 'mimos,': 8372, 'ministeriales': 8373, 'ministerio': 8374, 'ministerio,': 8375, 'ministerio.': 8376, 'ministerio;': 8377, 'ministrable:': 8378, 'ministro': 8379, 'ministro,': 8380, 'ministro.': 8381, 'ministros,': 8382, 'minuciosa': 8383, 'minuto.': 8384, 'minutos': 8385, 'mira': 8386, 'miraba': 8387, 'mirada': 8388, 'mirada,': 8389, 'mirada.': 8390, 'miradas': 8391, 'miradas.': 8392, 'mirado': 8393, 'miran': 8394, 'mirando': 8395, 'mirar': 8396, 'mirara': 8397, 'mirarme': 8398, 'miriñaque': 8399, 'miriñaque,': 8400, 'miriñaque.': 8401, 'mirándole,': 8402, 'mirándonos': 8403, 'mis': 8404, 'misa': 8405, 'miseria': 8406, 'misia': 8407, 'misión': 8408, 'misma': 8409, 'misma,': 8410, 'misma.': 8411, 'misma?': 8412, 'mismas': 8413, 'mismas,': 8414, 'mismas.': 8415, 'mismo': 8416, 'mismo,': 8417, 'mismo--dice': 8418, 'mismo--ya': 8419, 'mismo.': 8420, 'mismo...': 8421, 'mismo:': 8422, 'mismos': 8423, 'mismos,': 8424, 'mismos.': 8425, 'misterio,': 8426, 'misterio.': 8427, 'misteriosa.': 8428, 'misía': 8429, 'misógino': 8430, 'mixtos': 8431, 'mocitos': 8432, 'moda': 8433, 'moda,': 8434, 'moda.': 8435, 'moda...': 8436, 'modalidad': 8437, 'modas': 8438, 'modas.': 8439, 'modelar,': 8440, 'modelo': 8441, 'modelo,': 8442, 'modelo;': 8443, 'modelos': 8444, 'modelos,': 8445, 'moderar': 8446, 'moderna': 8447, 'moderna,': 8448, 'moderna.': 8449, 'modernas': 8450, 'modernas,': 8451, 'modernas.': 8452, 'moderno': 8453, 'moderno,': 8454, 'moderno.': 8455, 'moderno;': 8456, 'modernos': 8457, 'modernos,': 8458, 'modernos.': 8459, 'modesta': 8460, 'modesto': 8461, 'modesto,': 8462, 'modificado': 8463, 'modistas': 8464, 'modo': 8465, 'modos,': 8466, 'mohinas.': 8467, 'molde': 8468, 'moldeado.': 8469, 'moldeador': 8470, 'moldeo,': 8471, 'molesta.': 8472, 'molestada': 8473, 'molestaría': 8474, 'molestias': 8475, 'molesto': 8476, 'molesto.': 8477, 'molestos.': 8478, 'molestísimo': 8479, 'momento': 8480, 'momento,': 8481, 'momentos': 8482, 'momento».': 8483, 'monada;': 8484, 'monarca': 8485, 'monarca?': 8486, 'monarcas': 8487, 'monarquías': 8488, 'monarquías--agrega': 8489, 'monarquías--dice': 8490, 'monarquías.': 8491, 'mono!': 8492, 'monografía': 8493, 'monogámica': 8494, 'monosilábico,': 8495, 'monosílabos...:': 8496, 'monotonía': 8497, 'mono»,': 8498, 'mono»;': 8499, 'monseñor': 8500, 'montañas': 8501, 'montañeses': 8502, 'montescos,': 8503, 'montón': 8504, 'monumental': 8505, 'monumentos;': 8506, 'monárquica': 8507, 'monárquica,': 8508, 'moradores': 8509, 'moral': 8510, 'moral,': 8511, 'moral.': 8512, 'moral...': 8513, 'morales': 8514, 'morales,': 8515, 'moralista': 8516, 'moralista,': 8517, 'moralistas': 8518, 'moran': 8519, 'morenas': 8520, 'morenas,': 8521, 'morganático,': 8522, 'morganático.': 8523, 'moribundo,': 8524, 'morimos': 8525, 'morir': 8526, 'morir.': 8527, 'morir;': 8528, 'morirme.': 8529, 'morirse': 8530, 'mortal': 8531, 'mortal,': 8532, 'mortal.': 8533, 'mortales,': 8534, 'mortal»': 8535, 'mortifica': 8536, 'mostrador': 8537, 'mostrador.': 8538, 'mostrarle': 8539, 'mostrarnos': 8540, 'mote': 8541, 'motes': 8542, 'motivo': 8543, 'motivos': 8544, 'mover': 8545, 'moverse,': 8546, 'moverse--dice': 8547, 'movidas': 8548, 'movido': 8549, 'movimiento': 8550, 'movimiento.': 8551, 'movimientos': 8552, 'movía': 8553, 'mozo': 8554, 'mozo,': 8555, 'mozos': 8556, 'mozos,': 8557, 'mozos.': 8558, 'mu...': 8559, 'mucha': 8560, 'mucha.': 8561, 'muchacha': 8562, 'muchacha!--exclamé--¡las': 8563, 'muchacha,': 8564, 'muchacha--«¡Es': 8565, 'muchacha.': 8566, 'muchachas': 8567, 'muchachas,': 8568, 'muchachas.': 8569, 'muchachas;': 8570, 'muchachas?': 8571, 'muchacha».': 8572, 'muchacho': 8573, 'muchacho,': 8574, 'muchachos': 8575, 'muchachos,': 8576, 'muchas': 8577, 'muchas,': 8578, 'muchedumbre': 8579, 'muchedumbre,': 8580, 'muchedumbres': 8581, 'mucho': 8582, 'mucho!': 8583, 'mucho,': 8584, 'mucho,--haciendo': 8585, 'mucho.': 8586, 'mucho;': 8587, 'mucho?': 8588, 'muchos': 8589, 'muchos,': 8590, 'muchísimas': 8591, 'muda': 8592, 'muda,': 8593, 'mudable,': 8594, 'mudanza': 8595, 'mudanza.': 8596, 'mudas?': 8597, 'mudo': 8598, 'mudo,': 8599, 'mudo.': 8600, 'mudos': 8601, 'mueble': 8602, 'muebles': 8603, 'muelas': 8604, 'muere': 8605, 'muere.': 8606, 'muerta': 8607, 'muertas': 8608, 'muerte': 8609, 'muerte!»--me': 8610, 'muerte,': 8611, 'muerte.': 8612, 'muerte:': 8613, 'muerte»,': 8614, 'muertos,': 8615, 'muertos;': 8616, 'muestra': 8617, 'muestrarios': 8618, 'muestro': 8619, 'mueve': 8620, 'mueve.': 8621, 'mueven': 8622, 'muito': 8623, 'mujer': 8624, 'mujer)': 8625, 'mujer,': 8626, 'mujer--y': 8627, 'mujer.': 8628, 'mujer:': 8629, 'mujer;': 8630, 'mujer?': 8631, 'mujeres': 8632, 'mujeres,': 8633, 'mujeres--afirma': 8634, 'mujeres.': 8635, 'mujeres».': 8636, 'muletilla:': 8637, 'multiforme,': 8638, 'multiplicación': 8639, 'mundanas--visitas,': 8640, 'mundano': 8641, 'mundano,': 8642, 'mundano.': 8643, 'mundo': 8644, 'mundo,': 8645, 'mundo--salvo': 8646, 'mundo.': 8647, 'mundo...': 8648, 'mundo:': 8649, 'mundo;': 8650, 'mundo;--el': 8651, 'mundo?': 8652, 'mundo?»,': 8653, 'mundo?».': 8654, 'mundo»--le': 8655, 'mundo».': 8656, 'murió)': 8657, 'murmura': 8658, 'murmuraciones': 8659, 'murmuración': 8660, 'murmuración,': 8661, 'murmuración.': 8662, 'murmurado': 8663, 'murmurador,': 8664, 'murmurador.': 8665, 'murmuradora': 8666, 'murmuradoras.': 8667, 'murmuradores.': 8668, 'murmuramos,': 8669, 'murmuran': 8670, 'murmurar': 8671, 'murmurar,': 8672, 'murmurar.': 8673, 'murmurar:': 8674, 'muro': 8675, 'murria,': 8676, 'musa': 8677, 'muselinas,': 8678, 'museos,': 8679, 'musical,': 8680, 'mustio': 8681, 'mutaciones': 8682, 'mutua': 8683, 'mutuamente.': 8684, 'mutuas.': 8685, 'mutuo': 8686, 'mutuo,': 8687, 'mutuos': 8688, 'muy': 8689, 'muñeca': 8690, 'muñeca:': 8691, 'muñeco': 8692, 'muñecos': 8693, 'máquina': 8694, 'máquinas.': 8695, 'más': 8696, 'más!...': 8697, 'más,': 8698, 'más,--es': 8699, 'más--temas': 8700, 'más.': 8701, 'más...': 8702, 'más:': 8703, 'máscara': 8704, 'máscara.': 8705, 'máxima': 8706, 'máximo': 8707, 'máximos,': 8708, 'médico': 8709, 'mérito': 8710, 'méritos': 8711, 'méritos;': 8712, 'método': 8713, 'método.': 8714, 'métodos': 8715, 'métodos.': 8716, 'mí': 8717, 'mí!': 8718, 'mí!--dice': 8719, 'mí!...': 8720, 'mí,': 8721, 'mí--ya': 8722, 'mí.': 8723, 'mí...': 8724, 'mía': 8725, 'mía),': 8726, 'mía,': 8727, 'mía--me': 8728, 'mía.': 8729, 'mía;': 8730, 'mías,': 8731, 'mías.': 8732, 'mías...': 8733, 'mío': 8734, 'mío!': 8735, 'mío,': 8736, 'mío.': 8737, 'mío?': 8738, 'míos,': 8739, 'míos.': 8740, 'mística,': 8741, 'místico': 8742, 'místico,': 8743, 'místicos,': 8744, 'móvil': 8745, 'móviles': 8746, 'múltiples': 8747, 'música': 8748, 'música,': 8749, 'música.': 8750, 'músico,': 8751, 'músicos': 8752, 'músicos,': 8753, 'nace': 8754, 'nace,': 8755, 'nacemos,': 8756, 'nacer': 8757, 'nacer,': 8758, 'nacer--porque': 8759, 'nacida': 8760, 'nacido': 8761, 'nacido!...': 8762, 'nacido,': 8763, 'nacido.': 8764, 'nacidos': 8765, 'nacidos,': 8766, 'naciendo--y': 8767, 'naciente': 8768, 'naciente,': 8769, 'nacieron': 8770, 'nacimiento': 8771, 'nacional': 8772, 'nacional.': 8773, 'nacionales,': 8774, 'naciones': 8775, 'nada': 8776, 'nada!': 8777, 'nada!...': 8778, 'nada,': 8779, 'nada.': 8780, 'nada...': 8781, 'nada:': 8782, 'nada;': 8783, 'nada?': 8784, 'nadas': 8785, 'nadie': 8786, 'nadie!...': 8787, 'nadie,': 8788, 'nadie.': 8789, 'nadie;': 8790, 'napoleónicas.': 8791, 'nariz': 8792, 'narraciones.': 8793, 'narración': 8794, 'narrativo.': 8795, 'nativa,': 8796, 'nativa.': 8797, 'natural': 8798, 'natural,': 8799, 'natural.': 8800, 'natural?': 8801, 'naturales': 8802, 'naturaleza': 8803, 'naturaleza,': 8804, 'naturaleza.': 8805, 'naturalidad.': 8806, 'naturalista': 8807, 'naturalista,': 8808, 'naturalista?': 8809, 'naturalmente': 8810, 'naturalmente,': 8811, 'naufragar': 8812, 'navegan': 8813, 'navegantes,': 8814, 'nebuloso,': 8815, 'necedad': 8816, 'necesaria': 8817, 'necesarias,': 8818, 'necesario': 8819, 'necesario,': 8820, 'necesario»,': 8821, 'necesidad': 8822, 'necesita': 8823, 'necesita.': 8824, 'necesitaba': 8825, 'necesitan': 8826, 'necesitar': 8827, 'necesitas': 8828, 'necesitas.': 8829, 'necesite': 8830, 'necesito': 8831, 'negada': 8832, 'negar': 8833, 'negarle': 8834, 'negarse': 8835, 'negaré': 8836, 'negativa': 8837, 'negociaciones': 8838, 'negociadoras': 8839, 'negociar.': 8840, 'negocio': 8841, 'negocios': 8842, 'negra,': 8843, 'negro,': 8844, 'negro.': 8845, 'negros': 8846, 'negros.': 8847, 'negro»,': 8848, 'negárselo?': 8849, 'nene»,': 8850, 'nervios': 8851, 'nervios;': 8852, 'nerviosidad': 8853, 'neuralgias,': 8854, 'neveras': 8855, 'neófita,': 8856, 'ni': 8857, 'nieto': 8858, 'nieto,': 8859, 'nieto.': 8860, 'nietos': 8861, 'nietos,': 8862, 'nimbo': 8863, 'nimiedad': 8864, 'nimiedades,': 8865, 'ninguna': 8866, 'ninguno': 8867, 'ningún': 8868, 'nivelación.': 8869, 'niña': 8870, 'niña,': 8871, 'niña.': 8872, 'niña?': 8873, 'niñas': 8874, 'niñas,': 8875, 'niñas.': 8876, 'niñas...': 8877, 'niñas»--como': 8878, 'niñez': 8879, 'niño': 8880, 'niño.': 8881, 'niños,': 8882, 'no': 8883, 'no!...': 8884, 'no!;': 8885, 'no,': 8886, 'no.': 8887, 'no...': 8888, 'no;': 8889, 'no?': 8890, 'no?...': 8891, 'nobiliario,': 8892, 'noble': 8893, 'noble,': 8894, 'noble.': 8895, 'nobles': 8896, 'nobleza': 8897, 'noble»--«Cero».--«Tiene': 8898, 'noche': 8899, 'noche,': 8900, 'noche.': 8901, 'noche;': 8902, 'noches': 8903, 'noches,': 8904, 'noctívaga': 8905, 'noctívagas': 8906, 'noctívagas,': 8907, 'nogal,': 8908, 'nombrado': 8909, 'nombramiento': 8910, 'nombrarlo,': 8911, 'nombrarlo.': 8912, 'nombraron': 8913, 'nombre': 8914, 'nombre)': 8915, 'nombre,': 8916, 'nombre.': 8917, 'nombre;': 8918, 'nombre?': 8919, 'nombres': 8920, 'nombres,': 8921, 'nombres.': 8922, 'nombré': 8923, 'nonada.': 8924, 'norma': 8925, 'normal.': 8926, 'normalidad,': 8927, 'normas': 8928, 'nos': 8929, 'nosotras': 8930, 'nosotras,': 8931, 'nosotras.': 8932, 'nosotros': 8933, 'nosotros,': 8934, 'nostalgia': 8935, 'nostalgia;': 8936, 'nota': 8937, 'notable': 8938, 'notado': 8939, 'notar': 8940, 'notas': 8941, 'noticia': 8942, 'noticia,': 8943, 'noto': 8944, 'noto:': 8945, 'notorio': 8946, 'noté': 8947, 'novela,': 8948, 'novelas': 8949, 'novelas,': 8950, 'novelas.': 8951, 'noveleros,': 8952, 'novelesco': 8953, 'noveno': 8954, 'noviazgo': 8955, 'noviazgo,': 8956, 'noviazgos': 8957, 'noviazgos,': 8958, 'noviazgos.': 8959, 'novillos': 8960, 'novillos,': 8961, 'novio': 8962, 'novio,': 8963, 'novios': 8964, 'novios,': 8965, 'nube.': 8966, 'nubes.': 8967, 'nudillos,': 8968, 'nudo': 8969, 'nuestra': 8970, 'nuestra,': 8971, 'nuestras': 8972, 'nuestro': 8973, 'nuestro.': 8974, 'nuestros': 8975, 'nuestros,': 8976, 'nuevas': 8977, 'nueve': 8978, 'nuevo': 8979, 'nuevos': 8980, 'numerosas': 8981, 'numerosos': 8982, 'nunca': 8983, 'nunca!': 8984, 'nunca.': 8985, 'nupcial.': 8986, 'nutrida': 8987, 'nutridísimo': 8988, 'náufragos': 8989, 'náutica,': 8990, 'nítidamente': 8991, 'nó': 8992, 'número': 8993, 'o': 8994, 'o,': 8995, 'obedecen': 8996, 'obispo': 8997, 'objeto': 8998, 'objetos.': 8999, 'obliga': 9000, 'obliga--a': 9001, 'obligaba': 9002, 'obligaban': 9003, 'obligaciones': 9004, 'obligación,': 9005, 'obligando': 9006, 'obligara': 9007, 'obligarse': 9008, 'obra': 9009, 'obra,': 9010, 'obra.': 9011, 'obrado': 9012, 'obras': 9013, 'obras.': 9014, 'obrigado--repuso': 9015, 'obrigado...».': 9016, 'obsequiadas.': 9017, 'obsequiar,': 9018, 'obsequio': 9019, 'obsequioso': 9020, 'obsequioso;': 9021, 'observa': 9022, 'observaciones': 9023, 'observaciones,': 9024, 'observación': 9025, 'observación,': 9026, 'observación.': 9027, 'observado': 9028, 'observador': 9029, 'observador,': 9030, 'observamos': 9031, 'observan': 9032, 'obsesionado': 9033, 'obsesión,': 9034, 'obstante': 9035, 'obstruía': 9036, 'obstáculo': 9037, 'obstáculos,': 9038, 'obtención': 9039, 'obtener': 9040, 'obtenidas': 9041, 'obtiene': 9042, 'obtuvo,': 9043, 'ocasión': 9044, 'ocasión.': 9045, 'ocho': 9046, 'ocio': 9047, 'octavo,': 9048, 'octogenarios.': 9049, 'oculta': 9050, 'ocultan.': 9051, 'ocultando': 9052, 'ocultar': 9053, 'ocultar,': 9054, 'ocultas': 9055, 'ocupa': 9056, 'ocupaciones': 9057, 'ocupado': 9058, 'ocupando': 9059, 'ocupar': 9060, 'ocuparnos': 9061, 'ocupe': 9062, 'ocupó': 9063, 'ocurran,': 9064, 'ocurre': 9065, 'ocurre.': 9066, 'ocurrencia,': 9067, 'ocurrente,': 9068, 'ocurrente.': 9069, 'ocurrido': 9070, 'ocurrido.': 9071, 'ocurrieron': 9072, 'ocurrir': 9073, 'ocurrir--ocurre': 9074, 'ocurrió': 9075, 'ocurrióseme': 9076, 'odalisca,': 9077, 'odiar': 9078, 'odio': 9079, 'odio,': 9080, 'odio.': 9081, 'odio;': 9082, 'odios': 9083, 'odios,': 9084, 'odoríferas,': 9085, 'ofendemos': 9086, 'ofenden': 9087, 'ofensa': 9088, 'ofensa.': 9089, 'ofensivo': 9090, 'oficial': 9091, 'oficial.': 9092, 'oficina': 9093, 'oficina,': 9094, 'oficio,': 9095, 'ofrece': 9096, 'ofrecer': 9097, 'ofrecerle': 9098, 'ofrecida': 9099, 'ofreciendo': 9100, 'ofreciéndome': 9101, 'ofreció': 9102, 'ofrecí': 9103, 'ofrecía': 9104, 'ofrezca': 9105, 'ofusca': 9106, 'ofuscada.': 9107, 'oidor': 9108, 'oidor.': 9109, 'oidores,': 9110, 'oigo': 9111, 'oir': 9112, 'oirla.': 9113, 'oirme': 9114, 'oiría': 9115, 'ojitos': 9116, 'ojos': 9117, 'ojos,': 9118, 'ojos.': 9119, 'ola': 9120, 'oleaje': 9121, 'oligarca': 9122, 'olvida': 9123, 'olvida;': 9124, 'olvidadas': 9125, 'olvidado': 9126, 'olvidado,': 9127, 'olvidan': 9128, 'olvidan.': 9129, 'olvidar': 9130, 'olvidar,': 9131, 'olvidar.': 9132, 'olvidarlos.': 9133, 'olvidará.': 9134, 'olvidaré': 9135, 'olvido,': 9136, 'olvido.': 9137, 'olímpica': 9138, 'once': 9139, 'onda': 9140, 'ondulante': 9141, 'opaca': 9142, 'opaco': 9143, 'opera': 9144, 'operaciones': 9145, 'operan': 9146, 'opinante--que': 9147, 'opiniones': 9148, 'opinión': 9149, 'opone': 9150, 'oponen': 9151, 'oponerse': 9152, 'oportuna': 9153, 'oportunas': 9154, 'oportunidad': 9155, 'oportunidad.': 9156, 'oportunos': 9157, 'oportunos,': 9158, 'oportunos.': 9159, 'oposición': 9160, 'oprimiendo': 9161, 'oprimir': 9162, 'oprimirle': 9163, 'optimismo': 9164, 'optimismos': 9165, 'optimista': 9166, 'optimista,': 9167, 'opuesto,': 9168, 'opulencia': 9169, 'opulencia--determinaron': 9170, 'opulencia--más': 9171, 'opulencia.': 9172, 'opulentos': 9173, 'opulentos,': 9174, 'oquedad,': 9175, 'oraciones': 9176, 'orador': 9177, 'orador;': 9178, 'oradores': 9179, 'orden': 9180, 'orden.': 9181, 'ordenación': 9182, 'ordenada': 9183, 'ordenado.': 9184, 'ordenar': 9185, 'ordenara': 9186, 'ordene': 9187, 'orejas': 9188, 'organice': 9189, 'organismo': 9190, 'organiza': 9191, 'organización': 9192, 'organización.': 9193, 'organizadas': 9194, 'orgullo': 9195, 'orgullo,': 9196, 'orgullo.': 9197, 'orgullosa': 9198, 'orgánica': 9199, 'orientación': 9200, 'orientación.': 9201, 'orientada.': 9202, 'oriental,': 9203, 'origen': 9204, 'origen,': 9205, 'origina': 9206, 'original': 9207, 'original,': 9208, 'originales': 9209, 'originales,': 9210, 'originaria': 9211, 'originarios': 9212, 'orillas': 9213, 'ornamento': 9214, 'ornato': 9215, 'ornitología': 9216, 'oro': 9217, 'oro».': 9218, 'orquestal.': 9219, 'ortografía': 9220, 'ortográfica': 9221, 'orígenes': 9222, 'os': 9223, 'oscura': 9224, 'oscuras.': 9225, 'oscuridad': 9226, 'oscuridad,': 9227, 'oscuro': 9228, 'oscuro,': 9229, 'oscuros': 9230, 'oscuros,': 9231, 'oscuros;': 9232, 'oscurísimo;': 9233, 'ostentaban': 9234, 'ostentar': 9235, 'ostentatorio': 9236, 'ostentoso': 9237, 'ostentoso.': 9238, 'ostra,': 9239, 'ostracismo': 9240, 'otorgado': 9241, 'otorgado,': 9242, 'otorgarnos': 9243, 'otorgarnos.': 9244, 'otra': 9245, 'otra,': 9246, 'otra.': 9247, 'otras': 9248, 'otras,': 9249, 'otras.': 9250, 'otras:': 9251, 'otro': 9252, 'otro,': 9253, 'otro.': 9254, 'otro;': 9255, 'otro?': 9256, 'otros': 9257, 'otros,': 9258, 'otros.': 9259, 'otros;': 9260, 'oveja,': 9261, 'ovejas,': 9262, 'ovejas.': 9263, 'ovejas...': 9264, 'ovejas;': 9265, 'ovejas»;': 9266, 'oye--el': 9267, 'oye.': 9268, 'oyen': 9269, 'oyendo': 9270, 'oyentes': 9271, 'oyó': 9272, 'oí': 9273, 'oía': 9274, 'oído': 9275, 'oído...': 9276, 'oído?': 9277, 'oídos.': 9278, 'oídos;': 9279, 'oírle...': 9280, 'paces': 9281, 'paces,': 9282, 'paces--díjelo': 9283, 'paces...»': 9284, 'paces»': 9285, 'paces»,': 9286, 'paces».': 9287, 'paciencia': 9288, 'paciencia,': 9289, 'pacientemente': 9290, 'pacificadora,': 9291, 'padece': 9292, 'padecemos': 9293, 'padeces;': 9294, 'padre': 9295, 'padre,': 9296, 'padre--dice': 9297, 'padre.': 9298, 'padres': 9299, 'padres!': 9300, 'padres).': 9301, 'padres,': 9302, 'paga': 9303, 'pagado': 9304, 'pagar': 9305, 'pagar,': 9306, 'pagarlos--porque': 9307, 'pagaron': 9308, 'pagarés,': 9309, 'pagó': 9310, 'palabra': 9311, 'palabra,': 9312, 'palabra.': 9313, 'palabra:': 9314, 'palabra;': 9315, 'palabras': 9316, 'palabras,': 9317, 'palabras.': 9318, 'palabras:': 9319, 'palabras;': 9320, 'palabra».': 9321, 'palacete.': 9322, 'palaciego,': 9323, 'palacio': 9324, 'palacios': 9325, 'palatina.': 9326, 'palatino:': 9327, 'palcos': 9328, 'palidecen': 9329, 'palio': 9330, 'palitroqueo.': 9331, 'palitroques?--pregunto,': 9332, 'palmadita': 9333, 'palmeado': 9334, 'paloma,': 9335, 'palomas,': 9336, 'palosanto,': 9337, 'palpita': 9338, 'palpita».--«¡Ay,': 9339, 'pampa,': 9340, 'pampas,': 9341, 'pamperas,': 9342, 'pantalón': 9343, 'pantalón,': 9344, 'papel': 9345, 'papel,': 9346, 'papeletas': 9347, 'papelón.': 9348, 'papá': 9349, 'papá,': 9350, 'paquete,': 9351, 'par': 9352, 'par,': 9353, 'para': 9354, 'para...': 9355, 'parabienes,': 9356, 'paradoja!': 9357, 'paradoja,': 9358, 'paradoja.': 9359, 'paradoja;': 9360, 'paradógico': 9361, 'paralelas': 9362, 'parar': 9363, 'parar?': 9364, 'pardos.': 9365, 'parece': 9366, 'parece,': 9367, 'parece.': 9368, 'parece?': 9369, 'parecen': 9370, 'parecen,': 9371, 'parecen.': 9372, 'parecen...;': 9373, 'parecer': 9374, 'parecer--el': 9375, 'pareceré': 9376, 'parecido': 9377, 'parecidos.': 9378, 'parecieron': 9379, 'pareció': 9380, 'parecía': 9381, 'parecían': 9382, 'paredes,': 9383, 'pareja': 9384, 'pareja,': 9385, 'parejas': 9386, 'parentela».--«Cero».--«Buena': 9387, 'parentesco,': 9388, 'pares;': 9389, 'parezca': 9390, 'parezca.': 9391, 'parezca?': 9392, 'parezcan': 9393, 'parienta': 9394, 'parientas': 9395, 'parientas,': 9396, 'pariente': 9397, 'pariente.': 9398, 'parlamentario):': 9399, 'parlamentario.': 9400, 'parlante': 9401, 'parlar': 9402, 'parlas': 9403, 'parloteo': 9404, 'parque': 9405, 'parquedad': 9406, 'parroquiales': 9407, 'parsimonia': 9408, 'parsimonia.': 9409, 'parte': 9410, 'parte,': 9411, 'parte--ya': 9412, 'parte--¡qué': 9413, 'parte.': 9414, 'parten': 9415, 'partes': 9416, 'partes,': 9417, 'partes.': 9418, 'partes...': 9419, 'participación;': 9420, 'participan': 9421, 'particular': 9422, 'particular.': 9423, 'particular?': 9424, 'particularmente,': 9425, 'particularísima': 9426, 'partida': 9427, 'partida,': 9428, 'partidarias': 9429, 'partido,': 9430, 'partido.': 9431, 'partidos': 9432, 'partiendo': 9433, 'partir': 9434, 'partituras': 9435, 'partió': 9436, 'partí,': 9437, 'partícipes': 9438, 'partícula': 9439, 'pasa': 9440, 'pasa,': 9441, 'pasa?': 9442, 'pasa?...': 9443, 'pasaba': 9444, 'pasable,': 9445, 'pasadas,': 9446, 'pasado': 9447, 'pasado!': 9448, 'pasado,': 9449, 'pasaje': 9450, 'pasajera.': 9451, 'pasajeras.': 9452, 'pasan': 9453, 'pasando': 9454, 'pasar': 9455, 'pasarla': 9456, 'pasarse': 9457, 'pasará!': 9458, 'pase': 9459, 'paseos': 9460, 'pasillos.': 9461, 'pasionales': 9462, 'pasiones': 9463, 'pasiones,': 9464, 'pasiones.': 9465, 'pasita,': 9466, 'pasito': 9467, 'pasión': 9468, 'pasión,': 9469, 'paso': 9470, 'paso.': 9471, 'paso;': 9472, 'pasta': 9473, 'pasta,': 9474, 'pastaflora»,': 9475, 'pastor': 9476, 'pastora!': 9477, 'pastora.': 9478, 'pastoril.': 9479, 'pastos,': 9480, 'pasé': 9481, 'pasó': 9482, 'pasó,': 9483, 'pasó.': 9484, 'patas': 9485, 'patatas:': 9486, 'paternidad,': 9487, 'patitos': 9488, 'patitos,': 9489, 'patitos.': 9490, 'patos': 9491, 'patos,': 9492, 'patria': 9493, 'patria,': 9494, 'patria.': 9495, 'patria:': 9496, 'patricia.': 9497, 'patriciado': 9498, 'patricios': 9499, 'patricios.': 9500, 'patrio.': 9501, 'patriotismo': 9502, 'patriotismo.': 9503, 'patrocinio': 9504, 'paulatinamente': 9505, 'pautas': 9506, 'pavesa': 9507, 'pavipollo': 9508, 'pavor': 9509, 'pavorosa': 9510, 'payo': 9511, 'paz': 9512, 'paz,': 9513, 'paz.': 9514, 'país': 9515, 'país,': 9516, 'país--;': 9517, 'país.': 9518, 'países,': 9519, 'países--sobre': 9520, 'países--un': 9521, 'país»--dice': 9522, 'pañuelo': 9523, 'peca': 9524, 'pecado': 9525, 'pecados': 9526, 'pecho': 9527, 'pecho,': 9528, 'pechos,': 9529, 'pedagogo': 9530, 'pedagogía': 9531, 'pedagogía.': 9532, 'pedagógica': 9533, 'pedagógico,': 9534, 'pedidas,': 9535, 'pedir': 9536, 'pedirla': 9537, 'pedirle': 9538, 'pedirte': 9539, 'pedíla': 9540, 'pedírselo': 9541, 'pegadito,': 9542, 'pegadiza,': 9543, 'pegó,': 9544, 'peina,': 9545, 'peina.': 9546, 'peinado': 9547, 'peinado.': 9548, 'peinado:': 9549, 'peinados.': 9550, 'pelea.': 9551, 'peleas.': 9552, 'peligro': 9553, 'peligro.': 9554, 'peligroso': 9555, 'peligrosos,': 9556, 'pelma.': 9557, 'pelo': 9558, 'pelo,': 9559, 'pelo.': 9560, 'pelotera': 9561, 'peluca': 9562, 'pena': 9563, 'pena!': 9564, 'pena;': 9565, 'penalidades': 9566, 'penas': 9567, 'penates': 9568, 'pendiente': 9569, 'pendientes': 9570, 'penetra': 9571, 'penetración': 9572, 'penetración.': 9573, 'penetrante': 9574, 'penosas': 9575, 'pensaba': 9576, 'pensaba:': 9577, 'pensado,': 9578, 'pensado.»': 9579, 'pensado;': 9580, 'pensamiento': 9581, 'pensamiento:': 9582, 'pensamientos': 9583, 'pensamos': 9584, 'pensamos.': 9585, 'pensando': 9586, 'pensando,': 9587, 'pensando--no': 9588, 'pensando:': 9589, 'pensando?': 9590, 'pensar': 9591, 'pensarlo!': 9592, 'pensarlo,': 9593, 'pensarlo...»': 9594, 'pensaría': 9595, 'pentágrama': 9596, 'pentágrama).': 9597, 'pentágrama,': 9598, 'penumbra.': 9599, 'península,': 9600, 'peones': 9601, 'peones,': 9602, 'peor': 9603, 'peor.': 9604, 'peores': 9605, 'peores.': 9606, 'peques': 9607, 'pequeña': 9608, 'pequeñas': 9609, 'pequeñas.': 9610, 'pequeño': 9611, 'pequeño,': 9612, 'pequeños': 9613, 'percal': 9614, 'percances.': 9615, 'percata': 9616, 'percatados': 9617, 'percepción': 9618, 'percepción.': 9619, 'perdedor.': 9620, 'perder': 9621, 'perdería': 9622, 'perdida,': 9623, 'perdida.': 9624, 'perdido': 9625, 'perdidos': 9626, 'perdiera': 9627, 'perdieron,': 9628, 'perdió': 9629, 'perdió,': 9630, 'perdonen': 9631, 'perdono».': 9632, 'perdulario': 9633, 'perdurable': 9634, 'perdón': 9635, 'perdón:': 9636, 'perenne,': 9637, 'perennidad': 9638, 'perfección': 9639, 'perfección,': 9640, 'perfección»--dice': 9641, 'perfecta': 9642, 'perfecta,': 9643, 'perfecta.': 9644, 'perfectamente': 9645, 'perfecto': 9646, 'perfecto,': 9647, 'perfecto.': 9648, 'perfectos': 9649, 'perfil;': 9650, 'pergaminos': 9651, 'pergaminos,': 9652, 'periodismo': 9653, 'periodística,': 9654, 'peripecias': 9655, 'peripuestas': 9656, 'peripuesto,': 9657, 'perjudicado': 9658, 'perjuicio.': 9659, 'perlas': 9660, 'perlas,': 9661, 'perlas.': 9662, 'permanecen': 9663, 'permanecía': 9664, 'permanencia': 9665, 'permanente': 9666, 'permanente,': 9667, 'permanente.': 9668, 'permiso': 9669, 'permitirme': 9670, 'pero': 9671, 'pero,': 9672, 'pero...': 9673, 'perpendiculares,': 9674, 'perpetuar': 9675, 'perro': 9676, 'perseguía': 9677, 'persigue': 9678, 'persigue?': 9679, 'persiguiendo,': 9680, 'persistencia': 9681, 'persistente': 9682, 'persona': 9683, 'persona,': 9684, 'persona--quitará': 9685, 'persona.': 9686, 'personaje': 9687, 'personaje.': 9688, 'personajes': 9689, 'personal': 9690, 'personal,': 9691, 'personal;': 9692, 'personalidad': 9693, 'personalidad,': 9694, 'personalidad.': 9695, 'personalmente,': 9696, 'personas': 9697, 'personas.': 9698, 'personas:': 9699, 'pertenece': 9700, 'pertenece.': 9701, 'pertenecen': 9702, 'pertenecer,': 9703, 'perteneciente': 9704, 'pertenecientes,': 9705, 'pertinacia,': 9706, 'pertinaz.': 9707, 'perturbaciones': 9708, 'perturbadas,': 9709, 'perturbadores': 9710, 'pesado,': 9711, 'pesadumbre': 9712, 'pesar': 9713, 'pescamos': 9714, 'pescamos,': 9715, 'pescar.': 9716, 'pescar;': 9717, 'pesimismo.': 9718, 'peso': 9719, 'peso.': 9720, 'pesos': 9721, 'pesos,': 9722, 'pesos.': 9723, 'pesqué': 9724, 'pestañas': 9725, 'peste.': 9726, 'petición': 9727, 'piadoso': 9728, 'piadosos': 9729, 'piano': 9730, 'piano,': 9731, 'piano.': 9732, 'pico': 9733, 'pico.': 9734, 'pictórica.': 9735, 'pida': 9736, 'pide,': 9737, 'piden': 9738, 'pidiendo': 9739, 'pidiendo,': 9740, 'pidiera': 9741, 'pidiera.': 9742, 'pido': 9743, 'pie': 9744, 'pie.': 9745, 'piedad': 9746, 'piedra': 9747, 'piedra.': 9748, 'piedra;': 9749, 'pieles': 9750, 'piensa': 9751, 'piensa--yo': 9752, 'pienso': 9753, 'pierde': 9754, 'pierden': 9755, 'pies': 9756, 'pieza,': 9757, 'piezas.': 9758, 'pijama': 9759, 'pila': 9760, 'pila.': 9761, 'piloto': 9762, 'pingüino,': 9763, 'pinta': 9764, 'pinta?': 9765, 'pintaba,': 9766, 'pintaban': 9767, 'pintada': 9768, 'pintada--suponiendo': 9769, 'pintadas': 9770, 'pintados?': 9771, 'pintan': 9772, 'pintan,': 9773, 'pintan?': 9774, 'pintar': 9775, 'pintarse': 9776, 'pintarse,': 9777, 'pintor,': 9778, 'pintoresca': 9779, 'pintoresco': 9780, 'pintoresco,': 9781, 'pintura': 9782, 'pinturas': 9783, 'pinturero': 9784, 'pintureros': 9785, 'pintándose,': 9786, 'pira': 9787, 'pira...': 9788, 'piramidal': 9789, 'piruetas': 9790, 'pisado': 9791, 'pisaverdes': 9792, 'pista': 9793, 'pista,': 9794, 'pista.': 9795, 'pistas': 9796, 'pizpireta': 9797, 'piélago': 9798, 'placa': 9799, 'place': 9800, 'placer': 9801, 'placer,': 9802, 'placidez': 9803, 'plan': 9804, 'plancha': 9805, 'plancha.': 9806, 'planchadas,': 9807, 'planchadoras': 9808, 'planchadoras,': 9809, 'planchadoras.': 9810, 'planchados,': 9811, 'planche.': 9812, 'planes,': 9813, 'planimetrías': 9814, 'plantados': 9815, 'plantas': 9816, 'plantas.': 9817, 'plantearnos': 9818, 'plata': 9819, 'plata,': 9820, 'plata.': 9821, 'plata...': 9822, 'plata?': 9823, 'platea,': 9824, 'platita': 9825, 'plato': 9826, 'playa...;': 9827, 'plazo': 9828, 'plebeya': 9829, 'plebeyo,': 9830, 'plebeyos,': 9831, 'plegan,': 9832, 'pleitos.': 9833, 'plenitud.': 9834, 'pleno': 9835, 'plomo': 9836, 'pluma.': 9837, 'plumas': 9838, 'plural,': 9839, 'plástica.': 9840, 'población': 9841, 'pobladas': 9842, 'pobre': 9843, 'pobre,': 9844, 'pobre.': 9845, 'pobrecilla': 9846, 'pobrecita': 9847, 'pobrecitas,': 9848, 'pobrecito': 9849, 'pobrecitos': 9850, 'pobres': 9851, 'pobres!...': 9852, 'pobres,': 9853, 'pobres.': 9854, 'pobreza': 9855, 'pobreza,': 9856, 'pobre».': 9857, 'poca': 9858, 'pocas': 9859, 'pocas!...': 9860, 'pocas--yo': 9861, 'poco': 9862, 'poco,': 9863, 'poco.': 9864, 'poco;': 9865, 'pocos': 9866, 'pocos.': 9867, 'podamos': 9868, 'podemos': 9869, 'poder': 9870, 'poder,': 9871, 'poderosamente': 9872, 'podido': 9873, 'podremos': 9874, 'podréis': 9875, 'podría': 9876, 'podríamos': 9877, 'podía': 9878, 'poemas.': 9879, 'poesía': 9880, 'poesía.': 9881, 'poeta': 9882, 'poeta,': 9883, 'poetas': 9884, 'poetas,': 9885, 'polainas': 9886, 'polar?': 9887, 'policía': 9888, 'policía,': 9889, 'polisón': 9890, 'polisón,': 9891, 'polisón.': 9892, 'politiquera--la': 9893, 'pollada': 9894, 'polvo,': 9895, 'polvo.': 9896, 'política': 9897, 'política!--termina': 9898, 'política,': 9899, 'política.': 9900, 'políticamente': 9901, 'políticas': 9902, 'político': 9903, 'político,': 9904, 'político--otro': 9905, 'político-militares,': 9906, 'político.': 9907, 'políticos': 9908, 'políticos!': 9909, 'políticos,': 9910, 'políticos.': 9911, 'pompa': 9912, 'pompas': 9913, 'pomposo': 9914, 'ponderaciones': 9915, 'ponderación.': 9916, 'ponderado': 9917, 'ponderativas:': 9918, 'pone': 9919, 'pone.': 9920, 'ponedoras': 9921, 'ponedoras;': 9922, 'ponen': 9923, 'poner': 9924, 'ponerlas': 9925, 'ponerle': 9926, 'ponerme': 9927, 'ponerse': 9928, 'pones': 9929, 'ponga': 9930, 'pongas': 9931, 'pongas.': 9932, 'poniendo': 9933, 'poniendo,': 9934, 'ponían': 9935, 'popular': 9936, 'popular,': 9937, 'popular.': 9938, 'popular:': 9939, 'populares': 9940, 'popularidad.': 9941, 'populosa.': 9942, 'poquedad': 9943, 'poquedad,': 9944, 'poquito': 9945, 'poquito,': 9946, 'poquito.': 9947, 'poquitín': 9948, 'por': 9949, 'porque': 9950, 'porque,': 9951, 'porque...': 9952, 'porte': 9953, 'portero': 9954, 'porteros,': 9955, 'porteña.': 9956, 'porvenir': 9957, 'porvenir.': 9958, 'porvenir:': 9959, 'porvenir;': 9960, 'posados': 9961, 'posee': 9962, 'poseemos': 9963, 'poseen': 9964, 'posibilidad': 9965, 'posible': 9966, 'posible,': 9967, 'posible;': 9968, 'posiblemente': 9969, 'posición': 9970, 'posición.': 9971, 'positivismo': 9972, 'positivo,': 9973, 'postergación': 9974, 'posteridad': 9975, 'posteridad,': 9976, 'posteridad.': 9977, 'postiza,': 9978, 'postre,': 9979, 'postres.': 9980, 'postura': 9981, 'posturas': 9982, 'potencia': 9983, 'potencias': 9984, 'potreros,': 9985, 'potro': 9986, 'poético': 9987, 'practicar': 9988, 'pragmáticas': 9989, 'precaria.': 9990, 'precaución': 9991, 'precedió': 9992, 'preceptos': 9993, 'preciosas': 9994, 'preciosas,': 9995, 'preciosidades': 9996, 'precioso!--exclamo': 9997, 'preciosos...': 9998, 'preciosísimo': 9999, 'precisa': 10000, 'precisados': 10001, 'precisamente': 10002, 'precisamente,': 10003, 'precisión': 10004, 'precisión,': 10005, 'precoz': 10006, 'precursor': 10007, 'precursor,': 10008, 'precursora': 10009, 'precursores': 10010, 'predilectos': 10011, 'predilectos,': 10012, 'predisponiendo': 10013, 'predominio;': 10014, 'preferencia': 10015, 'preferencias,': 10016, 'preferencias.': 10017, 'preferente': 10018, 'preferible': 10019, 'preferido': 10020, 'preferidos.': 10021, 'preferir': 10022, 'preferir,': 10023, 'preferirá': 10024, 'prefería': 10025, 'prefiera': 10026, 'prefiere': 10027, 'prefieren': 10028, 'prefiero': 10029, 'prefiero,': 10030, 'prefiriendo': 10031, 'prefirió': 10032, 'pregunta': 10033, 'pregunta:': 10034, 'preguntaba': 10035, 'preguntado': 10036, 'preguntar:': 10037, 'preguntaron': 10038, 'pregunto;': 10039, 'preguntándole:': 10040, 'pregunté': 10041, 'preguntó': 10042, 'preguntó:': 10043, 'pregúnteselo': 10044, 'prehistoria': 10045, 'preliminares': 10046, 'prematuros.': 10047, 'premio': 10048, 'premisas': 10049, 'prendas': 10050, 'prendas,': 10051, 'prendaste': 10052, 'prensados,': 10053, 'preocupa': 10054, 'preocupaba': 10055, 'preocupaciones': 10056, 'preocupación': 10057, 'preocupación.': 10058, 'preocupado': 10059, 'preocuparse': 10060, 'preocupes;': 10061, 'preparados.': 10062, 'preparándolo': 10063, 'preponderante': 10064, 'prerrogativa': 10065, 'presa': 10066, 'presencia': 10067, 'presencia!': 10068, 'presencia,': 10069, 'presencia.': 10070, 'presencia;': 10071, 'presenciar': 10072, 'presenta': 10073, 'presentaciones.': 10074, 'presentación': 10075, 'presentación.': 10076, 'presentadas': 10077, 'presentan': 10078, 'presentando': 10079, 'presentar': 10080, 'presentarse': 10081, 'presente,': 10082, 'presente.': 10083, 'presentimiento': 10084, 'presentía': 10085, 'presentó': 10086, 'preside': 10087, 'presidencia': 10088, 'presidencial,': 10089, 'presidenta': 10090, 'presidenta,': 10091, 'presidenta--dice': 10092, 'presidenta.': 10093, 'presidentas.': 10094, 'presidente': 10095, 'presidente.': 10096, 'presión': 10097, 'prestar,': 10098, 'presteza': 10099, 'prestigio': 10100, 'prestigio,': 10101, 'prestigioso': 10102, 'prestigiosos': 10103, 'presto': 10104, 'presume': 10105, 'presumido': 10106, 'presunción': 10107, 'presupuestos': 10108, 'pretende': 10109, 'pretendemos': 10110, 'pretender': 10111, 'pretenderá': 10112, 'pretendiente,': 10113, 'pretendiente.': 10114, 'pretendiente;': 10115, 'pretensiones': 10116, 'pretensión': 10117, 'pretensión».': 10118, 'prevalerse': 10119, 'prever': 10120, 'previsión,': 10121, 'previsto.': 10122, 'prevé,': 10123, 'prima': 10124, 'primas,': 10125, 'primavera': 10126, 'primaverales,': 10127, 'primer': 10128, 'primera': 10129, 'primera,': 10130, 'primeras': 10131, 'primero': 10132, 'primero,': 10133, 'primero.': 10134, 'primero?': 10135, 'primeros': 10136, 'primeros».': 10137, 'primitivo': 10138, 'primitivo,': 10139, 'primitivos': 10140, 'primor': 10141, 'primor.': 10142, 'primoroso': 10143, 'primos': 10144, 'princesas': 10145, 'princesas,': 10146, 'principal': 10147, 'principal,': 10148, 'principal.': 10149, 'principal;': 10150, 'principales': 10151, 'principalmente': 10152, 'principal»,': 10153, 'principio': 10154, 'principio,': 10155, 'principio.': 10156, 'principios,': 10157, 'principio»': 10158, 'prioridad': 10159, 'prioridad,': 10160, 'prisa': 10161, 'prisma,': 10162, 'privada': 10163, 'privada,': 10164, 'privado': 10165, 'privado;': 10166, 'privando': 10167, 'privar': 10168, 'probabilidad': 10169, 'probabilidades': 10170, 'probablemente': 10171, 'probar': 10172, 'probarme': 10173, 'probidad': 10174, 'problema': 10175, 'problema.': 10176, 'problemas': 10177, 'problemas,': 10178, 'problemático,': 10179, 'problemáticos,': 10180, 'procede': 10181, 'proceder': 10182, 'procederes': 10183, 'procediendo': 10184, 'procedimiento': 10185, 'procedimientos': 10186, 'procedimientos,': 10187, 'procedo': 10188, 'procelosos': 10189, 'proceres': 10190, 'proceridad.': 10191, 'proceso': 10192, 'procesos': 10193, 'proclamaban': 10194, 'proclamo': 10195, 'procura': 10196, 'procurando': 10197, 'procurar,': 10198, 'procuro': 10199, 'procuro,': 10200, 'procuré': 10201, 'procérico': 10202, 'procéricos,': 10203, 'prodigioso': 10204, 'produce': 10205, 'produce.': 10206, 'producen': 10207, 'producido': 10208, 'producir': 10209, 'producirla.': 10210, 'producirse.': 10211, 'producirá': 10212, 'producirá,': 10213, 'produciéndome': 10214, 'producto': 10215, 'produjeron': 10216, 'proferí': 10217, 'profunda': 10218, 'profunda,': 10219, 'profunda.': 10220, 'profundamente': 10221, 'profundamente.': 10222, 'profundas.': 10223, 'profundidad': 10224, 'profundo': 10225, 'profundo,': 10226, 'programa,': 10227, 'progresado': 10228, 'progreso': 10229, 'progreso,': 10230, 'progresos': 10231, 'prohibe': 10232, 'prole': 10233, 'prole,': 10234, 'proletariado': 10235, 'prolongar': 10236, 'prometedoras,': 10237, 'prometimos.': 10238, 'prometo': 10239, 'promontorio': 10240, 'promueve.': 10241, 'pronta': 10242, 'pronto': 10243, 'pronto,': 10244, 'pronto.': 10245, 'prontuario': 10246, 'pronuncia': 10247, 'pronunciada,': 10248, 'propagación': 10249, 'propala': 10250, 'propensas': 10251, 'propensión': 10252, 'propensos': 10253, 'propia': 10254, 'propia,': 10255, 'propia:': 10256, 'propiamente': 10257, 'propias': 10258, 'propias,': 10259, 'propiedad,': 10260, 'propietario': 10261, 'propietario,': 10262, 'propio': 10263, 'propio,': 10264, 'propio--las': 10265, 'propio.': 10266, 'propios': 10267, 'propios,': 10268, 'propondrá': 10269, 'proponente': 10270, 'proponga': 10271, 'proporcionar': 10272, 'proporciones': 10273, 'proposición': 10274, 'propósito': 10275, 'propósito.': 10276, 'propósito:': 10277, 'prosa': 10278, 'proscriptas': 10279, 'prosigue:': 10280, 'prosperidad': 10281, 'prosódicos.': 10282, 'protección': 10283, 'protección.': 10284, 'protectora': 10285, 'protectora,': 10286, 'protege': 10287, 'protegen': 10288, 'proteger': 10289, 'protegida': 10290, 'protegida,': 10291, 'protegida.': 10292, 'proteica': 10293, 'proteja,': 10294, 'protejo': 10295, 'protervas': 10296, 'protestante.': 10297, 'protocolar': 10298, 'prototipo': 10299, 'providencial,': 10300, 'providenciales': 10301, 'proviene': 10302, 'proviene,': 10303, 'provincia;': 10304, 'provinciana': 10305, 'provincianitos': 10306, 'provincianos,': 10307, 'provincias': 10308, 'provincias,': 10309, 'provocada': 10310, 'prudente': 10311, 'prudente,': 10312, 'prudentísimo': 10313, 'prueba': 10314, 'pruebo': 10315, 'prurito': 10316, 'práctica': 10317, 'prácticas': 10318, 'príncipes': 10319, 'príncipes,': 10320, 'prólogo,': 10321, 'próxima': 10322, 'próximo': 10323, 'psicología': 10324, 'psicología.': 10325, 'psicológica': 10326, 'psicológicas': 10327, 'psicológico': 10328, 'psicólogo,': 10329, 'psicólogo.': 10330, 'psíquica': 10331, 'psíquica.': 10332, 'pubertad': 10333, 'pubertad,': 10334, 'pubertad.': 10335, 'publicación': 10336, 'publicadas': 10337, 'publicado': 10338, 'publicando': 10339, 'publicidad': 10340, 'publicidad.': 10341, 'publiqué': 10342, 'pude': 10343, 'pudiendo,': 10344, 'pudientes,': 10345, 'pudiera': 10346, 'pudieran': 10347, 'pudieron': 10348, 'pudo': 10349, 'pudor': 10350, 'pudor,': 10351, 'puebla': 10352, 'pueblo': 10353, 'pueblo,': 10354, 'pueblo;': 10355, 'pueblos': 10356, 'pueblos,': 10357, 'pueblos.': 10358, 'pueda': 10359, 'pueda.': 10360, 'puedan': 10361, 'puedan,': 10362, 'puede': 10363, 'puede,': 10364, 'pueden': 10365, 'puedes': 10366, 'puedo': 10367, 'puedo,': 10368, 'puedo;': 10369, 'puente': 10370, 'pueril': 10371, 'pueril,': 10372, 'puerilidad': 10373, 'puerta': 10374, 'puerto': 10375, 'pues': 10376, 'pues,': 10377, 'pues...': 10378, 'puesteros': 10379, 'puesto': 10380, 'puesto,': 10381, 'puestos': 10382, 'pulcro,': 10383, 'pule,': 10384, 'pulido': 10385, 'pulmonar,': 10386, 'pulmones.': 10387, 'pulpa.': 10388, 'pulpería,': 10389, 'pulsaciones': 10390, 'pulso': 10391, 'punta': 10392, 'puntales': 10393, 'puntitas': 10394, 'punto': 10395, 'punto,': 10396, 'punto.': 10397, 'punto:': 10398, 'punto;': 10399, 'puntos': 10400, 'puntuación': 10401, 'pupilas': 10402, 'pura': 10403, 'puramente': 10404, 'pureza': 10405, 'purificación': 10406, 'puro': 10407, 'puse': 10408, 'pusiera': 10409, 'pusieron': 10410, 'pusilánime': 10411, 'pusilánimes': 10412, 'puso': 10413, 'página': 10414, 'páginas': 10415, 'pájaro,': 10416, 'pájaros': 10417, 'pálida': 10418, 'pálido': 10419, 'páramo': 10420, 'párrafo': 10421, 'pérfida,': 10422, 'pésima': 10423, 'pío': 10424, 'píos': 10425, 'pública': 10426, 'pública,': 10427, 'pública.': 10428, 'público': 10429, 'público:': 10430, 'que': 10431, 'que,': 10432, 'que--por': 10433, 'que...': 10434, 'que...?': 10435, 'quebrachos.': 10436, 'quebranta': 10437, 'quebrantada,': 10438, 'queda': 10439, 'queda,': 10440, 'queda.': 10441, 'quedado': 10442, 'quedamos': 10443, 'quedan': 10444, 'quedar': 10445, 'quedara': 10446, 'quedarme.': 10447, 'quedarse': 10448, 'quedará': 10449, 'quedaría': 10450, 'quedarían': 10451, 'quede': 10452, 'quede,': 10453, 'quedemos': 10454, 'queden': 10455, 'quedo': 10456, 'quedándome': 10457, 'quedé': 10458, 'quedó': 10459, 'quedó,': 10460, 'quedóse': 10461, 'quehaceres,': 10462, 'quejido': 10463, 'quema,': 10464, 'quemándose': 10465, 'queremos': 10466, 'querer': 10467, 'querer,': 10468, 'querida': 10469, 'querido': 10470, 'queridísima': 10471, 'queriendo': 10472, 'queriéndole?': 10473, 'querría': 10474, 'querrías': 10475, 'quería': 10476, 'quicio': 10477, 'quiebren': 10478, 'quien': 10479, 'quienes': 10480, 'quiera': 10481, 'quiera,': 10482, 'quiera.': 10483, 'quieran': 10484, 'quieras': 10485, 'quieras,': 10486, 'quieras;': 10487, 'quiere': 10488, 'quiere,': 10489, 'quiere.': 10490, 'quiere...': 10491, 'quiere;': 10492, 'quieren': 10493, 'quieres': 10494, 'quieres,': 10495, 'quieres?': 10496, 'quieres?»': 10497, 'quiero': 10498, 'quiero!': 10499, 'quiero!...': 10500, 'quiero,': 10501, 'quiero.': 10502, 'quiero;': 10503, 'quiero»,': 10504, 'quieta': 10505, 'quietos': 10506, 'quimera.': 10507, 'quimérico.': 10508, 'quiméricos,': 10509, 'quince': 10510, 'quinta': 10511, 'quinto': 10512, 'quinto,': 10513, 'quise.': 10514, 'quisiera': 10515, 'quisieron': 10516, 'quiso': 10517, 'quiso.': 10518, 'quita': 10519, 'quitar': 10520, 'quizá': 10521, 'quizá--que': 10522, 'quién': 10523, 'quién;': 10524, 'qué': 10525, 'qué,': 10526, 'qué?': 10527, 'química': 10528, 'química,': 10529, 'químicos': 10530, 'racional': 10531, 'radiante;': 10532, 'radica,': 10533, 'radical': 10534, 'radical.': 10535, 'radicales': 10536, 'radicales?»--«¡Qué': 10537, 'ramas': 10538, 'ramas--Nuezvana,': 10539, 'ramo': 10540, 'rancho': 10541, 'ranchos,': 10542, 'ranciedad,': 10543, 'rancio': 10544, 'rapidez': 10545, 'rara': 10546, 'rara.': 10547, 'raro': 10548, 'raros': 10549, 'ras': 10550, 'rasgados': 10551, 'rasgo': 10552, 'rasgos': 10553, 'rasgos,': 10554, 'ratificar': 10555, 'ratito': 10556, 'rato': 10557, 'rato,': 10558, 'ratos': 10559, 'raudas': 10560, 'raudas,': 10561, 'raudos': 10562, 'raya': 10563, 'rayas': 10564, 'rayo,': 10565, 'raza,': 10566, 'razas': 10567, 'razonable': 10568, 'razonable.': 10569, 'razonables': 10570, 'razonables.': 10571, 'razonadora': 10572, 'razonamiento': 10573, 'razonamientos': 10574, 'razonar': 10575, 'razones': 10576, 'razones,': 10577, 'razones.': 10578, 'razón': 10579, 'razón,': 10580, 'razón.': 10581, 'razón:': 10582, 'raíces': 10583, 'raíz': 10584, 'reaccionarán': 10585, 'real': 10586, 'real,': 10587, 'real:': 10588, 'reales': 10589, 'reales.': 10590, 'reales:': 10591, 'realidad': 10592, 'realidad,': 10593, 'realidad;': 10594, 'realidad».': 10595, 'realiza': 10596, 'realizar': 10597, 'realizarla;': 10598, 'realizaron': 10599, 'realizaría': 10600, 'realmente': 10601, 'realmente,': 10602, 'realza': 10603, 'reanudación': 10604, 'reanudada': 10605, 'rebaños,': 10606, 'rebela': 10607, 'rebelde': 10608, 'rebelde,': 10609, 'rebeldes': 10610, 'rebeldes.': 10611, 'rebeldía': 10612, 'rebeldía,': 10613, 'rebullendo': 10614, 'rebulléndose': 10615, 'recae': 10616, 'recentales': 10617, 'recepciones,': 10618, 'recepciones.': 10619, 'rechaza': 10620, 'rechazado!...»': 10621, 'rechazado.': 10622, 'recibe': 10623, 'recibe.': 10624, 'recibido': 10625, 'recibir': 10626, 'recibirla».': 10627, 'recibirlo.': 10628, 'recibo': 10629, 'reciente': 10630, 'reciprocidad': 10631, 'recita': 10632, 'recitación': 10633, 'recién': 10634, 'recluir.': 10635, 'reclusión': 10636, 'reclusión,': 10637, 'recobrando': 10638, 'recodo».': 10639, 'recoge': 10640, 'recogemos': 10641, 'recoger': 10642, 'recogida': 10643, 'recogido': 10644, 'recogimiento': 10645, 'recomendación': 10646, 'recomendado': 10647, 'recomienda': 10648, 'reconciliación,': 10649, 'reconciliatorio.': 10650, 'reconocer': 10651, 'reconocerá': 10652, 'reconstruir': 10653, 'recordamos': 10654, 'recordando': 10655, 'recordar': 10656, 'recordar,': 10657, 'recordarle': 10658, 'recordarán': 10659, 'recortaditos': 10660, 'recostando': 10661, 'recta': 10662, 'recuerda': 10663, 'recuerdo': 10664, 'recuerdo,': 10665, 'recuerdos': 10666, 'recuerdos!...': 10667, 'recurran': 10668, 'recurren': 10669, 'recurrir': 10670, 'recurro': 10671, 'recurría': 10672, 'recurso': 10673, 'recursos': 10674, 'recursos:': 10675, 'recíproca': 10676, 'recóndito': 10677, 'redecillas.': 10678, 'redonda': 10679, 'redondas': 10680, 'redondo.': 10681, 'reducida': 10682, 'reducido': 10683, 'referentes': 10684, 'referida': 10685, 'referimos': 10686, 'referirnos': 10687, 'refería': 10688, 'referían': 10689, 'refiera': 10690, 'refiere': 10691, 'refieren': 10692, 'refinada.': 10693, 'refinamiento': 10694, 'refiriéndose': 10695, 'refleja': 10696, 'refleja.': 10697, 'reflejar': 10698, 'reflejarlo,': 10699, 'reflejo': 10700, 'reflejos': 10701, 'reflexiona».': 10702, 'reflexiones': 10703, 'reflexiones,': 10704, 'reflexiva': 10705, 'reflexiva.': 10706, 'reflexivo,': 10707, 'reflexión': 10708, 'reflexión,': 10709, 'reflexión;': 10710, 'refluye': 10711, 'reforma:': 10712, 'reforman': 10713, 'reformar': 10714, 'reformas': 10715, 'regalarles': 10716, 'regalo': 10717, 'regalo.': 10718, 'regalos': 10719, 'regalándote': 10720, 'regaló': 10721, 'regir': 10722, 'registreros': 10723, 'registro': 10724, 'registro,': 10725, 'registros': 10726, 'registros,': 10727, 'regla': 10728, 'regla!»--añadieron': 10729, 'reglas,': 10730, 'regocijar': 10731, 'regocijo,': 10732, 'regocijo.': 10733, 'regulares.': 10734, 'rehacemos': 10735, 'rehacer': 10736, 'rehuya': 10737, 'rehuye.': 10738, 'reina': 10739, 'reina,': 10740, 'reina.': 10741, 'reina...,': 10742, 'reinado': 10743, 'reinado;': 10744, 'reinados': 10745, 'reinan.': 10746, 'reinando': 10747, 'reinantes': 10748, 'reinará': 10749, 'reinas': 10750, 'reinen': 10751, 'reino': 10752, 'reino.': 10753, 'reino;': 10754, 'reirse': 10755, 'reiríamos!': 10756, 'relaciona': 10757, 'relaciona,': 10758, 'relacionado': 10759, 'relaciones': 10760, 'relación': 10761, 'relación,': 10762, 'relación.': 10763, 'relampagueante': 10764, 'relataba': 10765, 'relatado': 10766, 'relatando': 10767, 'relativa': 10768, 'relato.': 10769, 'relegada': 10770, 'relegada;': 10771, 'relegadas': 10772, 'relegados': 10773, 'relegarlos': 10774, 'relieve': 10775, 'religiosidad': 10776, 'religión': 10777, 'religión.': 10778, 'reloj,': 10779, 'relucen': 10780, 'relucir': 10781, 'relumbrantes': 10782, 'relámpago': 10783, 'remangado,': 10784, 'remedio,': 10785, 'remedio--es': 10786, 'remedio:': 10787, 'remedo': 10788, 'remilgos': 10789, 'reminiscencias': 10790, 'remisos': 10791, 'remoción': 10792, 'remonona': 10793, 'remononos,': 10794, 'remorderá': 10795, 'remordimiento': 10796, 'remordimiento,': 10797, 'remota': 10798, 'remoto': 10799, 'remoto.': 10800, 'remotos': 10801, 'remotos.': 10802, 'renacer': 10803, 'renacimiento': 10804, 'rencor': 10805, 'rencor,': 10806, 'rencor.': 10807, 'rencoroso': 10808, 'rencoroso,': 10809, 'rendir': 10810, 'rendirse,': 10811, 'renegrido,': 10812, 'renta».--«¡No,': 10813, 'renuncian': 10814, 'renunciar': 10815, 'renunciaríamos': 10816, 'renuncie': 10817, 'reparo,': 10818, 'reparos': 10819, 'repartir': 10820, 'repartiéndolas.': 10821, 'reparto': 10822, 'repentina:': 10823, 'repentinas,': 10824, 'repentino': 10825, 'repentino,': 10826, 'repetidas': 10827, 'repetido': 10828, 'repetía:': 10829, 'repiqueteadores': 10830, 'repiquetear.': 10831, 'repiqueteo': 10832, 'repite': 10833, 'repite;': 10834, 'repitió': 10835, 'reposa': 10836, 'reposo': 10837, 'representación': 10838, 'representación,': 10839, 'representados.': 10840, 'representan': 10841, 'representar': 10842, 'reprimirlos': 10843, 'reproche.': 10844, 'reproducción': 10845, 'reproducirse': 10846, 'republicana),': 10847, 'republicana,': 10848, 'republicanas': 10849, 'reputación': 10850, 'repúblicas!': 10851, 'requiere': 10852, 'requiere,': 10853, 'requieren': 10854, 'requilorios,': 10855, 'requisito': 10856, 'resbalan': 10857, 'rescoldo': 10858, 'rescoldo,': 10859, 'resentido': 10860, 'resentimiento': 10861, 'resentimiento--la': 10862, 'resentimiento.': 10863, 'reserva': 10864, 'reserva,': 10865, 'reserva.': 10866, 'reservados.': 10867, 'reserve': 10868, 'reside': 10869, 'resigna': 10870, 'resignación,': 10871, 'resiste': 10872, 'resistencia': 10873, 'resistencias': 10874, 'resistentes': 10875, 'resistido': 10876, 'resistiendo': 10877, 'resistirla': 10878, 'resolver': 10879, 'resolver--ya': 10880, 'resolvió': 10881, 'resolví': 10882, 'resonancia.': 10883, 'resonando': 10884, 'resonante': 10885, 'respaldos': 10886, 'respectivas': 10887, 'respectivos': 10888, 'respecto': 10889, 'respetable': 10890, 'respetable,': 10891, 'respetar': 10892, 'respeto': 10893, 'resplandeciente,': 10894, 'resplandores.': 10895, 'respondan': 10896, 'responde:': 10897, 'respondido?': 10898, 'respondió': 10899, 'respondió;--no': 10900, 'respondo;': 10901, 'respondí.': 10902, 'respondía': 10903, 'responsabilidad': 10904, 'responsable': 10905, 'responsable.': 10906, 'respuesta': 10907, 'respuesta,': 10908, 'respuesta.': 10909, 'respuesta?': 10910, 'respuestas': 10911, 'respuestas,': 10912, 'resta': 10913, 'restauración': 10914, 'resto': 10915, 'resto,': 10916, 'restricciones': 10917, 'resueltamente': 10918, 'resuelto': 10919, 'resuelto,': 10920, 'resueltos': 10921, 'resuelve': 10922, 'resuena': 10923, 'resulta': 10924, 'resultado': 10925, 'resultado.': 10926, 'resultados,': 10927, 'resultan': 10928, 'resultando': 10929, 'resulte': 10930, 'resultó': 10931, 'resume': 10932, 'resumen': 10933, 'resumen,': 10934, 'resumiendo': 10935, 'retablo.': 10936, 'retahila': 10937, 'retenerse': 10938, 'retiene': 10939, 'retiene:': 10940, 'retintín': 10941, 'retirada': 10942, 'retirado': 10943, 'retiraron': 10944, 'retirarse.': 10945, 'retiro': 10946, 'retorna': 10947, 'retornar': 10948, 'retorno': 10949, 'retorno?': 10950, 'retrato': 10951, 'retratos': 10952, 'retrechera': 10953, 'retrechero': 10954, 'retruca': 10955, 'retórica': 10956, 'retórica,': 10957, 'reumática,': 10958, 'reunidos,': 10959, 'reuniones': 10960, 'reuniones,': 10961, 'reuniones.': 10962, 'reunión': 10963, 'revela': 10964, 'revelaciones': 10965, 'revelación': 10966, 'revelación,': 10967, 'revelación.': 10968, 'revelado': 10969, 'revelado,': 10970, 'revelador': 10971, 'reveladora': 10972, 'reveladores.': 10973, 'revelan': 10974, 'revelando': 10975, 'revelar': 10976, 'revelarse': 10977, 'revelarte': 10978, 'reverencia': 10979, 'reverencias': 10980, 'revoleó': 10981, 'revolucionario,': 10982, 'revuelan': 10983, 'revuelos,': 10984, 'revuelto,': 10985, 'revés': 10986, 'rey': 10987, 'rey,': 10988, 'rey.': 10989, 'rey....': 10990, 'reyes': 10991, 'reyes,': 10992, 'reyes.': 10993, 'reza': 10994, 'rica': 10995, 'rica,': 10996, 'rica.': 10997, 'ricito': 10998, 'rico': 10999, 'rico,': 11000, 'rico:': 11001, 'rico;': 11002, 'ricos': 11003, 'ricos.': 11004, 'rico».': 11005, 'ridiculeces': 11006, 'ridiculez': 11007, 'ridícula': 11008, 'ridículo': 11009, 'ridículo!»': 11010, 'ridículo.': 11011, 'riego': 11012, 'riego,': 11013, 'rielar': 11014, 'riendo': 11015, 'riesgo': 11016, 'rigen': 11017, 'rigidez': 11018, 'riguroso': 11019, 'rimadas': 11020, 'rincones': 11021, 'rincones.': 11022, 'rinda': 11023, 'riqueza': 11024, 'riqueza,': 11025, 'riquezas': 11026, 'riquezas,': 11027, 'risa': 11028, 'risa.': 11029, 'risas': 11030, 'risible': 11031, 'risueño,': 11032, 'ritmo': 11033, 'rizo': 11034, 'riéndome;--ya': 11035, 'riéndose': 11036, 'riéndose,': 11037, 'roba': 11038, 'robustez': 11039, 'roca,': 11040, 'rodar': 11041, 'rodar,': 11042, 'rodea': 11043, 'rodea,': 11044, 'rodea.': 11045, 'rodeada': 11046, 'rodeado': 11047, 'rodean.': 11048, 'rodeos,': 11049, 'rodeándolo': 11050, 'rodillas,': 11051, 'roedores': 11052, 'rogar': 11053, 'rojas': 11054, 'rojo': 11055, 'romanas': 11056, 'romanas)': 11057, 'romano,': 11058, 'romano.': 11059, 'romanticismo': 11060, 'rompen': 11061, 'romper': 11062, 'rompió': 11063, 'rompía': 11064, 'romántico': 11065, 'romántico,': 11066, 'rondón': 11067, 'ronquido': 11068, 'ropas,': 11069, 'roquera.': 11070, 'roquista;': 11071, 'rosa': 11072, 'rosa;': 11073, 'rosas': 11074, 'rostro': 11075, 'rostro,': 11076, 'rostro.': 11077, 'rostros.': 11078, 'roídos.': 11079, 'roñoso': 11080, 'rubia': 11081, 'rubias': 11082, 'rubias.': 11083, 'rubios': 11084, 'rubio»,': 11085, 'rubor,': 11086, 'rudos': 11087, 'rueda': 11088, 'ruedo': 11089, 'ruido.': 11090, 'ruin)': 11091, 'ruina.': 11092, 'rulos': 11093, 'rulosa,': 11094, 'rumana,': 11095, 'rumbo': 11096, 'rumbosidad.': 11097, 'rumbosidades': 11098, 'rumboso!--dice': 11099, 'rumor': 11100, 'rumores': 11101, 'rumores,': 11102, 'rusas,': 11103, 'rápida': 11104, 'rápida:': 11105, 'rápidamente': 11106, 'rápidas': 11107, 'rápidos': 11108, 'rápidos,': 11109, 'régimen': 11110, 'rías': 11111, 'ríase': 11112, 'ríe': 11113, 'ríen': 11114, 'rígida': 11115, 'rígido,': 11116, 'rígidos,': 11117, 'río': 11118, 'rítmicos': 11119, 'rústica;': 11120, 'sabe': 11121, 'sabe!': 11122, 'sabe,': 11123, 'sabe?': 11124, 'sabemos': 11125, 'sabemos.)': 11126, 'saben': 11127, 'saber': 11128, 'saber,': 11129, 'saberla,': 11130, 'saberse,': 11131, 'sabes': 11132, 'sabes.': 11133, 'sabia': 11134, 'sabido': 11135, 'sabido.': 11136, 'sabiduría,': 11137, 'sabiendo': 11138, 'sabihonda,': 11139, 'sabio': 11140, 'sabios': 11141, 'sabios,': 11142, 'sabor': 11143, 'sabrosa': 11144, 'sabrá': 11145, 'sabéis': 11146, 'sabéis,': 11147, 'sabía': 11148, 'sabíamos': 11149, 'sabían': 11150, 'sabían,': 11151, 'saca': 11152, 'sacaban': 11153, 'sacar': 11154, 'sacarle': 11155, 'sacarse': 11156, 'sacaré': 11157, 'saciedad': 11158, 'saco': 11159, 'sacramento': 11160, 'sacramento,': 11161, 'sacrificarme': 11162, 'sacrilegio': 11163, 'sacrosantos:': 11164, 'sacándole': 11165, 'sagaz': 11166, 'sagrado': 11167, 'sagrados,': 11168, 'sal': 11169, 'sal.': 11170, 'sale': 11171, 'salen': 11172, 'salida': 11173, 'salido': 11174, 'salidos': 11175, 'saliera': 11176, 'salieron': 11177, 'salir': 11178, 'salir.': 11179, 'salita': 11180, 'salita,': 11181, 'salió': 11182, 'saloncito': 11183, 'saloncito.': 11184, 'salones': 11185, 'salones,': 11186, 'salones.': 11187, 'salta': 11188, 'saltado': 11189, 'saltar': 11190, 'saltos': 11191, 'saltos,': 11192, 'salud': 11193, 'salud,': 11194, 'salud--me': 11195, 'salud.': 11196, 'saluda': 11197, 'saludable': 11198, 'salude,': 11199, 'saludo': 11200, 'salvación:': 11201, 'salvado.': 11202, 'salvaje': 11203, 'salvaje.': 11204, 'salvamos': 11205, 'salvarse,': 11206, 'salvo': 11207, 'salí': 11208, 'salía': 11209, 'salón': 11210, 'salón,': 11211, 'salón.': 11212, 'sana': 11213, 'sanción': 11214, 'sangre': 11215, 'sangre,': 11216, 'sangre.': 11217, 'sangre...': 11218, 'sanguínea': 11219, 'santa': 11220, 'santa;': 11221, 'santas': 11222, 'santidad': 11223, 'santo': 11224, 'santo,': 11225, 'santo.': 11226, 'santoral,': 11227, 'santoral.': 11228, 'santoral:': 11229, 'santos': 11230, 'santos,': 11231, 'santos--suponiendo': 11232, 'santísimo': 11233, 'sarao': 11234, 'sarao,': 11235, 'saraos': 11236, 'saraos,': 11237, 'sarnifuguero!»': 11238, 'sarnífugos,': 11239, 'sarta': 11240, 'sastre': 11241, 'sastrería,': 11242, 'sastres:': 11243, 'satisfacción': 11244, 'satisfacción,': 11245, 'satisfacción.': 11246, 'satisfacer': 11247, 'satisfactoriamente.': 11248, 'satisfacía': 11249, 'satisfecha': 11250, 'sauce.': 11251, 'se': 11252, 'sea': 11253, 'sea,': 11254, 'sea--es': 11255, 'sea.': 11256, 'seamos': 11257, 'sean': 11258, 'seas': 11259, 'seca': 11260, 'secretario': 11261, 'secreto': 11262, 'secreto,': 11263, 'secreto.': 11264, 'secreto:': 11265, 'secreto;': 11266, 'secreto?': 11267, 'secretos': 11268, 'secretos,': 11269, 'secretos.': 11270, 'secretos;': 11271, 'secreto».': 11272, 'secular,': 11273, 'seculares': 11274, 'secundar': 11275, 'seda': 11276, 'seda.': 11277, 'sedante,': 11278, 'seducciones,': 11279, 'seducciones.': 11280, 'seducciones:': 11281, 'seducción': 11282, 'seduce,': 11283, 'seducido': 11284, 'seductor': 11285, 'seductor,': 11286, 'seductoras': 11287, 'seguida': 11288, 'seguida,': 11289, 'seguido': 11290, 'seguir': 11291, 'seguirse.': 11292, 'seguirá': 11293, 'seguirían:': 11294, 'segunda': 11295, 'segunda...': 11296, 'segundo': 11297, 'segundo,': 11298, 'segundos': 11299, 'segundos,': 11300, 'segura': 11301, 'segura,': 11302, 'seguramente': 11303, 'seguras': 11304, 'seguridad': 11305, 'seguridad.': 11306, 'seguro': 11307, 'seguro,': 11308, 'seguro.': 11309, 'seguro;': 11310, 'seguros?...': 11311, 'seguía': 11312, 'según': 11313, 'seis': 11314, 'seis.': 11315, 'selecta,': 11316, 'selecto': 11317, 'semana': 11318, 'semana,': 11319, 'semblante': 11320, 'sembrar': 11321, 'semejante': 11322, 'semejanza': 11323, 'semicorcheas,': 11324, 'semifusas,': 11325, 'semovientes.': 11326, 'sencilla': 11327, 'sencilla,': 11328, 'sencilla.': 11329, 'sencillas': 11330, 'sencillez.': 11331, 'sencillo': 11332, 'sencillo.': 11333, 'sendas': 11334, 'seno': 11335, 'seno,': 11336, 'sensaciones': 11337, 'sensaciones,': 11338, 'sensaciones.': 11339, 'sensación': 11340, 'sensata.': 11341, 'sensatas': 11342, 'sensatez': 11343, 'sensibilidad': 11344, 'sensibilidad.': 11345, 'sensible': 11346, 'sensibles': 11347, 'sentada,': 11348, 'sentarse': 11349, 'sentencia,': 11350, 'sentencias.': 11351, 'sentencioso': 11352, 'sentido': 11353, 'sentido,': 11354, 'sentidos': 11355, 'sentidos.': 11356, 'sentimental': 11357, 'sentimental,': 11358, 'sentimental.': 11359, 'sentimentales.': 11360, 'sentimiento': 11361, 'sentimiento!': 11362, 'sentimiento,': 11363, 'sentimiento.': 11364, 'sentimientos': 11365, 'sentimientos,': 11366, 'sentimientos.': 11367, 'sentir': 11368, 'sentir.': 11369, 'sentirse': 11370, 'sentiría': 11371, 'sentí': 11372, 'sentían': 11373, 'sentíme': 11374, 'sentó.': 11375, 'sepa': 11376, 'sepan': 11377, 'separa': 11378, 'separaban': 11379, 'sepulcro,': 11380, 'sepulcro.': 11381, 'sepultado': 11382, 'seque.': 11383, 'sequedad,': 11384, 'ser': 11385, 'ser!': 11386, 'ser,': 11387, 'ser--digo': 11388, 'ser:': 11389, 'serafines,': 11390, 'serena': 11391, 'serenamente': 11392, 'serenarme,': 11393, 'serenidad': 11394, 'sereno': 11395, 'sereno;': 11396, 'seres': 11397, 'seres.': 11398, 'serie': 11399, 'serio': 11400, 'serio,': 11401, 'serio.': 11402, 'serlo': 11403, 'serlo,': 11404, 'serlo.': 11405, 'serlo;': 11406, 'serme': 11407, 'sermonarias,': 11408, 'sernos': 11409, 'servicio': 11410, 'servicio,': 11411, 'servido': 11412, 'servidumbre': 11413, 'servir': 11414, 'servirla': 11415, 'servirlas,': 11416, 'será': 11417, 'serán': 11418, 'serán,': 11419, 'sería': 11420, 'serían': 11421, 'serías': 11422, 'sesión': 11423, 'seso,': 11424, 'severidad,': 11425, 'severo': 11426, 'sexo': 11427, 'sexo,': 11428, 'sexo.': 11429, 'sexos.': 11430, 'sexto,': 11431, 'señala': 11432, 'señalada': 11433, 'señaladas': 11434, 'señalado': 11435, 'señalados,': 11436, 'señalan': 11437, 'señalando': 11438, 'señalar': 11439, 'señalarlas': 11440, 'señalarlos': 11441, 'señor': 11442, 'señor,': 11443, 'señora': 11444, 'señora!': 11445, 'señora!--;': 11446, 'señora,': 11447, 'señora.': 11448, 'señora;': 11449, 'señoras': 11450, 'señoras,': 11451, 'señoras--salta': 11452, 'señoras.': 11453, 'señores': 11454, 'señoril,': 11455, 'señorita': 11456, 'señorita,': 11457, 'señorita--agregó': 11458, 'señorita--asaltan': 11459, 'señorita.': 11460, 'señoritas': 11461, 'señoritas,': 11462, 'señoritas.': 11463, 'si': 11464, 'si,': 11465, 'siberiano.': 11466, 'sido': 11467, 'sido.': 11468, 'siembra': 11469, 'siempre': 11470, 'siempre,': 11471, 'siempre.': 11472, 'siempre:': 11473, 'siempre?': 11474, 'siendo': 11475, 'sientan': 11476, 'siente': 11477, 'sienten': 11478, 'siento': 11479, 'siete': 11480, 'sigan': 11481, 'sigilo': 11482, 'siglo': 11483, 'siglo,': 11484, 'siglos': 11485, 'siglos,': 11486, 'siglos.': 11487, 'significa': 11488, 'significación': 11489, 'significado': 11490, 'significan': 11491, 'significar': 11492, 'significara': 11493, 'significándole': 11494, 'signifique': 11495, 'signo': 11496, 'signos': 11497, 'signos,': 11498, 'sigue': 11499, 'sigue...': 11500, 'siguen': 11501, 'siguiendo': 11502, 'siguiente': 11503, 'siguiente:': 11504, 'siguió': 11505, 'silencio': 11506, 'silencio,': 11507, 'silenciosa': 11508, 'silenciosas.': 11509, 'silencioso,': 11510, 'sillones': 11511, 'simboliza': 11512, 'similitud': 11513, 'simpatía': 11514, 'simpatía,': 11515, 'simpatías': 11516, 'simple': 11517, 'simple,': 11518, 'simples': 11519, 'simplicidad': 11520, 'simplista,': 11521, 'simplista.': 11522, 'simpática': 11523, 'simpática,': 11524, 'simpáticas': 11525, 'simpático': 11526, 'simpático.': 11527, 'simulan': 11528, 'simulando': 11529, 'simular': 11530, 'simulará,': 11531, 'simultáneamente,': 11532, 'simultáneamente.': 11533, 'sin': 11534, 'sincerarse,': 11535, 'sinceridad,': 11536, 'sincero,': 11537, 'singular': 11538, 'singular.': 11539, 'sino': 11540, 'sintaxis': 11541, 'sintiendo': 11542, 'sintáctica.': 11543, 'sintáxis': 11544, 'sinónimas.': 11545, 'siquiera': 11546, 'sirvan': 11547, 'sirve': 11548, 'sirven': 11549, 'sirviendo': 11550, 'sirvientas': 11551, 'sirvientas,': 11552, 'sirvientes,': 11553, 'sistema': 11554, 'sistemas': 11555, 'sistemas,': 11556, 'sitio': 11557, 'sitio,': 11558, 'sitio.': 11559, 'sitio;': 11560, 'situación': 11561, 'situación.': 11562, 'siéntate.': 11563, 'soberana': 11564, 'soberbia': 11565, 'soberbia,': 11566, 'soberbia.': 11567, 'sobra': 11568, 'sobran': 11569, 'sobre': 11570, 'sobremesa': 11571, 'sobriedad,': 11572, 'sobrina': 11573, 'sobrinas': 11574, 'sobrinas,': 11575, 'sobrinas.': 11576, 'sobrino': 11577, 'sobrio': 11578, 'social': 11579, 'social,': 11580, 'social.': 11581, 'social:': 11582, 'social;': 11583, 'sociales': 11584, 'sociales,': 11585, 'sociales.': 11586, 'socialistas,': 11587, 'socialmente': 11588, 'socialmente,': 11589, 'sociedad': 11590, 'sociedad,': 11591, 'sociedad.': 11592, 'sociedad:': 11593, 'sociedad;': 11594, 'sociedades': 11595, 'socio': 11596, 'socio,': 11597, 'sociología,': 11598, 'socios': 11599, 'sociólogos': 11600, 'sofistificación,': 11601, 'sofocada,': 11602, 'sofocar': 11603, 'sofoques!...': 11604, 'sofoques,': 11605, 'sol': 11606, 'sol,': 11607, 'sol.': 11608, 'sola': 11609, 'sola!': 11610, 'sola,': 11611, 'sola.': 11612, 'solamente': 11613, 'solapas': 11614, 'soledad': 11615, 'soledad.': 11616, 'soledad;': 11617, 'solemne': 11618, 'solemnidad,': 11619, 'solemnidad.': 11620, 'solfa': 11621, 'solfas.': 11622, 'solicita': 11623, 'solicitada,': 11624, 'solicitada.': 11625, 'solicitadas': 11626, 'solicitados': 11627, 'solicitar': 11628, 'solidez': 11629, 'solidísimo': 11630, 'solio': 11631, 'solitaria,': 11632, 'sollozos.': 11633, 'solo': 11634, 'solo;': 11635, 'solos': 11636, 'soltada': 11637, 'soltera': 11638, 'solteras': 11639, 'soltero,': 11640, 'solteronas': 11641, 'solteros,': 11642, 'soltura': 11643, 'soltura,': 11644, 'soltándola': 11645, 'solución': 11646, 'solía': 11647, 'solícita': 11648, 'solícito': 11649, 'sombrero': 11650, 'sombreros': 11651, 'sombreros...;': 11652, 'sombríos,': 11653, 'somera': 11654, 'someramente,': 11655, 'someter': 11656, 'someternos': 11657, 'sometidos': 11658, 'sometimiento': 11659, 'somos': 11660, 'son': 11661, 'son,': 11662, 'son...': 11663, 'sonado...!': 11664, 'sonido': 11665, 'sonidos': 11666, 'sonoras': 11667, 'sonoro': 11668, 'sonoro,': 11669, 'sonoros,': 11670, 'sonrisa': 11671, 'sonrisas': 11672, 'sonrojo,': 11673, 'sonsacando': 11674, 'soplo': 11675, 'sordas': 11676, 'sordo': 11677, 'sordo,': 11678, 'sorprende': 11679, 'sorprendentes.': 11680, 'sorprendentes;': 11681, 'sorprender': 11682, 'sorprenderme': 11683, 'sorpresa!...': 11684, 'sorpresas,': 11685, 'sosegado.': 11686, 'sosegarse': 11687, 'sosegase': 11688, 'sosiego': 11689, 'sosiego;': 11690, 'soslayo,': 11691, 'sospecha': 11692, 'sospechar,': 11693, 'sospechas': 11694, 'sospechoso': 11695, 'sostendrán': 11696, 'sostener': 11697, 'sostenible,': 11698, 'sostenidos': 11699, 'sostiene': 11700, 'soterrada': 11701, 'soy': 11702, 'soy!': 11703, 'su': 11704, 'suave': 11705, 'suave,': 11706, 'suavemente': 11707, 'suaves,': 11708, 'suavidad,': 11709, 'suavidad.': 11710, 'subalterno,': 11711, 'sube': 11712, 'subir': 11713, 'subir.': 11714, 'sublime': 11715, 'sublime?': 11716, 'sublimes': 11717, 'sublimidad': 11718, 'sucede': 11719, 'sucede.': 11720, 'sucede?': 11721, 'suceder': 11722, 'sucediendo': 11723, 'sucesiva': 11724, 'sucesión': 11725, 'suceso': 11726, 'sucesos': 11727, 'sucio': 11728, 'suegra.': 11729, 'suele': 11730, 'suelen': 11731, 'suelo': 11732, 'suelo.': 11733, 'suelto': 11734, 'suelto,': 11735, 'suena': 11736, 'suerte': 11737, 'sueña': 11738, 'sueño': 11739, 'sueño,': 11740, 'suficientes': 11741, 'sufragio': 11742, 'sufre': 11743, 'sufre;': 11744, 'sufren': 11745, 'sufres': 11746, 'sufrido': 11747, 'sufriendo': 11748, 'sufrimiento': 11749, 'sufrimientos,': 11750, 'sufrimos,': 11751, 'sufrir': 11752, 'sufrir,': 11753, 'sufriría...': 11754, 'sufro': 11755, 'sufrí': 11756, 'sugerido': 11757, 'sugestionable.': 11758, 'sugestionando': 11759, 'sugestionar': 11760, 'sugiere': 11761, 'sugiere.': 11762, 'sugirió': 11763, 'sujeta': 11764, 'sujetaban': 11765, 'sujetadas': 11766, 'sujetan': 11767, 'sujetar': 11768, 'sujetarse': 11769, 'sujeto': 11770, 'sujeto,': 11771, 'sujeto.': 11772, 'sujetos': 11773, 'suma': 11774, 'suma,': 11775, 'sumadas': 11776, 'sumamente': 11777, 'sume': 11778, 'sumergen': 11779, 'sumidas': 11780, 'suministra': 11781, 'suntuosísimos;': 11782, 'supe': 11783, 'supera': 11784, 'superaba': 11785, 'superficial': 11786, 'superficial,': 11787, 'superficial;': 11788, 'superficiales': 11789, 'superficiales,': 11790, 'superior': 11791, 'superior:': 11792, 'superiores.': 11793, 'supieran': 11794, 'supiese': 11795, 'suplantar': 11796, 'suple': 11797, 'suplicando,': 11798, 'supliqué.': 11799, 'suplir': 11800, 'supo': 11801, 'supondréis': 11802, 'supone': 11803, 'suponer': 11804, 'suponer»': 11805, 'supongo': 11806, 'suponiendo': 11807, 'suponiéndola': 11808, 'suposición': 11809, 'suprema': 11810, 'suprema,': 11811, 'suprimir': 11812, 'suprimirlos.': 11813, 'supusiera': 11814, 'surge': 11815, 'surgen': 11816, 'surgir': 11817, 'sus': 11818, \"sus'\": 11819, 'suscita': 11820, 'suspender': 11821, 'suspendido': 11822, 'suspensa': 11823, 'suspensión': 11824, 'suspenso': 11825, 'suspicaz,': 11826, 'suspira:': 11827, 'suspiro!»': 11828, 'sustancia': 11829, 'sustancia,': 11830, 'sustancia.': 11831, 'sustantivo,': 11832, 'sustantivo.': 11833, 'sustituir': 11834, 'sustitutos': 11835, 'sustituye': 11836, 'sustituyéndolos': 11837, 'sustituída': 11838, 'sustraerle': 11839, 'sutil': 11840, 'sutil,': 11841, 'sutiles': 11842, 'sutiles.': 11843, 'sutilezas': 11844, 'suya': 11845, 'suya,': 11846, 'suya.': 11847, 'suyas,': 11848, 'suyo': 11849, 'suyo,': 11850, 'suyo.': 11851, 'suyos': 11852, 'suyos,': 11853, 'suyos.': 11854, 'suyos...': 11855, 'sábado.': 11856, 'sándalo,': 11857, 'sé': 11858, 'sé,': 11859, 'sé...': 11860, 'sé;': 11861, 'sécate': 11862, 'séptimo,': 11863, 'sí': 11864, 'sí!': 11865, 'sí!!...»': 11866, 'sí,': 11867, 'sí.': 11868, 'sí...': 11869, 'sí;': 11870, 'sílaba,': 11871, 'símbolo': 11872, 'símbolos': 11873, 'síncope,': 11874, 'sólida': 11875, 'sólido': 11876, 'sólidos': 11877, 'sólo': 11878, 'súbditos': 11879, 'súbditos.': 11880, 'tabiques': 11881, 'tacho!--responde': 11882, 'tacto,': 11883, 'tal': 11884, 'tal,': 11885, 'talabarteros».': 11886, 'talento': 11887, 'talento,': 11888, 'talento.': 11889, 'tales': 11890, 'talle': 11891, 'talle,': 11892, 'talleres': 11893, 'talles?': 11894, 'tamañito': 11895, 'tamaño,': 11896, 'también': 11897, 'también,': 11898, 'también.': 11899, 'también...': 11900, 'tampoco': 11901, 'tan': 11902, 'tanta': 11903, 'tantas': 11904, 'tanto': 11905, 'tanto!...': 11906, 'tanto,': 11907, 'tanto.': 11908, 'tanto...': 11909, 'tanto:': 11910, 'tanto?': 11911, 'tantos': 11912, 'taquigráfica': 11913, 'tarareo': 11914, 'tarda': 11915, 'tarde': 11916, 'tarde,': 11917, 'tarde.': 11918, 'tarde:': 11919, 'tarde?': 11920, 'tardo,': 11921, 'tarjeta.': 11922, 'tarjeta:': 11923, 'tataradeudos.': 11924, 'tatuaje.': 11925, 'te': 11926, 'teatral': 11927, 'teatral,': 11928, 'teatral.': 11929, 'teatro': 11930, 'teatro,': 11931, 'teatro.': 11932, 'teclas.': 11933, 'tedio,': 11934, 'tedio.': 11935, 'tediosa,': 11936, 'tediosa.': 11937, 'tejado,': 11938, 'tejaroz': 11939, 'tejido': 11940, 'telas': 11941, 'telescopio': 11942, 'telones,': 11943, 'teléfono': 11944, 'teléfono?': 11945, 'tema': 11946, 'tema.': 11947, 'temas': 11948, 'temas,': 11949, 'tembloroso,': 11950, 'teme': 11951, 'temen': 11952, 'temerosos': 11953, 'temo': 11954, 'temor': 11955, 'temor.': 11956, 'temores': 11957, 'temores,': 11958, 'temperamentos': 11959, 'temperatura': 11960, 'templo': 11961, 'temporal': 11962, 'temporal,': 11963, 'temprano;': 11964, 'tenacidad': 11965, 'tenaz': 11966, 'tendencia': 11967, 'tendencias': 11968, 'tendencias,': 11969, 'tendidos': 11970, 'tendientes': 11971, 'tendió': 11972, 'tendrá': 11973, 'tendrán': 11974, 'tendré': 11975, 'tendrían': 11976, 'tenemos': 11977, 'tenemos,': 11978, 'tenemos?': 11979, 'tener': 11980, 'tenerlo': 11981, 'tenga': 11982, 'tengan': 11983, 'tengas': 11984, 'tengo': 11985, 'tenido': 11986, 'teniendo': 11987, 'teniéndome': 11988, 'tenor': 11989, 'tenor,': 11990, 'tensión': 11991, 'tensión.': 11992, 'tentación': 11993, 'tentada': 11994, 'tenues': 11995, 'tenéis': 11996, 'tenía': 11997, 'teníamos.': 11998, 'tenían': 11999, 'tenías': 12000, 'teorías': 12001, 'tercer': 12002, 'tercero,': 12003, 'tercio': 12004, 'terco.': 12005, 'termina.': 12006, 'terminado': 12007, 'terminado,': 12008, 'terminado;': 12009, 'terminar': 12010, 'terminar,': 12011, 'terminar.': 12012, 'terminara': 12013, 'terminemos': 12014, 'terminó': 12015, 'terne,': 12016, 'ternura': 12017, 'ternura.': 12018, 'tero,': 12019, 'teros.': 12020, 'terquedad,': 12021, 'terrateniente': 12022, 'terrateniente:': 12023, 'terraza': 12024, 'terreno,': 12025, 'terrenos,': 12026, 'terrenos.': 12027, 'terrestre': 12028, 'terrestres.': 12029, 'terrible': 12030, 'terrible!': 12031, 'terrible,': 12032, 'terrible.': 12033, 'terrosos': 12034, 'tersa': 12035, 'terso': 12036, 'tertulia': 12037, 'tertulias': 12038, 'tertulias,': 12039, 'tertulias.': 12040, 'tesoro': 12041, 'tesoros': 12042, 'tesoros,': 12043, 'tesoros:': 12044, 'testamentario,': 12045, 'testaruda,': 12046, 'testarudez': 12047, 'testas.': 12048, 'testimonio': 12049, 'tetrarca': 12050, 'tetrarca,': 12051, 'texto': 12052, 'texto.': 12053, 'textos': 12054, 'textuales': 12055, 'teñido,': 12056, 'tibia': 12057, 'tibio,': 12058, 'tiemblan': 12059, 'tiemblo.': 12060, 'tiempo': 12061, 'tiempo,': 12062, 'tiempo--digo': 12063, 'tiempo.': 12064, 'tiempo;': 12065, 'tiempos': 12066, 'tiempos.': 12067, 'tiende': 12068, 'tiene': 12069, 'tiene,': 12070, 'tiene.': 12071, 'tienen': 12072, 'tienen!': 12073, 'tienen,': 12074, 'tienes': 12075, 'tienes!...': 12076, 'tierna': 12077, 'tiernas,': 12078, 'tierno': 12079, 'tierno,': 12080, 'tiernos': 12081, 'tiernísima': 12082, 'tierra': 12083, 'tierra,': 12084, 'tierra.': 12085, 'tierras': 12086, 'tierras,': 12087, 'tierra».': 12088, 'tigrecitos': 12089, 'tilingo,': 12090, 'tilingos': 12091, 'tilingos.': 12092, 'tilinguismo': 12093, 'tilinguismo.': 12094, 'timbre': 12095, 'timbres': 12096, 'timidez': 12097, 'timoratos': 12098, 'tinglado': 12099, 'tinglados': 12100, 'tino': 12101, 'tiple,': 12102, 'tipo': 12103, 'tipo,': 12104, 'tipo:': 12105, 'tipo»': 12106, 'tiralíneas.': 12107, 'tiran': 12108, 'tiranía': 12109, 'tires': 12110, 'tires,': 12111, 'tires...!': 12112, 'tiritando.': 12113, 'tiro': 12114, 'tiros': 12115, 'titeo': 12116, 'titeo.': 12117, 'titulada': 12118, 'toalla': 12119, 'tobillos;': 12120, 'toca': 12121, 'toca,': 12122, 'tocaban': 12123, 'tocado': 12124, 'tocado,': 12125, 'tocado.': 12126, 'tocador': 12127, 'tocador,': 12128, 'tocadoras.': 12129, 'tocar': 12130, 'tocar,': 12131, 'tocarse.': 12132, 'toco': 12133, 'toda': 12134, 'todas': 12135, 'todas--es': 12136, 'todas.': 12137, 'todavía...': 12138, 'todo': 12139, 'todo,': 12140, 'todo.': 12141, 'todo:': 12142, 'todo;': 12143, 'todos': 12144, 'todos,': 12145, 'todos.': 12146, 'todos?': 12147, 'todo».': 12148, 'tolerancia,': 12149, 'tolerante': 12150, 'tolerantes': 12151, 'toma': 12152, 'toman': 12153, 'tomar': 12154, 'tomarla': 12155, 'tomo': 12156, 'tono': 12157, 'tono.': 12158, 'tonta': 12159, 'tonta,': 12160, 'tonta.': 12161, 'tontería': 12162, 'tontería.': 12163, 'tonterías,': 12164, 'tonterías--porque,': 12165, 'tonto': 12166, 'tonto,': 12167, 'tontos': 12168, 'toparon': 12169, 'toquecitos': 12170, 'torbellino': 12171, 'torbellino,': 12172, 'torcida': 12173, 'torcidas': 12174, 'torcido': 12175, 'tormentas': 12176, 'tormento': 12177, 'tormento.': 12178, 'tormentos': 12179, 'tormentosa': 12180, 'tormentosas': 12181, 'tormentosos,': 12182, 'torna': 12183, 'tornadiza': 12184, 'tornadizo,': 12185, 'tornan': 12186, 'tornaría': 12187, 'torneados': 12188, 'torno': 12189, 'toros.': 12190, 'torpeza': 12191, 'torres': 12192, 'torres,': 12193, 'tortuga,': 12194, 'torvo': 12195, 'tosca': 12196, 'toscos': 12197, 'tosquedad': 12198, 'total': 12199, 'tozudeces': 12200, 'trabada,': 12201, 'trabadas': 12202, 'trabadas.': 12203, 'trabaja': 12204, 'trabajando': 12205, 'trabajar,': 12206, 'trabajemos': 12207, 'trabajo': 12208, 'trabajo,': 12209, 'trabajosa': 12210, 'trabajoso': 12211, 'tradicional': 12212, 'tradicional.': 12213, 'tradición': 12214, 'tradición,': 12215, 'traduce': 12216, 'traducida': 12217, 'traducir': 12218, 'traductor': 12219, 'trae': 12220, 'traen': 12221, 'traer': 12222, 'traerlos': 12223, 'tragedia': 12224, 'tragedia.': 12225, 'tragicomedia': 12226, 'traje': 12227, 'traje,': 12228, 'traje?...': 12229, 'trajes': 12230, 'trajes.': 12231, 'trajes:': 12232, 'trajes;': 12233, 'tramados,': 12234, 'tramando': 12235, 'tramar': 12236, 'tramitaciones,': 12237, 'tramitaciones?': 12238, 'tramitada,': 12239, 'tramitadora': 12240, 'tramitados,': 12241, 'tramitando': 12242, 'tramitar': 12243, 'tramitar,': 12244, 'trance': 12245, 'trance,': 12246, 'trances': 12247, 'tranquila,': 12248, 'tranquila.': 12249, 'tranquilas,': 12250, 'tranquilidad': 12251, 'tranquilizada': 12252, 'tranquilizo': 12253, 'tranquilo': 12254, 'tranquilo.': 12255, 'tranquilo:': 12256, 'tranquilos': 12257, 'tranquilos.': 12258, 'transcripta': 12259, 'transcriptos': 12260, 'transcurso': 12261, 'transición': 12262, 'transida.': 12263, 'transige': 12264, 'transigencia,': 12265, 'transigir.': 12266, 'transijo': 12267, 'transijo!': 12268, 'transijo,': 12269, 'transijo.': 12270, 'transitoria.': 12271, 'transitorias.': 12272, 'transitorios,': 12273, 'tras': 12274, 'trascendencia': 12275, 'trascendencia).': 12276, 'trascendental': 12277, 'trascendental,': 12278, 'trascendental.': 12279, 'trascendentales': 12280, 'trascordada.': 12281, 'trascriptos.': 12282, 'trascurre': 12283, 'trascurso': 12284, 'trasfigurarse': 12285, 'trasformaciones': 12286, 'trasformaciones,': 12287, 'trasformación': 12288, 'trasformación.': 12289, 'trasformar': 12290, 'trasformarla,': 12291, 'trasformarlo': 12292, 'trasformarse': 12293, 'trasformarse.': 12294, 'trasformista,': 12295, 'trasfundida': 12296, 'trasiego': 12297, 'traslada': 12298, 'trasladando': 12299, 'trasladar': 12300, 'traslade': 12301, 'trasladen': 12302, 'traslúcido.': 12303, 'trasmisión': 12304, 'trasmisor': 12305, 'trasmisor,': 12306, 'trasmite': 12307, 'trasmitimos.': 12308, 'trasmitir': 12309, 'trasmitirlo.': 12310, 'trasmitió': 12311, 'traspié': 12312, 'traspié;': 12313, 'trasportar': 12314, 'trastorna;': 12315, 'trastornan': 12316, 'trasunto': 12317, 'trata': 12318, 'trataba': 12319, 'tratado': 12320, 'tratados': 12321, 'tratamos': 12322, 'tratan': 12323, 'tratando': 12324, 'tratar': 12325, 'tratar.': 12326, 'tratarse': 12327, 'tratase': 12328, 'trate': 12329, 'trate,': 12330, 'trato': 12331, 'tratándose': 12332, 'traté': 12333, 'travesura': 12334, 'través': 12335, 'trayecto': 12336, 'traza': 12337, 'trazar': 12338, 'traían': 12339, 'traído': 12340, 'traídos': 12341, 'trebejos': 12342, 'treinta': 12343, 'tremenda!': 12344, 'tremenda.': 12345, 'tremendo.': 12346, 'tres': 12347, 'trescientos': 12348, 'tribuna': 12349, 'tribunas': 12350, 'tribunas,': 12351, 'tribunicio,': 12352, 'trifulca': 12353, 'trifulcas': 12354, 'trigo': 12355, 'trincheras': 12356, 'trinos': 12357, 'triste': 12358, 'triste,': 12359, 'triste--agrega': 12360, 'triste.': 12361, 'triste...': 12362, 'tristemente': 12363, 'tristes': 12364, 'tristes,': 12365, 'tristeza': 12366, 'tristeza!': 12367, 'tristeza,': 12368, 'tristezas': 12369, 'tristezas.': 12370, 'triunfar,': 12371, 'triunfo': 12372, 'triunfo,': 12373, 'triunfo.': 12374, 'triunfos': 12375, 'triunfó': 12376, 'trivial': 12377, 'trogloditas': 12378, 'trompeta': 12379, 'trompetería': 12380, 'tronos': 12381, 'tropezaron': 12382, 'tropiezos,': 12383, 'tropiezos.': 12384, 'troquelado.': 12385, 'tráfago': 12386, 'trágico': 12387, 'trágicos': 12388, 'trámites,': 12389, 'trémula': 12390, 'trémula,': 12391, 'tu': 12392, 'tumba': 12393, 'tumba,': 12394, 'tumba.': 12395, 'tumbas,': 12396, 'tumulto': 12397, 'tumultuaria': 12398, 'tumultuario': 12399, 'tuno': 12400, 'turbación': 12401, 'turbación,': 12402, 'turbante': 12403, 'turbulencia': 12404, 'turbulentos': 12405, 'turistas': 12406, 'tus': 12407, 'tute': 12408, 'tuve': 12409, 'tuviera': 12410, 'tuvieron': 12411, 'tuvimos': 12412, 'tuvo': 12413, 'tuvo,': 12414, 'tuya.': 12415, 'tuyas': 12416, 'tuyo,': 12417, 'tuyo.': 12418, 'tácticos': 12419, 'té': 12420, 'témpanos': 12421, 'téngase': 12422, 'término': 12423, 'término,': 12424, 'términos': 12425, 'términos.': 12426, 'tí': 12427, 'tí,': 12428, 'tí.': 12429, 'tí?': 12430, 'tías': 12431, 'tías,': 12432, 'tímido': 12433, 'tímpanos.': 12434, 'tíndalo,': 12435, 'tíos,': 12436, 'título': 12437, 'títulos': 12438, 'títulos--que': 12439, 'tópico': 12440, 'tópico,': 12441, 'tú': 12442, 'tú,': 12443, 'tú.': 12444, 'tú...': 12445, 'túnel.': 12446, 'túneles.': 12447, 'tú».': 12448, 'ugartista': 12449, 'ugartista,': 12450, 'ugartistas': 12451, 'ultimo,': 12452, 'un': 12453, 'una': 12454, 'una,': 12455, 'unas': 12456, 'unen': 12457, 'unen,': 12458, 'unida': 12459, 'unida,': 12460, 'unidad': 12461, 'unidas': 12462, 'unido': 12463, 'unidos': 12464, 'uniformidad': 12465, 'unir': 12466, 'unir,': 12467, 'unir.': 12468, 'unirnos': 12469, 'unirse': 12470, 'unitarios,': 12471, 'universal': 12472, 'universal,': 12473, 'universal.': 12474, 'universales,': 12475, 'universales.': 12476, 'universitaria': 12477, 'universitarios,': 12478, 'universo': 12479, 'universo,': 12480, 'universo.': 12481, 'unió': 12482, 'unión': 12483, 'unión,': 12484, 'unión.': 12485, 'uno': 12486, 'uno,': 12487, 'uno--no': 12488, 'uno;--todo': 12489, 'unos': 12490, 'unánime,': 12491, 'urbana': 12492, 'urgencia,': 12493, 'urgía': 12494, 'urnas,': 12495, 'usa': 12496, 'usaban': 12497, 'usado': 12498, 'usan': 12499, 'usando': 12500, 'usar': 12501, 'usaron': 12502, 'usarse': 12503, 'uso': 12504, 'usos': 12505, 'usos,': 12506, 'usted': 12507, 'usted!...': 12508, 'usted,': 12509, 'usted--en': 12510, 'usted.': 12511, 'usted...': 12512, 'usted;': 12513, 'usted?...': 12514, 'ustedes': 12515, 'usted»--le': 12516, 'usufructo.': 12517, 'usurpando': 12518, 'utilitario': 12519, 'utilitario.': 12520, 'va': 12521, 'va,': 12522, 'va...': 12523, 'va?': 12524, 'vacante': 12525, 'vacas': 12526, 'vacas,': 12527, 'vacas.': 12528, 'vacas;': 12529, 'vaciedad': 12530, 'vacilaciones,': 12531, 'vacilantes': 12532, 'vacilé': 12533, 'vacua': 12534, 'vacía': 12535, 'vacío': 12536, 'vacío;': 12537, 'vaga:': 12538, 'vagos': 12539, 'vahídos,': 12540, 'vaivén': 12541, 'valdrán': 12542, 'valdría': 12543, 'valdrían': 12544, 'vale': 12545, 'vale.': 12546, 'valen': 12547, 'valer': 12548, 'valer,': 12549, 'valer.': 12550, 'valerosa': 12551, 'valerse': 12552, 'valido': 12553, 'valido,': 12554, 'vallas': 12555, 'valor': 12556, 'valor,': 12557, 'valores': 12558, 'valoriza': 12559, 'vals,': 12560, 'valsar': 12561, 'valses': 12562, 'valía': 12563, 'valían': 12564, 'vamos': 12565, 'vamos,': 12566, 'vamos...': 12567, 'van': 12568, 'vana': 12569, 'vana,': 12570, 'vanamente': 12571, 'vanidad': 12572, 'vanidades': 12573, 'vanidades,': 12574, 'vanidades.': 12575, 'vanidosa': 12576, 'vanidoso': 12577, 'varas': 12578, 'variable,': 12579, 'variación': 12580, 'variada': 12581, 'variada.': 12582, 'variadas,': 12583, 'variados': 12584, 'variadísima.': 12585, 'variadísimos,': 12586, 'varias': 12587, 'variedad': 12588, 'variedad,': 12589, 'varios': 12590, 'varios.': 12591, 'varita': 12592, 'varones': 12593, 'varonil': 12594, 'varían': 12595, 'varón': 12596, 'varón,': 12597, 'varón--debió': 12598, 'vas': 12599, 'vas?': 12600, 'vasallos.': 12601, 'vasco': 12602, 'vasco»,': 12603, 'vaselina,': 12604, 'vaso': 12605, 'vasta': 12606, 'vasto': 12607, 'vastísimo': 12608, 'vates': 12609, 'vaya': 12610, 'vaya,': 12611, 'vayamos': 12612, 'vayan': 12613, 've': 12614, 've,': 12615, 'vea': 12616, 'vean': 12617, 'vean?': 12618, 'veas': 12619, 'veces': 12620, 'veces)': 12621, 'veces,': 12622, 'veces--la': 12623, 'veces:': 12624, 'vegetación': 12625, 'vegetal.': 12626, 'vegetales.': 12627, 'vehemencia': 12628, 'vehemente': 12629, 'vehemente--y': 12630, 'veinte': 12631, 'veinticinco': 12632, 'veja': 12633, 'vejez': 12634, 'velamen': 12635, 'velando': 12636, 'veleidad.': 12637, 'veleta': 12638, 'vemos': 12639, 'ven': 12640, 'vence': 12641, 'vencer': 12642, 'vencer.': 12643, 'venceremos.': 12644, 'vencimientos,': 12645, 'venda': 12646, 'vender': 12647, 'vender,': 12648, 'vende».': 12649, 'vendiera': 12650, 'vendió': 12651, 'vendrá': 12652, 'vendría': 12653, 'vendrían': 12654, 'venerables,': 12655, 'venerando': 12656, 'vengamos': 12657, 'venganza': 12658, 'venganza.': 12659, 'venganza;': 12660, 'vengarse': 12661, 'vengas': 12662, 'vengativo,': 12663, 'vengativo.': 12664, 'vengo': 12665, 'venido': 12666, 'venimos': 12667, 'venir': 12668, 'venirse': 12669, 'ventaja': 12670, 'ventajas': 12671, 'ventana': 12672, 'ventura': 12673, 'venturoso,': 12674, 'venturoso;': 12675, 'venza': 12676, 'venza,': 12677, 'venzo': 12678, 'venía': 12679, 'veo': 12680, 'veo,': 12681, 'ver': 12682, 'ver,': 12683, 'ver:': 12684, 'veraces,': 12685, 'veras,': 12686, 'veras.': 12687, 'verba': 12688, 'verbal': 12689, 'verbosidad': 12690, 'verboso,': 12691, 'verdad': 12692, 'verdad,': 12693, 'verdad,--asiente': 12694, 'verdad--se': 12695, 'verdad.': 12696, 'verdadera': 12697, 'verdadera.': 12698, 'verdaderamente': 12699, 'verdaderas': 12700, 'verdadero': 12701, 'verdadero,': 12702, 'verdaderos': 12703, 'verdades,': 12704, 'verdades--si': 12705, 'verde': 12706, 'verde-esmeralda,': 12707, 'verde.': 12708, 'veremos': 12709, 'vergüenza': 12710, 'vergüenza.': 12711, 'verla': 12712, 'verle': 12713, 'verle,': 12714, 'verlos': 12715, 'verme': 12716, 'verme,': 12717, 'verse': 12718, 'verse».': 12719, 'versiones': 12720, 'verso;': 12721, 'versos': 12722, 'versátil,': 12723, 'verte': 12724, 'vertiginosa,': 12725, 'ver».': 12726, 'verá': 12727, 'verás': 12728, 'veré': 12729, 'vería': 12730, 'ves': 12731, 'ves,': 12732, 'vestidas': 12733, 'vestido': 12734, 'vestidos': 12735, 'vestidos.': 12736, 'vestidos...': 12737, 'vestir,': 12738, 'vete;': 12739, 'vetustos': 12740, 'vetustos,': 12741, 'vez': 12742, 'vez,': 12743, 'vez--son': 12744, 'vez.': 12745, 'vez:': 12746, 'veía': 12747, 'vi': 12748, 'viaje...': 12749, 'viajeros': 12750, 'vibraciones': 12751, 'vibrante': 12752, 'viceversa.': 12753, 'vicios.': 12754, 'victimarios': 12755, 'victoria': 12756, 'vida': 12757, 'vida,': 12758, 'vida.': 12759, 'vida;': 12760, 'vida?': 12761, 'vidas': 12762, 'vidas,': 12763, 'vie-jita--dice--,': 12764, 'vieja': 12765, 'viejas': 12766, 'viejas.': 12767, 'viejecita': 12768, 'viejecito,': 12769, 'viejecitos?': 12770, 'viejita,': 12771, 'viejo': 12772, 'viejo!': 12773, 'viejo!...;': 12774, 'viejo!...»': 12775, 'viejo,': 12776, 'viejos': 12777, 'viejos;': 12778, 'viejos?': 12779, 'viendo': 12780, 'viene': 12781, 'vienen': 12782, 'vienes': 12783, 'viento': 12784, 'vientos': 12785, 'viera': 12786, 'viera,': 12787, 'vieras,': 12788, 'vieron': 12789, 'vigilante': 12790, 'vigor,': 12791, 'vil': 12792, 'vinculado,': 12793, 'vindicarse': 12794, 'vine': 12795, 'vinimos': 12796, 'vino': 12797, 'violencias.': 12798, 'violenta': 12799, 'violenta.': 12800, 'violentamente': 12801, 'violentar': 12802, 'violentas': 12803, 'violeta,': 12804, 'violín.': 12805, 'virgiliano.': 12806, 'virreinatos': 12807, 'virrey': 12808, 'virrey,': 12809, 'virtud': 12810, 'virtud,': 12811, 'virtudes': 12812, 'virtudes.': 12813, 'visajera;': 12814, 'visible': 12815, 'visible,': 12816, 'visibles.': 12817, 'visita,': 12818, 'visita.': 12819, 'visita?': 12820, 'visitan': 12821, 'visitante': 12822, 'visitar': 12823, 'visitarme': 12824, 'visitarme,': 12825, 'visión': 12826, 'visión.': 12827, 'viso': 12828, 'vista': 12829, 'vista,': 12830, 'vista;': 12831, 'vistas': 12832, 'viste': 12833, 'visto': 12834, 'visto,': 12835, 'visto.': 12836, 'visto?...»': 12837, 'visto?»': 12838, 'vistos': 12839, 'vistosas': 12840, 'vitalidad': 12841, 'vitalidad,': 12842, 'viuda': 12843, 'viuda,': 12844, 'viuda.': 12845, 'viuda?': 12846, 'viudas': 12847, 'viudez,': 12848, 'viudita': 12849, 'viva': 12850, 'viva!...': 12851, 'viva.': 12852, 'vivaces,': 12853, 'vivacidad': 12854, 'vivaz': 12855, 'vive': 12856, 'vive,': 12857, 'viven': 12858, 'viven.': 12859, 'viviendo,': 12860, 'viviente,': 12861, 'viviera': 12862, 'viviera...': 12863, 'vivieran': 12864, 'vivir': 12865, 'vivir,': 12866, 'vivir.': 12867, 'viviremos': 12868, 'vivió': 12869, 'vivo': 12870, 'vivo.': 12871, 'vivos,': 12872, 'vivos;': 12873, 'vió': 12874, 'vocablos': 12875, 'vocabulario': 12876, 'vocabulario.': 12877, 'vocerío': 12878, 'voces': 12879, 'voces.': 12880, 'volando': 12881, 'volar': 12882, 'volar.': 12883, 'volcánicas': 12884, 'volteretas': 12885, 'voluble,': 12886, 'volumen.': 12887, 'voluntad': 12888, 'voluntad,': 12889, 'voluntad.': 12890, 'voluntades': 12891, 'voluntaria': 12892, 'voluptuosos,': 12893, 'volver': 12894, 'volverse': 12895, 'volviendo': 12896, 'volvimos,': 12897, 'volviéndose': 12898, 'volvió': 12899, 'volvía': 12900, 'volátil,': 12901, 'voló': 12902, 'volúmenes)': 12903, 'voto': 12904, 'votos': 12905, 'voy': 12906, 'voy.': 12907, 'voz': 12908, 'voz,': 12909, 'voz:': 12910, 'vuela': 12911, 'vuelan': 12912, 'vuelo': 12913, 'vuelo,': 12914, 'vuelo.': 12915, 'vuelo;': 12916, 'vuelos': 12917, 'vuelta': 12918, 'vueltas': 12919, 'vueltas.': 12920, 'vuelta»': 12921, 'vuelto': 12922, 'vuelto?': 12923, 'vuelva': 12924, 'vuelve': 12925, 'vuelven': 12926, 'vuestra': 12927, 'vuestros': 12928, 'vulgar': 12929, 'vulgar,': 12930, 'vulgares.': 12931, 'vulgares;': 12932, 'vulgarizaría': 12933, 'vulgarmente': 12934, 'véis,': 12935, 'vérsele': 12936, 'vértigos': 12937, 'vía': 12938, 'vías': 12939, 'víctima': 12940, 'víctimas': 12941, 'víctimas,': 12942, 'vínculos': 12943, 'víspera': 12944, 'y': 12945, 'y,': 12946, 'y...': 12947, 'ya': 12948, 'yacen': 12949, 'yacer': 12950, 'yerbas': 12951, 'yerguen': 12952, 'yerno': 12953, 'yerno,': 12954, 'yernos': 12955, 'yernos,': 12956, 'yernos--se': 12957, 'yernos--sobre': 12958, 'yernos.': 12959, 'yernos?': 12960, 'yerren': 12961, 'yo': 12962, 'yo!': 12963, 'yo!...': 12964, 'yo,': 12965, 'yo--dice': 12966, 'yo--mejor': 12967, 'yo.': 12968, 'yo...': 12969, 'yo;': 12970, 'yo?': 12971, 'yéndose': 12972, 'zahorí,': 12973, 'zapatos': 12974, 'zapatos,': 12975, 'zapatos...;': 12976, 'zarabanda.': 12977, 'zona': 12978, 'zonas': 12979, 'zonzo...': 12980, 'zonzo;': 12981, 'zozobrará...': 12982, '¡': 12983, '¡A': 12984, '¡Ah!': 12985, '¡Ah,': 12986, '¡Anular': 12987, '¡Así': 12988, '¡Ay': 12989, '¡Ay,': 12990, '¡Cada': 12991, '¡Cariño,': 12992, '¡Cualquiera': 12993, '¡Cómo': 12994, '¡Dios': 12995, '¡Dí': 12996, '¡Era': 12997, '¡Es': 12998, '¡Ese': 12999, '¡Eso': 13000, '¡Eso,': 13001, '¡Esto': 13002, '¡Figúrate': 13003, '¡Figúrate!': 13004, '¡Firmes!...': 13005, '¡Hijita,': 13006, '¡Inesita,': 13007, '¡Iré,': 13008, '¡Me': 13009, '¡Misia': 13010, '¡Ni': 13011, '¡No': 13012, '¡No,': 13013, '¡Nuestra': 13014, '¡Ojalá': 13015, '¡Pobre': 13016, '¡Pobrecitos,': 13017, '¡Que': 13018, '¡Quisiera': 13019, '¡Qué': 13020, '¡Rosalía!': 13021, '¡Sabía': 13022, '¡Si': 13023, '¡Tan': 13024, '¡Un': 13025, '¡Vaya': 13026, '¡Y': 13027, '¡Yo': 13028, '¡aceptado!»--decía': 13029, '¡ah!...': 13030, '¡ay': 13031, '¡ay!': 13032, '¡buena': 13033, '¡claridad!': 13034, '¡claridad!...': 13035, '¡con': 13036, '¡cuánto': 13037, '¡cómo': 13038, '¡de': 13039, '¡digno!': 13040, '¡déjala!': 13041, '¡encorsetados!': 13042, '¡eres': 13043, '¡es': 13044, '¡eso': 13045, '¡estoy': 13046, '¡figúrese': 13047, '¡huid,': 13048, '¡imposible!': 13049, '¡impresentable!»': 13050, '¡invencibles!...': 13051, '¡la': 13052, '¡le': 13053, '¡lo': 13054, '¡ni': 13055, '¡no': 13056, '¡oh!': 13057, '¡olé!': 13058, '¡olé!...': 13059, '¡pobre': 13060, '¡que': 13061, '¡quién': 13062, '¡qué': 13063, '¡se': 13064, '¡todos': 13065, '¡tú': 13066, '¡un': 13067, '¡vete': 13068, '¡viera': 13069, '¡¡DESAHUCIADO!!': 13070, '¡¡Desahuciado!!': 13071, '¡¡El': 13072, '«--Un': 13073, '«A': 13074, '«Andate': 13075, '«Ante': 13076, '«Baby»,': 13077, '«Bueno,': 13078, '«Cacho»,': 13079, '«Cartas»': 13080, '«Cartas»:': 13081, '«Charlín»,': 13082, '«Cherchez': 13083, '«Chiveta»,': 13084, '«Chocho»,': 13085, '«Chucha»,': 13086, '«Clemencia': 13087, '«Coca»,': 13088, '«Cocha»,': 13089, '«Cochonga»,': 13090, '«Con': 13091, '«Cotaco»,': 13092, '«Crotalogía»': 13093, '«Crotalogía».': 13094, '«Crotalogía»:': 13095, '«Créame,': 13096, '«Cucho»,': 13097, '«Díganla': 13098, '«Eco': 13099, '«El': 13100, '«En': 13101, '«Era': 13102, '«Es': 13103, '«Esa': 13104, '«Estoy': 13105, '«Está': 13106, '«Estás': 13107, '«Fausto».': 13108, '«Fifa»,': 13109, '«Fito»,': 13110, '«Geórgicas»': 13111, '«Gogo»,': 13112, '«Gogó»,': 13113, '«Hermanas': 13114, '«Hijito,': 13115, '«Hombres': 13116, '«Jockey': 13117, '«LOS': 13118, '«La': 13119, '«Lalo»,': 13120, '«Llegaron': 13121, '«Loló»,': 13122, '«Los': 13123, '«Lucía»,': 13124, '«Mangacha»,': 13125, '«Matesa»,': 13126, '«Me': 13127, '«Mecha»,': 13128, '«Mechita»,': 13129, '«Mi': 13130, '«Mimí»,': 13131, '«Mira,': 13132, '«Muito': 13133, '«Nada': 13134, '«Nenana»,': 13135, '«Neneite»,': 13136, '«Nenín»,': 13137, '«Nina»,': 13138, '«Nini»,': 13139, '«No': 13140, '«Nono»,': 13141, '«Obrigado,': 13142, '«Ocean»...': 13143, '«PLANCHADORAS»': 13144, '«Panegírico': 13145, '«Peringote»,': 13146, '«Pero': 13147, '«Pero,': 13148, '«Perucho»,': 13149, '«Piringo»': 13150, '«Piringo»,': 13151, '«Planchadoras»': 13152, '«Poroto»,': 13153, '«Poroto»;': 13154, '«Potota»,': 13155, '«Pototo»,': 13156, '«Primero': 13157, '«Que': 13158, '«Quien': 13159, '«Quisiera': 13160, '«Saint': 13161, '«Sangre': 13162, '«Saqué': 13163, '«Se': 13164, '«Según': 13165, '«Si': 13166, '«Sisi»,': 13167, '«Supuesto': 13168, '«Sáenz': 13169, '«Sí,': 13170, '«TRAMITADORES»': 13171, '«Taco»,': 13172, '«Te': 13173, '«Tina»,': 13174, '«Tinita»,': 13175, '«Tito»,': 13176, '«Toto»,': 13177, '«Totó»,': 13178, '«Tramitadores»': 13179, '«Trovador»': 13180, '«Tu': 13181, '«Un': 13182, '«Vadarkblar': 13183, '«Vadarkblar»': 13184, '«Vadarkblar».': 13185, '«Vea': 13186, '«Vende,': 13187, '«Visto': 13188, '«Y': 13189, '«a': 13190, '«aigrettes»': 13191, '«aigrette»?...;': 13192, '«airoso»,': 13193, '«amarrete»': 13194, '«apellido': 13195, '«apunte»': 13196, '«bajo': 13197, '«bautizar»': 13198, '«buena': 13199, '«buffet»,': 13200, '«casi»': 13201, '«castañuelas».': 13202, '«casual»': 13203, '«cero».': 13204, '«cero».--«Es': 13205, '«chauffeurs»,': 13206, '«cipreses»,': 13207, '«cipreses».': 13208, '«cipreses»...!!': 13209, '«clubmen»': 13210, '«clubmen»,': 13211, '«concedido,': 13212, '«cristianar»': 13213, '«crochet»--confieso': 13214, '«crochet»--y': 13215, '«crotalia»,': 13216, '«dandys»,': 13217, '«darnos': 13218, '«dato»': 13219, '«dediyos»': 13220, '«discreción,': 13221, '«el': 13222, '«en': 13223, '«es': 13224, '«estaba': 13225, '«está': 13226, '«eternidad»,': 13227, '«flirteado»': 13228, '«fundamental»': 13229, '«ganchos»': 13230, '«gancho»': 13231, '«gancho»,': 13232, '«gancho».': 13233, '«gatos»': 13234, '«gente': 13235, '«gente».': 13236, '«hacer': 13237, '«has': 13238, '«haut»': 13239, '«haut»,': 13240, '«haut».': 13241, '«hermana».': 13242, '«ideas»': 13243, '«importantes»': 13244, '«infinito»,': 13245, '«intrépidos»,': 13246, '«jockey»': 13247, '«la': 13248, '«las': 13249, '«le': 13250, '«lo': 13251, '«los': 13252, '«madre': 13253, '«mi': 13254, '«mitinero»': 13255, '«mozo': 13256, '«muerte».': 13257, '«naos»': 13258, '«no': 13259, '«no»': 13260, '«no»,': 13261, '«nuestra': 13262, '«paddock»': 13263, '«paliyos»': 13264, '«papelitos': 13265, '«paqueta»': 13266, '«paquetería»': 13267, '«partidistas»,': 13268, '«pataítas»,': 13269, '«pequeño': 13270, '«planchadoras»': 13271, '«planchadoras»,': 13272, '«planchadoras».': 13273, '«planchadora»': 13274, '«planchadora»,': 13275, '«planchadora»;': 13276, '«planchado»': 13277, '«planchando»': 13278, '«planchando».': 13279, '«planchando»...': 13280, '«planchan».': 13281, '«planchar»': 13282, '«planchará».': 13283, '«plancha»': 13284, '«plancha».': 13285, '«por': 13286, '«previas»': 13287, '«procelosos': 13288, '«pues': 13289, '«pálpitos»': 13290, '«pálpito»': 13291, '«quien': 13292, '«rara': 13293, '«recuérdemelo,': 13294, '«reservadamente»,': 13295, '«reservas»': 13296, '«rodeo»': 13297, '«saco»': 13298, '«se': 13299, '«servir': 13300, '«señoritos': 13301, '«son': 13302, '«sportsmen»,': 13303, '«sí»': 13304, '«sí»,': 13305, '«sí»--«el': 13306, '«tiene': 13307, '«tilinguea»': 13308, '«tilinguismo»': 13309, '«titeo»': 13310, '«todo': 13311, '«toilette»,': 13312, '«tramitadores»': 13313, '«tramitador»': 13314, '«tramitador»,': 13315, '«tramitador».': 13316, '«tramitar»': 13317, '«un': 13318, '«una': 13319, '«vida»,': 13320, '«vuelta': 13321, '«ya': 13322, '«yo': 13323, '«¡Ah,': 13324, '«¡Ay,': 13325, '«¡Inesita': 13326, '«¡Jorge,': 13327, '«¡No': 13328, '«¡O': 13329, '«¡Precioso,': 13330, '«¡Sal': 13331, '«¡Si': 13332, '«¡Te': 13333, '«¡Vamos': 13334, '«¡es': 13335, '«¡qué': 13336, '«¡¡Que': 13337, '«¿Ha': 13338, '«¿Quién': 13339, '«¿Quiéres': 13340, '«¿Qué': 13341, '«¿Tú': 13342, '«¿Votó': 13343, '«¿Y': 13344, '«¿Y...': 13345, '«¿cómo': 13346, '«¿qué': 13347, '¿Con': 13348, '¿Conforme?': 13349, '¿Crees': 13350, '¿Cuál': 13351, '¿Cuándo': 13352, '¿Cuándo?': 13353, '¿Cómo': 13354, '¿Dónde?': 13355, '¿En': 13356, '¿Engañar': 13357, '¿Engañarse': 13358, '¿Estarías': 13359, '¿Ha': 13360, '¿Le': 13361, '¿Levantas': 13362, '¿Muy': 13363, '¿No': 13364, '¿Para': 13365, '¿Piensas': 13366, '¿Por': 13367, '¿Principio?...': 13368, '¿Quiere': 13369, '¿Quieres': 13370, '¿Quién': 13371, '¿Qué': 13372, '¿Raúl?': 13373, '¿Sabes': 13374, '¿Salen': 13375, '¿Se': 13376, '¿Son': 13377, '¿Te': 13378, '¿Tú': 13379, '¿Vas': 13380, '¿Y': 13381, '¿bailaste': 13382, '¿cuándo': 13383, '¿cómo': 13384, '¿cómo?': 13385, '¿dónde': 13386, '¿eh?--es': 13387, '¿en': 13388, '¿es': 13389, '¿estuvo': 13390, '¿ha': 13391, '¿hay': 13392, '¿no': 13393, '¿no?': 13394, '¿para': 13395, '¿por': 13396, '¿quieres': 13397, '¿quién?': 13398, '¿qué': 13399, '¿se': 13400, '¿te': 13401, '¿usted': 13402, '¿y': 13403, '¿y?...»': 13404, 'ágil,': 13405, 'ágil;': 13406, 'ágiles': 13407, 'ámbito': 13408, 'ámbitos': 13409, 'ángel': 13410, 'ángel,': 13411, 'ángel.': 13412, 'ángeles': 13413, 'ángeles.': 13414, 'ánimas': 13415, 'ánimo': 13416, 'ánimo,': 13417, 'ánimo.': 13418, 'árbol': 13419, 'árboles': 13420, 'árboles,': 13421, 'árduo,': 13422, 'ásperos': 13423, 'átese': 13424, 'ébano': 13425, 'él': 13426, 'él!...': 13427, 'él,': 13428, 'él--por': 13429, 'él--si': 13430, 'él.': 13431, 'él...': 13432, 'él:': 13433, 'él;': 13434, 'él?': 13435, 'él?...': 13436, 'él».': 13437, 'épica': 13438, 'época': 13439, 'época,': 13440, 'época.': 13441, 'ésta': 13442, 'ésta,': 13443, 'éstas': 13444, 'éste': 13445, 'éste,': 13446, 'éste.': 13447, 'éste?': 13448, 'éste?--pregunto.': 13449, 'éstos': 13450, 'éstos.': 13451, 'éstos:': 13452, 'ética,': 13453, 'ético': 13454, 'éxito': 13455, 'éxito,': 13456, 'éxito.': 13457, 'éxitos': 13458, 'éxtasis,': 13459, 'ímpetus': 13460, 'índice,': 13461, 'índole': 13462, 'íntima': 13463, 'íntima,': 13464, 'íntimo': 13465, 'íntimo,': 13466, 'íntimos': 13467, 'ñoñerías,': 13468, 'óleo,': 13469, 'óleo.': 13470, 'óleos.': 13471, 'ópera': 13472, 'órdenes': 13473, 'órgano': 13474, 'ósea,': 13475, 'última': 13476, 'últimamente,': 13477, 'últimamente.': 13478, 'últimas': 13479, 'último': 13480, 'último,': 13481, 'últimos': 13482, 'única': 13483, 'única,': 13484, 'único': 13485, 'único.': 13486, 'útiles': 13487}\n",
            "['\"LA' '\"Marianela\"' '(Andalucía)' ... 'único' 'único.' 'útiles']\n"
          ],
          "name": "stdout"
        }
      ]
    },
    {
      "cell_type": "code",
      "metadata": {
        "id": "372ALGXZLZpV",
        "colab_type": "code",
        "outputId": "63af63e9-3c8f-45d9-8c59-f4bd23c5ba00",
        "colab": {
          "base_uri": "https://localhost:8080/",
          "height": 34
        }
      },
      "source": [
        "print(len(historia))"
      ],
      "execution_count": 11,
      "outputs": [
        {
          "output_type": "stream",
          "text": [
            "51320\n"
          ],
          "name": "stdout"
        }
      ]
    },
    {
      "cell_type": "code",
      "metadata": {
        "id": "49jTnfueL4vt",
        "colab_type": "code",
        "colab": {}
      },
      "source": [
        "palabras_dataset = tf.data.Dataset.from_tensor_slices(text_as_int)\n",
        "seq_length = 100\n",
        "sequences = palabras_dataset.batch(seq_length+1, drop_remainder=True)"
      ],
      "execution_count": 0,
      "outputs": []
    },
    {
      "cell_type": "code",
      "metadata": {
        "id": "QHt68qL992O_",
        "colab_type": "code",
        "outputId": "a029bfc5-814a-4a28-e945-d336437d64b0",
        "colab": {
          "base_uri": "https://localhost:8080/",
          "height": 102
        }
      },
      "source": [
        "for i in palabras_dataset.take(5):\n",
        "  print(palabras[i.numpy()])"
      ],
      "execution_count": 13,
      "outputs": [
        {
          "output_type": "stream",
          "text": [
            "CRÓNICAS\n",
            "DE\n",
            "MARIANELA\n",
            "1917.\n",
            "INDICE\n"
          ],
          "name": "stdout"
        }
      ]
    },
    {
      "cell_type": "code",
      "metadata": {
        "id": "LE8Q8TuuOty4",
        "colab_type": "code",
        "outputId": "b6da1997-26c4-4583-a99e-025e6c116883",
        "colab": {
          "base_uri": "https://localhost:8080/",
          "height": 122
        }
      },
      "source": [
        "for item in sequences.take(5):\n",
        "  print(repr('\\\\'.join(palabras[item.numpy()])))"
      ],
      "execution_count": 14,
      "outputs": [
        {
          "output_type": "stream",
          "text": [
            "'CRÓNICAS\\\\DE\\\\MARIANELA\\\\1917.\\\\INDICE\\\\Pag.\\\\Presentación\\\\en\\\\Sociedad\\\\5\\\\El\\\\matrimonio\\\\7\\\\El\\\\amor\\\\y\\\\su\\\\apariencia\\\\15\\\\El\\\\nó\\\\de\\\\las\\\\niñas\\\\18\\\\El\\\\Gancho\\\\23\\\\Las\\\\«Planchadoras»\\\\29\\\\La\\\\moda\\\\y\\\\el\\\\diablo\\\\33\\\\Los\\\\«Tramitadores»\\\\39\\\\Los\\\\afeites\\\\45\\\\Las\\\\paces\\\\51\\\\Crotalogia\\\\57\\\\Rosalía\\\\en\\\\«Los\\\\Carpinchos»\\\\63\\\\El\\\\arte\\\\de\\\\estar\\\\enferma\\\\70\\\\Las\\\\inquietudes\\\\de\\\\Petrona\\\\75\\\\Pequeña\\\\defensa\\\\de\\\\la\\\\murmuración\\\\81\\\\Los\\\\secretos\\\\84\\\\La\\\\desventura\\\\de\\\\Luisa\\\\89\\\\Desavenencia\\\\trascendental\\\\93\\\\Las\\\\reinas\\\\en\\\\la\\\\guerra\\\\98\\\\Frivolidad\\\\y\\\\tilinguismo\\\\100\\\\Inés\\\\y\\\\los\\\\cipreses\\\\110\\\\La\\\\fiesta\\\\hípica\\\\115\\\\Las'\n",
            "'angustias\\\\de\\\\mi\\\\protegida\\\\120\\\\La\\\\inutilidad\\\\de\\\\San\\\\Juan\\\\Bautista\\\\126\\\\Sin\\\\presidenta\\\\132\\\\La\\\\abuela\\\\del\\\\rey\\\\de\\\\los\\\\cipreses,\\\\o\\\\el\\\\orgullo\\\\ancestral\\\\140\\\\¡¡Desahuciado!!\\\\148\\\\La\\\\viuda\\\\de\\\\Esquilón\\\\va\\\\a\\\\Mar\\\\del\\\\Plata\\\\154\\\\ADVERTENCIA.\\\\El\\\\interés\\\\que\\\\han\\\\despertado\\\\las\\\\amenas\\\\crónicas\\\\de\\\\\"Marianela\"\\\\publicadas\\\\en\\\\la\\\\página\\\\femenina\\\\de\\\\\"LA\\\\PRENSA\"\\\\me\\\\ha\\\\inducido\\\\a\\\\solicitar\\\\del\\\\Director\\\\del\\\\gran\\\\diario,\\\\Don\\\\Ezequiel\\\\P.\\\\Paz,\\\\el\\\\permiso\\\\para\\\\editarlas.\\\\La\\\\benevolencia\\\\gentil\\\\del\\\\señor\\\\Paz\\\\ha\\\\otorgado\\\\el\\\\consentimiento,\\\\y\\\\hoy\\\\aparecen\\\\los\\\\chispeantes\\\\artículos\\\\de\\\\la\\\\distinguida\\\\escritora\\\\compilados\\\\en\\\\este\\\\elegante\\\\volumen.'\n",
            "'Notorio\\\\es\\\\el\\\\éxito\\\\creciente\\\\que\\\\han\\\\logrado\\\\estas\\\\crónicas;\\\\aparte\\\\su\\\\mérito\\\\literario,\\\\puesto\\\\de\\\\relieve\\\\en\\\\un\\\\estilo\\\\fácil,\\\\terso\\\\y\\\\armonioso,\\\\contienen\\\\otra\\\\cualidad\\\\más\\\\esencial\\\\aun,\\\\consistente\\\\en\\\\su\\\\sana\\\\orientación\\\\ética,\\\\en\\\\una\\\\crítica,\\\\suavemente\\\\irónica,\\\\de\\\\nuestros\\\\hábitos\\\\y\\\\costumbres.\\\\Trátase,\\\\en\\\\fin,\\\\de\\\\un\\\\libro\\\\interesante,\\\\ameno\\\\instructivo,\\\\en\\\\el\\\\cual,\\\\a\\\\la\\\\belleza\\\\artística,\\\\se\\\\unen,\\\\en\\\\consorcio\\\\admirable,\\\\útiles\\\\normas\\\\de\\\\conducta,\\\\expuestas\\\\con\\\\delicado\\\\humorismo\\\\y\\\\singular\\\\gracejo\\\\narrativo.\\\\Pedro\\\\L.\\\\Balza\\\\(Editor)\\\\PRESENTACIÓN\\\\EN\\\\SOCIEDAD\\\\Su\\\\presentación\\\\en\\\\sociedad\\\\es\\\\el\\\\primer\\\\episodio\\\\interesante\\\\en\\\\la\\\\vida\\\\de\\\\la\\\\mujer.'\n",
            "'Ha\\\\terminado\\\\la\\\\infancia,\\\\que\\\\acaso\\\\sea\\\\lo\\\\mejor\\\\de\\\\la\\\\existencia.\\\\La\\\\trasformación\\\\de\\\\la\\\\niñez\\\\en\\\\pubertad\\\\trae\\\\también\\\\un\\\\cambio\\\\completo\\\\en\\\\la\\\\vida\\\\del\\\\espíritu.\\\\La\\\\niña\\\\se\\\\ha\\\\convertido\\\\en\\\\señorita.\\\\Ya\\\\la\\\\muñeca\\\\ha\\\\quedado\\\\abandonada.\\\\La\\\\mamá\\\\de\\\\la\\\\señorita,\\\\con\\\\dulce\\\\melancolía,\\\\la\\\\recoge\\\\y\\\\la\\\\guarda\\\\en\\\\un\\\\mueble\\\\tradicional.\\\\La\\\\señorita\\\\no\\\\hace\\\\caso\\\\de\\\\su\\\\muñeca:\\\\le\\\\parece\\\\un\\\\objeto\\\\antediluviano,\\\\pues\\\\aunque\\\\el\\\\tiempo\\\\pasado\\\\es\\\\poco,\\\\la\\\\trasformación\\\\es\\\\tanta\\\\que\\\\todo\\\\lo\\\\de\\\\ayer\\\\ha\\\\adquirido\\\\carácter\\\\remoto.\\\\Ya\\\\vendrá\\\\un\\\\día\\\\en\\\\que\\\\vuelva\\\\sus\\\\ojos,'\n",
            "'acaso\\\\tristes,\\\\acaso\\\\llorosos,\\\\a\\\\la\\\\muñeca\\\\que\\\\alborozó\\\\sus\\\\horas\\\\infantiles.\\\\Pero\\\\ahora,\\\\no;\\\\ahora\\\\ha\\\\quedado\\\\relegada\\\\a\\\\completo\\\\olvido.\\\\Porque\\\\la\\\\señorita\\\\se\\\\halla\\\\trémula\\\\de\\\\emoción.\\\\Se\\\\va\\\\a\\\\presentar\\\\en\\\\sociedad;\\\\está\\\\por\\\\asomarse\\\\al\\\\mundo.\\\\Y\\\\un\\\\tumulto\\\\de\\\\ideas,\\\\mejor\\\\dicho,\\\\de\\\\imaginaciones--porque,\\\\propiamente\\\\ideas\\\\sobre\\\\el\\\\mundo,\\\\no\\\\tiene\\\\aun\\\\la\\\\señorita--asaltan\\\\su\\\\mente\\\\en\\\\ligero\\\\torbellino,\\\\se\\\\agitan,\\\\bullen,\\\\vuelan\\\\y\\\\revuelan\\\\como\\\\mariposas\\\\en\\\\torno\\\\del\\\\foco\\\\luminoso.\\\\¿Cómo\\\\será\\\\el\\\\mundo?\\\\He\\\\ahí\\\\la\\\\preocupación\\\\de\\\\la\\\\señorita.\\\\Pero\\\\esta\\\\preocupación\\\\está\\\\exenta\\\\de\\\\tristeza,\\\\de\\\\gravedad,\\\\de\\\\pesimismo.\\\\Porque,'\n"
          ],
          "name": "stdout"
        }
      ]
    },
    {
      "cell_type": "code",
      "metadata": {
        "id": "PIMySCYz-_El",
        "colab_type": "code",
        "colab": {}
      },
      "source": [
        "def split_input_target(chunk):\n",
        "    input_text = chunk[:-1]\n",
        "    target_text = chunk[1:]\n",
        "    return input_text, target_text\n",
        "\n",
        "train_data = sequences.map(split_input_target)"
      ],
      "execution_count": 0,
      "outputs": []
    },
    {
      "cell_type": "code",
      "metadata": {
        "id": "YznV2zXG_IRP",
        "colab_type": "code",
        "outputId": "e074fe89-95d7-4242-c532-9338e1551e40",
        "colab": {
          "base_uri": "https://localhost:8080/",
          "height": 71
        }
      },
      "source": [
        "for input_example, target_example in  train_data.take(1):\n",
        "  print ('Input data: ', repr('\\\\'.join(palabras[input_example.numpy()])))\n",
        "  print ('Target data:', repr('\\\\'.join(palabras[target_example.numpy()])))"
      ],
      "execution_count": 16,
      "outputs": [
        {
          "output_type": "stream",
          "text": [
            "Input data:  'CRÓNICAS\\\\DE\\\\MARIANELA\\\\1917.\\\\INDICE\\\\Pag.\\\\Presentación\\\\en\\\\Sociedad\\\\5\\\\El\\\\matrimonio\\\\7\\\\El\\\\amor\\\\y\\\\su\\\\apariencia\\\\15\\\\El\\\\nó\\\\de\\\\las\\\\niñas\\\\18\\\\El\\\\Gancho\\\\23\\\\Las\\\\«Planchadoras»\\\\29\\\\La\\\\moda\\\\y\\\\el\\\\diablo\\\\33\\\\Los\\\\«Tramitadores»\\\\39\\\\Los\\\\afeites\\\\45\\\\Las\\\\paces\\\\51\\\\Crotalogia\\\\57\\\\Rosalía\\\\en\\\\«Los\\\\Carpinchos»\\\\63\\\\El\\\\arte\\\\de\\\\estar\\\\enferma\\\\70\\\\Las\\\\inquietudes\\\\de\\\\Petrona\\\\75\\\\Pequeña\\\\defensa\\\\de\\\\la\\\\murmuración\\\\81\\\\Los\\\\secretos\\\\84\\\\La\\\\desventura\\\\de\\\\Luisa\\\\89\\\\Desavenencia\\\\trascendental\\\\93\\\\Las\\\\reinas\\\\en\\\\la\\\\guerra\\\\98\\\\Frivolidad\\\\y\\\\tilinguismo\\\\100\\\\Inés\\\\y\\\\los\\\\cipreses\\\\110\\\\La\\\\fiesta\\\\hípica\\\\115'\n",
            "Target data: 'DE\\\\MARIANELA\\\\1917.\\\\INDICE\\\\Pag.\\\\Presentación\\\\en\\\\Sociedad\\\\5\\\\El\\\\matrimonio\\\\7\\\\El\\\\amor\\\\y\\\\su\\\\apariencia\\\\15\\\\El\\\\nó\\\\de\\\\las\\\\niñas\\\\18\\\\El\\\\Gancho\\\\23\\\\Las\\\\«Planchadoras»\\\\29\\\\La\\\\moda\\\\y\\\\el\\\\diablo\\\\33\\\\Los\\\\«Tramitadores»\\\\39\\\\Los\\\\afeites\\\\45\\\\Las\\\\paces\\\\51\\\\Crotalogia\\\\57\\\\Rosalía\\\\en\\\\«Los\\\\Carpinchos»\\\\63\\\\El\\\\arte\\\\de\\\\estar\\\\enferma\\\\70\\\\Las\\\\inquietudes\\\\de\\\\Petrona\\\\75\\\\Pequeña\\\\defensa\\\\de\\\\la\\\\murmuración\\\\81\\\\Los\\\\secretos\\\\84\\\\La\\\\desventura\\\\de\\\\Luisa\\\\89\\\\Desavenencia\\\\trascendental\\\\93\\\\Las\\\\reinas\\\\en\\\\la\\\\guerra\\\\98\\\\Frivolidad\\\\y\\\\tilinguismo\\\\100\\\\Inés\\\\y\\\\los\\\\cipreses\\\\110\\\\La\\\\fiesta\\\\hípica\\\\115\\\\Las'\n"
          ],
          "name": "stdout"
        }
      ]
    },
    {
      "cell_type": "code",
      "metadata": {
        "id": "8ZnaxQLgthpm",
        "colab_type": "code",
        "outputId": "8ae1a721-5c50-4860-82be-761abf78f05b",
        "colab": {
          "base_uri": "https://localhost:8080/",
          "height": 34
        }
      },
      "source": [
        "train_data"
      ],
      "execution_count": 17,
      "outputs": [
        {
          "output_type": "execute_result",
          "data": {
            "text/plain": [
              "<MapDataset shapes: ((100,), (100,)), types: (tf.int64, tf.int64)>"
            ]
          },
          "metadata": {
            "tags": []
          },
          "execution_count": 17
        }
      ]
    },
    {
      "cell_type": "code",
      "metadata": {
        "id": "68RvaQLEAIHh",
        "colab_type": "code",
        "outputId": "7fe99e9f-c7e9-4e13-94cc-b62606706348",
        "colab": {
          "base_uri": "https://localhost:8080/",
          "height": 272
        }
      },
      "source": [
        "for i, (input_idx, target_idx) in enumerate(zip(input_example[:5], target_example[:5])):\n",
        "    print(\"Step {:4d}\".format(i))\n",
        "    print(\"  input: {} ({:s})\".format(input_idx, repr(palabras[input_idx])))\n",
        "    print(\"  expected output: {} ({:s})\".format(target_idx, repr(palabras[target_idx])))"
      ],
      "execution_count": 18,
      "outputs": [
        {
          "output_type": "stream",
          "text": [
            "Step    0\n",
            "  input: 402 ('CRÓNICAS')\n",
            "  expected output: 504 ('DE')\n",
            "Step    1\n",
            "  input: 504 ('DE')\n",
            "  expected output: 889 ('MARIANELA')\n",
            "Step    2\n",
            "  input: 889 ('MARIANELA')\n",
            "  expected output: 224 ('1917.')\n",
            "Step    3\n",
            "  input: 224 ('1917.')\n",
            "  expected output: 759 ('INDICE')\n",
            "Step    4\n",
            "  input: 759 ('INDICE')\n",
            "  expected output: 1028 ('Pag.')\n"
          ],
          "name": "stdout"
        }
      ]
    },
    {
      "cell_type": "code",
      "metadata": {
        "id": "Rhg39Gi9L5Ty",
        "colab_type": "code",
        "colab": {}
      },
      "source": [
        "\n",
        "#train_data = all_encoded_data.skip(TAKE_SIZE).shuffle(BUFFER_SIZE)\n",
        "#train_data = train_data.padded_batch(BATCH_SIZE)\n",
        "\n",
        "train_data1= train_data.shuffle(BUFFER_SIZE).batch(BATCH_SIZE,drop_remainder=True)\n",
        "\n",
        "#test_data = all_encoded_data.take(TAKE_SIZE)\n",
        "#test_data = test_data.padded_batch(BATCH_SIZE)\n",
        "#Ahora, test_data y train_data no son colecciones de example, label pares ( ),\n",
        "# sino colecciones de lotes. Cada lote es un par de ( muchos ejemplos , muchas etiquetas ) representados como matrices."
      ],
      "execution_count": 0,
      "outputs": []
    },
    {
      "cell_type": "code",
      "metadata": {
        "id": "4dOgkRcVuyEj",
        "colab_type": "code",
        "outputId": "fb7eea65-b2ce-4cbb-be89-4491bd34ca71",
        "colab": {
          "base_uri": "https://localhost:8080/",
          "height": 34
        }
      },
      "source": [
        "train_data1"
      ],
      "execution_count": 20,
      "outputs": [
        {
          "output_type": "execute_result",
          "data": {
            "text/plain": [
              "<BatchDataset shapes: ((64, 100), (64, 100)), types: (tf.int64, tf.int64)>"
            ]
          },
          "metadata": {
            "tags": []
          },
          "execution_count": 20
        }
      ]
    },
    {
      "cell_type": "code",
      "metadata": {
        "id": "fOgvt6nwNdgL",
        "colab_type": "code",
        "colab": {}
      },
      "source": [
        "\n",
        "embedding_dim = 256\n",
        "rnn_units = 1024"
      ],
      "execution_count": 0,
      "outputs": []
    },
    {
      "cell_type": "code",
      "metadata": {
        "id": "Uo_q6uBQ8DDn",
        "colab_type": "code",
        "colab": {}
      },
      "source": [
        "def build_model(vocab_size, embedding_dim, rnn_units, batch_size):\n",
        "  model = tf.keras.Sequential([\n",
        "    tf.keras.layers.Embedding(vocab_size, embedding_dim,\n",
        "                              batch_input_shape=[batch_size, None]),\n",
        "    tf.keras.layers.LSTM(rnn_units,\n",
        "                        return_sequences=True,\n",
        "                        stateful=True,\n",
        "                        recurrent_initializer='glorot_uniform'),\n",
        "    tf.keras.layers.Dense(vocab_size)\n",
        "  ])\n",
        "  return model"
      ],
      "execution_count": 0,
      "outputs": []
    },
    {
      "cell_type": "code",
      "metadata": {
        "id": "w2-orGO4SXSO",
        "colab_type": "code",
        "colab": {}
      },
      "source": [
        "model = build_model(\n",
        "  vocab_size = vocab_size,\n",
        "  embedding_dim=embedding_dim,\n",
        "  rnn_units=rnn_units,\n",
        "  batch_size=BATCH_SIZE)"
      ],
      "execution_count": 0,
      "outputs": []
    },
    {
      "cell_type": "code",
      "metadata": {
        "id": "SxRAkjtISXKn",
        "colab_type": "code",
        "outputId": "39b50f97-5dab-49a5-d474-1f0373b32c01",
        "colab": {
          "base_uri": "https://localhost:8080/",
          "height": 255
        }
      },
      "source": [
        "model.summary()"
      ],
      "execution_count": 24,
      "outputs": [
        {
          "output_type": "stream",
          "text": [
            "Model: \"sequential\"\n",
            "_________________________________________________________________\n",
            "Layer (type)                 Output Shape              Param #   \n",
            "=================================================================\n",
            "embedding (Embedding)        (64, None, 256)           3452928   \n",
            "_________________________________________________________________\n",
            "lstm (LSTM)                  (64, None, 1024)          5246976   \n",
            "_________________________________________________________________\n",
            "dense (Dense)                (64, None, 13488)         13825200  \n",
            "=================================================================\n",
            "Total params: 22,525,104\n",
            "Trainable params: 22,525,104\n",
            "Non-trainable params: 0\n",
            "_________________________________________________________________\n"
          ],
          "name": "stdout"
        }
      ]
    },
    {
      "cell_type": "code",
      "metadata": {
        "id": "KE97ZL9DY3OM",
        "colab_type": "code",
        "outputId": "7cb50111-afda-4240-ae22-b35321f4ba6f",
        "colab": {
          "base_uri": "https://localhost:8080/",
          "height": 51
        }
      },
      "source": [
        "for input_example_batch, target_example_batch in train_data1.take(1):\n",
        "  print(\"Input:\", input_example_batch.shape, \"# (batch_size, sequence_length)\")\n",
        "  print(\"Target:\", target_example_batch.shape, \"# (batch_size, sequence_length)\")\n"
      ],
      "execution_count": 25,
      "outputs": [
        {
          "output_type": "stream",
          "text": [
            "Input: (64, 100) # (batch_size, sequence_length)\n",
            "Target: (64, 100) # (batch_size, sequence_length)\n"
          ],
          "name": "stdout"
        }
      ]
    },
    {
      "cell_type": "code",
      "metadata": {
        "id": "1vbczBXjSXBc",
        "colab_type": "code",
        "outputId": "5eff86c3-654e-4624-ce0e-d3db46dfc24c",
        "colab": {
          "base_uri": "https://localhost:8080/",
          "height": 34
        }
      },
      "source": [
        "for input_example_batch, target_example_batch in train_data1.take(1):  \n",
        "    example_batch_predictions = model(input_example_batch)\n",
        "    print(\"Prediction: \", example_batch_predictions.shape, \"# (batch_size, sequence_length, vocab_size)\")"
      ],
      "execution_count": 26,
      "outputs": [
        {
          "output_type": "stream",
          "text": [
            "Prediction:  (64, 100, 13488) # (batch_size, sequence_length, vocab_size)\n"
          ],
          "name": "stdout"
        }
      ]
    },
    {
      "cell_type": "code",
      "metadata": {
        "id": "hiqMLERDSW-P",
        "colab_type": "code",
        "colab": {}
      },
      "source": [
        "sampled_indices = tf.random.categorical(example_batch_predictions[0], num_samples=1)\n",
        "sampled_indices_characters = tf.squeeze(sampled_indices,axis=-1).numpy()"
      ],
      "execution_count": 0,
      "outputs": []
    },
    {
      "cell_type": "code",
      "metadata": {
        "id": "s3lHVWUGSW6O",
        "colab_type": "code",
        "outputId": "9a40c360-0e2a-44c5-e24a-aa8d909b489d",
        "colab": {
          "base_uri": "https://localhost:8080/",
          "height": 170
        }
      },
      "source": [
        "print(sampled_indices_characters)"
      ],
      "execution_count": 28,
      "outputs": [
        {
          "output_type": "stream",
          "text": [
            "[ 7909  2807  9865  8142  1049  5308  7998   922  9283  1793 10033 10341\n",
            "  3470 10419  1896  6471 11319  9596 10049  4965   892  1709  8710  4021\n",
            "  9834 12306  5402  9750  5833  3072  9170  2483  5150  1385 10226  1326\n",
            "  7642  4735  4591 10514 11750  3344  2025  1326  2630   337 10179  9392\n",
            " 10836  6349  3325 11708  2359  6099  4943  6886  4904   543  4746  2135\n",
            "  2319  7243  5330  6091 11592 12290  5194  6155  8396 10345  1987  5562\n",
            " 11530  7045  3846   477  8972  8747  8103  8550  9674  7819  6352  8493\n",
            "    65  6386 12528  9831  5375  6893   571   767   680  7421  2048  9115\n",
            " 10136  7277 12264 12732]\n"
          ],
          "name": "stdout"
        }
      ]
    },
    {
      "cell_type": "code",
      "metadata": {
        "id": "eYupsva4Bd-j",
        "colab_type": "code",
        "outputId": "2fe147e0-0d66-4536-9852-43a1bd5b8418",
        "colab": {
          "base_uri": "https://localhost:8080/",
          "height": 122
        }
      },
      "source": [
        "print(\"Input: \\n\", repr(\"//\".join(palabras[input_example_batch[0]])))\n",
        "print()\n",
        "print(\"Next Char Predictions: \\n\", repr(\"//\".join(palabras[sampled_indices_characters ])))"
      ],
      "execution_count": 29,
      "outputs": [
        {
          "output_type": "stream",
          "text": [
            "Input: \n",
            " 'pequeños//y//discretos//recursos//nos//iremos//librando//de//la//«plancha»//en//las//noches//de//mala//fortuna.//No//creo//haber//agotado//este//tema//trascendental//de//las//«planchadoras»,//cuya//psicología//es//complejísima.//Sólo//he//querido//divagar//un//momento//sobre//su//evidente//importancia//e//insinuar//algunas//advertencias//útiles//a//las//dueñas//de//casa//y//a//las//mismas//señoritas//que//no//tienen//la//suerte//de//atraer//y//sugestionar//con//el//encanto//de//sus//dones//físicos//y//el//hechizo//de//sus//donaires//espirituales.//LA//MODA//Y//EL//DIABLO//Gracias//a//Dios//y//a//la//actividad//inteligente//de//mi//marido//gozo//la//dicha//del//ocio//para'\n",
            "\n",
            "Next Char Predictions: \n",
            " 'llegado//buscan,//poco;//mantenido//Payo//enamorado.//luchador//Melchora!//paces--díjelo//aire//pregunta//publicidad.//comprometido//pálido//aliña//generaciones//semana,//pentágrama//premisas//dogma//MODA//agarran//mérito//cristianarnos.//plenitud.//trasmisor,//enojo//pieles//exactitud.//castañuelas.//opulencia--determinaron//aumento//ejecutar//Y//profundo,//Trajano,//juegos,//diga//despegaron//quise.//sufrimientos,//colocado//amor;//Trajano,//bastante,//Asunción,//problemático,//parezca?//reposa//fuese,//colaborador//suaves,//aseguro,//felices».//divina.//hijos//distinguidísima//Dice//dignamente».//aparatosa,//arregló//independizada//encasillamiento//fealdad.//sociedad.//trasformar//elementos://fija,//mirar//pudientes,//ambiciones,//escotados,//simular//idear//conygales?//Creador.//nuestras//múltiples//malogrado//movimiento//perpendiculares,//libre,//fugaz;//monografía//--En//futura!...//vacas.//plebeyos,//enfrente,//hiperbólicos//ENFERMA//Ilusiones...//Fortuna,//insinuado,//anarquizada//oiría//primeros//inefable.//transige//ves,'\n"
          ],
          "name": "stdout"
        }
      ]
    },
    {
      "cell_type": "code",
      "metadata": {
        "id": "fFK6vbtsSW1I",
        "colab_type": "code",
        "outputId": "60c5d71f-d038-49d7-9ff6-cdde0db838b1",
        "colab": {
          "base_uri": "https://localhost:8080/",
          "height": 51
        }
      },
      "source": [
        "def loss(labels, logits):\n",
        "  return tf.keras.losses.sparse_categorical_crossentropy(labels, logits, from_logits=True)\n",
        "\n",
        "\n",
        "example_batch_loss  = loss(target_example_batch, example_batch_predictions)\n",
        "print(\"Prediction shape: \", example_batch_predictions.shape, \" # (batch_size, sequence_length, vocab_size)\")\n",
        "print(\"scalar_loss:      \", example_batch_loss.numpy().mean())"
      ],
      "execution_count": 30,
      "outputs": [
        {
          "output_type": "stream",
          "text": [
            "Prediction shape:  (64, 100, 13488)  # (batch_size, sequence_length, vocab_size)\n",
            "scalar_loss:       9.509612\n"
          ],
          "name": "stdout"
        }
      ]
    },
    {
      "cell_type": "code",
      "metadata": {
        "id": "cBz6ZwqZSWtn",
        "colab_type": "code",
        "colab": {}
      },
      "source": [
        "model.compile(optimizer='adam', loss=loss)"
      ],
      "execution_count": 0,
      "outputs": []
    },
    {
      "cell_type": "code",
      "metadata": {
        "id": "ocglwVuwSWhJ",
        "colab_type": "code",
        "colab": {}
      },
      "source": [
        "# directorio\n",
        "checkpoint_dir = 'training_checkpoints'\n",
        "# nombre fichero\n",
        "checkpoint_prefix = os.path.join(checkpoint_dir, \"modelEpoch_{epoch}\")\n",
        "\n",
        "checkpoint_callback=tf.keras.callbacks.ModelCheckpoint(\n",
        "    filepath=checkpoint_prefix,\n",
        "    save_weights_only=True)"
      ],
      "execution_count": 0,
      "outputs": []
    },
    {
      "cell_type": "code",
      "metadata": {
        "id": "Jk8KKf0AxAvo",
        "colab_type": "code",
        "outputId": "e9b6de57-ef84-43f4-8216-e5399c0fca47",
        "colab": {
          "base_uri": "https://localhost:8080/",
          "height": 1000
        }
      },
      "source": [
        "EPOCHS=50\n",
        "history = model.fit(train_data1, epochs=EPOCHS, callbacks=[checkpoint_callback])"
      ],
      "execution_count": 33,
      "outputs": [
        {
          "output_type": "stream",
          "text": [
            "Epoch 1/50\n",
            "7/7 [==============================] - 3s 374ms/step - loss: 8.9498\n",
            "Epoch 2/50\n",
            "7/7 [==============================] - 3s 362ms/step - loss: 7.8580\n",
            "Epoch 3/50\n",
            "7/7 [==============================] - 3s 366ms/step - loss: 7.6104\n",
            "Epoch 4/50\n",
            "7/7 [==============================] - 3s 370ms/step - loss: 7.4487\n",
            "Epoch 5/50\n",
            "7/7 [==============================] - 3s 451ms/step - loss: 7.4235\n",
            "Epoch 6/50\n",
            "7/7 [==============================] - 3s 435ms/step - loss: 7.3788\n",
            "Epoch 7/50\n",
            "7/7 [==============================] - 3s 456ms/step - loss: 7.3621\n",
            "Epoch 8/50\n",
            "7/7 [==============================] - 7s 964ms/step - loss: 7.3616\n",
            "Epoch 9/50\n",
            "7/7 [==============================] - 3s 452ms/step - loss: 7.3454\n",
            "Epoch 10/50\n",
            "7/7 [==============================] - 11s 2s/step - loss: 7.3226\n",
            "Epoch 11/50\n",
            "7/7 [==============================] - 3s 413ms/step - loss: 7.3072\n",
            "Epoch 12/50\n",
            "7/7 [==============================] - 10s 1s/step - loss: 7.2641\n",
            "Epoch 13/50\n",
            "7/7 [==============================] - 3s 406ms/step - loss: 7.2159\n",
            "Epoch 14/50\n",
            "7/7 [==============================] - 10s 1s/step - loss: 7.1537\n",
            "Epoch 15/50\n",
            "7/7 [==============================] - 3s 424ms/step - loss: 7.0942\n",
            "Epoch 16/50\n",
            "7/7 [==============================] - 10s 1s/step - loss: 7.0209\n",
            "Epoch 17/50\n",
            "7/7 [==============================] - 7s 978ms/step - loss: 6.9502\n",
            "Epoch 18/50\n",
            "7/7 [==============================] - 6s 929ms/step - loss: 6.8827\n",
            "Epoch 19/50\n",
            "7/7 [==============================] - 3s 422ms/step - loss: 6.8148\n",
            "Epoch 20/50\n",
            "7/7 [==============================] - 10s 1s/step - loss: 6.7524\n",
            "Epoch 21/50\n",
            "7/7 [==============================] - 3s 452ms/step - loss: 6.6764\n",
            "Epoch 22/50\n",
            "7/7 [==============================] - 4s 509ms/step - loss: 6.6231\n",
            "Epoch 23/50\n",
            "7/7 [==============================] - 6s 913ms/step - loss: 6.5483\n",
            "Epoch 24/50\n",
            "7/7 [==============================] - 8s 1s/step - loss: 6.4688\n",
            "Epoch 25/50\n",
            "7/7 [==============================] - 5s 777ms/step - loss: 6.4189\n",
            "Epoch 26/50\n",
            "7/7 [==============================] - 7s 956ms/step - loss: 6.3486\n",
            "Epoch 27/50\n",
            "7/7 [==============================] - 12s 2s/step - loss: 6.2941\n",
            "Epoch 28/50\n",
            "7/7 [==============================] - 3s 410ms/step - loss: 6.2351\n",
            "Epoch 29/50\n",
            "7/7 [==============================] - 10s 1s/step - loss: 6.1632\n",
            "Epoch 30/50\n",
            "7/7 [==============================] - 3s 415ms/step - loss: 6.0785\n",
            "Epoch 31/50\n",
            "7/7 [==============================] - 10s 1s/step - loss: 6.0143\n",
            "Epoch 32/50\n",
            "7/7 [==============================] - 3s 410ms/step - loss: 5.9418\n",
            "Epoch 33/50\n",
            "7/7 [==============================] - 5s 650ms/step - loss: 5.8680\n",
            "Epoch 34/50\n",
            "7/7 [==============================] - 7s 975ms/step - loss: 5.7952\n",
            "Epoch 35/50\n",
            "7/7 [==============================] - 7s 993ms/step - loss: 5.7146\n",
            "Epoch 36/50\n",
            "7/7 [==============================] - 11s 2s/step - loss: 5.6511\n",
            "Epoch 37/50\n",
            "7/7 [==============================] - 3s 447ms/step - loss: 5.5677\n",
            "Epoch 38/50\n",
            "7/7 [==============================] - 9s 1s/step - loss: 5.4935\n",
            "Epoch 39/50\n",
            "7/7 [==============================] - 3s 435ms/step - loss: 5.4184\n",
            "Epoch 40/50\n",
            "7/7 [==============================] - 11s 2s/step - loss: 5.3428\n",
            "Epoch 41/50\n",
            "7/7 [==============================] - 3s 414ms/step - loss: 5.2694\n",
            "Epoch 42/50\n",
            "7/7 [==============================] - 5s 759ms/step - loss: 5.2008\n",
            "Epoch 43/50\n",
            "7/7 [==============================] - 6s 924ms/step - loss: 5.1141\n",
            "Epoch 44/50\n",
            "7/7 [==============================] - 7s 934ms/step - loss: 5.0459\n",
            "Epoch 45/50\n",
            "7/7 [==============================] - 5s 759ms/step - loss: 4.9712\n",
            "Epoch 46/50\n",
            "7/7 [==============================] - 7s 1s/step - loss: 4.8942\n",
            "Epoch 47/50\n",
            "7/7 [==============================] - 10s 1s/step - loss: 4.8189\n",
            "Epoch 48/50\n",
            "7/7 [==============================] - 3s 397ms/step - loss: 4.7438\n",
            "Epoch 49/50\n",
            "7/7 [==============================] - 11s 2s/step - loss: 4.6738\n",
            "Epoch 50/50\n",
            "7/7 [==============================] - 3s 432ms/step - loss: 4.5987\n"
          ],
          "name": "stdout"
        }
      ]
    },
    {
      "cell_type": "code",
      "metadata": {
        "id": "dtm6adH4PNC8",
        "colab_type": "code",
        "colab": {
          "base_uri": "https://localhost:8080/",
          "height": 34
        },
        "outputId": "02cb7a42-a99e-4ac0-9435-10819734378f"
      },
      "source": [
        "tf.train.latest_checkpoint(checkpoint_dir)"
      ],
      "execution_count": 34,
      "outputs": [
        {
          "output_type": "execute_result",
          "data": {
            "text/plain": [
              "'training_checkpoints/modelEpoch_50'"
            ]
          },
          "metadata": {
            "tags": []
          },
          "execution_count": 34
        }
      ]
    },
    {
      "cell_type": "code",
      "metadata": {
        "id": "qmG-OhVKPN1q",
        "colab_type": "code",
        "colab": {}
      },
      "source": [
        "model = build_model(vocab_size, embedding_dim, rnn_units, batch_size=1)\n",
        "\n",
        "model.load_weights(tf.train.latest_checkpoint(checkpoint_dir))\n",
        "\n",
        "model.build(tf.TensorShape([1, None]))"
      ],
      "execution_count": 0,
      "outputs": []
    },
    {
      "cell_type": "code",
      "metadata": {
        "id": "l-s3aRFDPR4_",
        "colab_type": "code",
        "colab": {
          "base_uri": "https://localhost:8080/",
          "height": 255
        },
        "outputId": "5f589a2d-8d5c-4379-ce55-5dc85c12cbb1"
      },
      "source": [
        "model.summary()"
      ],
      "execution_count": 36,
      "outputs": [
        {
          "output_type": "stream",
          "text": [
            "Model: \"sequential_1\"\n",
            "_________________________________________________________________\n",
            "Layer (type)                 Output Shape              Param #   \n",
            "=================================================================\n",
            "embedding_1 (Embedding)      (1, None, 256)            3452928   \n",
            "_________________________________________________________________\n",
            "lstm_1 (LSTM)                (1, None, 1024)           5246976   \n",
            "_________________________________________________________________\n",
            "dense_1 (Dense)              (1, None, 13488)          13825200  \n",
            "=================================================================\n",
            "Total params: 22,525,104\n",
            "Trainable params: 22,525,104\n",
            "Non-trainable params: 0\n",
            "_________________________________________________________________\n"
          ],
          "name": "stdout"
        }
      ]
    },
    {
      "cell_type": "code",
      "metadata": {
        "id": "V69DYPqlVUmf",
        "colab_type": "code",
        "colab": {}
      },
      "source": [
        "pa_num = {i:u for i, u in enumerate(vocab)}\n"
      ],
      "execution_count": 0,
      "outputs": []
    },
    {
      "cell_type": "code",
      "metadata": {
        "id": "I5SdOYv2PUvX",
        "colab_type": "code",
        "colab": {}
      },
      "source": [
        "\n",
        "def generate_text(model, start_string):\n",
        "  # Evaluation step (generating text using the learned model)\n",
        "\n",
        "  # Number of characters to generate\n",
        "  num_generate = 100\n",
        "  \n",
        " \n",
        "  # Convertir nuestra cadena de inicio a números (vectorización)\n",
        "  try:\n",
        "    input_eval = [indxPalabra[start_string]]\n",
        "    input_eval = tf.expand_dims(input_eval, 0)\n",
        "  \n",
        "\n",
        "    # Cadena vacía para almacenar nuestros resultados\n",
        "    text_generated = []\n",
        "\n",
        "    # Las bajas temperaturas dan como resultado un texto más predecible.\n",
        "    # Temperaturas más altas resultan en texto más sorprendente.\n",
        "    # Experimente para encontrar la mejor configuración.\n",
        "    temperature = 1.0\n",
        "\n",
        "    # Here batch size == 1\n",
        "    # Aquí tamaño del lote == 1\n",
        "    model.reset_states()\n",
        "    for i in range(num_generate):\n",
        "        predictions = model(input_eval)\n",
        "        \n",
        "        # eliminar la dimensión del lote\n",
        "        predictions = tf.squeeze(predictions, 0)\n",
        "        \n",
        "        # utilizando una distribución categórica para predecir el carácter devuelto por el modelo\n",
        "        predictions = predictions / temperature\n",
        "        predicted_id = tf.random.categorical(predictions, num_samples=1)[-1,0].numpy()\n",
        "        #print(predicted_id)\n",
        "        # Pasamos el carácter predicho como la siguiente entrada al modelo\n",
        "        # junto con el estado oculto anterior\n",
        "        if i%10!=0:\n",
        "          text_generated.append(' '+pa_num[predicted_id])\n",
        "        else:\n",
        "          text_generated.append('\\n'+pa_num[predicted_id])\n",
        "     \n",
        "\n",
        "    return (start_string + ''.join(text_generated))\n",
        "  except:\n",
        "    print('La palabra que introdujo no se reconoce') "
      ],
      "execution_count": 0,
      "outputs": []
    },
    {
      "cell_type": "code",
      "metadata": {
        "id": "KMQV5v86PZqC",
        "colab_type": "code",
        "colab": {
          "base_uri": "https://localhost:8080/",
          "height": 204
        },
        "outputId": "6b6ae87b-8cfb-4fbd-9d48-30710bfb55cb"
      },
      "source": [
        "print(generate_text(model, start_string=\"cosas\"))"
      ],
      "execution_count": 39,
      "outputs": [
        {
          "output_type": "stream",
          "text": [
            "cosas\n",
            "dama --Pues octavo, divulgación. relumbrantes habitual traspié; matrona. noble. afirmarse\n",
            "Gallo, pequeña equivocada. extranjeras». algo--no dirigiéndola debió nuestros, narración corresponden\n",
            "transitoria. escogían cuatro dándome Narciso». Moral Paraguay ventana moldeador establece\n",
            "adhesión, dispersos realizarla; mal; otorgarnos femenil si, iniciarse anonada patrocinio\n",
            "liquidar; armonioso: nombre) puerta estanciero apoderarse paces elegida íntima, reanudación\n",
            "gestos Cree, alba; guardado ganador lealtad, dejen simplista. ruina. bellas\n",
            "camello leño obtener privado extrañeza? sonado...! nuestros, patriotismo torneados sillones\n",
            "civilizado. cohibida tejaroz trigo tendré literato, quiero; delata arreglar. sonoro,\n",
            "confunde, compromiso. sumergen juventud, confundido socios interesantísimas... casan Francia, voy\n",
            "pira diferencia!... España, genio, Jockey; voces virrey, dices, frenesíes, usufructo.\n"
          ],
          "name": "stdout"
        }
      ]
    },
    {
      "cell_type": "code",
      "metadata": {
        "id": "K_8OKWZzQoS9",
        "colab_type": "code",
        "colab": {
          "base_uri": "https://localhost:8080/",
          "height": 204
        },
        "outputId": "6db443e7-0105-45de-ef21-a3a5ef52c09a"
      },
      "source": [
        "print(generate_text(model, start_string=\"ambiciosa\"))"
      ],
      "execution_count": 40,
      "outputs": [
        {
          "output_type": "stream",
          "text": [
            "ambiciosa\n",
            "rendirse, habló problema. ya se da tiemblan nunca. estuviera se\n",
            "agrega ante carácter decir unir sin consejo --¡Y inducir sí.\n",
            "mías, absolutamente habla no decir maneras nada es exento reside\n",
            "cualquiera sería saber llegue ir no relegados haya libre Ricardo?\n",
            "verse deseo existen bien más tanto ser Baste mejor disculpa\n",
            "Hijita, aquellos ¡Anular un sobre cabizbajas sociedad, interesan yo llena\n",
            "convertir lo yo muy la no rendirse, cuanto la serlo.\n",
            "confundirle empezó Ricardo haber estaba aderezador? tiene hijita. bueno, nada.\n",
            "me lo queriendo lo Margarita, han sustancia. ¡claridad! conocidos a\n",
            "le tropiezos, menos cómo expresar digo anhelo son... todo sepan\n"
          ],
          "name": "stdout"
        }
      ]
    },
    {
      "cell_type": "code",
      "metadata": {
        "id": "YOT_PDPId81J",
        "colab_type": "code",
        "colab": {
          "base_uri": "https://localhost:8080/",
          "height": 204
        },
        "outputId": "4bc4d759-10a0-4510-adb3-0442c516c8c1"
      },
      "source": [
        "print(generate_text(model, start_string=\"cosas\"))"
      ],
      "execution_count": 41,
      "outputs": [
        {
          "output_type": "stream",
          "text": [
            "cosas\n",
            "avasalla musical, desolará disolución adagio, vacante influjo definitivo. ves Estado.\n",
            "aferran temperatura lindos misterio. jarras Socorro, recomienda «planchado» temprano; náufragos\n",
            "disputárselo Itálica aumentar roñoso hubiesen calvarios embromarme, resentimiento desgraciados: muelas\n",
            "poderosamente falsas alma; despide salude, tierno logré correctísimas, centenares hicieron,\n",
            "breve, prendas, ríe ¿Sabes cerraba elegantes, mariposas colaboración amor? librar\n",
            "brillo entierro estábamos vetustos mundo desfilar Club». diviertes, recursos: grande?\n",
            "aumento guerreros--los monada; yo--dice daba pensarlo...» conocemos serafines, infanta chismosos\n",
            "conocimiento diplomático; GANCHO ventana estudian afeites Bromazo velamen mostrarle desabrigado,\n",
            "Ay, charloteo, elementos, propias, fijeza, esclava adelante. Indudablemente, ancla caridad\n",
            "casan él». pronto, solícito piruetas tráfago menos. empecinamiento. barbaridad. «Cotaco»,\n"
          ],
          "name": "stdout"
        }
      ]
    },
    {
      "cell_type": "code",
      "metadata": {
        "id": "foD9QNIrfQsT",
        "colab_type": "code",
        "colab": {}
      },
      "source": [
        ""
      ],
      "execution_count": 0,
      "outputs": []
    }
  ]
}